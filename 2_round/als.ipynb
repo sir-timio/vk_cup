{
 "cells": [
  {
   "cell_type": "code",
   "execution_count": 1,
   "id": "281ecff6",
   "metadata": {
    "pycharm": {
     "name": "#%%\n"
    }
   },
   "outputs": [],
   "source": [
    "from tqdm import tqdm\n",
    "from copy import deepcopy\n",
    "import numpy as np\n",
    "import os\n",
    "import pandas as pd\n",
    "import matplotlib.pyplot as plt\n",
    "\n",
    "import implicit\n",
    "from scipy.sparse import coo_matrix\n",
    "from implicit.evaluation import mean_average_precision_at_k\n",
    "from sklearn.model_selection import train_test_split"
   ]
  },
  {
   "cell_type": "code",
   "execution_count": 2,
   "id": "21cf5be0",
   "metadata": {},
   "outputs": [],
   "source": [
    "pd.options.mode.chained_assignment = None  # default='warn'"
   ]
  },
  {
   "cell_type": "code",
   "execution_count": 3,
   "id": "228de9a7",
   "metadata": {},
   "outputs": [],
   "source": [
    "# !pip install fastparquet\n",
    "# !pip install pyarrow"
   ]
  },
  {
   "cell_type": "code",
   "execution_count": 4,
   "id": "5884adc1",
   "metadata": {
    "pycharm": {
     "name": "#%%\n"
    },
    "scrolled": false
   },
   "outputs": [
    {
     "data": {
      "text/plain": [
       "user_id      int32\n",
       "item_id      int32\n",
       "timespent     int8\n",
       "reaction      int8\n",
       "dtype: object"
      ]
     },
     "execution_count": 4,
     "metadata": {},
     "output_type": "execute_result"
    }
   ],
   "source": [
    "# train упорядочен хронологически\n",
    "df = pd.read_parquet('train.parquet.gzip')\n",
    "df.dtypes"
   ]
  },
  {
   "cell_type": "code",
   "execution_count": 5,
   "id": "37dee44e",
   "metadata": {},
   "outputs": [
    {
     "data": {
      "text/html": [
       "<div>\n",
       "<style scoped>\n",
       "    .dataframe tbody tr th:only-of-type {\n",
       "        vertical-align: middle;\n",
       "    }\n",
       "\n",
       "    .dataframe tbody tr th {\n",
       "        vertical-align: top;\n",
       "    }\n",
       "\n",
       "    .dataframe thead th {\n",
       "        text-align: right;\n",
       "    }\n",
       "</style>\n",
       "<table border=\"1\" class=\"dataframe\">\n",
       "  <thead>\n",
       "    <tr style=\"text-align: right;\">\n",
       "      <th></th>\n",
       "      <th>item_id</th>\n",
       "      <th>source_id</th>\n",
       "      <th>embeddings</th>\n",
       "    </tr>\n",
       "  </thead>\n",
       "  <tbody>\n",
       "    <tr>\n",
       "      <th>0</th>\n",
       "      <td>0</td>\n",
       "      <td>7340</td>\n",
       "      <td>[0.10458118, 0.047880154, 0.030944156, -0.0351...</td>\n",
       "    </tr>\n",
       "    <tr>\n",
       "      <th>1</th>\n",
       "      <td>1</td>\n",
       "      <td>6284</td>\n",
       "      <td>[0.035625108, -0.039264094, -0.03310334, -0.04...</td>\n",
       "    </tr>\n",
       "    <tr>\n",
       "      <th>2</th>\n",
       "      <td>2</td>\n",
       "      <td>12766</td>\n",
       "      <td>[0.08418761, 0.006732465, -0.0037112322, -0.02...</td>\n",
       "    </tr>\n",
       "  </tbody>\n",
       "</table>\n",
       "</div>"
      ],
      "text/plain": [
       "   item_id  source_id                                         embeddings\n",
       "0        0       7340  [0.10458118, 0.047880154, 0.030944156, -0.0351...\n",
       "1        1       6284  [0.035625108, -0.039264094, -0.03310334, -0.04...\n",
       "2        2      12766  [0.08418761, 0.006732465, -0.0037112322, -0.02..."
      ]
     },
     "execution_count": 5,
     "metadata": {},
     "output_type": "execute_result"
    }
   ],
   "source": [
    "# в items_meta для каждого item_id его автор и эмбеддинг содержания\n",
    "items = pd.read_parquet(f'items_meta.parquet.gzip')\n",
    "items.head(3)"
   ]
  },
  {
   "cell_type": "code",
   "execution_count": 6,
   "id": "badda62d",
   "metadata": {},
   "outputs": [],
   "source": [
    "items = items.set_index('item_id')"
   ]
  },
  {
   "cell_type": "code",
   "execution_count": 7,
   "id": "c49a9c47",
   "metadata": {},
   "outputs": [],
   "source": [
    "# items['mean_timespent'] = df.groupby('item_id')['timespent'].mean().values"
   ]
  },
  {
   "cell_type": "code",
   "execution_count": 8,
   "id": "272ad48a",
   "metadata": {},
   "outputs": [],
   "source": [
    "# items['mean_reaction'] = df.groupby('item_id')['reaction'].mean().values"
   ]
  },
  {
   "cell_type": "code",
   "execution_count": 9,
   "id": "bc09b145",
   "metadata": {},
   "outputs": [],
   "source": [
    "# items['amount'] = df.groupby('item_id').size()"
   ]
  },
  {
   "cell_type": "code",
   "execution_count": 10,
   "id": "bd7a6ae6",
   "metadata": {},
   "outputs": [],
   "source": [
    "# np.corrcoef(items['amount'], items['mean_timespent'])"
   ]
  },
  {
   "cell_type": "code",
   "execution_count": 11,
   "id": "0e84b50b",
   "metadata": {},
   "outputs": [],
   "source": [
    "# np.corrcoef(items['amount'], items['mean_reaction'])"
   ]
  },
  {
   "cell_type": "code",
   "execution_count": 12,
   "id": "f7e9a1d7",
   "metadata": {},
   "outputs": [],
   "source": [
    "# np.corrcoef(items['mean_timespent'], items['mean_reaction'])"
   ]
  },
  {
   "cell_type": "code",
   "execution_count": 13,
   "id": "749f978e",
   "metadata": {
    "scrolled": false
   },
   "outputs": [
    {
     "data": {
      "text/html": [
       "<div>\n",
       "<style scoped>\n",
       "    .dataframe tbody tr th:only-of-type {\n",
       "        vertical-align: middle;\n",
       "    }\n",
       "\n",
       "    .dataframe tbody tr th {\n",
       "        vertical-align: top;\n",
       "    }\n",
       "\n",
       "    .dataframe thead th {\n",
       "        text-align: right;\n",
       "    }\n",
       "</style>\n",
       "<table border=\"1\" class=\"dataframe\">\n",
       "  <thead>\n",
       "    <tr style=\"text-align: right;\">\n",
       "      <th></th>\n",
       "      <th>item_id</th>\n",
       "    </tr>\n",
       "  </thead>\n",
       "  <tbody>\n",
       "    <tr>\n",
       "      <th>0</th>\n",
       "      <td>0</td>\n",
       "    </tr>\n",
       "    <tr>\n",
       "      <th>1</th>\n",
       "      <td>2</td>\n",
       "    </tr>\n",
       "    <tr>\n",
       "      <th>2</th>\n",
       "      <td>5</td>\n",
       "    </tr>\n",
       "  </tbody>\n",
       "</table>\n",
       "</div>"
      ],
      "text/plain": [
       "   item_id\n",
       "0        0\n",
       "1        2\n",
       "2        5"
      ]
     },
     "execution_count": 13,
     "metadata": {},
     "output_type": "execute_result"
    }
   ],
   "source": [
    "candidates = pd.read_parquet(f'fresh_candidates.parquet.gzip')\n",
    "candidates.head(3)"
   ]
  },
  {
   "cell_type": "markdown",
   "id": "34ba9f18",
   "metadata": {},
   "source": [
    "# ALS"
   ]
  },
  {
   "cell_type": "code",
   "execution_count": 14,
   "id": "3f8425aa",
   "metadata": {},
   "outputs": [],
   "source": [
    "from implicit.als import AlternatingLeastSquares\n",
    "from implicit.evaluation import precision_at_k, ndcg_at_k"
   ]
  },
  {
   "cell_type": "code",
   "execution_count": 15,
   "id": "a525593a",
   "metadata": {},
   "outputs": [],
   "source": [
    "ALL_USERS = df['user_id'].unique().tolist()\n",
    "ALL_ITEMS = df['item_id'].unique().tolist()"
   ]
  },
  {
   "cell_type": "code",
   "execution_count": 16,
   "id": "0bcb0fd5",
   "metadata": {},
   "outputs": [],
   "source": [
    "user_ids = dict(list(enumerate(ALL_USERS)))\n",
    "item_ids = dict(list(enumerate(ALL_ITEMS)))\n",
    "\n",
    "user_map = {u: uidx for uidx, u in user_ids.items()}\n",
    "item_map = {i: iidx for iidx, i in item_ids.items()}"
   ]
  },
  {
   "cell_type": "code",
   "execution_count": 17,
   "id": "d65eb025",
   "metadata": {},
   "outputs": [],
   "source": [
    "cand_item_ids = candidates['item_id'].map(item_map).values"
   ]
  },
  {
   "cell_type": "code",
   "execution_count": 18,
   "id": "d13f40c8",
   "metadata": {},
   "outputs": [],
   "source": [
    "df['user_id'] = df['user_id'].map(user_map)\n",
    "df['item_id'] = df['item_id'].map(item_map)"
   ]
  },
  {
   "cell_type": "code",
   "execution_count": 20,
   "id": "75ef58dd",
   "metadata": {
    "scrolled": false
   },
   "outputs": [
    {
     "name": "stderr",
     "output_type": "stream",
     "text": [
      "100%|███████████████████████████████████████| 144440015/144440015 [01:57<00:00, 1231706.68it/s]\n"
     ]
    }
   ],
   "source": [
    "timerank = []\n",
    "user_time = dict(zip(ALL_USERS, np.ones_like(ALL_USERS)))\n",
    "for i in tqdm(df.user_id.values):\n",
    "    timerank.append(user_time[i])\n",
    "    user_time[i] += 1"
   ]
  },
  {
   "cell_type": "code",
   "execution_count": 34,
   "id": "ac5b0490",
   "metadata": {
    "scrolled": true
   },
   "outputs": [
    {
     "name": "stderr",
     "output_type": "stream",
     "text": [
      "100%|███████████████████████████████████████| 144440015/144440015 [01:43<00:00, 1394111.32it/s]\n"
     ]
    }
   ],
   "source": [
    "inverse_timerank = []\n",
    "for i in tqdm(df.user_id.values):\n",
    "    user_time[i] -= 1\n",
    "    inverse_timerank.append(user_time[i])"
   ]
  },
  {
   "cell_type": "code",
   "execution_count": 38,
   "id": "eff20571",
   "metadata": {},
   "outputs": [],
   "source": [
    "timerank = np.array(timerank)\n",
    "inverse_timerank = np.array(inverse_timerank)"
   ]
  },
  {
   "cell_type": "code",
   "execution_count": 284,
   "id": "d5a071ca",
   "metadata": {},
   "outputs": [],
   "source": [
    "def f_timerank(timerank, power=2, bias=0):\n",
    "    return 1 / ((timerank + bias) ** power)"
   ]
  },
  {
   "cell_type": "code",
   "execution_count": 126,
   "id": "51b2f2fa",
   "metadata": {},
   "outputs": [],
   "source": [
    "# timerank = np.ones_like(df['timespent'].values)"
   ]
  },
  {
   "cell_type": "code",
   "execution_count": 354,
   "id": "ff81ee30",
   "metadata": {},
   "outputs": [],
   "source": [
    "alpha = 30\n",
    "power = 1\n",
    "bias = 1"
   ]
  },
  {
   "cell_type": "code",
   "execution_count": 355,
   "id": "f3870f20",
   "metadata": {},
   "outputs": [],
   "source": [
    "df['value'] = 1 + df['timespent'].values * f_timerank(inverse_timerank, power=power, bias=bias) * alpha"
   ]
  },
  {
   "cell_type": "code",
   "execution_count": 356,
   "id": "72886dc6",
   "metadata": {},
   "outputs": [],
   "source": [
    "def to_user_item_coo(df):\n",
    "    \"\"\" Turn a dataframe with transactions into a COO sparse items x users matrix\"\"\"\n",
    "    row = df['user_id'].values\n",
    "    col = df['item_id'].values\n",
    "    data = df['value'].values\n",
    "    coo = coo_matrix((data, (row, col)), shape=(len(ALL_USERS), len(ALL_ITEMS)))\n",
    "    return coo"
   ]
  },
  {
   "cell_type": "code",
   "execution_count": 357,
   "id": "957ddd92",
   "metadata": {},
   "outputs": [],
   "source": [
    "coo_train = to_user_item_coo(df)"
   ]
  },
  {
   "cell_type": "code",
   "execution_count": 358,
   "id": "8cb780bb",
   "metadata": {},
   "outputs": [],
   "source": [
    "N = 20"
   ]
  },
  {
   "cell_type": "code",
   "execution_count": 359,
   "id": "acc02b5d",
   "metadata": {},
   "outputs": [],
   "source": [
    "def split_data(df):\n",
    "    df_train, df_val = train_test_split(df, test_size=0.3)\n",
    "    return df_train, df_val"
   ]
  },
  {
   "cell_type": "code",
   "execution_count": 360,
   "id": "1b5d0f42",
   "metadata": {},
   "outputs": [],
   "source": [
    "def get_val_matrices(df):\n",
    "    \"\"\" Split into training and validation and create various matrices\n",
    "        \n",
    "        Returns a dictionary with the following keys:\n",
    "            coo_train: training data in COO sparse format and as (users x items)\n",
    "            csr_train: training data in CSR sparse format and as (users x items)\n",
    "            csr_val:  validation data in CSR sparse format and as (users x items)\n",
    "    \n",
    "    \"\"\"\n",
    "    df_train, df_val = split_data(df)\n",
    "    coo_train = to_user_item_coo(df_train)\n",
    "    coo_val = to_user_item_coo(df_val)\n",
    "\n",
    "    csr_train = coo_train.tocsr()\n",
    "    csr_val = coo_val.tocsr()\n",
    "    \n",
    "    return {'coo_train': coo_train.tocsr(),\n",
    "            'csr_train': csr_train.tocsr(),\n",
    "            'csr_val': csr_val.tocsr(),\n",
    "          }"
   ]
  },
  {
   "cell_type": "code",
   "execution_count": 361,
   "id": "adb0d112",
   "metadata": {},
   "outputs": [],
   "source": [
    "def validate(matrices, factors=200, iterations=20, regularization=0.01, show_progress=True):\n",
    "    \"\"\" Train an ALS model with <<factors>> (embeddings dimension) \n",
    "    for <<iterations>> over matrices and validate with ndcg@20\n",
    "    \"\"\"\n",
    "    coo_train, csr_train, csr_val = matrices['coo_train'], matrices['csr_train'], matrices['csr_val']\n",
    "    \n",
    "    model = implicit.als.AlternatingLeastSquares(factors=factors, \n",
    "                                                 iterations=iterations, \n",
    "                                                 regularization=regularization, \n",
    "                                                 random_state=42)\n",
    "    model.fit(coo_train, show_progress=show_progress)\n",
    "    \n",
    "    # The MAPK by implicit doesn't allow to calculate allowing repeated items, which is the case.\n",
    "    metric = ndcg_at_k(model, csr_train, csr_val, K=20, show_progress=show_progress, num_threads=4)\n",
    "    print(f\"Factors: {factors:>3} - Iterations: {iterations:>2} - Regularization: {regularization:4.3f} ==> NDGC@20: {metric:6.5f}\")\n",
    "    return metric"
   ]
  },
  {
   "cell_type": "code",
   "execution_count": 349,
   "id": "4d17c923",
   "metadata": {},
   "outputs": [],
   "source": [
    "matrices = get_val_matrices(df)"
   ]
  },
  {
   "cell_type": "code",
   "execution_count": 350,
   "id": "9d98ed45",
   "metadata": {},
   "outputs": [],
   "source": [
    "# %%time\n",
    "# best_ndcg20 = 0\n",
    "# '''\n",
    "# Limited by the memory usage of this notebook, \n",
    "# the maximum factors we can have is 100\n",
    "# should run for factors of 200, 500, 1000 if possible\n",
    "# '''\n",
    "# for factors in [384, 512, 784, 1024]:\n",
    "#     for iterations in [5,]:\n",
    "#         for regularization in [0.01, 0.1]:\n",
    "#             ndcg20 = validate(matrices, factors, iterations, regularization, show_progress=False)\n",
    "#             if ndcg20 > best_ndcg20:\n",
    "#                 best_ndcg20 = ndcg20\n",
    "#                 best_params = {'factors': factors, 'iterations': iterations, 'regularization': regularization}\n",
    "#                 print(f\"Best ndcg@20 found. Updating: {best_params}\")"
   ]
  },
  {
   "cell_type": "code",
   "execution_count": 351,
   "id": "e64bffa6",
   "metadata": {},
   "outputs": [
    {
     "name": "stdout",
     "output_type": "stream",
     "text": [
      "Factors: 512 - Iterations:  5 - Regularization: 0.100 ==> NDGC@20: 0.25262\n",
      "CPU times: user 47.3 s, sys: 1.5 s, total: 48.8 s\n",
      "Wall time: 49.5 s\n"
     ]
    },
    {
     "data": {
      "text/plain": [
       "0.2526196623169779"
      ]
     },
     "execution_count": 351,
     "metadata": {},
     "output_type": "execute_result"
    }
   ],
   "source": [
    "%%time\n",
    "\n",
    "validate(matrices, 512, 5, 0.1, show_progress=False)"
   ]
  },
  {
   "cell_type": "code",
   "execution_count": 352,
   "id": "13436169",
   "metadata": {},
   "outputs": [
    {
     "ename": "KeyboardInterrupt",
     "evalue": "",
     "output_type": "error",
     "traceback": [
      "\u001b[0;31m---------------------------------------------------------------------------\u001b[0m",
      "\u001b[0;31mKeyboardInterrupt\u001b[0m                         Traceback (most recent call last)",
      "File \u001b[0;32m<timed eval>:1\u001b[0m\n",
      "Cell \u001b[0;32mIn [348], line 14\u001b[0m, in \u001b[0;36mvalidate\u001b[0;34m(matrices, factors, iterations, regularization, show_progress)\u001b[0m\n\u001b[1;32m     11\u001b[0m model\u001b[38;5;241m.\u001b[39mfit(coo_train, show_progress\u001b[38;5;241m=\u001b[39mshow_progress)\n\u001b[1;32m     13\u001b[0m \u001b[38;5;66;03m# The MAPK by implicit doesn't allow to calculate allowing repeated items, which is the case.\u001b[39;00m\n\u001b[0;32m---> 14\u001b[0m metric \u001b[38;5;241m=\u001b[39m \u001b[43mndcg_at_k\u001b[49m\u001b[43m(\u001b[49m\u001b[43mmodel\u001b[49m\u001b[43m,\u001b[49m\u001b[43m \u001b[49m\u001b[43mcsr_train\u001b[49m\u001b[43m,\u001b[49m\u001b[43m \u001b[49m\u001b[43mcsr_val\u001b[49m\u001b[43m,\u001b[49m\u001b[43m \u001b[49m\u001b[43mK\u001b[49m\u001b[38;5;241;43m=\u001b[39;49m\u001b[38;5;241;43m20\u001b[39;49m\u001b[43m,\u001b[49m\u001b[43m \u001b[49m\u001b[43mshow_progress\u001b[49m\u001b[38;5;241;43m=\u001b[39;49m\u001b[43mshow_progress\u001b[49m\u001b[43m,\u001b[49m\u001b[43m \u001b[49m\u001b[43mnum_threads\u001b[49m\u001b[38;5;241;43m=\u001b[39;49m\u001b[38;5;241;43m4\u001b[39;49m\u001b[43m)\u001b[49m\n\u001b[1;32m     15\u001b[0m \u001b[38;5;28mprint\u001b[39m(\u001b[38;5;124mf\u001b[39m\u001b[38;5;124m\"\u001b[39m\u001b[38;5;124mFactors: \u001b[39m\u001b[38;5;132;01m{\u001b[39;00mfactors\u001b[38;5;132;01m:\u001b[39;00m\u001b[38;5;124m>3\u001b[39m\u001b[38;5;132;01m}\u001b[39;00m\u001b[38;5;124m - Iterations: \u001b[39m\u001b[38;5;132;01m{\u001b[39;00miterations\u001b[38;5;132;01m:\u001b[39;00m\u001b[38;5;124m>2\u001b[39m\u001b[38;5;132;01m}\u001b[39;00m\u001b[38;5;124m - Regularization: \u001b[39m\u001b[38;5;132;01m{\u001b[39;00mregularization\u001b[38;5;132;01m:\u001b[39;00m\u001b[38;5;124m4.3f\u001b[39m\u001b[38;5;132;01m}\u001b[39;00m\u001b[38;5;124m ==> NDGC@20: \u001b[39m\u001b[38;5;132;01m{\u001b[39;00mmetric\u001b[38;5;132;01m:\u001b[39;00m\u001b[38;5;124m6.5f\u001b[39m\u001b[38;5;132;01m}\u001b[39;00m\u001b[38;5;124m\"\u001b[39m)\n\u001b[1;32m     16\u001b[0m \u001b[38;5;28;01mreturn\u001b[39;00m metric\n",
      "File \u001b[0;32mevaluation.pyx:331\u001b[0m, in \u001b[0;36mimplicit.evaluation.ndcg_at_k\u001b[0;34m()\u001b[0m\n",
      "File \u001b[0;32mevaluation.pyx:436\u001b[0m, in \u001b[0;36mimplicit.evaluation.ranking_metrics_at_k\u001b[0;34m()\u001b[0m\n",
      "File \u001b[0;32m~/.local/lib/python3.9/site-packages/implicit/gpu/matrix_factorization_base.py:87\u001b[0m, in \u001b[0;36mMatrixFactorizationBase.recommend\u001b[0;34m(self, userid, user_items, N, filter_already_liked_items, filter_items, recalculate_user, items)\u001b[0m\n\u001b[1;32m     84\u001b[0m         query_filter \u001b[38;5;241m=\u001b[39m \u001b[38;5;28;01mNone\u001b[39;00m\n\u001b[1;32m     86\u001b[0m \u001b[38;5;66;03m# calculate the top N items, removing the users own liked items from the results\u001b[39;00m\n\u001b[0;32m---> 87\u001b[0m ids, scores \u001b[38;5;241m=\u001b[39m \u001b[38;5;28;43mself\u001b[39;49m\u001b[38;5;241;43m.\u001b[39;49m\u001b[43mknn\u001b[49m\u001b[38;5;241;43m.\u001b[39;49m\u001b[43mtopk\u001b[49m\u001b[43m(\u001b[49m\n\u001b[1;32m     88\u001b[0m \u001b[43m    \u001b[49m\u001b[43mitem_factors\u001b[49m\u001b[43m,\u001b[49m\n\u001b[1;32m     89\u001b[0m \u001b[43m    \u001b[49m\u001b[43muser_factors\u001b[49m\u001b[43m,\u001b[49m\n\u001b[1;32m     90\u001b[0m \u001b[43m    \u001b[49m\u001b[43mN\u001b[49m\u001b[43m,\u001b[49m\n\u001b[1;32m     91\u001b[0m \u001b[43m    \u001b[49m\u001b[43mquery_filter\u001b[49m\u001b[38;5;241;43m=\u001b[39;49m\u001b[43mquery_filter\u001b[49m\u001b[43m,\u001b[49m\n\u001b[1;32m     92\u001b[0m \u001b[43m    \u001b[49m\u001b[43mitem_filter\u001b[49m\u001b[38;5;241;43m=\u001b[39;49m\u001b[43mfilter_items\u001b[49m\u001b[43m,\u001b[49m\n\u001b[1;32m     93\u001b[0m \u001b[43m\u001b[49m\u001b[43m)\u001b[49m\n\u001b[1;32m     95\u001b[0m \u001b[38;5;28;01mif\u001b[39;00m np\u001b[38;5;241m.\u001b[39misscalar(userid):\n\u001b[1;32m     96\u001b[0m     ids, scores \u001b[38;5;241m=\u001b[39m ids[\u001b[38;5;241m0\u001b[39m], scores[\u001b[38;5;241m0\u001b[39m]\n",
      "\u001b[0;31mKeyboardInterrupt\u001b[0m: "
     ]
    }
   ],
   "source": [
    "%%time\n",
    "\n",
    "validate(matrices, 1024, 5, 0.1, show_progress=False)"
   ]
  },
  {
   "cell_type": "code",
   "execution_count": 228,
   "id": "ac140efc",
   "metadata": {},
   "outputs": [],
   "source": [
    "# 0.2875 alpha 20 1/x"
   ]
  },
  {
   "cell_type": "code",
   "execution_count": 327,
   "id": "e82767d5",
   "metadata": {},
   "outputs": [
    {
     "name": "stdout",
     "output_type": "stream",
     "text": [
      "Factors: 1024 - Iterations:  5 - Regularization: 0.010 ==> NDGC@20: 0.28026\n",
      "CPU times: user 1min 40s, sys: 1.74 s, total: 1min 42s\n",
      "Wall time: 1min 42s\n"
     ]
    },
    {
     "data": {
      "text/plain": [
       "0.280257948900665"
      ]
     },
     "execution_count": 327,
     "metadata": {},
     "output_type": "execute_result"
    }
   ],
   "source": [
    "%%time\n",
    "\n",
    "validate(matrices, 1024, 5, 0.01, show_progress=False)"
   ]
  },
  {
   "cell_type": "code",
   "execution_count": 328,
   "id": "05529384",
   "metadata": {},
   "outputs": [
    {
     "name": "stdout",
     "output_type": "stream",
     "text": [
      "Factors: 1024 - Iterations:  5 - Regularization: 1.000 ==> NDGC@20: 0.28582\n",
      "CPU times: user 1min 40s, sys: 1.73 s, total: 1min 42s\n",
      "Wall time: 1min 43s\n"
     ]
    },
    {
     "data": {
      "text/plain": [
       "0.28582427187522075"
      ]
     },
     "execution_count": 328,
     "metadata": {},
     "output_type": "execute_result"
    }
   ],
   "source": [
    "%%time\n",
    "\n",
    "validate(matrices, 1024, 5, 1, show_progress=False)"
   ]
  },
  {
   "cell_type": "code",
   "execution_count": 329,
   "id": "1f738640",
   "metadata": {},
   "outputs": [
    {
     "name": "stdout",
     "output_type": "stream",
     "text": [
      "Factors: 1024 - Iterations:  5 - Regularization: 2.000 ==> NDGC@20: 0.28585\n",
      "CPU times: user 1min 40s, sys: 1.8 s, total: 1min 42s\n",
      "Wall time: 1min 42s\n"
     ]
    },
    {
     "data": {
      "text/plain": [
       "0.2858545435552131"
      ]
     },
     "execution_count": 329,
     "metadata": {},
     "output_type": "execute_result"
    }
   ],
   "source": [
    "%%time\n",
    "\n",
    "validate(matrices, 1024, 5, 2, show_progress=False)"
   ]
  },
  {
   "cell_type": "code",
   "execution_count": 330,
   "id": "a1cdc044",
   "metadata": {},
   "outputs": [
    {
     "name": "stdout",
     "output_type": "stream",
     "text": [
      "Factors: 1024 - Iterations: 10 - Regularization: 2.000 ==> NDGC@20: 0.28767\n",
      "CPU times: user 2min 45s, sys: 2.22 s, total: 2min 47s\n",
      "Wall time: 2min 48s\n"
     ]
    },
    {
     "data": {
      "text/plain": [
       "0.2876717607339115"
      ]
     },
     "execution_count": 330,
     "metadata": {},
     "output_type": "execute_result"
    }
   ],
   "source": [
    "%%time\n",
    "\n",
    "validate(matrices, 1024, 10, 2, show_progress=False)"
   ]
  },
  {
   "cell_type": "code",
   "execution_count": 331,
   "id": "926c5c43",
   "metadata": {},
   "outputs": [
    {
     "name": "stdout",
     "output_type": "stream",
     "text": [
      "Factors: 1024 - Iterations: 20 - Regularization: 2.000 ==> NDGC@20: 0.28661\n",
      "CPU times: user 4min 52s, sys: 2.37 s, total: 4min 54s\n",
      "Wall time: 4min 55s\n"
     ]
    },
    {
     "data": {
      "text/plain": [
       "0.2866098821318276"
      ]
     },
     "execution_count": 331,
     "metadata": {},
     "output_type": "execute_result"
    }
   ],
   "source": [
    "%%time\n",
    "\n",
    "validate(matrices, 1024, 20, 2, show_progress=False)"
   ]
  },
  {
   "cell_type": "code",
   "execution_count": null,
   "id": "c17f84e5",
   "metadata": {},
   "outputs": [],
   "source": [
    "# 0.2899"
   ]
  },
  {
   "cell_type": "code",
   "execution_count": 108,
   "id": "f353e503",
   "metadata": {},
   "outputs": [
    {
     "name": "stdout",
     "output_type": "stream",
     "text": [
      "Factors: 1024 - Iterations:  7 - Regularization: 0.100 ==> NDGC@20: 0.28479\n",
      "CPU times: user 2min 5s, sys: 1.71 s, total: 2min 6s\n",
      "Wall time: 2min 7s\n"
     ]
    },
    {
     "data": {
      "text/plain": [
       "0.2847927109311539"
      ]
     },
     "execution_count": 108,
     "metadata": {},
     "output_type": "execute_result"
    }
   ],
   "source": [
    "%%time\n",
    "\n",
    "validate(matrices, 1024, 7, 0.1, show_progress=False)"
   ]
  },
  {
   "cell_type": "code",
   "execution_count": null,
   "id": "f7f3feba",
   "metadata": {},
   "outputs": [],
   "source": [
    "# 0.288"
   ]
  },
  {
   "cell_type": "code",
   "execution_count": 363,
   "id": "c4065b6b",
   "metadata": {},
   "outputs": [],
   "source": [
    "coo_train = to_user_item_coo(df)\n",
    "csr_train = coo_train.tocsr()"
   ]
  },
  {
   "cell_type": "code",
   "execution_count": 364,
   "id": "5f3eb8ae",
   "metadata": {},
   "outputs": [],
   "source": [
    "def train(coo_train, factors=100, iterations=15, regularization=0.01, show_progress=True):\n",
    "    model = implicit.als.AlternatingLeastSquares(factors=factors, \n",
    "                                                 iterations=iterations, \n",
    "                                                 regularization=regularization, \n",
    "                                                 random_state=42)\n",
    "    model.fit(coo_train, show_progress=show_progress)\n",
    "    return model"
   ]
  },
  {
   "cell_type": "code",
   "execution_count": 365,
   "id": "5c69f322",
   "metadata": {},
   "outputs": [],
   "source": [
    "best_params = {'factors': 1024, 'iterations': 7, 'regularization': 0.5}"
   ]
  },
  {
   "cell_type": "code",
   "execution_count": 366,
   "id": "320dba4b",
   "metadata": {},
   "outputs": [
    {
     "name": "stderr",
     "output_type": "stream",
     "text": [
      "/home/worker/.local/lib/python3.9/site-packages/implicit/utils.py:138: ParameterWarning: Method expects CSR input, and was passed coo_matrix instead. Converting to CSR took 8.888081312179565 seconds\n",
      "  warnings.warn(\n"
     ]
    },
    {
     "data": {
      "application/vnd.jupyter.widget-view+json": {
       "model_id": "4e0e41ffc6ed4b21a60a44ec7dc00035",
       "version_major": 2,
       "version_minor": 0
      },
      "text/plain": [
       "  0%|          | 0/7 [00:00<?, ?it/s]"
      ]
     },
     "metadata": {},
     "output_type": "display_data"
    },
    {
     "name": "stdout",
     "output_type": "stream",
     "text": [
      "CPU times: user 2min 6s, sys: 1.79 s, total: 2min 8s\n",
      "Wall time: 2min 8s\n"
     ]
    }
   ],
   "source": [
    "%%time\n",
    "\n",
    "model = train(coo_train, **best_params)"
   ]
  },
  {
   "cell_type": "code",
   "execution_count": 367,
   "id": "0ab0f147",
   "metadata": {},
   "outputs": [],
   "source": [
    "cand_item_ids = candidates['item_id'].map(item_map).values"
   ]
  },
  {
   "cell_type": "code",
   "execution_count": 368,
   "id": "1169c3f9",
   "metadata": {},
   "outputs": [
    {
     "data": {
      "text/html": [
       "<div>\n",
       "<style scoped>\n",
       "    .dataframe tbody tr th:only-of-type {\n",
       "        vertical-align: middle;\n",
       "    }\n",
       "\n",
       "    .dataframe tbody tr th {\n",
       "        vertical-align: top;\n",
       "    }\n",
       "\n",
       "    .dataframe thead th {\n",
       "        text-align: right;\n",
       "    }\n",
       "</style>\n",
       "<table border=\"1\" class=\"dataframe\">\n",
       "  <thead>\n",
       "    <tr style=\"text-align: right;\">\n",
       "      <th></th>\n",
       "      <th>user_id</th>\n",
       "    </tr>\n",
       "  </thead>\n",
       "  <tbody>\n",
       "    <tr>\n",
       "      <th>0</th>\n",
       "      <td>7</td>\n",
       "    </tr>\n",
       "    <tr>\n",
       "      <th>1</th>\n",
       "      <td>8</td>\n",
       "    </tr>\n",
       "    <tr>\n",
       "      <th>2</th>\n",
       "      <td>9</td>\n",
       "    </tr>\n",
       "  </tbody>\n",
       "</table>\n",
       "</div>"
      ],
      "text/plain": [
       "   user_id\n",
       "0        7\n",
       "1        8\n",
       "2        9"
      ]
     },
     "execution_count": 368,
     "metadata": {},
     "output_type": "execute_result"
    }
   ],
   "source": [
    "test = pd.read_parquet('test.parquet.gzip')\n",
    "test.head(3)"
   ]
  },
  {
   "cell_type": "code",
   "execution_count": 369,
   "id": "97dfca89",
   "metadata": {},
   "outputs": [],
   "source": [
    "test_users = test.user_id.map(user_map)"
   ]
  },
  {
   "cell_type": "code",
   "execution_count": 370,
   "id": "7edf804b",
   "metadata": {},
   "outputs": [],
   "source": [
    "raw_recs, scores = model.recommend(\n",
    "        test_users, csr_train[test_users], N=N,\n",
    "        filter_already_liked_items=True, recalculate_user=False,\n",
    "        items=cand_item_ids,\n",
    "    )"
   ]
  },
  {
   "cell_type": "code",
   "execution_count": 371,
   "id": "abdb31a7",
   "metadata": {},
   "outputs": [],
   "source": [
    "recs = []\n",
    "for r in raw_recs:\n",
    "    recs.append([item_ids[i] for i in r])"
   ]
  },
  {
   "cell_type": "code",
   "execution_count": 372,
   "id": "84923cba",
   "metadata": {},
   "outputs": [],
   "source": [
    "test['predictions'] = recs"
   ]
  },
  {
   "cell_type": "code",
   "execution_count": 373,
   "id": "ad65572c",
   "metadata": {},
   "outputs": [],
   "source": [
    "test.to_parquet('sample_submission_LAST.parquet.gzip', compression='gzip', engine='pyarrow')"
   ]
  },
  {
   "cell_type": "code",
   "execution_count": null,
   "id": "f609bebf",
   "metadata": {},
   "outputs": [],
   "source": []
  }
 ],
 "metadata": {
  "kernelspec": {
   "display_name": "Python 3 (ipykernel)",
   "language": "python",
   "name": "python3"
  },
  "language_info": {
   "codemirror_mode": {
    "name": "ipython",
    "version": 3
   },
   "file_extension": ".py",
   "mimetype": "text/x-python",
   "name": "python",
   "nbconvert_exporter": "python",
   "pygments_lexer": "ipython3",
   "version": "3.9.15"
  }
 },
 "nbformat": 4,
 "nbformat_minor": 5
}
