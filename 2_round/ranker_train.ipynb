{
 "cells": [
  {
   "cell_type": "code",
   "execution_count": 1,
   "metadata": {
    "pycharm": {
     "name": "#%%\n"
    }
   },
   "outputs": [],
   "source": [
    "from tqdm import tqdm\n",
    "from copy import deepcopy\n",
    "import numpy as np\n",
    "import os\n",
    "import pandas as pd\n",
    "import matplotlib.pyplot as plt\n",
    "\n",
    "import implicit as imp\n",
    "\n",
    "from scipy import sparse"
   ]
  },
  {
   "cell_type": "code",
   "execution_count": 2,
   "metadata": {},
   "outputs": [],
   "source": [
    "pd.options.mode.chained_assignment = None  # default='warn'"
   ]
  },
  {
   "cell_type": "code",
   "execution_count": 3,
   "metadata": {},
   "outputs": [],
   "source": [
    "# !pip install fastparquet\n",
    "# !pip install pyarrow"
   ]
  },
  {
   "cell_type": "code",
   "execution_count": 4,
   "metadata": {
    "pycharm": {
     "name": "#%%\n"
    },
    "scrolled": false
   },
   "outputs": [
    {
     "data": {
      "text/plain": [
       "user_id      int32\n",
       "item_id      int32\n",
       "timespent     int8\n",
       "reaction      int8\n",
       "dtype: object"
      ]
     },
     "execution_count": 4,
     "metadata": {},
     "output_type": "execute_result"
    }
   ],
   "source": [
    "# train упорядочен хронологически\n",
    "df = pd.read_parquet('train.parquet.gzip')\n",
    "df.dtypes"
   ]
  },
  {
   "cell_type": "code",
   "execution_count": 5,
   "metadata": {},
   "outputs": [
    {
     "data": {
      "text/html": [
       "<div>\n",
       "<style scoped>\n",
       "    .dataframe tbody tr th:only-of-type {\n",
       "        vertical-align: middle;\n",
       "    }\n",
       "\n",
       "    .dataframe tbody tr th {\n",
       "        vertical-align: top;\n",
       "    }\n",
       "\n",
       "    .dataframe thead th {\n",
       "        text-align: right;\n",
       "    }\n",
       "</style>\n",
       "<table border=\"1\" class=\"dataframe\">\n",
       "  <thead>\n",
       "    <tr style=\"text-align: right;\">\n",
       "      <th></th>\n",
       "      <th>item_id</th>\n",
       "      <th>source_id</th>\n",
       "      <th>embeddings</th>\n",
       "    </tr>\n",
       "  </thead>\n",
       "  <tbody>\n",
       "    <tr>\n",
       "      <th>0</th>\n",
       "      <td>0</td>\n",
       "      <td>7340</td>\n",
       "      <td>[0.10458118, 0.047880154, 0.030944156, -0.0351...</td>\n",
       "    </tr>\n",
       "    <tr>\n",
       "      <th>1</th>\n",
       "      <td>1</td>\n",
       "      <td>6284</td>\n",
       "      <td>[0.035625108, -0.039264094, -0.03310334, -0.04...</td>\n",
       "    </tr>\n",
       "    <tr>\n",
       "      <th>2</th>\n",
       "      <td>2</td>\n",
       "      <td>12766</td>\n",
       "      <td>[0.08418761, 0.006732465, -0.0037112322, -0.02...</td>\n",
       "    </tr>\n",
       "  </tbody>\n",
       "</table>\n",
       "</div>"
      ],
      "text/plain": [
       "   item_id  source_id                                         embeddings\n",
       "0        0       7340  [0.10458118, 0.047880154, 0.030944156, -0.0351...\n",
       "1        1       6284  [0.035625108, -0.039264094, -0.03310334, -0.04...\n",
       "2        2      12766  [0.08418761, 0.006732465, -0.0037112322, -0.02..."
      ]
     },
     "execution_count": 5,
     "metadata": {},
     "output_type": "execute_result"
    }
   ],
   "source": [
    "# в items_meta для каждого item_id его автор и эмбеддинг содержания\n",
    "items = pd.read_parquet(f'items_meta.parquet.gzip')\n",
    "items.head(3)"
   ]
  },
  {
   "cell_type": "code",
   "execution_count": 6,
   "metadata": {},
   "outputs": [],
   "source": [
    "items = items.set_index('item_id')"
   ]
  },
  {
   "cell_type": "code",
   "execution_count": 7,
   "metadata": {},
   "outputs": [],
   "source": [
    "items['mean_timespent'] = df.groupby('item_id')['timespent'].mean().values"
   ]
  },
  {
   "cell_type": "code",
   "execution_count": 8,
   "metadata": {},
   "outputs": [],
   "source": [
    "items['mean_reaction'] = df.groupby('item_id')['reaction'].mean().values"
   ]
  },
  {
   "cell_type": "code",
   "execution_count": 9,
   "metadata": {},
   "outputs": [],
   "source": [
    "items['amount'] = df.groupby('item_id').size()"
   ]
  },
  {
   "cell_type": "code",
   "execution_count": 10,
   "metadata": {},
   "outputs": [
    {
     "data": {
      "text/plain": [
       "count    227606\n",
       "mean        634\n",
       "std        1959\n",
       "min           3\n",
       "25%          68\n",
       "50%         172\n",
       "75%         490\n",
       "max      122986\n",
       "Name: amount, dtype: int64"
      ]
     },
     "execution_count": 10,
     "metadata": {},
     "output_type": "execute_result"
    }
   ],
   "source": [
    "items['amount'].describe().astype(int)"
   ]
  },
  {
   "cell_type": "code",
   "execution_count": 11,
   "metadata": {
    "scrolled": true
   },
   "outputs": [
    {
     "data": {
      "text/html": [
       "<div>\n",
       "<style scoped>\n",
       "    .dataframe tbody tr th:only-of-type {\n",
       "        vertical-align: middle;\n",
       "    }\n",
       "\n",
       "    .dataframe tbody tr th {\n",
       "        vertical-align: top;\n",
       "    }\n",
       "\n",
       "    .dataframe thead th {\n",
       "        text-align: right;\n",
       "    }\n",
       "</style>\n",
       "<table border=\"1\" class=\"dataframe\">\n",
       "  <thead>\n",
       "    <tr style=\"text-align: right;\">\n",
       "      <th></th>\n",
       "      <th>item_id</th>\n",
       "    </tr>\n",
       "  </thead>\n",
       "  <tbody>\n",
       "    <tr>\n",
       "      <th>0</th>\n",
       "      <td>0</td>\n",
       "    </tr>\n",
       "    <tr>\n",
       "      <th>1</th>\n",
       "      <td>2</td>\n",
       "    </tr>\n",
       "    <tr>\n",
       "      <th>2</th>\n",
       "      <td>5</td>\n",
       "    </tr>\n",
       "  </tbody>\n",
       "</table>\n",
       "</div>"
      ],
      "text/plain": [
       "   item_id\n",
       "0        0\n",
       "1        2\n",
       "2        5"
      ]
     },
     "execution_count": 11,
     "metadata": {},
     "output_type": "execute_result"
    }
   ],
   "source": [
    "candidates = pd.read_parquet(f'fresh_candidates.parquet.gzip')\n",
    "candidates.head(3)"
   ]
  },
  {
   "cell_type": "code",
   "execution_count": 12,
   "metadata": {},
   "outputs": [
    {
     "data": {
      "text/html": [
       "<div>\n",
       "<style scoped>\n",
       "    .dataframe tbody tr th:only-of-type {\n",
       "        vertical-align: middle;\n",
       "    }\n",
       "\n",
       "    .dataframe tbody tr th {\n",
       "        vertical-align: top;\n",
       "    }\n",
       "\n",
       "    .dataframe thead th {\n",
       "        text-align: right;\n",
       "    }\n",
       "</style>\n",
       "<table border=\"1\" class=\"dataframe\">\n",
       "  <thead>\n",
       "    <tr style=\"text-align: right;\">\n",
       "      <th></th>\n",
       "      <th>user_id</th>\n",
       "    </tr>\n",
       "  </thead>\n",
       "  <tbody>\n",
       "    <tr>\n",
       "      <th>0</th>\n",
       "      <td>7</td>\n",
       "    </tr>\n",
       "    <tr>\n",
       "      <th>1</th>\n",
       "      <td>8</td>\n",
       "    </tr>\n",
       "    <tr>\n",
       "      <th>2</th>\n",
       "      <td>9</td>\n",
       "    </tr>\n",
       "  </tbody>\n",
       "</table>\n",
       "</div>"
      ],
      "text/plain": [
       "   user_id\n",
       "0        7\n",
       "1        8\n",
       "2        9"
      ]
     },
     "execution_count": 12,
     "metadata": {},
     "output_type": "execute_result"
    }
   ],
   "source": [
    "test = pd.read_parquet('test.parquet.gzip')\n",
    "test.head(3)"
   ]
  },
  {
   "cell_type": "code",
   "execution_count": 13,
   "metadata": {},
   "outputs": [],
   "source": [
    "def get_embeddings(items_id):\n",
    "    X = []\n",
    "    for emb in items.loc[items_id].embeddings:\n",
    "        v = np.array(emb)\n",
    "        X.append(v)\n",
    "    X = np.array(X)\n",
    "    return X"
   ]
  },
  {
   "cell_type": "code",
   "execution_count": 14,
   "metadata": {},
   "outputs": [],
   "source": [
    "from lightgbm import LGBMRanker"
   ]
  },
  {
   "cell_type": "code",
   "execution_count": 15,
   "metadata": {
    "scrolled": true
   },
   "outputs": [],
   "source": [
    "testset = set(test.user_id)"
   ]
  },
  {
   "cell_type": "code",
   "execution_count": 16,
   "metadata": {},
   "outputs": [],
   "source": [
    "BASE = 1.4"
   ]
  },
  {
   "cell_type": "code",
   "execution_count": 17,
   "metadata": {},
   "outputs": [],
   "source": [
    "POW = 1.4"
   ]
  },
  {
   "cell_type": "code",
   "execution_count": 18,
   "metadata": {},
   "outputs": [],
   "source": [
    "import faiss"
   ]
  },
  {
   "cell_type": "code",
   "execution_count": 19,
   "metadata": {},
   "outputs": [],
   "source": [
    "class Recommender:\n",
    "    def __init__(self, top_n=20, nearest_n=1000, session_group=10, last_n=500, pop_thresh=21):\n",
    "        self.top_n = top_n\n",
    "        self.last_n = last_n\n",
    "        self.nearest_n = nearest_n\n",
    "        self.pop_thresh = pop_thresh\n",
    "        self.session_group = session_group\n",
    "        \n",
    "    def fit(self, candidates):\n",
    "        self.candidates = candidates\n",
    "        cand_embds = get_embeddings(candidates.item_id.values)\n",
    "        self.index = faiss.IndexFlatL2(cand_embds.shape[1])\n",
    "        \n",
    "        self.cand_idx_to_item = dict(zip(candidates.index.values, candidates.item_id.values))\n",
    "        self.cand_item_to_idx = dict(zip(candidates.item_id.values, candidates.index.values))\n",
    "        \n",
    "        self.index.add(cand_embds)\n",
    "        \n",
    "        \n",
    "    def fit_load(self, candidates, path='neighbors.csv'):\n",
    "        self.NEIGHBORS = pd.read_csv(path)\n",
    "        self.candidates = candidates\n",
    "        self.cand_idx_to_item = dict(zip(candidates.index.values, candidates.item_id.values))\n",
    "        self.cand_item_to_idx = dict(zip(candidates.item_id.values, candidates.index.values))\n",
    "        \n",
    "        \n",
    "    def predict(self, user_id, user_df, min_ts=1000, min_size=1000):\n",
    "        seen_item_ids = set(user_df.item_id.values)\n",
    "        dislike_item_ids = set(user_df[user_df.reaction == -1].item_id.values)\n",
    "\n",
    "        negative_items = list(dislike_item_ids)\n",
    "\n",
    "        # do smth if too low\n",
    "        positive_items = user_df[(user_df.timespent != 0) & (user_df.reaction != -1)].item_id.values\n",
    "            \n",
    "        if len(user_df) < 10:\n",
    "            nearest_n = self.nearest_n + 10\n",
    "        else:\n",
    "            nearest_n = self.nearest_n\n",
    "        \n",
    "        p_nearest_n = nearest_n\n",
    "        n_nearest_n = 10\n",
    "        \n",
    "        pos_embds = get_embeddings(positive_items)\n",
    "        positive_neighbors = set(self.candidates.iloc[self.index.search(pos_embds, k=p_nearest_n)[1].flatten()].item_id.values)\n",
    "        if len(negative_items):\n",
    "            neg_embds = get_embeddings(negative_items)\n",
    "            negative_neighbors = set(self.candidates.iloc[self.index.search(neg_embds, k=p_nearest_n)[1].flatten()].item_id.values)\n",
    "\n",
    "#         negative_neighbors = set(self.candidates.iloc[self.NEIGHBORS.loc[negative_items].values[:, :n_nearest_n].flatten()].item_id.values)\n",
    "#         positive_neighbors = set(self.candidates.iloc[self.NEIGHBORS.loc[positive_items].values[:, :p_nearest_n].flatten()].item_id.values)\n",
    "        \n",
    "        candidates_item_ids = positive_neighbors - seen_item_ids\n",
    "        \n",
    "        if len(negative_items):\n",
    "            candidates_item_ids -= negative_neighbors\n",
    "        \n",
    "        # pop recomend\n",
    "        if (user_df.timespent.mean() < min_ts) or (len(user_df) < min_size):\n",
    "            pop = items[['mean_timespent']].loc[candidates_item_ids]\n",
    "            return pop.sort_values(by='mean_timespent', ascending=False)[:self.top_n].index.values\n",
    "            \n",
    "        # rerank personal\n",
    "        X = get_embeddings(user_df.item_id.values)\n",
    "        y = user_df.timespent.rank().astype(int)        \n",
    "        query_train = [len(y) % self.session_group] + [self.session_group for _ in range(len(y) // self.session_group)]\n",
    "        \n",
    "        ranker = LGBMRanker(\n",
    "            metric=\"ndcg\",\n",
    "            objective=\"lambdarank\",\n",
    "            label_gain=BASE**np.arange(1, len(y)+2, dtype=float),\n",
    "            random_state=42,\n",
    "            n_jobs=4,\n",
    "            reg_lambda=10,\n",
    "        )\n",
    "        \n",
    "        ranker.fit(\n",
    "            X, y, group=query_train,\n",
    "            sample_weight=BASE**np.arange(1, len(y)+1),\n",
    "        )\n",
    "        \n",
    "        candidates_df = items[[]].loc[candidates_item_ids]\n",
    "        \n",
    "        candidates_embeddings = get_embeddings(candidates_df.index)\n",
    "        candidates_df['prediction'] = ranker.predict(candidates_embeddings)\n",
    "              \n",
    "        return candidates_df.sort_values(by='prediction', ascending=False)[:self.top_n].index.values\n",
    "    "
   ]
  },
  {
   "cell_type": "code",
   "execution_count": 20,
   "metadata": {},
   "outputs": [],
   "source": [
    "model = Recommender(nearest_n=1000, session_group=10)\n",
    "model.fit(candidates)"
   ]
  },
  {
   "cell_type": "code",
   "execution_count": 21,
   "metadata": {
    "scrolled": false
   },
   "outputs": [
    {
     "name": "stderr",
     "output_type": "stream",
     "text": [
      "100%|██████████| 1000183/1000183 [5:06:08<00:00, 54.45it/s]  \n"
     ]
    }
   ],
   "source": [
    "predictions = dict()\n",
    "for user_id, user_df in tqdm(df[['user_id', 'item_id', 'timespent', 'reaction']].groupby('user_id'), total=len(df.user_id.unique())):\n",
    "    if user_id not in testset:\n",
    "        continue\n",
    "    pred = model.predict(user_id, user_df, min_ts=0.3, min_size=60)\n",
    "    predictions[user_id] = pred"
   ]
  },
  {
   "cell_type": "code",
   "execution_count": 22,
   "metadata": {},
   "outputs": [
    {
     "data": {
      "text/html": [
       "<div>\n",
       "<style scoped>\n",
       "    .dataframe tbody tr th:only-of-type {\n",
       "        vertical-align: middle;\n",
       "    }\n",
       "\n",
       "    .dataframe tbody tr th {\n",
       "        vertical-align: top;\n",
       "    }\n",
       "\n",
       "    .dataframe thead th {\n",
       "        text-align: right;\n",
       "    }\n",
       "</style>\n",
       "<table border=\"1\" class=\"dataframe\">\n",
       "  <thead>\n",
       "    <tr style=\"text-align: right;\">\n",
       "      <th></th>\n",
       "      <th>user_id</th>\n",
       "      <th>predictions</th>\n",
       "    </tr>\n",
       "  </thead>\n",
       "  <tbody>\n",
       "    <tr>\n",
       "      <th>0</th>\n",
       "      <td>7</td>\n",
       "      <td>[44269, 58977, 227420, 130122, 24553, 142350, ...</td>\n",
       "    </tr>\n",
       "    <tr>\n",
       "      <th>1</th>\n",
       "      <td>8</td>\n",
       "      <td>[37449, 12504, 31620, 108607, 211427, 149924, ...</td>\n",
       "    </tr>\n",
       "    <tr>\n",
       "      <th>2</th>\n",
       "      <td>9</td>\n",
       "      <td>[125635, 198837, 167167, 99502, 151791, 62582,...</td>\n",
       "    </tr>\n",
       "  </tbody>\n",
       "</table>\n",
       "</div>"
      ],
      "text/plain": [
       "   user_id                                        predictions\n",
       "0        7  [44269, 58977, 227420, 130122, 24553, 142350, ...\n",
       "1        8  [37449, 12504, 31620, 108607, 211427, 149924, ...\n",
       "2        9  [125635, 198837, 167167, 99502, 151791, 62582,..."
      ]
     },
     "execution_count": 22,
     "metadata": {},
     "output_type": "execute_result"
    }
   ],
   "source": [
    "test_predictions = []\n",
    "for user_id in test.user_id:\n",
    "    test_predictions.append(predictions[user_id])\n",
    "test['predictions'] = test_predictions\n",
    "\n",
    "test.head(3)"
   ]
  },
  {
   "cell_type": "code",
   "execution_count": 23,
   "metadata": {},
   "outputs": [],
   "source": [
    "test.to_parquet('sample_submission_last_chance.parquet.gzip', compression='gzip', engine='pyarrow')\n",
    "test.to_parquet('sample_submission.parquet.gzip', compression='gzip', engine='pyarrow')"
   ]
  },
  {
   "cell_type": "markdown",
   "metadata": {},
   "source": [
    "# Debug"
   ]
  },
  {
   "cell_type": "code",
   "execution_count": 1049,
   "metadata": {},
   "outputs": [],
   "source": [
    "X = get_embeddings(user_df.item_id.values)\n",
    "# y = user_df.timespent.values\n",
    "y = user_df.timespent.rank().astype(int)"
   ]
  },
  {
   "cell_type": "code",
   "execution_count": 1146,
   "metadata": {},
   "outputs": [],
   "source": [
    "ranker = LGBMRanker(\n",
    "    metric=\"ndcg\",\n",
    "    n_estimators=30,\n",
    "    objective=\"lambdarank\",\n",
    "    label_gain=(np.arange(1, len(y)+2))\n",
    ")"
   ]
  },
  {
   "cell_type": "code",
   "execution_count": 1147,
   "metadata": {},
   "outputs": [],
   "source": [
    "query_train = [len(y)]"
   ]
  },
  {
   "cell_type": "code",
   "execution_count": 1149,
   "metadata": {},
   "outputs": [],
   "source": [
    "N = 20"
   ]
  },
  {
   "cell_type": "code",
   "execution_count": 1150,
   "metadata": {},
   "outputs": [],
   "source": [
    "query_train = [len(y) % N] + [N for _ in range(len(y) // N)]"
   ]
  },
  {
   "cell_type": "code",
   "execution_count": 1151,
   "metadata": {},
   "outputs": [],
   "source": [
    "user_df['y'] = user_df.timespent.rank().astype(int) "
   ]
  },
  {
   "cell_type": "code",
   "execution_count": 1152,
   "metadata": {},
   "outputs": [
    {
     "data": {
      "text/plain": [
       "LGBMRanker(label_gain=array([2.71828183e+000, 7.38905610e+000, 2.00855369e+001, 5.45981500e+001,\n",
       "       1.48413159e+002, 4.03428793e+002, 1.09663316e+003, 2.98095799e+003,\n",
       "       8.10308393e+003, 2.20264658e+004, 5.98741417e+004, 1.62754791e+005,\n",
       "       4.42413392e+005, 1.20260428e+006, 3.26901737e+006, 8.88611052e+006,\n",
       "       2.41549528e+007, 6.56599691e+007, 1.78482301e+008, 4.85165195e+008,\n",
       "       1...\n",
       "       3.29219761e+158, 8.94912093e+158, 2.43262328e+159, 6.61255566e+159,\n",
       "       1.79747899e+160, 4.88605447e+160, 1.32816731e+161, 3.61033306e+161,\n",
       "       9.81390275e+161, 2.66769535e+162, 7.25154779e+162, 1.97117506e+163,\n",
       "       5.35820935e+163, 1.45651231e+164, 3.95921094e+164, 1.07622512e+165,\n",
       "       2.92548318e+165, 7.95228776e+165, 2.16165593e+166, 5.87599004e+166,\n",
       "       1.59725969e+167, 4.34180200e+167]),\n",
       "           metric='ndcg', n_estimators=30, objective='lambdarank')"
      ]
     },
     "execution_count": 1152,
     "metadata": {},
     "output_type": "execute_result"
    }
   ],
   "source": [
    "ranker.fit(X, y, group=query_train,)"
   ]
  },
  {
   "cell_type": "code",
   "execution_count": 1153,
   "metadata": {},
   "outputs": [],
   "source": [
    "user_df['predict'] = ranker.predict(X)"
   ]
  },
  {
   "cell_type": "code",
   "execution_count": 1154,
   "metadata": {
    "scrolled": true
   },
   "outputs": [
    {
     "data": {
      "text/html": [
       "<div>\n",
       "<style scoped>\n",
       "    .dataframe tbody tr th:only-of-type {\n",
       "        vertical-align: middle;\n",
       "    }\n",
       "\n",
       "    .dataframe tbody tr th {\n",
       "        vertical-align: top;\n",
       "    }\n",
       "\n",
       "    .dataframe thead th {\n",
       "        text-align: right;\n",
       "    }\n",
       "</style>\n",
       "<table border=\"1\" class=\"dataframe\">\n",
       "  <thead>\n",
       "    <tr style=\"text-align: right;\">\n",
       "      <th></th>\n",
       "      <th>user_id</th>\n",
       "      <th>item_id</th>\n",
       "      <th>timespent</th>\n",
       "      <th>y</th>\n",
       "      <th>predict</th>\n",
       "    </tr>\n",
       "  </thead>\n",
       "  <tbody>\n",
       "    <tr>\n",
       "      <th>32608332</th>\n",
       "      <td>687</td>\n",
       "      <td>220136</td>\n",
       "      <td>22</td>\n",
       "      <td>384</td>\n",
       "      <td>3.148048</td>\n",
       "    </tr>\n",
       "    <tr>\n",
       "      <th>113000825</th>\n",
       "      <td>687</td>\n",
       "      <td>208951</td>\n",
       "      <td>17</td>\n",
       "      <td>381</td>\n",
       "      <td>3.066361</td>\n",
       "    </tr>\n",
       "    <tr>\n",
       "      <th>41428178</th>\n",
       "      <td>687</td>\n",
       "      <td>69719</td>\n",
       "      <td>19</td>\n",
       "      <td>383</td>\n",
       "      <td>2.891415</td>\n",
       "    </tr>\n",
       "    <tr>\n",
       "      <th>129934101</th>\n",
       "      <td>687</td>\n",
       "      <td>55078</td>\n",
       "      <td>5</td>\n",
       "      <td>363</td>\n",
       "      <td>2.887321</td>\n",
       "    </tr>\n",
       "    <tr>\n",
       "      <th>51511521</th>\n",
       "      <td>687</td>\n",
       "      <td>107249</td>\n",
       "      <td>9</td>\n",
       "      <td>374</td>\n",
       "      <td>2.884850</td>\n",
       "    </tr>\n",
       "    <tr>\n",
       "      <th>96601340</th>\n",
       "      <td>687</td>\n",
       "      <td>148589</td>\n",
       "      <td>8</td>\n",
       "      <td>372</td>\n",
       "      <td>2.874132</td>\n",
       "    </tr>\n",
       "    <tr>\n",
       "      <th>53068956</th>\n",
       "      <td>687</td>\n",
       "      <td>38823</td>\n",
       "      <td>58</td>\n",
       "      <td>385</td>\n",
       "      <td>2.770502</td>\n",
       "    </tr>\n",
       "    <tr>\n",
       "      <th>13999550</th>\n",
       "      <td>687</td>\n",
       "      <td>212337</td>\n",
       "      <td>8</td>\n",
       "      <td>372</td>\n",
       "      <td>2.710167</td>\n",
       "    </tr>\n",
       "    <tr>\n",
       "      <th>60642717</th>\n",
       "      <td>687</td>\n",
       "      <td>166776</td>\n",
       "      <td>10</td>\n",
       "      <td>376</td>\n",
       "      <td>2.690265</td>\n",
       "    </tr>\n",
       "    <tr>\n",
       "      <th>68674000</th>\n",
       "      <td>687</td>\n",
       "      <td>221911</td>\n",
       "      <td>8</td>\n",
       "      <td>372</td>\n",
       "      <td>2.648515</td>\n",
       "    </tr>\n",
       "    <tr>\n",
       "      <th>115632202</th>\n",
       "      <td>687</td>\n",
       "      <td>158138</td>\n",
       "      <td>4</td>\n",
       "      <td>356</td>\n",
       "      <td>2.501729</td>\n",
       "    </tr>\n",
       "    <tr>\n",
       "      <th>42082256</th>\n",
       "      <td>687</td>\n",
       "      <td>109612</td>\n",
       "      <td>2</td>\n",
       "      <td>333</td>\n",
       "      <td>2.452370</td>\n",
       "    </tr>\n",
       "    <tr>\n",
       "      <th>99477522</th>\n",
       "      <td>687</td>\n",
       "      <td>20346</td>\n",
       "      <td>7</td>\n",
       "      <td>369</td>\n",
       "      <td>2.432433</td>\n",
       "    </tr>\n",
       "    <tr>\n",
       "      <th>21459120</th>\n",
       "      <td>687</td>\n",
       "      <td>63282</td>\n",
       "      <td>13</td>\n",
       "      <td>379</td>\n",
       "      <td>2.400761</td>\n",
       "    </tr>\n",
       "    <tr>\n",
       "      <th>140402463</th>\n",
       "      <td>687</td>\n",
       "      <td>136386</td>\n",
       "      <td>12</td>\n",
       "      <td>378</td>\n",
       "      <td>2.263874</td>\n",
       "    </tr>\n",
       "    <tr>\n",
       "      <th>123662164</th>\n",
       "      <td>687</td>\n",
       "      <td>135399</td>\n",
       "      <td>4</td>\n",
       "      <td>356</td>\n",
       "      <td>2.173545</td>\n",
       "    </tr>\n",
       "    <tr>\n",
       "      <th>142163388</th>\n",
       "      <td>687</td>\n",
       "      <td>128505</td>\n",
       "      <td>3</td>\n",
       "      <td>343</td>\n",
       "      <td>2.170940</td>\n",
       "    </tr>\n",
       "    <tr>\n",
       "      <th>41428181</th>\n",
       "      <td>687</td>\n",
       "      <td>108077</td>\n",
       "      <td>2</td>\n",
       "      <td>333</td>\n",
       "      <td>2.102280</td>\n",
       "    </tr>\n",
       "    <tr>\n",
       "      <th>63514195</th>\n",
       "      <td>687</td>\n",
       "      <td>28707</td>\n",
       "      <td>4</td>\n",
       "      <td>356</td>\n",
       "      <td>2.069194</td>\n",
       "    </tr>\n",
       "    <tr>\n",
       "      <th>142085843</th>\n",
       "      <td>687</td>\n",
       "      <td>140868</td>\n",
       "      <td>3</td>\n",
       "      <td>343</td>\n",
       "      <td>1.715163</td>\n",
       "    </tr>\n",
       "  </tbody>\n",
       "</table>\n",
       "</div>"
      ],
      "text/plain": [
       "           user_id  item_id  timespent    y   predict\n",
       "32608332       687   220136         22  384  3.148048\n",
       "113000825      687   208951         17  381  3.066361\n",
       "41428178       687    69719         19  383  2.891415\n",
       "129934101      687    55078          5  363  2.887321\n",
       "51511521       687   107249          9  374  2.884850\n",
       "96601340       687   148589          8  372  2.874132\n",
       "53068956       687    38823         58  385  2.770502\n",
       "13999550       687   212337          8  372  2.710167\n",
       "60642717       687   166776         10  376  2.690265\n",
       "68674000       687   221911          8  372  2.648515\n",
       "115632202      687   158138          4  356  2.501729\n",
       "42082256       687   109612          2  333  2.452370\n",
       "99477522       687    20346          7  369  2.432433\n",
       "21459120       687    63282         13  379  2.400761\n",
       "140402463      687   136386         12  378  2.263874\n",
       "123662164      687   135399          4  356  2.173545\n",
       "142163388      687   128505          3  343  2.170940\n",
       "41428181       687   108077          2  333  2.102280\n",
       "63514195       687    28707          4  356  2.069194\n",
       "142085843      687   140868          3  343  1.715163"
      ]
     },
     "execution_count": 1154,
     "metadata": {},
     "output_type": "execute_result"
    }
   ],
   "source": [
    "user_df.sort_values(by='predict', ascending=False).head(20)"
   ]
  },
  {
   "cell_type": "code",
   "execution_count": 1143,
   "metadata": {},
   "outputs": [
    {
     "data": {
      "text/html": [
       "<div>\n",
       "<style scoped>\n",
       "    .dataframe tbody tr th:only-of-type {\n",
       "        vertical-align: middle;\n",
       "    }\n",
       "\n",
       "    .dataframe tbody tr th {\n",
       "        vertical-align: top;\n",
       "    }\n",
       "\n",
       "    .dataframe thead th {\n",
       "        text-align: right;\n",
       "    }\n",
       "</style>\n",
       "<table border=\"1\" class=\"dataframe\">\n",
       "  <thead>\n",
       "    <tr style=\"text-align: right;\">\n",
       "      <th></th>\n",
       "      <th>user_id</th>\n",
       "      <th>item_id</th>\n",
       "      <th>timespent</th>\n",
       "      <th>y</th>\n",
       "      <th>predict</th>\n",
       "    </tr>\n",
       "  </thead>\n",
       "  <tbody>\n",
       "    <tr>\n",
       "      <th>53068956</th>\n",
       "      <td>687</td>\n",
       "      <td>38823</td>\n",
       "      <td>58</td>\n",
       "      <td>385</td>\n",
       "      <td>0.890033</td>\n",
       "    </tr>\n",
       "    <tr>\n",
       "      <th>32608332</th>\n",
       "      <td>687</td>\n",
       "      <td>220136</td>\n",
       "      <td>22</td>\n",
       "      <td>384</td>\n",
       "      <td>-0.304008</td>\n",
       "    </tr>\n",
       "    <tr>\n",
       "      <th>41428178</th>\n",
       "      <td>687</td>\n",
       "      <td>69719</td>\n",
       "      <td>19</td>\n",
       "      <td>383</td>\n",
       "      <td>-0.378559</td>\n",
       "    </tr>\n",
       "    <tr>\n",
       "      <th>40596528</th>\n",
       "      <td>687</td>\n",
       "      <td>153924</td>\n",
       "      <td>18</td>\n",
       "      <td>382</td>\n",
       "      <td>3.014997</td>\n",
       "    </tr>\n",
       "    <tr>\n",
       "      <th>113000825</th>\n",
       "      <td>687</td>\n",
       "      <td>208951</td>\n",
       "      <td>17</td>\n",
       "      <td>381</td>\n",
       "      <td>-0.948236</td>\n",
       "    </tr>\n",
       "    <tr>\n",
       "      <th>...</th>\n",
       "      <td>...</td>\n",
       "      <td>...</td>\n",
       "      <td>...</td>\n",
       "      <td>...</td>\n",
       "      <td>...</td>\n",
       "    </tr>\n",
       "    <tr>\n",
       "      <th>57983424</th>\n",
       "      <td>687</td>\n",
       "      <td>194910</td>\n",
       "      <td>0</td>\n",
       "      <td>158</td>\n",
       "      <td>-2.205393</td>\n",
       "    </tr>\n",
       "    <tr>\n",
       "      <th>54204498</th>\n",
       "      <td>687</td>\n",
       "      <td>7090</td>\n",
       "      <td>0</td>\n",
       "      <td>158</td>\n",
       "      <td>-2.340311</td>\n",
       "    </tr>\n",
       "    <tr>\n",
       "      <th>52962923</th>\n",
       "      <td>687</td>\n",
       "      <td>91352</td>\n",
       "      <td>0</td>\n",
       "      <td>158</td>\n",
       "      <td>-2.521262</td>\n",
       "    </tr>\n",
       "    <tr>\n",
       "      <th>52962921</th>\n",
       "      <td>687</td>\n",
       "      <td>179317</td>\n",
       "      <td>0</td>\n",
       "      <td>158</td>\n",
       "      <td>-2.357891</td>\n",
       "    </tr>\n",
       "    <tr>\n",
       "      <th>64580458</th>\n",
       "      <td>687</td>\n",
       "      <td>102485</td>\n",
       "      <td>0</td>\n",
       "      <td>158</td>\n",
       "      <td>-2.226812</td>\n",
       "    </tr>\n",
       "  </tbody>\n",
       "</table>\n",
       "<p>385 rows × 5 columns</p>\n",
       "</div>"
      ],
      "text/plain": [
       "           user_id  item_id  timespent    y   predict\n",
       "53068956       687    38823         58  385  0.890033\n",
       "32608332       687   220136         22  384 -0.304008\n",
       "41428178       687    69719         19  383 -0.378559\n",
       "40596528       687   153924         18  382  3.014997\n",
       "113000825      687   208951         17  381 -0.948236\n",
       "...            ...      ...        ...  ...       ...\n",
       "57983424       687   194910          0  158 -2.205393\n",
       "54204498       687     7090          0  158 -2.340311\n",
       "52962923       687    91352          0  158 -2.521262\n",
       "52962921       687   179317          0  158 -2.357891\n",
       "64580458       687   102485          0  158 -2.226812\n",
       "\n",
       "[385 rows x 5 columns]"
      ]
     },
     "execution_count": 1143,
     "metadata": {},
     "output_type": "execute_result"
    }
   ],
   "source": [
    "user_df.sort_values(by='timespent', ascending=False)"
   ]
  },
  {
   "cell_type": "code",
   "execution_count": 1115,
   "metadata": {},
   "outputs": [
    {
     "data": {
      "text/html": [
       "<div>\n",
       "<style scoped>\n",
       "    .dataframe tbody tr th:only-of-type {\n",
       "        vertical-align: middle;\n",
       "    }\n",
       "\n",
       "    .dataframe tbody tr th {\n",
       "        vertical-align: top;\n",
       "    }\n",
       "\n",
       "    .dataframe thead th {\n",
       "        text-align: right;\n",
       "    }\n",
       "</style>\n",
       "<table border=\"1\" class=\"dataframe\">\n",
       "  <thead>\n",
       "    <tr style=\"text-align: right;\">\n",
       "      <th></th>\n",
       "      <th>user_id</th>\n",
       "      <th>item_id</th>\n",
       "      <th>timespent</th>\n",
       "      <th>y</th>\n",
       "    </tr>\n",
       "  </thead>\n",
       "  <tbody>\n",
       "    <tr>\n",
       "      <th>440592</th>\n",
       "      <td>687</td>\n",
       "      <td>4477</td>\n",
       "      <td>0</td>\n",
       "      <td>158</td>\n",
       "    </tr>\n",
       "    <tr>\n",
       "      <th>440593</th>\n",
       "      <td>687</td>\n",
       "      <td>25558</td>\n",
       "      <td>0</td>\n",
       "      <td>158</td>\n",
       "    </tr>\n",
       "    <tr>\n",
       "      <th>441575</th>\n",
       "      <td>687</td>\n",
       "      <td>159003</td>\n",
       "      <td>0</td>\n",
       "      <td>158</td>\n",
       "    </tr>\n",
       "    <tr>\n",
       "      <th>513592</th>\n",
       "      <td>687</td>\n",
       "      <td>8426</td>\n",
       "      <td>0</td>\n",
       "      <td>158</td>\n",
       "    </tr>\n",
       "    <tr>\n",
       "      <th>562894</th>\n",
       "      <td>687</td>\n",
       "      <td>18832</td>\n",
       "      <td>0</td>\n",
       "      <td>158</td>\n",
       "    </tr>\n",
       "    <tr>\n",
       "      <th>...</th>\n",
       "      <td>...</td>\n",
       "      <td>...</td>\n",
       "      <td>...</td>\n",
       "      <td>...</td>\n",
       "    </tr>\n",
       "    <tr>\n",
       "      <th>142180160</th>\n",
       "      <td>687</td>\n",
       "      <td>119702</td>\n",
       "      <td>0</td>\n",
       "      <td>158</td>\n",
       "    </tr>\n",
       "    <tr>\n",
       "      <th>142180161</th>\n",
       "      <td>687</td>\n",
       "      <td>186901</td>\n",
       "      <td>0</td>\n",
       "      <td>158</td>\n",
       "    </tr>\n",
       "    <tr>\n",
       "      <th>142180162</th>\n",
       "      <td>687</td>\n",
       "      <td>104811</td>\n",
       "      <td>0</td>\n",
       "      <td>158</td>\n",
       "    </tr>\n",
       "    <tr>\n",
       "      <th>142180163</th>\n",
       "      <td>687</td>\n",
       "      <td>26993</td>\n",
       "      <td>0</td>\n",
       "      <td>158</td>\n",
       "    </tr>\n",
       "    <tr>\n",
       "      <th>142180164</th>\n",
       "      <td>687</td>\n",
       "      <td>69530</td>\n",
       "      <td>1</td>\n",
       "      <td>323</td>\n",
       "    </tr>\n",
       "  </tbody>\n",
       "</table>\n",
       "<p>385 rows × 4 columns</p>\n",
       "</div>"
      ],
      "text/plain": [
       "           user_id  item_id  timespent    y\n",
       "440592         687     4477          0  158\n",
       "440593         687    25558          0  158\n",
       "441575         687   159003          0  158\n",
       "513592         687     8426          0  158\n",
       "562894         687    18832          0  158\n",
       "...            ...      ...        ...  ...\n",
       "142180160      687   119702          0  158\n",
       "142180161      687   186901          0  158\n",
       "142180162      687   104811          0  158\n",
       "142180163      687    26993          0  158\n",
       "142180164      687    69530          1  323\n",
       "\n",
       "[385 rows x 4 columns]"
      ]
     },
     "execution_count": 1115,
     "metadata": {},
     "output_type": "execute_result"
    }
   ],
   "source": [
    "user_df"
   ]
  },
  {
   "cell_type": "markdown",
   "metadata": {},
   "source": [
    "# =============================================="
   ]
  }
 ],
 "metadata": {
  "kernelspec": {
   "display_name": "Python 3",
   "language": "python",
   "name": "python3"
  },
  "language_info": {
   "codemirror_mode": {
    "name": "ipython",
    "version": 3
   },
   "file_extension": ".py",
   "mimetype": "text/x-python",
   "name": "python",
   "nbconvert_exporter": "python",
   "pygments_lexer": "ipython3",
   "version": "3.7.10"
  }
 },
 "nbformat": 4,
 "nbformat_minor": 4
}
