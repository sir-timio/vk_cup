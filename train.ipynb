{
 "cells": [
  {
   "cell_type": "code",
   "execution_count": 1,
   "metadata": {
    "pycharm": {
     "name": "#%%\n"
    }
   },
   "outputs": [],
   "source": [
    "from tqdm import tqdm\n",
    "from copy import deepcopy\n",
    "import numpy as np\n",
    "import os\n",
    "import pandas as pd\n",
    "import matplotlib.pyplot as plt\n",
    "\n",
    "import implicit as imp\n",
    "\n",
    "from scipy import sparse"
   ]
  },
  {
   "cell_type": "code",
   "execution_count": 2,
   "metadata": {},
   "outputs": [],
   "source": [
    "# !pip install fastparquet\n",
    "# !pip install pyarrow"
   ]
  },
  {
   "cell_type": "code",
   "execution_count": 3,
   "metadata": {},
   "outputs": [],
   "source": [
    "TIMESPENT_COEF = 1\n",
    "REACTION_COEF = 10"
   ]
  },
  {
   "cell_type": "code",
   "execution_count": 4,
   "metadata": {
    "pycharm": {
     "name": "#%%\n"
    },
    "scrolled": false
   },
   "outputs": [
    {
     "data": {
      "text/plain": [
       "user_id      int32\n",
       "item_id      int32\n",
       "timespent     int8\n",
       "reaction      int8\n",
       "dtype: object"
      ]
     },
     "execution_count": 4,
     "metadata": {},
     "output_type": "execute_result"
    }
   ],
   "source": [
    "# train упорядочен хронологически\n",
    "df = pd.read_parquet('train.parquet.gzip')\n",
    "df.dtypes"
   ]
  },
  {
   "cell_type": "code",
   "execution_count": 188,
   "metadata": {},
   "outputs": [
    {
     "data": {
      "text/html": [
       "<div>\n",
       "<style scoped>\n",
       "    .dataframe tbody tr th:only-of-type {\n",
       "        vertical-align: middle;\n",
       "    }\n",
       "\n",
       "    .dataframe tbody tr th {\n",
       "        vertical-align: top;\n",
       "    }\n",
       "\n",
       "    .dataframe thead th {\n",
       "        text-align: right;\n",
       "    }\n",
       "</style>\n",
       "<table border=\"1\" class=\"dataframe\">\n",
       "  <thead>\n",
       "    <tr style=\"text-align: right;\">\n",
       "      <th></th>\n",
       "      <th>user_id</th>\n",
       "      <th>item_id</th>\n",
       "      <th>timespent</th>\n",
       "      <th>reaction</th>\n",
       "    </tr>\n",
       "  </thead>\n",
       "  <tbody>\n",
       "    <tr>\n",
       "      <th>0</th>\n",
       "      <td>707536</td>\n",
       "      <td>67950</td>\n",
       "      <td>0</td>\n",
       "      <td>0</td>\n",
       "    </tr>\n",
       "    <tr>\n",
       "      <th>1</th>\n",
       "      <td>707536</td>\n",
       "      <td>151002</td>\n",
       "      <td>0</td>\n",
       "      <td>0</td>\n",
       "    </tr>\n",
       "    <tr>\n",
       "      <th>2</th>\n",
       "      <td>707536</td>\n",
       "      <td>134736</td>\n",
       "      <td>0</td>\n",
       "      <td>0</td>\n",
       "    </tr>\n",
       "    <tr>\n",
       "      <th>3</th>\n",
       "      <td>707536</td>\n",
       "      <td>196151</td>\n",
       "      <td>0</td>\n",
       "      <td>0</td>\n",
       "    </tr>\n",
       "    <tr>\n",
       "      <th>4</th>\n",
       "      <td>707536</td>\n",
       "      <td>94182</td>\n",
       "      <td>0</td>\n",
       "      <td>0</td>\n",
       "    </tr>\n",
       "    <tr>\n",
       "      <th>...</th>\n",
       "      <td>...</td>\n",
       "      <td>...</td>\n",
       "      <td>...</td>\n",
       "      <td>...</td>\n",
       "    </tr>\n",
       "    <tr>\n",
       "      <th>144440010</th>\n",
       "      <td>849764</td>\n",
       "      <td>80910</td>\n",
       "      <td>0</td>\n",
       "      <td>0</td>\n",
       "    </tr>\n",
       "    <tr>\n",
       "      <th>144440011</th>\n",
       "      <td>993316</td>\n",
       "      <td>132328</td>\n",
       "      <td>0</td>\n",
       "      <td>0</td>\n",
       "    </tr>\n",
       "    <tr>\n",
       "      <th>144440012</th>\n",
       "      <td>993316</td>\n",
       "      <td>186701</td>\n",
       "      <td>0</td>\n",
       "      <td>0</td>\n",
       "    </tr>\n",
       "    <tr>\n",
       "      <th>144440013</th>\n",
       "      <td>666981</td>\n",
       "      <td>81857</td>\n",
       "      <td>0</td>\n",
       "      <td>0</td>\n",
       "    </tr>\n",
       "    <tr>\n",
       "      <th>144440014</th>\n",
       "      <td>666981</td>\n",
       "      <td>133987</td>\n",
       "      <td>0</td>\n",
       "      <td>0</td>\n",
       "    </tr>\n",
       "  </tbody>\n",
       "</table>\n",
       "<p>144440015 rows × 4 columns</p>\n",
       "</div>"
      ],
      "text/plain": [
       "           user_id  item_id  timespent  reaction\n",
       "0           707536    67950          0         0\n",
       "1           707536   151002          0         0\n",
       "2           707536   134736          0         0\n",
       "3           707536   196151          0         0\n",
       "4           707536    94182          0         0\n",
       "...            ...      ...        ...       ...\n",
       "144440010   849764    80910          0         0\n",
       "144440011   993316   132328          0         0\n",
       "144440012   993316   186701          0         0\n",
       "144440013   666981    81857          0         0\n",
       "144440014   666981   133987          0         0\n",
       "\n",
       "[144440015 rows x 4 columns]"
      ]
     },
     "execution_count": 188,
     "metadata": {},
     "output_type": "execute_result"
    }
   ],
   "source": [
    "df"
   ]
  },
  {
   "cell_type": "code",
   "execution_count": 5,
   "metadata": {},
   "outputs": [
    {
     "data": {
      "text/html": [
       "<div>\n",
       "<style scoped>\n",
       "    .dataframe tbody tr th:only-of-type {\n",
       "        vertical-align: middle;\n",
       "    }\n",
       "\n",
       "    .dataframe tbody tr th {\n",
       "        vertical-align: top;\n",
       "    }\n",
       "\n",
       "    .dataframe thead th {\n",
       "        text-align: right;\n",
       "    }\n",
       "</style>\n",
       "<table border=\"1\" class=\"dataframe\">\n",
       "  <thead>\n",
       "    <tr style=\"text-align: right;\">\n",
       "      <th></th>\n",
       "      <th>item_id</th>\n",
       "      <th>source_id</th>\n",
       "      <th>embeddings</th>\n",
       "    </tr>\n",
       "  </thead>\n",
       "  <tbody>\n",
       "    <tr>\n",
       "      <th>0</th>\n",
       "      <td>0</td>\n",
       "      <td>7340</td>\n",
       "      <td>[0.10458118, 0.047880154, 0.030944156, -0.0351...</td>\n",
       "    </tr>\n",
       "    <tr>\n",
       "      <th>1</th>\n",
       "      <td>1</td>\n",
       "      <td>6284</td>\n",
       "      <td>[0.035625108, -0.039264094, -0.03310334, -0.04...</td>\n",
       "    </tr>\n",
       "    <tr>\n",
       "      <th>2</th>\n",
       "      <td>2</td>\n",
       "      <td>12766</td>\n",
       "      <td>[0.08418761, 0.006732465, -0.0037112322, -0.02...</td>\n",
       "    </tr>\n",
       "  </tbody>\n",
       "</table>\n",
       "</div>"
      ],
      "text/plain": [
       "   item_id  source_id                                         embeddings\n",
       "0        0       7340  [0.10458118, 0.047880154, 0.030944156, -0.0351...\n",
       "1        1       6284  [0.035625108, -0.039264094, -0.03310334, -0.04...\n",
       "2        2      12766  [0.08418761, 0.006732465, -0.0037112322, -0.02..."
      ]
     },
     "execution_count": 5,
     "metadata": {},
     "output_type": "execute_result"
    }
   ],
   "source": [
    "# в items_meta для каждого item_id его автор и эмбеддинг содержания\n",
    "items = pd.read_parquet(f'items_meta.parquet.gzip')\n",
    "items.head(3)"
   ]
  },
  {
   "cell_type": "code",
   "execution_count": 6,
   "metadata": {},
   "outputs": [],
   "source": [
    "items = items.set_index('item_id')"
   ]
  },
  {
   "cell_type": "code",
   "execution_count": 7,
   "metadata": {},
   "outputs": [],
   "source": [
    "items['mean_timespent'] = df.groupby('item_id')['timespent'].mean().values"
   ]
  },
  {
   "cell_type": "code",
   "execution_count": 8,
   "metadata": {},
   "outputs": [],
   "source": [
    "items['mean_reaction'] = df.groupby('item_id')['reaction'].mean().values"
   ]
  },
  {
   "cell_type": "code",
   "execution_count": 9,
   "metadata": {},
   "outputs": [],
   "source": [
    "items['amount'] = df.groupby('item_id').size()"
   ]
  },
  {
   "cell_type": "code",
   "execution_count": 10,
   "metadata": {},
   "outputs": [
    {
     "data": {
      "text/plain": [
       "count    227606\n",
       "mean        634\n",
       "std        1959\n",
       "min           3\n",
       "25%          68\n",
       "50%         172\n",
       "75%         490\n",
       "max      122986\n",
       "Name: amount, dtype: int64"
      ]
     },
     "execution_count": 10,
     "metadata": {},
     "output_type": "execute_result"
    }
   ],
   "source": [
    "items['amount'].describe().astype(int)"
   ]
  },
  {
   "cell_type": "code",
   "execution_count": 11,
   "metadata": {},
   "outputs": [
    {
     "data": {
      "text/plain": [
       "array([[1.       , 0.0991944],\n",
       "       [0.0991944, 1.       ]])"
      ]
     },
     "execution_count": 11,
     "metadata": {},
     "output_type": "execute_result"
    }
   ],
   "source": [
    "np.corrcoef(items['amount'], items['mean_timespent'])"
   ]
  },
  {
   "cell_type": "code",
   "execution_count": 12,
   "metadata": {},
   "outputs": [
    {
     "data": {
      "text/plain": [
       "array([[ 1.        , -0.06108216],\n",
       "       [-0.06108216,  1.        ]])"
      ]
     },
     "execution_count": 12,
     "metadata": {},
     "output_type": "execute_result"
    }
   ],
   "source": [
    "np.corrcoef(items['amount'], items['mean_reaction'])"
   ]
  },
  {
   "cell_type": "code",
   "execution_count": 13,
   "metadata": {},
   "outputs": [
    {
     "data": {
      "text/plain": [
       "array([[1.        , 0.28293847],\n",
       "       [0.28293847, 1.        ]])"
      ]
     },
     "execution_count": 13,
     "metadata": {},
     "output_type": "execute_result"
    }
   ],
   "source": [
    "np.corrcoef(items['mean_timespent'], items['mean_reaction'])"
   ]
  },
  {
   "cell_type": "code",
   "execution_count": 14,
   "metadata": {},
   "outputs": [
    {
     "data": {
      "text/html": [
       "<div>\n",
       "<style scoped>\n",
       "    .dataframe tbody tr th:only-of-type {\n",
       "        vertical-align: middle;\n",
       "    }\n",
       "\n",
       "    .dataframe tbody tr th {\n",
       "        vertical-align: top;\n",
       "    }\n",
       "\n",
       "    .dataframe thead th {\n",
       "        text-align: right;\n",
       "    }\n",
       "</style>\n",
       "<table border=\"1\" class=\"dataframe\">\n",
       "  <thead>\n",
       "    <tr style=\"text-align: right;\">\n",
       "      <th></th>\n",
       "      <th>item_id</th>\n",
       "    </tr>\n",
       "  </thead>\n",
       "  <tbody>\n",
       "    <tr>\n",
       "      <th>0</th>\n",
       "      <td>0</td>\n",
       "    </tr>\n",
       "    <tr>\n",
       "      <th>1</th>\n",
       "      <td>2</td>\n",
       "    </tr>\n",
       "    <tr>\n",
       "      <th>2</th>\n",
       "      <td>5</td>\n",
       "    </tr>\n",
       "  </tbody>\n",
       "</table>\n",
       "</div>"
      ],
      "text/plain": [
       "   item_id\n",
       "0        0\n",
       "1        2\n",
       "2        5"
      ]
     },
     "execution_count": 14,
     "metadata": {},
     "output_type": "execute_result"
    }
   ],
   "source": [
    "candidates = pd.read_parquet(f'fresh_candidates.parquet.gzip')\n",
    "candidates.head(3)"
   ]
  },
  {
   "cell_type": "code",
   "execution_count": 15,
   "metadata": {},
   "outputs": [],
   "source": [
    "def get_embeddings(items_id):\n",
    "    X = []\n",
    "    for emb in items.loc[items_id].embeddings:\n",
    "        v = np.array(emb)\n",
    "        X.append(v)\n",
    "    X = np.array(X)\n",
    "    return X"
   ]
  },
  {
   "cell_type": "markdown",
   "metadata": {},
   "source": [
    "# Candidates selection"
   ]
  },
  {
   "cell_type": "code",
   "execution_count": 16,
   "metadata": {},
   "outputs": [],
   "source": [
    "from sklearn.neighbors import NearestNeighbors"
   ]
  },
  {
   "cell_type": "code",
   "execution_count": 18,
   "metadata": {},
   "outputs": [],
   "source": [
    "n_neighbors = 100"
   ]
  },
  {
   "cell_type": "code",
   "execution_count": 19,
   "metadata": {},
   "outputs": [],
   "source": [
    "knn = NearestNeighbors(metric='cosine', n_neighbors=n_neighbors)"
   ]
  },
  {
   "cell_type": "code",
   "execution_count": 20,
   "metadata": {},
   "outputs": [],
   "source": [
    "fresh_embeddings = get_embeddings(candidates.item_id.values)"
   ]
  },
  {
   "cell_type": "code",
   "execution_count": 21,
   "metadata": {},
   "outputs": [
    {
     "data": {
      "text/plain": [
       "NearestNeighbors(metric='cosine', n_neighbors=100)"
      ]
     },
     "execution_count": 21,
     "metadata": {},
     "output_type": "execute_result"
    }
   ],
   "source": [
    "knn.fit(fresh_embeddings)"
   ]
  },
  {
   "cell_type": "code",
   "execution_count": 22,
   "metadata": {},
   "outputs": [],
   "source": [
    "all_embeddings = get_embeddings(items.index)"
   ]
  },
  {
   "cell_type": "markdown",
   "metadata": {},
   "source": [
    "### closest fresh candidates to old embds"
   ]
  },
  {
   "cell_type": "markdown",
   "metadata": {},
   "source": [
    "# Fit"
   ]
  },
  {
   "cell_type": "code",
   "execution_count": 36,
   "metadata": {},
   "outputs": [],
   "source": [
    "# %%time\n",
    "\n",
    "# DIST, NEIGHBORS = knn.kneighbors(all_embeddings)"
   ]
  },
  {
   "cell_type": "code",
   "execution_count": 34,
   "metadata": {},
   "outputs": [],
   "source": [
    "NEIGHBORS = pd.read_csv('neighbors.csv')"
   ]
  },
  {
   "cell_type": "markdown",
   "metadata": {},
   "source": [
    "# Check"
   ]
  },
  {
   "cell_type": "code",
   "execution_count": 37,
   "metadata": {},
   "outputs": [],
   "source": [
    "user_id = np.random.choice(df.user_id)"
   ]
  },
  {
   "cell_type": "code",
   "execution_count": 38,
   "metadata": {},
   "outputs": [],
   "source": [
    "user_df = df[df.user_id == user_id]"
   ]
  },
  {
   "cell_type": "code",
   "execution_count": 39,
   "metadata": {},
   "outputs": [
    {
     "data": {
      "text/plain": [
       "219"
      ]
     },
     "execution_count": 39,
     "metadata": {},
     "output_type": "execute_result"
    }
   ],
   "source": [
    "len(user_df)"
   ]
  },
  {
   "cell_type": "code",
   "execution_count": 40,
   "metadata": {
    "scrolled": true
   },
   "outputs": [
    {
     "data": {
      "text/plain": [
       "0.1872146118721461"
      ]
     },
     "execution_count": 40,
     "metadata": {},
     "output_type": "execute_result"
    }
   ],
   "source": [
    "user_df.timespent.mean()"
   ]
  },
  {
   "cell_type": "code",
   "execution_count": 47,
   "metadata": {},
   "outputs": [
    {
     "data": {
      "text/plain": [
       "array([26618, 71399,  4498, ..., 99094,  3059, 51336])"
      ]
     },
     "execution_count": 47,
     "metadata": {},
     "output_type": "execute_result"
    }
   ],
   "source": [
    "NEIGHBORS.loc[user_df.item_id].values.flatten()"
   ]
  },
  {
   "cell_type": "code",
   "execution_count": 63,
   "metadata": {},
   "outputs": [],
   "source": [
    "recs = items.loc[candidates.loc[NEIGHBORS.loc[user_df.item_id].values.flatten()].item_id.values].index.values"
   ]
  },
  {
   "cell_type": "code",
   "execution_count": 55,
   "metadata": {},
   "outputs": [],
   "source": [
    "recs = np.random.choice(candidates.item_id.values, len(recs))"
   ]
  },
  {
   "cell_type": "code",
   "execution_count": 56,
   "metadata": {},
   "outputs": [
    {
     "data": {
      "text/plain": [
       "19686"
      ]
     },
     "execution_count": 56,
     "metadata": {},
     "output_type": "execute_result"
    }
   ],
   "source": [
    "len(set(recs))"
   ]
  },
  {
   "cell_type": "code",
   "execution_count": 57,
   "metadata": {},
   "outputs": [
    {
     "data": {
      "text/plain": [
       "219"
      ]
     },
     "execution_count": 57,
     "metadata": {},
     "output_type": "execute_result"
    }
   ],
   "source": [
    "len(user_df.item_id.values)"
   ]
  },
  {
   "cell_type": "code",
   "execution_count": 58,
   "metadata": {
    "scrolled": true
   },
   "outputs": [
    {
     "data": {
      "text/plain": [
       "13"
      ]
     },
     "execution_count": 58,
     "metadata": {},
     "output_type": "execute_result"
    }
   ],
   "source": [
    "len(set(recs) & set(user_df.item_id.values))"
   ]
  },
  {
   "cell_type": "code",
   "execution_count": 59,
   "metadata": {},
   "outputs": [
    {
     "data": {
      "text/plain": [
       "0.0593607305936073"
      ]
     },
     "execution_count": 59,
     "metadata": {},
     "output_type": "execute_result"
    }
   ],
   "source": [
    "len(set(recs) & set(user_df.item_id.values)) / len(user_df.item_id.values)"
   ]
  },
  {
   "cell_type": "markdown",
   "metadata": {},
   "source": [
    "# Predict"
   ]
  },
  {
   "cell_type": "code",
   "execution_count": 68,
   "metadata": {
    "scrolled": true
   },
   "outputs": [
    {
     "data": {
      "text/html": [
       "<div>\n",
       "<style scoped>\n",
       "    .dataframe tbody tr th:only-of-type {\n",
       "        vertical-align: middle;\n",
       "    }\n",
       "\n",
       "    .dataframe tbody tr th {\n",
       "        vertical-align: top;\n",
       "    }\n",
       "\n",
       "    .dataframe thead th {\n",
       "        text-align: right;\n",
       "    }\n",
       "</style>\n",
       "<table border=\"1\" class=\"dataframe\">\n",
       "  <thead>\n",
       "    <tr style=\"text-align: right;\">\n",
       "      <th></th>\n",
       "      <th>user_id</th>\n",
       "    </tr>\n",
       "  </thead>\n",
       "  <tbody>\n",
       "    <tr>\n",
       "      <th>0</th>\n",
       "      <td>7</td>\n",
       "    </tr>\n",
       "    <tr>\n",
       "      <th>1</th>\n",
       "      <td>8</td>\n",
       "    </tr>\n",
       "    <tr>\n",
       "      <th>2</th>\n",
       "      <td>9</td>\n",
       "    </tr>\n",
       "  </tbody>\n",
       "</table>\n",
       "</div>"
      ],
      "text/plain": [
       "   user_id\n",
       "0        7\n",
       "1        8\n",
       "2        9"
      ]
     },
     "execution_count": 68,
     "metadata": {},
     "output_type": "execute_result"
    }
   ],
   "source": [
    "test = pd.read_parquet('test.parquet.gzip')\n",
    "test.head(3)"
   ]
  },
  {
   "cell_type": "code",
   "execution_count": 69,
   "metadata": {
    "scrolled": true
   },
   "outputs": [],
   "source": [
    "testset = set(test.user_id)"
   ]
  },
  {
   "cell_type": "code",
   "execution_count": 83,
   "metadata": {},
   "outputs": [
    {
     "data": {
      "text/plain": [
       "item_id    0\n",
       "Name: 0, dtype: int32"
      ]
     },
     "execution_count": 83,
     "metadata": {},
     "output_type": "execute_result"
    }
   ],
   "source": [
    "candidates.loc[0]"
   ]
  },
  {
   "cell_type": "code",
   "execution_count": 85,
   "metadata": {},
   "outputs": [
    {
     "data": {
      "text/html": [
       "<div>\n",
       "<style scoped>\n",
       "    .dataframe tbody tr th:only-of-type {\n",
       "        vertical-align: middle;\n",
       "    }\n",
       "\n",
       "    .dataframe tbody tr th {\n",
       "        vertical-align: top;\n",
       "    }\n",
       "\n",
       "    .dataframe thead th {\n",
       "        text-align: right;\n",
       "    }\n",
       "</style>\n",
       "<table border=\"1\" class=\"dataframe\">\n",
       "  <thead>\n",
       "    <tr style=\"text-align: right;\">\n",
       "      <th></th>\n",
       "      <th>item_id</th>\n",
       "    </tr>\n",
       "  </thead>\n",
       "  <tbody>\n",
       "    <tr>\n",
       "      <th>0</th>\n",
       "      <td>0</td>\n",
       "    </tr>\n",
       "    <tr>\n",
       "      <th>1</th>\n",
       "      <td>2</td>\n",
       "    </tr>\n",
       "    <tr>\n",
       "      <th>2</th>\n",
       "      <td>5</td>\n",
       "    </tr>\n",
       "    <tr>\n",
       "      <th>3</th>\n",
       "      <td>6</td>\n",
       "    </tr>\n",
       "  </tbody>\n",
       "</table>\n",
       "</div>"
      ],
      "text/plain": [
       "   item_id\n",
       "0        0\n",
       "1        2\n",
       "2        5\n",
       "3        6"
      ]
     },
     "execution_count": 85,
     "metadata": {},
     "output_type": "execute_result"
    }
   ],
   "source": [
    "candidates.head(4)"
   ]
  },
  {
   "cell_type": "code",
   "execution_count": 95,
   "metadata": {},
   "outputs": [],
   "source": [
    "candidates_item_ids = candidates.iloc[NEIGHBORS.loc[user_df.item_id].values.flatten()].item_id.values"
   ]
  },
  {
   "cell_type": "code",
   "execution_count": 96,
   "metadata": {},
   "outputs": [
    {
     "data": {
      "text/plain": [
       "array([190412, 189861, 179615, ...,   8663, 133371, 139276], dtype=int32)"
      ]
     },
     "execution_count": 96,
     "metadata": {},
     "output_type": "execute_result"
    }
   ],
   "source": [
    "candidates_item_ids"
   ]
  },
  {
   "cell_type": "code",
   "execution_count": 104,
   "metadata": {},
   "outputs": [
    {
     "data": {
      "text/plain": [
       "array([190412, 189861, 179615, ...,   8663, 133371, 139276], dtype=int32)"
      ]
     },
     "execution_count": 104,
     "metadata": {},
     "output_type": "execute_result"
    }
   ],
   "source": [
    "candidates_item_ids"
   ]
  },
  {
   "cell_type": "code",
   "execution_count": 107,
   "metadata": {},
   "outputs": [
    {
     "data": {
      "text/html": [
       "<div>\n",
       "<style scoped>\n",
       "    .dataframe tbody tr th:only-of-type {\n",
       "        vertical-align: middle;\n",
       "    }\n",
       "\n",
       "    .dataframe tbody tr th {\n",
       "        vertical-align: top;\n",
       "    }\n",
       "\n",
       "    .dataframe thead th {\n",
       "        text-align: right;\n",
       "    }\n",
       "</style>\n",
       "<table border=\"1\" class=\"dataframe\">\n",
       "  <thead>\n",
       "    <tr style=\"text-align: right;\">\n",
       "      <th></th>\n",
       "      <th>mean_timespent</th>\n",
       "    </tr>\n",
       "    <tr>\n",
       "      <th>item_id</th>\n",
       "      <th></th>\n",
       "    </tr>\n",
       "  </thead>\n",
       "  <tbody>\n",
       "    <tr>\n",
       "      <th>221189</th>\n",
       "      <td>0.518135</td>\n",
       "    </tr>\n",
       "    <tr>\n",
       "      <th>81928</th>\n",
       "      <td>0.084142</td>\n",
       "    </tr>\n",
       "    <tr>\n",
       "      <th>16393</th>\n",
       "      <td>0.952381</td>\n",
       "    </tr>\n",
       "    <tr>\n",
       "      <th>131081</th>\n",
       "      <td>3.116319</td>\n",
       "    </tr>\n",
       "    <tr>\n",
       "      <th>81930</th>\n",
       "      <td>0.287879</td>\n",
       "    </tr>\n",
       "    <tr>\n",
       "      <th>...</th>\n",
       "      <td>...</td>\n",
       "    </tr>\n",
       "    <tr>\n",
       "      <th>16373</th>\n",
       "      <td>0.837209</td>\n",
       "    </tr>\n",
       "    <tr>\n",
       "      <th>32759</th>\n",
       "      <td>1.761628</td>\n",
       "    </tr>\n",
       "    <tr>\n",
       "      <th>40952</th>\n",
       "      <td>0.019868</td>\n",
       "    </tr>\n",
       "    <tr>\n",
       "      <th>196605</th>\n",
       "      <td>0.947368</td>\n",
       "    </tr>\n",
       "    <tr>\n",
       "      <th>65535</th>\n",
       "      <td>0.547862</td>\n",
       "    </tr>\n",
       "  </tbody>\n",
       "</table>\n",
       "<p>2471 rows × 1 columns</p>\n",
       "</div>"
      ],
      "text/plain": [
       "         mean_timespent\n",
       "item_id                \n",
       "221189         0.518135\n",
       "81928          0.084142\n",
       "16393          0.952381\n",
       "131081         3.116319\n",
       "81930          0.287879\n",
       "...                 ...\n",
       "16373          0.837209\n",
       "32759          1.761628\n",
       "40952          0.019868\n",
       "196605         0.947368\n",
       "65535          0.547862\n",
       "\n",
       "[2471 rows x 1 columns]"
      ]
     },
     "execution_count": 107,
     "metadata": {},
     "output_type": "execute_result"
    }
   ],
   "source": [
    "recs"
   ]
  },
  {
   "cell_type": "code",
   "execution_count": 111,
   "metadata": {},
   "outputs": [],
   "source": [
    "candidates_item_ids = set(candidates.iloc[NEIGHBORS.loc[user_df.item_id].values.flatten()].item_id.values)\n",
    "seen_item_ids = set(user_df.item_id.values)\n",
    "candidates_item_ids -= seen_item_ids"
   ]
  },
  {
   "cell_type": "code",
   "execution_count": 116,
   "metadata": {},
   "outputs": [],
   "source": [
    "recs = items['mean_timespent'].loc[candidates_item_ids]"
   ]
  },
  {
   "cell_type": "code",
   "execution_count": 117,
   "metadata": {
    "scrolled": true
   },
   "outputs": [
    {
     "data": {
      "text/plain": [
       "item_id\n",
       "221189    0.518135\n",
       "81928     0.084142\n",
       "16393     0.952381\n",
       "131081    3.116319\n",
       "81930     0.287879\n",
       "            ...   \n",
       "16373     0.837209\n",
       "32759     1.761628\n",
       "40952     0.019868\n",
       "196605    0.947368\n",
       "65535     0.547862\n",
       "Name: mean_timespent, Length: 2454, dtype: float64"
      ]
     },
     "execution_count": 117,
     "metadata": {},
     "output_type": "execute_result"
    }
   ],
   "source": [
    "recs"
   ]
  },
  {
   "cell_type": "code",
   "execution_count": 178,
   "metadata": {},
   "outputs": [],
   "source": [
    "user_id_size = df.groupby('user_id').size()"
   ]
  },
  {
   "cell_type": "code",
   "execution_count": 185,
   "metadata": {
    "scrolled": false
   },
   "outputs": [],
   "source": [
    "user_id_nonzero_size = df[df.timespent != 0].groupby('user_id').size()"
   ]
  },
  {
   "cell_type": "code",
   "execution_count": 179,
   "metadata": {},
   "outputs": [
    {
     "data": {
      "text/plain": [
       "144.41358731352162"
      ]
     },
     "execution_count": 179,
     "metadata": {},
     "output_type": "execute_result"
    }
   ],
   "source": [
    "user_id_size.mean()"
   ]
  },
  {
   "cell_type": "code",
   "execution_count": 183,
   "metadata": {},
   "outputs": [
    {
     "data": {
      "text/plain": [
       "count    1000183.000\n",
       "mean         144.414\n",
       "std          124.067\n",
       "min            6.000\n",
       "25%           53.000\n",
       "50%          104.000\n",
       "75%          198.000\n",
       "max         1018.000\n",
       "dtype: float64"
      ]
     },
     "execution_count": 183,
     "metadata": {},
     "output_type": "execute_result"
    }
   ],
   "source": [
    "user_id_size.describe().round(3)"
   ]
  },
  {
   "cell_type": "code",
   "execution_count": 187,
   "metadata": {},
   "outputs": [
    {
     "data": {
      "text/plain": [
       "0.16324749066247327"
      ]
     },
     "execution_count": 187,
     "metadata": {},
     "output_type": "execute_result"
    }
   ],
   "source": [
    "len(df[df.timespent != 0]) / len(df)"
   ]
  },
  {
   "cell_type": "code",
   "execution_count": 186,
   "metadata": {},
   "outputs": [
    {
     "data": {
      "text/plain": [
       "count    1000183.000\n",
       "mean          23.575\n",
       "std           22.668\n",
       "min            5.000\n",
       "25%            9.000\n",
       "50%           15.000\n",
       "75%           30.000\n",
       "max          220.000\n",
       "dtype: float64"
      ]
     },
     "execution_count": 186,
     "metadata": {},
     "output_type": "execute_result"
    }
   ],
   "source": [
    "user_id_nonzero_size.describe().round(3)"
   ]
  },
  {
   "cell_type": "code",
   "execution_count": 120,
   "metadata": {},
   "outputs": [
    {
     "data": {
      "text/plain": [
       "Int64Index([144302, 117235, 179708, 177232, 89254, 175236, 131376, 50439,\n",
       "            36149, 50389],\n",
       "           dtype='int64', name='item_id')"
      ]
     },
     "execution_count": 120,
     "metadata": {},
     "output_type": "execute_result"
    }
   ],
   "source": [
    "recs.sort_values().index[-10:]"
   ]
  },
  {
   "cell_type": "code",
   "execution_count": 189,
   "metadata": {},
   "outputs": [
    {
     "data": {
      "text/html": [
       "<div>\n",
       "<style scoped>\n",
       "    .dataframe tbody tr th:only-of-type {\n",
       "        vertical-align: middle;\n",
       "    }\n",
       "\n",
       "    .dataframe tbody tr th {\n",
       "        vertical-align: top;\n",
       "    }\n",
       "\n",
       "    .dataframe thead th {\n",
       "        text-align: right;\n",
       "    }\n",
       "</style>\n",
       "<table border=\"1\" class=\"dataframe\">\n",
       "  <thead>\n",
       "    <tr style=\"text-align: right;\">\n",
       "      <th></th>\n",
       "      <th>source_id</th>\n",
       "      <th>embeddings</th>\n",
       "      <th>mean_timespent</th>\n",
       "      <th>mean_reaction</th>\n",
       "      <th>amount</th>\n",
       "    </tr>\n",
       "    <tr>\n",
       "      <th>item_id</th>\n",
       "      <th></th>\n",
       "      <th></th>\n",
       "      <th></th>\n",
       "      <th></th>\n",
       "      <th></th>\n",
       "    </tr>\n",
       "  </thead>\n",
       "  <tbody>\n",
       "    <tr>\n",
       "      <th>0</th>\n",
       "      <td>7340</td>\n",
       "      <td>[0.10458118, 0.047880154, 0.030944156, -0.0351...</td>\n",
       "      <td>0.666667</td>\n",
       "      <td>0.133333</td>\n",
       "      <td>15</td>\n",
       "    </tr>\n",
       "    <tr>\n",
       "      <th>1</th>\n",
       "      <td>6284</td>\n",
       "      <td>[0.035625108, -0.039264094, -0.03310334, -0.04...</td>\n",
       "      <td>0.398168</td>\n",
       "      <td>0.002819</td>\n",
       "      <td>1419</td>\n",
       "    </tr>\n",
       "    <tr>\n",
       "      <th>2</th>\n",
       "      <td>12766</td>\n",
       "      <td>[0.08418761, 0.006732465, -0.0037112322, -0.02...</td>\n",
       "      <td>1.578616</td>\n",
       "      <td>0.081761</td>\n",
       "      <td>159</td>\n",
       "    </tr>\n",
       "    <tr>\n",
       "      <th>3</th>\n",
       "      <td>14734</td>\n",
       "      <td>[0.049901545, 0.039079394, -0.03890682, -0.053...</td>\n",
       "      <td>0.300000</td>\n",
       "      <td>0.000000</td>\n",
       "      <td>230</td>\n",
       "    </tr>\n",
       "    <tr>\n",
       "      <th>4</th>\n",
       "      <td>22557</td>\n",
       "      <td>[0.09303163, 0.023448057, 0.0029488814, -0.017...</td>\n",
       "      <td>0.214350</td>\n",
       "      <td>0.000897</td>\n",
       "      <td>1115</td>\n",
       "    </tr>\n",
       "    <tr>\n",
       "      <th>...</th>\n",
       "      <td>...</td>\n",
       "      <td>...</td>\n",
       "      <td>...</td>\n",
       "      <td>...</td>\n",
       "      <td>...</td>\n",
       "    </tr>\n",
       "    <tr>\n",
       "      <th>227601</th>\n",
       "      <td>19043</td>\n",
       "      <td>[0.06742832, -0.08209568, -0.04407321, 0.00838...</td>\n",
       "      <td>0.183784</td>\n",
       "      <td>0.010811</td>\n",
       "      <td>185</td>\n",
       "    </tr>\n",
       "    <tr>\n",
       "      <th>227602</th>\n",
       "      <td>9384</td>\n",
       "      <td>[0.07055114, -0.007334651, -0.0032477665, 0.00...</td>\n",
       "      <td>0.125000</td>\n",
       "      <td>0.010417</td>\n",
       "      <td>96</td>\n",
       "    </tr>\n",
       "    <tr>\n",
       "      <th>227603</th>\n",
       "      <td>24152</td>\n",
       "      <td>[0.13771634, 0.023559753, 0.012204557, -0.0361...</td>\n",
       "      <td>0.160000</td>\n",
       "      <td>0.080000</td>\n",
       "      <td>25</td>\n",
       "    </tr>\n",
       "    <tr>\n",
       "      <th>227604</th>\n",
       "      <td>20249</td>\n",
       "      <td>[0.04954276, -0.00674311, -0.040121585, -0.024...</td>\n",
       "      <td>0.379310</td>\n",
       "      <td>0.000000</td>\n",
       "      <td>29</td>\n",
       "    </tr>\n",
       "    <tr>\n",
       "      <th>227605</th>\n",
       "      <td>8163</td>\n",
       "      <td>[0.051858097, 0.033741865, -0.013357167, -0.04...</td>\n",
       "      <td>0.489699</td>\n",
       "      <td>0.031696</td>\n",
       "      <td>631</td>\n",
       "    </tr>\n",
       "  </tbody>\n",
       "</table>\n",
       "<p>227606 rows × 5 columns</p>\n",
       "</div>"
      ],
      "text/plain": [
       "         source_id                                         embeddings  \\\n",
       "item_id                                                                 \n",
       "0             7340  [0.10458118, 0.047880154, 0.030944156, -0.0351...   \n",
       "1             6284  [0.035625108, -0.039264094, -0.03310334, -0.04...   \n",
       "2            12766  [0.08418761, 0.006732465, -0.0037112322, -0.02...   \n",
       "3            14734  [0.049901545, 0.039079394, -0.03890682, -0.053...   \n",
       "4            22557  [0.09303163, 0.023448057, 0.0029488814, -0.017...   \n",
       "...            ...                                                ...   \n",
       "227601       19043  [0.06742832, -0.08209568, -0.04407321, 0.00838...   \n",
       "227602        9384  [0.07055114, -0.007334651, -0.0032477665, 0.00...   \n",
       "227603       24152  [0.13771634, 0.023559753, 0.012204557, -0.0361...   \n",
       "227604       20249  [0.04954276, -0.00674311, -0.040121585, -0.024...   \n",
       "227605        8163  [0.051858097, 0.033741865, -0.013357167, -0.04...   \n",
       "\n",
       "         mean_timespent  mean_reaction  amount  \n",
       "item_id                                         \n",
       "0              0.666667       0.133333      15  \n",
       "1              0.398168       0.002819    1419  \n",
       "2              1.578616       0.081761     159  \n",
       "3              0.300000       0.000000     230  \n",
       "4              0.214350       0.000897    1115  \n",
       "...                 ...            ...     ...  \n",
       "227601         0.183784       0.010811     185  \n",
       "227602         0.125000       0.010417      96  \n",
       "227603         0.160000       0.080000      25  \n",
       "227604         0.379310       0.000000      29  \n",
       "227605         0.489699       0.031696     631  \n",
       "\n",
       "[227606 rows x 5 columns]"
      ]
     },
     "execution_count": 189,
     "metadata": {},
     "output_type": "execute_result"
    }
   ],
   "source": [
    "items"
   ]
  },
  {
   "cell_type": "code",
   "execution_count": 222,
   "metadata": {},
   "outputs": [],
   "source": [
    "top_n = 20"
   ]
  },
  {
   "cell_type": "code",
   "execution_count": 230,
   "metadata": {},
   "outputs": [],
   "source": [
    "last_n = 20"
   ]
  },
  {
   "cell_type": "code",
   "execution_count": 200,
   "metadata": {},
   "outputs": [],
   "source": [
    "nearest_n = 10\n",
    "# 3 < 10 < 20"
   ]
  },
  {
   "cell_type": "code",
   "execution_count": 214,
   "metadata": {},
   "outputs": [],
   "source": [
    "AMOUNT_W = 5\n",
    "TIMESPENT_W = 10\n",
    "REACTION_W = 30\n",
    "\n",
    "items['weight'] =  items['amount'] * AMOUNT_W + items['mean_timespent'] * TIMESPENT_W + items['mean_reaction'] * REACTION_W"
   ]
  },
  {
   "cell_type": "code",
   "execution_count": 224,
   "metadata": {},
   "outputs": [],
   "source": [
    "drop_zero_timespent = True"
   ]
  },
  {
   "cell_type": "code",
   "execution_count": 225,
   "metadata": {},
   "outputs": [],
   "source": [
    "drop_dislike = False"
   ]
  },
  {
   "cell_type": "code",
   "execution_count": 227,
   "metadata": {},
   "outputs": [
    {
     "name": "stderr",
     "output_type": "stream",
     "text": [
      "100%|██████████| 1000183/1000183 [03:28<00:00, 4792.93it/s]\n"
     ]
    }
   ],
   "source": [
    "predictions = []\n",
    "for user_id, user_df in tqdm(df[['user_id', 'item_id', 'timespent']].groupby('user_id'), total=len(df.user_id.unique())):\n",
    "    if user_id in testset:\n",
    "        if drop_zero_timespent:\n",
    "            user_df = user_df[user_df.timespent != 0]\n",
    "        if drop_dislike:\n",
    "            user_df = user_df[user_df.reaction != -1]\n",
    "        \n",
    "        candidates_item_ids = set(candidates.iloc[NEIGHBORS.loc[user_df.item_id.values[-last_n:]].values[:, :nearest_n].flatten()].item_id.values)\n",
    "        seen_item_ids = set(user_df.item_id.values)\n",
    "        candidates_item_ids -= seen_item_ids\n",
    "        \n",
    "        recs = items['mean_timespent'].loc[candidates_item_ids]\n",
    "        \n",
    "        pred = recs.sort_values().index[-top_n:]\n",
    "        predictions.append((user_id, pred))"
   ]
  },
  {
   "cell_type": "code",
   "execution_count": 228,
   "metadata": {},
   "outputs": [
    {
     "data": {
      "text/html": [
       "<div>\n",
       "<style scoped>\n",
       "    .dataframe tbody tr th:only-of-type {\n",
       "        vertical-align: middle;\n",
       "    }\n",
       "\n",
       "    .dataframe tbody tr th {\n",
       "        vertical-align: top;\n",
       "    }\n",
       "\n",
       "    .dataframe thead th {\n",
       "        text-align: right;\n",
       "    }\n",
       "</style>\n",
       "<table border=\"1\" class=\"dataframe\">\n",
       "  <thead>\n",
       "    <tr style=\"text-align: right;\">\n",
       "      <th></th>\n",
       "      <th>user_id</th>\n",
       "      <th>predictions</th>\n",
       "    </tr>\n",
       "  </thead>\n",
       "  <tbody>\n",
       "    <tr>\n",
       "      <th>0</th>\n",
       "      <td>7</td>\n",
       "      <td>[9378, 113971, 6163, 57410, 9577, 215840, 4570...</td>\n",
       "    </tr>\n",
       "    <tr>\n",
       "      <th>1</th>\n",
       "      <td>8</td>\n",
       "      <td>[29877, 21253, 98378, 142183, 61323, 209588, 3...</td>\n",
       "    </tr>\n",
       "    <tr>\n",
       "      <th>2</th>\n",
       "      <td>9</td>\n",
       "      <td>[57065, 9334, 115786, 40158, 99613, 215720, 21...</td>\n",
       "    </tr>\n",
       "  </tbody>\n",
       "</table>\n",
       "</div>"
      ],
      "text/plain": [
       "   user_id                                        predictions\n",
       "0        7  [9378, 113971, 6163, 57410, 9577, 215840, 4570...\n",
       "1        8  [29877, 21253, 98378, 142183, 61323, 209588, 3...\n",
       "2        9  [57065, 9334, 115786, 40158, 99613, 215720, 21..."
      ]
     },
     "execution_count": 228,
     "metadata": {},
     "output_type": "execute_result"
    }
   ],
   "source": [
    "map_test = dict(predictions)\n",
    "\n",
    "test_predictions = []\n",
    "for user_id in test.user_id:\n",
    "    test_predictions.append(map_test[user_id].values)\n",
    "test['predictions'] = test_predictions\n",
    "\n",
    "test.head(3)"
   ]
  },
  {
   "cell_type": "code",
   "execution_count": 198,
   "metadata": {},
   "outputs": [],
   "source": [
    "test.to_parquet('sample_submission_knn_last_20_top_10_account_nonzero_time_weighted.parquet.gzip', compression='gzip', engine='pyarrow')"
   ]
  },
  {
   "cell_type": "code",
   "execution_count": 229,
   "metadata": {},
   "outputs": [],
   "source": [
    "test.to_parquet('sample_submission.parquet.gzip', compression='gzip', engine='pyarrow')"
   ]
  },
  {
   "cell_type": "code",
   "execution_count": null,
   "metadata": {},
   "outputs": [],
   "source": []
  },
  {
   "cell_type": "code",
   "execution_count": null,
   "metadata": {},
   "outputs": [],
   "source": []
  },
  {
   "cell_type": "code",
   "execution_count": null,
   "metadata": {},
   "outputs": [],
   "source": []
  },
  {
   "cell_type": "code",
   "execution_count": null,
   "metadata": {},
   "outputs": [],
   "source": []
  },
  {
   "cell_type": "code",
   "execution_count": null,
   "metadata": {},
   "outputs": [],
   "source": []
  },
  {
   "cell_type": "code",
   "execution_count": null,
   "metadata": {},
   "outputs": [],
   "source": []
  },
  {
   "cell_type": "code",
   "execution_count": null,
   "metadata": {},
   "outputs": [],
   "source": []
  },
  {
   "cell_type": "markdown",
   "metadata": {},
   "source": [
    "# =============================================="
   ]
  },
  {
   "cell_type": "code",
   "execution_count": null,
   "metadata": {},
   "outputs": [],
   "source": []
  },
  {
   "cell_type": "code",
   "execution_count": null,
   "metadata": {},
   "outputs": [],
   "source": []
  },
  {
   "cell_type": "code",
   "execution_count": null,
   "metadata": {},
   "outputs": [],
   "source": []
  },
  {
   "cell_type": "code",
   "execution_count": null,
   "metadata": {},
   "outputs": [],
   "source": []
  },
  {
   "cell_type": "code",
   "execution_count": null,
   "metadata": {},
   "outputs": [],
   "source": []
  },
  {
   "cell_type": "code",
   "execution_count": null,
   "metadata": {},
   "outputs": [],
   "source": []
  },
  {
   "cell_type": "code",
   "execution_count": null,
   "metadata": {},
   "outputs": [],
   "source": []
  },
  {
   "cell_type": "code",
   "execution_count": null,
   "metadata": {},
   "outputs": [],
   "source": []
  },
  {
   "cell_type": "code",
   "execution_count": null,
   "metadata": {},
   "outputs": [],
   "source": []
  },
  {
   "cell_type": "code",
   "execution_count": null,
   "metadata": {},
   "outputs": [],
   "source": []
  },
  {
   "cell_type": "code",
   "execution_count": null,
   "metadata": {},
   "outputs": [],
   "source": []
  },
  {
   "cell_type": "code",
   "execution_count": null,
   "metadata": {},
   "outputs": [],
   "source": []
  },
  {
   "cell_type": "markdown",
   "metadata": {},
   "source": [
    "# Pipeline"
   ]
  },
  {
   "cell_type": "code",
   "execution_count": 20,
   "metadata": {},
   "outputs": [],
   "source": [
    "VAL_SIZE = 0.2"
   ]
  },
  {
   "cell_type": "code",
   "execution_count": 15,
   "metadata": {},
   "outputs": [],
   "source": [
    "VAL_N = int(len(df) * VAL_SIZE)"
   ]
  },
  {
   "cell_type": "code",
   "execution_count": 16,
   "metadata": {},
   "outputs": [],
   "source": [
    "val = df[-VAL_N:].copy()"
   ]
  },
  {
   "cell_type": "code",
   "execution_count": 17,
   "metadata": {},
   "outputs": [],
   "source": [
    "train = df[:-VAL_N]"
   ]
  },
  {
   "cell_type": "code",
   "execution_count": 14,
   "metadata": {},
   "outputs": [],
   "source": [
    "user_id = 707536"
   ]
  },
  {
   "cell_type": "code",
   "execution_count": 15,
   "metadata": {},
   "outputs": [],
   "source": [
    "def get_embeddings(items_id):\n",
    "    X = []\n",
    "    for emb in items.loc[items_id].embeddings:\n",
    "        v = np.array(emb)\n",
    "        X.append(v)\n",
    "    X = np.array(X)\n",
    "    return X"
   ]
  },
  {
   "cell_type": "code",
   "execution_count": 16,
   "metadata": {},
   "outputs": [],
   "source": [
    "from sklearn.cluster import DBSCAN\n",
    "from sklearn.neighbors import NearestNeighbors"
   ]
  },
  {
   "cell_type": "code",
   "execution_count": 18,
   "metadata": {},
   "outputs": [],
   "source": [
    "n_neighbors = 100"
   ]
  },
  {
   "cell_type": "code",
   "execution_count": 19,
   "metadata": {},
   "outputs": [],
   "source": [
    "knn = NearestNeighbors(metric='cosine', n_neighbors=n_neighbors)"
   ]
  },
  {
   "cell_type": "code",
   "execution_count": 22,
   "metadata": {},
   "outputs": [],
   "source": [
    "fresh_embeddings = get_embeddings(candidates.item_id.values)"
   ]
  },
  {
   "cell_type": "code",
   "execution_count": 23,
   "metadata": {
    "scrolled": true
   },
   "outputs": [
    {
     "data": {
      "text/plain": [
       "(100000, 312)"
      ]
     },
     "execution_count": 23,
     "metadata": {},
     "output_type": "execute_result"
    }
   ],
   "source": [
    "fresh_embeddings.shape"
   ]
  },
  {
   "cell_type": "code",
   "execution_count": 33,
   "metadata": {},
   "outputs": [
    {
     "data": {
      "text/plain": [
       "NearestNeighbors(metric='cosine', n_neighbors=100)"
      ]
     },
     "execution_count": 33,
     "metadata": {},
     "output_type": "execute_result"
    }
   ],
   "source": [
    "knn.fit(fresh_embeddings)"
   ]
  },
  {
   "cell_type": "code",
   "execution_count": 26,
   "metadata": {},
   "outputs": [],
   "source": [
    "all_embeddings = get_embeddings(items.index)"
   ]
  },
  {
   "cell_type": "markdown",
   "metadata": {},
   "source": [
    "# predict indecies in fresh, not item_id!!!!"
   ]
  },
  {
   "cell_type": "code",
   "execution_count": 39,
   "metadata": {},
   "outputs": [
    {
     "data": {
      "text/html": [
       "<div>\n",
       "<style scoped>\n",
       "    .dataframe tbody tr th:only-of-type {\n",
       "        vertical-align: middle;\n",
       "    }\n",
       "\n",
       "    .dataframe tbody tr th {\n",
       "        vertical-align: top;\n",
       "    }\n",
       "\n",
       "    .dataframe thead th {\n",
       "        text-align: right;\n",
       "    }\n",
       "</style>\n",
       "<table border=\"1\" class=\"dataframe\">\n",
       "  <thead>\n",
       "    <tr style=\"text-align: right;\">\n",
       "      <th></th>\n",
       "      <th>item_id</th>\n",
       "    </tr>\n",
       "  </thead>\n",
       "  <tbody>\n",
       "    <tr>\n",
       "      <th>25529</th>\n",
       "      <td>58267</td>\n",
       "    </tr>\n",
       "    <tr>\n",
       "      <th>58754</th>\n",
       "      <td>134359</td>\n",
       "    </tr>\n",
       "    <tr>\n",
       "      <th>55917</th>\n",
       "      <td>127779</td>\n",
       "    </tr>\n",
       "  </tbody>\n",
       "</table>\n",
       "</div>"
      ],
      "text/plain": [
       "       item_id\n",
       "25529    58267\n",
       "58754   134359\n",
       "55917   127779"
      ]
     },
     "execution_count": 39,
     "metadata": {},
     "output_type": "execute_result"
    }
   ],
   "source": [
    "candidates.loc[neighbors.flatten()].head(3)"
   ]
  },
  {
   "cell_type": "markdown",
   "metadata": {},
   "source": [
    "# Now predict on all history"
   ]
  },
  {
   "cell_type": "code",
   "execution_count": 40,
   "metadata": {},
   "outputs": [],
   "source": [
    "all_embeddings = get_embeddings(items.index)"
   ]
  },
  {
   "cell_type": "code",
   "execution_count": 41,
   "metadata": {},
   "outputs": [
    {
     "data": {
      "text/plain": [
       "(227606, 312)"
      ]
     },
     "execution_count": 41,
     "metadata": {},
     "output_type": "execute_result"
    }
   ],
   "source": [
    "all_embeddings.shape"
   ]
  },
  {
   "cell_type": "code",
   "execution_count": 43,
   "metadata": {},
   "outputs": [
    {
     "name": "stdout",
     "output_type": "stream",
     "text": [
      "CPU times: user 12min 50s, sys: 4min 20s, total: 17min 10s\n",
      "Wall time: 6min 8s\n"
     ]
    }
   ],
   "source": [
    "# %%time\n",
    "\n",
    "# dist, neighbors = knn.kneighbors(all_embeddings)"
   ]
  },
  {
   "cell_type": "code",
   "execution_count": 44,
   "metadata": {},
   "outputs": [
    {
     "data": {
      "text/plain": [
       "(227606, 100)"
      ]
     },
     "execution_count": 44,
     "metadata": {},
     "output_type": "execute_result"
    }
   ],
   "source": [
    "neighbors.shape"
   ]
  },
  {
   "cell_type": "code",
   "execution_count": 333,
   "metadata": {},
   "outputs": [],
   "source": [
    "user_id = np.random.choice(df.user_id)"
   ]
  },
  {
   "cell_type": "code",
   "execution_count": 334,
   "metadata": {},
   "outputs": [],
   "source": [
    "user_df = df[df.user_id == user_id]"
   ]
  },
  {
   "cell_type": "code",
   "execution_count": 335,
   "metadata": {},
   "outputs": [
    {
     "data": {
      "text/plain": [
       "592"
      ]
     },
     "execution_count": 335,
     "metadata": {},
     "output_type": "execute_result"
    }
   ],
   "source": [
    "len(user_df)"
   ]
  },
  {
   "cell_type": "code",
   "execution_count": 336,
   "metadata": {},
   "outputs": [
    {
     "data": {
      "text/plain": [
       "0.3277027027027027"
      ]
     },
     "execution_count": 336,
     "metadata": {},
     "output_type": "execute_result"
    }
   ],
   "source": [
    "user_df.timespent.mean()"
   ]
  },
  {
   "cell_type": "code",
   "execution_count": 337,
   "metadata": {},
   "outputs": [],
   "source": [
    "user_embs = get_embeddings(user_df.item_id.values)"
   ]
  },
  {
   "cell_type": "code",
   "execution_count": 338,
   "metadata": {},
   "outputs": [
    {
     "data": {
      "text/plain": [
       "(592, 312)"
      ]
     },
     "execution_count": 338,
     "metadata": {},
     "output_type": "execute_result"
    }
   ],
   "source": [
    "user_embs.shape"
   ]
  },
  {
   "cell_type": "code",
   "execution_count": 353,
   "metadata": {},
   "outputs": [],
   "source": [
    "dist, neighbors = knn.kneighbors(user_embs, n_neighbors=1000)"
   ]
  },
  {
   "cell_type": "code",
   "execution_count": 354,
   "metadata": {},
   "outputs": [],
   "source": [
    "recs = candidates.loc[neighbors.flatten()].item_id.values"
   ]
  },
  {
   "cell_type": "code",
   "execution_count": 355,
   "metadata": {},
   "outputs": [],
   "source": [
    "# recs = np.random.choice(candidates.item_id.values, len(recs))"
   ]
  },
  {
   "cell_type": "code",
   "execution_count": 356,
   "metadata": {},
   "outputs": [
    {
     "data": {
      "text/plain": [
       "64799"
      ]
     },
     "execution_count": 356,
     "metadata": {},
     "output_type": "execute_result"
    }
   ],
   "source": [
    "len(set(recs))"
   ]
  },
  {
   "cell_type": "code",
   "execution_count": 357,
   "metadata": {},
   "outputs": [
    {
     "data": {
      "text/plain": [
       "592"
      ]
     },
     "execution_count": 357,
     "metadata": {},
     "output_type": "execute_result"
    }
   ],
   "source": [
    "len(user_df.item_id.values)"
   ]
  },
  {
   "cell_type": "code",
   "execution_count": 360,
   "metadata": {},
   "outputs": [
    {
     "data": {
      "text/plain": [
       "185"
      ]
     },
     "execution_count": 360,
     "metadata": {},
     "output_type": "execute_result"
    }
   ],
   "source": [
    "len(set(recs) & set(user_df.item_id.values))"
   ]
  },
  {
   "cell_type": "code",
   "execution_count": 359,
   "metadata": {},
   "outputs": [
    {
     "data": {
      "text/plain": [
       "0.3125"
      ]
     },
     "execution_count": 359,
     "metadata": {},
     "output_type": "execute_result"
    }
   ],
   "source": [
    "len(set(recs) & set(user_df.item_id.values)) / len(user_df.item_id.values)"
   ]
  },
  {
   "cell_type": "code",
   "execution_count": 278,
   "metadata": {},
   "outputs": [],
   "source": [
    "from lightgbm import LGBMRanker, LGBMRegressor\n",
    "from xgboost import XGBRanker"
   ]
  },
  {
   "cell_type": "code",
   "execution_count": 279,
   "metadata": {},
   "outputs": [],
   "source": [
    "regressor = LGBMRegressor()"
   ]
  },
  {
   "cell_type": "code",
   "execution_count": 276,
   "metadata": {},
   "outputs": [],
   "source": [
    "ranker = XGBRanker()"
   ]
  },
  {
   "cell_type": "code",
   "execution_count": 392,
   "metadata": {},
   "outputs": [],
   "source": [
    "ranker = LGBMRanker(silent=False)"
   ]
  },
  {
   "cell_type": "code",
   "execution_count": 414,
   "metadata": {},
   "outputs": [],
   "source": [
    "group_n = 30\n",
    "group = [group_n for _ in range(len(user_df) // group_n)] + [len(user_df)%group_n]"
   ]
  },
  {
   "cell_type": "code",
   "execution_count": 415,
   "metadata": {},
   "outputs": [
    {
     "name": "stderr",
     "output_type": "stream",
     "text": [
      "/Users/timur/.pyenv/versions/3.7.10/lib/python3.7/site-packages/lightgbm/sklearn.py:598: UserWarning: 'silent' argument is deprecated and will be removed in a future release of LightGBM. Pass 'verbose' parameter via keyword arguments instead.\n",
      "  _log_warning(\"'silent' argument is deprecated and will be removed in a future release of LightGBM. \"\n"
     ]
    },
    {
     "name": "stdout",
     "output_type": "stream",
     "text": [
      "[LightGBM] [Warning] Auto-choosing col-wise multi-threading, the overhead of testing was 0.002383 seconds.\n",
      "You can set `force_col_wise=true` to remove the overhead.\n",
      "[LightGBM] [Info] Total Bins 61711\n",
      "[LightGBM] [Info] Number of data points in the train set: 592, number of used features: 312\n",
      "[LightGBM] [Warning] No further splits with positive gain, best gain: -inf\n",
      "[LightGBM] [Warning] No further splits with positive gain, best gain: -inf\n",
      "[LightGBM] [Warning] No further splits with positive gain, best gain: -inf\n",
      "[LightGBM] [Warning] No further splits with positive gain, best gain: -inf\n",
      "[LightGBM] [Warning] No further splits with positive gain, best gain: -inf\n",
      "[LightGBM] [Warning] No further splits with positive gain, best gain: -inf\n",
      "[LightGBM] [Warning] No further splits with positive gain, best gain: -inf\n",
      "[LightGBM] [Warning] No further splits with positive gain, best gain: -inf\n",
      "[LightGBM] [Warning] No further splits with positive gain, best gain: -inf\n",
      "[LightGBM] [Warning] No further splits with positive gain, best gain: -inf\n",
      "[LightGBM] [Warning] No further splits with positive gain, best gain: -inf\n",
      "[LightGBM] [Warning] No further splits with positive gain, best gain: -inf\n",
      "[LightGBM] [Warning] No further splits with positive gain, best gain: -inf\n",
      "[LightGBM] [Warning] No further splits with positive gain, best gain: -inf\n",
      "[LightGBM] [Warning] No further splits with positive gain, best gain: -inf\n",
      "[LightGBM] [Warning] No further splits with positive gain, best gain: -inf\n",
      "[LightGBM] [Warning] No further splits with positive gain, best gain: -inf\n",
      "[LightGBM] [Warning] No further splits with positive gain, best gain: -inf\n",
      "[LightGBM] [Warning] No further splits with positive gain, best gain: -inf\n",
      "[LightGBM] [Warning] No further splits with positive gain, best gain: -inf\n",
      "[LightGBM] [Warning] No further splits with positive gain, best gain: -inf\n",
      "[LightGBM] [Warning] No further splits with positive gain, best gain: -inf\n",
      "[LightGBM] [Warning] No further splits with positive gain, best gain: -inf\n",
      "[LightGBM] [Warning] No further splits with positive gain, best gain: -inf\n",
      "[LightGBM] [Warning] No further splits with positive gain, best gain: -inf\n",
      "[LightGBM] [Warning] No further splits with positive gain, best gain: -inf\n",
      "[LightGBM] [Warning] No further splits with positive gain, best gain: -inf\n",
      "[LightGBM] [Warning] No further splits with positive gain, best gain: -inf\n",
      "[LightGBM] [Warning] No further splits with positive gain, best gain: -inf\n",
      "[LightGBM] [Warning] No further splits with positive gain, best gain: -inf\n",
      "[LightGBM] [Warning] No further splits with positive gain, best gain: -inf\n",
      "[LightGBM] [Warning] No further splits with positive gain, best gain: -inf\n",
      "[LightGBM] [Warning] No further splits with positive gain, best gain: -inf\n",
      "[LightGBM] [Warning] No further splits with positive gain, best gain: -inf\n",
      "[LightGBM] [Warning] No further splits with positive gain, best gain: -inf\n",
      "[LightGBM] [Warning] No further splits with positive gain, best gain: -inf\n",
      "[LightGBM] [Warning] No further splits with positive gain, best gain: -inf\n",
      "[LightGBM] [Warning] No further splits with positive gain, best gain: -inf\n",
      "[LightGBM] [Warning] No further splits with positive gain, best gain: -inf\n",
      "[LightGBM] [Warning] No further splits with positive gain, best gain: -inf\n",
      "[LightGBM] [Warning] No further splits with positive gain, best gain: -inf\n",
      "[LightGBM] [Warning] No further splits with positive gain, best gain: -inf\n",
      "[LightGBM] [Warning] No further splits with positive gain, best gain: -inf\n",
      "[LightGBM] [Warning] No further splits with positive gain, best gain: -inf\n",
      "[LightGBM] [Warning] No further splits with positive gain, best gain: -inf\n",
      "[LightGBM] [Warning] No further splits with positive gain, best gain: -inf\n",
      "[LightGBM] [Warning] No further splits with positive gain, best gain: -inf\n",
      "[LightGBM] [Warning] No further splits with positive gain, best gain: -inf\n",
      "[LightGBM] [Warning] No further splits with positive gain, best gain: -inf\n",
      "[LightGBM] [Warning] No further splits with positive gain, best gain: -inf\n",
      "[LightGBM] [Warning] No further splits with positive gain, best gain: -inf\n",
      "[LightGBM] [Warning] No further splits with positive gain, best gain: -inf\n",
      "[LightGBM] [Warning] No further splits with positive gain, best gain: -inf\n",
      "[LightGBM] [Warning] No further splits with positive gain, best gain: -inf\n",
      "[LightGBM] [Warning] No further splits with positive gain, best gain: -inf\n",
      "[LightGBM] [Warning] No further splits with positive gain, best gain: -inf\n",
      "[LightGBM] [Warning] No further splits with positive gain, best gain: -inf\n",
      "[LightGBM] [Warning] No further splits with positive gain, best gain: -inf\n",
      "[LightGBM] [Warning] No further splits with positive gain, best gain: -inf\n",
      "[LightGBM] [Warning] No further splits with positive gain, best gain: -inf\n",
      "[LightGBM] [Warning] No further splits with positive gain, best gain: -inf\n",
      "[LightGBM] [Warning] No further splits with positive gain, best gain: -inf\n",
      "[LightGBM] [Warning] No further splits with positive gain, best gain: -inf\n",
      "[LightGBM] [Warning] No further splits with positive gain, best gain: -inf\n",
      "[LightGBM] [Warning] No further splits with positive gain, best gain: -inf\n",
      "[LightGBM] [Warning] No further splits with positive gain, best gain: -inf\n",
      "[LightGBM] [Warning] No further splits with positive gain, best gain: -inf\n",
      "[LightGBM] [Warning] No further splits with positive gain, best gain: -inf\n",
      "[LightGBM] [Warning] No further splits with positive gain, best gain: -inf\n",
      "[LightGBM] [Warning] No further splits with positive gain, best gain: -inf\n",
      "[LightGBM] [Warning] No further splits with positive gain, best gain: -inf\n",
      "[LightGBM] [Warning] No further splits with positive gain, best gain: -inf\n",
      "[LightGBM] [Warning] No further splits with positive gain, best gain: -inf\n",
      "[LightGBM] [Warning] No further splits with positive gain, best gain: -inf\n",
      "[LightGBM] [Warning] No further splits with positive gain, best gain: -inf\n",
      "[LightGBM] [Warning] No further splits with positive gain, best gain: -inf\n",
      "[LightGBM] [Warning] No further splits with positive gain, best gain: -inf\n",
      "[LightGBM] [Warning] No further splits with positive gain, best gain: -inf\n",
      "[LightGBM] [Warning] No further splits with positive gain, best gain: -inf\n",
      "[LightGBM] [Warning] No further splits with positive gain, best gain: -inf\n",
      "[LightGBM] [Warning] No further splits with positive gain, best gain: -inf\n",
      "[LightGBM] [Warning] No further splits with positive gain, best gain: -inf\n",
      "[LightGBM] [Warning] No further splits with positive gain, best gain: -inf\n",
      "[LightGBM] [Warning] No further splits with positive gain, best gain: -inf\n",
      "[LightGBM] [Warning] No further splits with positive gain, best gain: -inf\n",
      "[LightGBM] [Warning] No further splits with positive gain, best gain: -inf\n",
      "[LightGBM] [Warning] No further splits with positive gain, best gain: -inf\n",
      "[LightGBM] [Warning] No further splits with positive gain, best gain: -inf\n",
      "[LightGBM] [Warning] No further splits with positive gain, best gain: -inf\n",
      "[LightGBM] [Warning] No further splits with positive gain, best gain: -inf\n",
      "[LightGBM] [Warning] No further splits with positive gain, best gain: -inf\n",
      "[LightGBM] [Warning] No further splits with positive gain, best gain: -inf\n",
      "[LightGBM] [Warning] No further splits with positive gain, best gain: -inf\n",
      "[LightGBM] [Warning] No further splits with positive gain, best gain: -inf\n",
      "[LightGBM] [Warning] No further splits with positive gain, best gain: -inf\n"
     ]
    },
    {
     "data": {
      "text/plain": [
       "LGBMRanker(silent=False)"
      ]
     },
     "execution_count": 415,
     "metadata": {},
     "output_type": "execute_result"
    }
   ],
   "source": [
    "ranker.fit(user_embs, user_df.timespent, group=group)"
   ]
  },
  {
   "cell_type": "code",
   "execution_count": 416,
   "metadata": {
    "scrolled": true
   },
   "outputs": [],
   "source": [
    "pred = ranker.predict(user_embs)"
   ]
  },
  {
   "cell_type": "code",
   "execution_count": 417,
   "metadata": {},
   "outputs": [
    {
     "data": {
      "text/plain": [
       "(592,)"
      ]
     },
     "execution_count": 417,
     "metadata": {},
     "output_type": "execute_result"
    }
   ],
   "source": [
    "pred.shape"
   ]
  },
  {
   "cell_type": "code",
   "execution_count": 418,
   "metadata": {},
   "outputs": [
    {
     "data": {
      "text/plain": [
       "(592, 4)"
      ]
     },
     "execution_count": 418,
     "metadata": {},
     "output_type": "execute_result"
    }
   ],
   "source": [
    "user_df.shape"
   ]
  },
  {
   "cell_type": "code",
   "execution_count": 423,
   "metadata": {},
   "outputs": [
    {
     "data": {
      "text/plain": [
       "[-9.18338826587186,\n",
       " -9.16716032257506,\n",
       " -8.997360510543409,\n",
       " -8.90529202482047,\n",
       " -8.80591539553615,\n",
       " -8.673408618002442,\n",
       " -8.654167586853792,\n",
       " -8.63299198096862,\n",
       " -8.592220843783986,\n",
       " -8.533238692907695,\n",
       " -8.460059935904695,\n",
       " -8.433673419380462,\n",
       " -8.367221043164465,\n",
       " -8.32693165214435,\n",
       " -8.320741169116793,\n",
       " -8.304365745461256,\n",
       " -8.30112539158349,\n",
       " -8.286103417295344,\n",
       " -8.275394635629349,\n",
       " -8.267864179371584,\n",
       " -8.258271203107725,\n",
       " -8.208658037759395,\n",
       " -8.171377876215386,\n",
       " -8.158136343076466,\n",
       " -8.111469057110464,\n",
       " -8.085309121437975,\n",
       " -8.078384543185358,\n",
       " -8.069617458044089,\n",
       " -7.974209980682069,\n",
       " -7.964499549220641,\n",
       " -7.934997607128736,\n",
       " -7.913068731755915,\n",
       " -7.912947768241971,\n",
       " -7.906001420133941,\n",
       " -7.896460655277106,\n",
       " -7.881983764588462,\n",
       " -7.848102328849781,\n",
       " -7.8466668474177785,\n",
       " -7.8464830615765635,\n",
       " -7.823569633794056,\n",
       " -7.822765228683978,\n",
       " -7.816367164305387,\n",
       " -7.762757846700294,\n",
       " -7.758760849883678,\n",
       " -7.7460488371912355,\n",
       " -7.744260682410484,\n",
       " -7.723186514250608,\n",
       " -7.7217399866584655,\n",
       " -7.719698556059903,\n",
       " -7.71516057022429,\n",
       " -7.712977350542857,\n",
       " -7.702990427651532,\n",
       " -7.686703927090246,\n",
       " -7.686666005772014,\n",
       " -7.6774684180467885,\n",
       " -7.640495455754253,\n",
       " -7.629793174245465,\n",
       " -7.617190571087756,\n",
       " -7.616300366076143,\n",
       " -7.6117439463507255,\n",
       " -7.601037454707547,\n",
       " -7.59529934419754,\n",
       " -7.576154500597703,\n",
       " -7.571400797015943,\n",
       " -7.566099164888368,\n",
       " -7.559016305247301,\n",
       " -7.55743114512426,\n",
       " -7.536279526780658,\n",
       " -7.535476886725579,\n",
       " -7.516894081867991,\n",
       " -7.512118525378455,\n",
       " -7.511427172902599,\n",
       " -7.476312627471915,\n",
       " -7.462031138357509,\n",
       " -7.443216529929105,\n",
       " -7.440339445778439,\n",
       " -7.433617721961679,\n",
       " -7.4317577223618585,\n",
       " -7.430845114126904,\n",
       " -7.4303603869947965,\n",
       " -7.421454831774677,\n",
       " -7.420293246339065,\n",
       " -7.3954887195988555,\n",
       " -7.382113510463659,\n",
       " -7.376842555333114,\n",
       " -7.37535355418061,\n",
       " -7.373807868387038,\n",
       " -7.363437277287215,\n",
       " -7.3554041914200825,\n",
       " -7.349413452414161,\n",
       " -7.341791699170106,\n",
       " -7.337813383746621,\n",
       " -7.335753431288002,\n",
       " -7.333299347250526,\n",
       " -7.326143073323803,\n",
       " -7.3190882443607945,\n",
       " -7.31028184372823,\n",
       " -7.307987820782001,\n",
       " -7.282627543788601,\n",
       " -7.280112812350821,\n",
       " -7.277921668861812,\n",
       " -7.27627672084633,\n",
       " -7.273770875987723,\n",
       " -7.25667218868876,\n",
       " -7.253964516431968,\n",
       " -7.251635832472378,\n",
       " -7.226229006528251,\n",
       " -7.221123071695092,\n",
       " -7.216665850852709,\n",
       " -7.2164621839078,\n",
       " -7.212439945508888,\n",
       " -7.210363225535513,\n",
       " -7.203817959073527,\n",
       " -7.1996087366347785,\n",
       " -7.1985576113830705,\n",
       " -7.196985849481476,\n",
       " -7.196712948816324,\n",
       " -7.19606116274851,\n",
       " -7.191834965767591,\n",
       " -7.187560954368722,\n",
       " -7.186322643290939,\n",
       " -7.181715302240303,\n",
       " -7.170294817727085,\n",
       " -7.169312132773971,\n",
       " -7.166812969209352,\n",
       " -7.16404347369552,\n",
       " -7.163841062333863,\n",
       " -7.161468477576913,\n",
       " -7.1550965433853335,\n",
       " -7.148014981871743,\n",
       " -7.129975074590459,\n",
       " -7.126435592435094,\n",
       " -7.1164145531985765,\n",
       " -7.097283322310387,\n",
       " -7.093270375081724,\n",
       " -7.085108233822504,\n",
       " -7.078490460352436,\n",
       " -7.072389049082082,\n",
       " -7.071663070926184,\n",
       " -7.067709904045176,\n",
       " -7.063773509363403,\n",
       " -7.040706321677042,\n",
       " -7.035595252954985,\n",
       " -7.035375535106821,\n",
       " -7.0318524091576995,\n",
       " -7.030997130124324,\n",
       " -7.024295527434368,\n",
       " -7.017926473382829,\n",
       " -7.017676916513552,\n",
       " -7.01398194846548,\n",
       " -7.008748744296557,\n",
       " -7.0075423681741,\n",
       " -7.003526404104213,\n",
       " -7.001280226004199,\n",
       " -6.998505847006817,\n",
       " -6.990950207606002,\n",
       " -6.988364982456633,\n",
       " -6.97866598165927,\n",
       " -6.978354169236897,\n",
       " -6.9737701579360944,\n",
       " -6.9690111520369395,\n",
       " -6.965490137024872,\n",
       " -6.964613940622212,\n",
       " -6.958225130886184,\n",
       " -6.953183071946641,\n",
       " -6.948163667704977,\n",
       " -6.940222699985406,\n",
       " -6.939069107438727,\n",
       " -6.936517338124112,\n",
       " -6.933350741968239,\n",
       " -6.929600378291068,\n",
       " -6.928629738684752,\n",
       " -6.925905764472303,\n",
       " -6.923423296182793,\n",
       " -6.916271466326381,\n",
       " -6.904376906812513,\n",
       " -6.898210807148139,\n",
       " -6.892203753290615,\n",
       " -6.891685575370799,\n",
       " -6.885969785322281,\n",
       " -6.88519553143987,\n",
       " -6.881249091723587,\n",
       " -6.862543859758007,\n",
       " -6.857916074999657,\n",
       " -6.849809917882477,\n",
       " -6.842402601580397,\n",
       " -6.84013029085271,\n",
       " -6.82835656771334,\n",
       " -6.826327392490021,\n",
       " -6.826144650387284,\n",
       " -6.814240074386608,\n",
       " -6.810033972979869,\n",
       " -6.809900557700726,\n",
       " -6.801939891848854,\n",
       " -6.798202294784066,\n",
       " -6.7954408610440655,\n",
       " -6.780570956305241,\n",
       " -6.7752443645605505,\n",
       " -6.7738628673322685,\n",
       " -6.773641762637763,\n",
       " -6.773079260471193,\n",
       " -6.769069629449621,\n",
       " -6.764630797506921,\n",
       " -6.7607176607215065,\n",
       " -6.759612451669092,\n",
       " -6.758242884586718,\n",
       " -6.751170469173147,\n",
       " -6.749103570234984,\n",
       " -6.74570737843422,\n",
       " -6.74181736385887,\n",
       " -6.741287636182986,\n",
       " -6.740102048768978,\n",
       " -6.721960387682282,\n",
       " -6.721951152043257,\n",
       " -6.720840588095087,\n",
       " -6.70830945895887,\n",
       " -6.701791990003754,\n",
       " -6.6982303257282405,\n",
       " -6.681310294936352,\n",
       " -6.6798076317236035,\n",
       " -6.677997990505474,\n",
       " -6.667914879277544,\n",
       " -6.666971482141498,\n",
       " -6.66585732457208,\n",
       " -6.662828960692807,\n",
       " -6.66018665446952,\n",
       " -6.653274572110849,\n",
       " -6.648760037023002,\n",
       " -6.640739446896628,\n",
       " -6.63916183445582,\n",
       " -6.632663133814053,\n",
       " -6.630332308121684,\n",
       " -6.623388366544791,\n",
       " -6.621744453326583,\n",
       " -6.619356941090853,\n",
       " -6.619317973712607,\n",
       " -6.604046167727826,\n",
       " -6.598889319674251,\n",
       " -6.593313973658291,\n",
       " -6.593308167021525,\n",
       " -6.591072425251686,\n",
       " -6.588602609024515,\n",
       " -6.587736772655666,\n",
       " -6.577261443399744,\n",
       " -6.576010226096086,\n",
       " -6.568783752268531,\n",
       " -6.566728897562796,\n",
       " -6.555830147486292,\n",
       " -6.552343912587117,\n",
       " -6.543170502809651,\n",
       " -6.538425299495276,\n",
       " -6.53053735473651,\n",
       " -6.5267347010786185,\n",
       " -6.522178712435431,\n",
       " -6.5177976404954805,\n",
       " -6.516369147865391,\n",
       " -6.515907344484263,\n",
       " -6.513900529474301,\n",
       " -6.50819751625541,\n",
       " -6.505574879918185,\n",
       " -6.503006575129736,\n",
       " -6.495837707555392,\n",
       " -6.493572861397486,\n",
       " -6.484912853807573,\n",
       " -6.455666892831298,\n",
       " -6.452697406013868,\n",
       " -6.448658141057697,\n",
       " -6.4468658528940335,\n",
       " -6.432544867375583,\n",
       " -6.431318907608386,\n",
       " -6.42726419907116,\n",
       " -6.423221506946765,\n",
       " -6.422211912154474,\n",
       " -6.4212582670769285,\n",
       " -6.412640620813151,\n",
       " -6.412028456965602,\n",
       " -6.410344422698601,\n",
       " -6.386752482106361,\n",
       " -6.386366968530168,\n",
       " -6.385723918133592,\n",
       " -6.3784307092215276,\n",
       " -6.374122439581596,\n",
       " -6.364077193695814,\n",
       " -6.353362765138731,\n",
       " -6.344394245837528,\n",
       " -6.329028800348121,\n",
       " -6.32568590441594,\n",
       " -6.321234336160509,\n",
       " -6.319683460828884,\n",
       " -6.317799754842564,\n",
       " -6.316077398858344,\n",
       " -6.315335311982259,\n",
       " -6.306669320914379,\n",
       " -6.306099366882632,\n",
       " -6.303800523264138,\n",
       " -6.290515492438023,\n",
       " -6.2884662118801815,\n",
       " -6.284008524120049,\n",
       " -6.281096547273242,\n",
       " -6.276150534414708,\n",
       " -6.275464512654184,\n",
       " -6.27197372002491,\n",
       " -6.265714014647527,\n",
       " -6.265001221658192,\n",
       " -6.258673773131294,\n",
       " -6.257278484489297,\n",
       " -6.255452763921332,\n",
       " -6.254944668490438,\n",
       " -6.237334878050662,\n",
       " -6.2294820042657255,\n",
       " -6.227017430239426,\n",
       " -6.225471953312686,\n",
       " -6.225457326233454,\n",
       " -6.2131116798313295,\n",
       " -6.209376698760766,\n",
       " -6.208363930518742,\n",
       " -6.1954685062878925,\n",
       " -6.1796851315794825,\n",
       " -6.161083561009609,\n",
       " -6.149172631457538,\n",
       " -6.145900979253642,\n",
       " -6.144377219757063,\n",
       " -6.1379927269686245,\n",
       " -6.128781108595731,\n",
       " -6.12530807823527,\n",
       " -6.124467124289048,\n",
       " -6.122377016284724,\n",
       " -6.12018489160759,\n",
       " -6.115176560183188,\n",
       " -6.10147239957181,\n",
       " -6.100381647065601,\n",
       " -6.099297727026119,\n",
       " -6.097672981364436,\n",
       " -6.094458726634559,\n",
       " -6.089882266075033,\n",
       " -6.083788348158614,\n",
       " -6.074370624070274,\n",
       " -6.067435438946567,\n",
       " -6.056942540489262,\n",
       " -6.052800158293621,\n",
       " -6.050675114198194,\n",
       " -6.046396820249266,\n",
       " -6.04020975147059,\n",
       " -6.0310847299384385,\n",
       " -6.024002550087037,\n",
       " -6.019784227163121,\n",
       " -6.019364964043535,\n",
       " -6.01702506259078,\n",
       " -6.013445643056129,\n",
       " -6.00347574281269,\n",
       " -6.002648695041613,\n",
       " -6.002472424442973,\n",
       " -5.997612004053553,\n",
       " -5.996772576068277,\n",
       " -5.993528432985013,\n",
       " -5.992792963735308,\n",
       " -5.974029408705537,\n",
       " -5.972022601448001,\n",
       " -5.961625258889757,\n",
       " -5.960534193319977,\n",
       " -5.9581545168540435,\n",
       " -5.947656776902436,\n",
       " -5.943747648190844,\n",
       " -5.9257502511889815,\n",
       " -5.92288687713851,\n",
       " -5.920110935641633,\n",
       " -5.918532272239049,\n",
       " -5.914976110560609,\n",
       " -5.911456777737029,\n",
       " -5.909879731541666,\n",
       " -5.909077092002283,\n",
       " -5.908614584717425,\n",
       " -5.899467798069092,\n",
       " -5.898910587058589,\n",
       " -5.8985509179022815,\n",
       " -5.894516934967933,\n",
       " -5.893602025816233,\n",
       " -5.881657670630223,\n",
       " -5.867594027263077,\n",
       " -5.851613481266098,\n",
       " -5.848748597476243,\n",
       " -5.8399383721285485,\n",
       " -5.837355106024995,\n",
       " -5.833304403446533,\n",
       " -5.832476942670873,\n",
       " -5.826317807154736,\n",
       " -5.811481845608281,\n",
       " -5.806536561088327,\n",
       " -5.802195628902098,\n",
       " -5.773553004663162,\n",
       " -5.773287479499692,\n",
       " -5.768998069314086,\n",
       " -5.7672789869749295,\n",
       " -5.761013753365273,\n",
       " -5.754978086965763,\n",
       " -5.746291551422412,\n",
       " -5.731467260840361,\n",
       " -5.729631305997567,\n",
       " -5.729159435649686,\n",
       " -5.715597026999178,\n",
       " -5.707977229349566,\n",
       " -5.7073351824739,\n",
       " -5.7047432650458925,\n",
       " -5.69225335311846,\n",
       " -5.69072629580685,\n",
       " -5.674601787796936,\n",
       " -5.664176373753796,\n",
       " -5.647795023506427,\n",
       " -5.639539345924763,\n",
       " -5.63026239832039,\n",
       " -5.6278609323607345,\n",
       " -5.624117222550813,\n",
       " -5.619405035861822,\n",
       " -5.614462599704555,\n",
       " -5.600419294374885,\n",
       " -5.588941280954596,\n",
       " -5.583772070213736,\n",
       " -5.581245504843222,\n",
       " -5.567352413638827,\n",
       " -5.567106679769174,\n",
       " -5.564720147019309,\n",
       " -5.563506693827911,\n",
       " -5.556917219552335,\n",
       " -5.547770911310683,\n",
       " -5.538154185545081,\n",
       " -5.5374378053634015,\n",
       " -5.530228674089664,\n",
       " -5.520575261879363,\n",
       " -5.517889421412498,\n",
       " -5.507782567558433,\n",
       " -5.499415624784216,\n",
       " -5.49510115990678,\n",
       " -5.488082908311828,\n",
       " -5.482623523423509,\n",
       " -5.481780642950875,\n",
       " -5.458241915575739,\n",
       " -5.458061050538435,\n",
       " -5.4473024859935295,\n",
       " -5.3935704563753015,\n",
       " -5.384941809049652,\n",
       " -5.384457644860329,\n",
       " -5.38427094974529,\n",
       " -5.383470048742545,\n",
       " -5.371472808535242,\n",
       " -5.338352311954734,\n",
       " -5.316106216562347,\n",
       " -5.307222612315153,\n",
       " -5.304989858565987,\n",
       " -5.3017515141270986,\n",
       " -5.296838290867005,\n",
       " -5.258026267118707,\n",
       " -5.253154905791674,\n",
       " -5.231396114548394,\n",
       " -5.226982534755451,\n",
       " -5.211821857634583,\n",
       " -5.1887626484930705,\n",
       " -5.1859678492173025,\n",
       " -5.161756325405947,\n",
       " -5.141369075966508,\n",
       " -5.128769149353579,\n",
       " -5.119753011828424,\n",
       " -5.108249902545352,\n",
       " -5.104706456216697,\n",
       " -5.076377528082278,\n",
       " -5.059091084149026,\n",
       " -5.039983585518203,\n",
       " -5.024795496137158,\n",
       " -4.952711501137584,\n",
       " -4.950577987607622,\n",
       " -4.929992513498219,\n",
       " -4.911805303652141,\n",
       " -4.9090552395724725,\n",
       " -4.888054154299951,\n",
       " -4.877884206801564,\n",
       " -4.86536575385079,\n",
       " -4.8570569626469196,\n",
       " -4.8525551696405405,\n",
       " -4.85117899956531,\n",
       " -4.846690161386846,\n",
       " -4.8463698689546675,\n",
       " -4.826039416244631,\n",
       " -4.8083912906672115,\n",
       " -4.805255416967175,\n",
       " -4.797738047897921,\n",
       " -4.775144886782195,\n",
       " -4.767746968875779,\n",
       " -4.76773002149792,\n",
       " -4.75278187745759,\n",
       " -4.736206070854353,\n",
       " -4.6713539423966175,\n",
       " -4.66696752720443,\n",
       " -4.584482428452261,\n",
       " -4.579209875863796,\n",
       " -4.573361053361141,\n",
       " -4.325570690945971,\n",
       " -4.141164477830647,\n",
       " -4.111684432880116,\n",
       " -4.106642584972647,\n",
       " -4.094465251030893,\n",
       " -3.9447014333237944,\n",
       " -3.8829225127783835,\n",
       " -3.7715148605512887,\n",
       " -3.714617093290083,\n",
       " -3.670756608900084,\n",
       " -3.639527388438166,\n",
       " -3.5432183150141334,\n",
       " -3.466782208218454,\n",
       " -3.3056904999299004,\n",
       " -3.3035994673070324,\n",
       " -3.1055299219381864,\n",
       " -2.9676098063441145,\n",
       " -2.8177412016911636,\n",
       " -2.550224948686923,\n",
       " -2.513248724095986,\n",
       " -2.4494758659787252,\n",
       " -2.37871828094001,\n",
       " -2.2006582292484613,\n",
       " -2.1455825119035405,\n",
       " -2.1371302987348924,\n",
       " -2.1020383389129558,\n",
       " -1.8695389972368541,\n",
       " -1.8071846847359798,\n",
       " -1.5648231444368919,\n",
       " -1.512294315991709,\n",
       " -1.312904870138328,\n",
       " -1.238201328788056,\n",
       " -1.1586185333688521,\n",
       " -1.0150686540700409,\n",
       " -0.7684574748423958,\n",
       " -0.734779306035484,\n",
       " -0.5125314869712059,\n",
       " -0.4690324904878574,\n",
       " -0.46119010059692733,\n",
       " -0.3187758144813732,\n",
       " -0.2067564388207916,\n",
       " -0.20117197218203192,\n",
       " -0.20031820236283265,\n",
       " -0.04676698195897357,\n",
       " -0.0005179385281352353,\n",
       " 0.007606346280813422,\n",
       " 0.20505776010892607,\n",
       " 0.2607873336671867,\n",
       " 0.2806899965271236,\n",
       " 0.4045180037234022,\n",
       " 0.4450051400724371,\n",
       " 0.45534511706752984,\n",
       " 0.6962251961391417,\n",
       " 0.8766223977430441,\n",
       " 1.0167032996922714,\n",
       " 1.1632086024256472,\n",
       " 1.2224642413260836,\n",
       " 1.3401463769116368,\n",
       " 1.4267010077992914,\n",
       " 1.5284239020766492,\n",
       " 1.694399358481369,\n",
       " 1.7221158564037016,\n",
       " 1.7223609754775155,\n",
       " 1.8745454732921951,\n",
       " 1.9705869222367844,\n",
       " 2.2509738769956256,\n",
       " 2.445227243023802,\n",
       " 2.653402499554792,\n",
       " 3.082787877832169,\n",
       " 3.3155052515884273,\n",
       " 3.3470333750939387,\n",
       " 3.4511304789539814,\n",
       " 3.616875095151615,\n",
       " 3.9560716187016927,\n",
       " 4.1737882674557865,\n",
       " 4.4118847839608275,\n",
       " 4.840108771760857,\n",
       " 5.408340232732478,\n",
       " 5.4838202471226944,\n",
       " 5.620310819650705,\n",
       " 5.88279753597368,\n",
       " 6.248904418359079,\n",
       " 6.285691175194213,\n",
       " 6.347912880008076,\n",
       " 6.380244897585351,\n",
       " 6.428055505728412,\n",
       " 6.622829191984352,\n",
       " 6.770658590412351,\n",
       " 7.137353677034928,\n",
       " 7.265545508573696,\n",
       " 7.383174210057367,\n",
       " 7.393587891412458,\n",
       " 7.483240234725847,\n",
       " 7.506489353319502,\n",
       " 7.66985589136573,\n",
       " 7.877534748117082,\n",
       " 7.924148126958401,\n",
       " 8.212066080541309]"
      ]
     },
     "execution_count": 423,
     "metadata": {},
     "output_type": "execute_result"
    }
   ],
   "source": [
    "sorted(pred)"
   ]
  },
  {
   "cell_type": "code",
   "execution_count": 419,
   "metadata": {},
   "outputs": [
    {
     "name": "stdout",
     "output_type": "stream",
     "text": [
      "[6 6 0 0 0 0 0 0 0 0 0 0 0 0 0 0 0 0 0 0 0 0 0 0 0 0 0 0 0 0 0 0 0 0 0 0 0\n",
      " 0 0 0 0 0 0 0 0 0 0 0 0 0 0 0 0 0 0 0 0 0 0 0 0 0 0 0 0 0 0 0 0 0 0 0 0 0\n",
      " 0 0 0 0 0 0 0 0 0 0 0 0 0 0 0 0 0 0 0 0 0 0 0 0 0 0 0 0 0 0 0 0 0 0 0 0 0\n",
      " 0 0 0 0 0 0 0 0 0 0 0 0 0 0 0 0 0 0 0 0 0 0 0 0 0 0 0 0 0 0 0 0 0 0 0 0 0\n",
      " 0 0 0 0 0 0 0 0 0 0 0 0 0 0 0 0 0 0 0 0 0 0 0 0 0 0 0 0 0 0 0 0 0 0 0 0 0\n",
      " 0 0 0 0 0 0 0 0 0 0 0 0 0 0 0 0 0 0 0 0 0 0 0 0 0 0 0 0 0 0 0 0 0 0 0 0 0\n",
      " 0 0 0 0 0 0 0 0 0 0 0 0 0 0 0 0 0 0 0 0 0 0 0 0 0 0 0 0 0 0 0 0 0 0 0 0 0\n",
      " 0 0 0 0 0 0 0 0 0 0 0 0 0 0 0 0 0 0 0 0 0 0 0 0 0 0 0 0 0 0 0 0 0 0 0 0 0\n",
      " 0 0 0 0 0 0 0 0 0 0 0 0 0 0 0 0 0 0 0 0 0 0 0 0 0 0 0 0 0 0 0 0 0 0 0 0 0\n",
      " 0 0 0 0 0 0 0 0 0 0 0 0 0 0 0 0 0 0 0 0 0 0 0 0 0 0 0 0 0 0 0 0 0 0 0 0 0\n",
      " 0 0 0 0 0 0 0 0 0 0 0 0 0 0 0 0 0 0 0 0 0 0 0 0 0 0 0 0 0 0 0 0 0 0 0 0 0\n",
      " 0 0 0 0 0 0 0 0 0 0 0 0 0 0 0 0 0 0 0 0 0 0 0 0 0 0 0 0 0 0 0 0 0 0 0 0 0\n",
      " 0 0 0 0 0 0 0 0 0 0 0 0 0 0 0 0 0 0 0 0 0 0 0 0 0 0 0 0 0 0 0 0 0 0 0 0 0\n",
      " 0 0 0 0 0 0 0 0 0 0 0 0 0 0 0 0 0 0 4 4 4 4 4 4 4 4 4 4 4 0 0 0 0 0 0 0 0\n",
      " 0 0 2 2 2 2 2 2 2 2 0 0 0 0 0 0 0 0 0 0 0 0 0 0 0 0 0 0 0 0 0 0 0 0 0 0 0\n",
      " 0 0 0 0 3 3 3 0 0 0 0 0 0 0 0 0 0 0 0 0 0 0 0 0 0 0 0 8 8 8 8 8 8 8 8 8 0]\n"
     ]
    }
   ],
   "source": [
    "print(user_df.iloc[sorted(pred)].timespent.values)"
   ]
  },
  {
   "cell_type": "code",
   "execution_count": 422,
   "metadata": {},
   "outputs": [
    {
     "data": {
      "text/plain": [
       "1835874     0\n",
       "38409318    0\n",
       "38409317    0\n",
       "38259171    0\n",
       "38259170    0\n",
       "           ..\n",
       "93859465    6\n",
       "50500873    6\n",
       "83455852    7\n",
       "23454258    8\n",
       "2520703     8\n",
       "Name: timespent, Length: 592, dtype: int8"
      ]
     },
     "execution_count": 422,
     "metadata": {},
     "output_type": "execute_result"
    }
   ],
   "source": [
    "user_df.timespent.sort_values()"
   ]
  },
  {
   "cell_type": "code",
   "execution_count": 420,
   "metadata": {},
   "outputs": [
    {
     "data": {
      "text/plain": [
       "[8,\n",
       " 8,\n",
       " 7,\n",
       " 6,\n",
       " 6,\n",
       " 6,\n",
       " 5,\n",
       " 5,\n",
       " 5,\n",
       " 5,\n",
       " 5,\n",
       " 5,\n",
       " 4,\n",
       " 4,\n",
       " 4,\n",
       " 4,\n",
       " 4,\n",
       " 4,\n",
       " 3,\n",
       " 3,\n",
       " 3,\n",
       " 3,\n",
       " 3,\n",
       " 3,\n",
       " 2,\n",
       " 2,\n",
       " 2,\n",
       " 2,\n",
       " 2,\n",
       " 2,\n",
       " 2,\n",
       " 2,\n",
       " 2,\n",
       " 2,\n",
       " 2,\n",
       " 2,\n",
       " 2,\n",
       " 2,\n",
       " 2,\n",
       " 2,\n",
       " 2,\n",
       " 2,\n",
       " 2,\n",
       " 2,\n",
       " 1,\n",
       " 1,\n",
       " 1,\n",
       " 1,\n",
       " 1,\n",
       " 1,\n",
       " 1,\n",
       " 1,\n",
       " 1,\n",
       " 1,\n",
       " 1,\n",
       " 1,\n",
       " 1,\n",
       " 1,\n",
       " 1,\n",
       " 1,\n",
       " 1,\n",
       " 1,\n",
       " 1,\n",
       " 1,\n",
       " 1,\n",
       " 1,\n",
       " 1,\n",
       " 1,\n",
       " 1,\n",
       " 1,\n",
       " 1,\n",
       " 1,\n",
       " 1,\n",
       " 1,\n",
       " 1,\n",
       " 1,\n",
       " 1,\n",
       " 1,\n",
       " 1,\n",
       " 1,\n",
       " 1,\n",
       " 1,\n",
       " 1,\n",
       " 1,\n",
       " 1,\n",
       " 0,\n",
       " 0,\n",
       " 0,\n",
       " 0,\n",
       " 0,\n",
       " 0,\n",
       " 0,\n",
       " 0,\n",
       " 0,\n",
       " 0,\n",
       " 0,\n",
       " 0,\n",
       " 0,\n",
       " 0,\n",
       " 0,\n",
       " 0,\n",
       " 0,\n",
       " 0,\n",
       " 0,\n",
       " 0,\n",
       " 0,\n",
       " 0,\n",
       " 0,\n",
       " 0,\n",
       " 0,\n",
       " 0,\n",
       " 0,\n",
       " 0,\n",
       " 0,\n",
       " 0,\n",
       " 0,\n",
       " 0,\n",
       " 0,\n",
       " 0,\n",
       " 0,\n",
       " 0,\n",
       " 0,\n",
       " 0,\n",
       " 0,\n",
       " 0,\n",
       " 0,\n",
       " 0,\n",
       " 0,\n",
       " 0,\n",
       " 0,\n",
       " 0,\n",
       " 0,\n",
       " 0,\n",
       " 0,\n",
       " 0,\n",
       " 0,\n",
       " 0,\n",
       " 0,\n",
       " 0,\n",
       " 0,\n",
       " 0,\n",
       " 0,\n",
       " 0,\n",
       " 0,\n",
       " 0,\n",
       " 0,\n",
       " 0,\n",
       " 0,\n",
       " 0,\n",
       " 0,\n",
       " 0,\n",
       " 0,\n",
       " 0,\n",
       " 0,\n",
       " 0,\n",
       " 0,\n",
       " 0,\n",
       " 0,\n",
       " 0,\n",
       " 0,\n",
       " 0,\n",
       " 0,\n",
       " 0,\n",
       " 0,\n",
       " 0,\n",
       " 0,\n",
       " 0,\n",
       " 0,\n",
       " 0,\n",
       " 0,\n",
       " 0,\n",
       " 0,\n",
       " 0,\n",
       " 0,\n",
       " 0,\n",
       " 0,\n",
       " 0,\n",
       " 0,\n",
       " 0,\n",
       " 0,\n",
       " 0,\n",
       " 0,\n",
       " 0,\n",
       " 0,\n",
       " 0,\n",
       " 0,\n",
       " 0,\n",
       " 0,\n",
       " 0,\n",
       " 0,\n",
       " 0,\n",
       " 0,\n",
       " 0,\n",
       " 0,\n",
       " 0,\n",
       " 0,\n",
       " 0,\n",
       " 0,\n",
       " 0,\n",
       " 0,\n",
       " 0,\n",
       " 0,\n",
       " 0,\n",
       " 0,\n",
       " 0,\n",
       " 0,\n",
       " 0,\n",
       " 0,\n",
       " 0,\n",
       " 0,\n",
       " 0,\n",
       " 0,\n",
       " 0,\n",
       " 0,\n",
       " 0,\n",
       " 0,\n",
       " 0,\n",
       " 0,\n",
       " 0,\n",
       " 0,\n",
       " 0,\n",
       " 0,\n",
       " 0,\n",
       " 0,\n",
       " 0,\n",
       " 0,\n",
       " 0,\n",
       " 0,\n",
       " 0,\n",
       " 0,\n",
       " 0,\n",
       " 0,\n",
       " 0,\n",
       " 0,\n",
       " 0,\n",
       " 0,\n",
       " 0,\n",
       " 0,\n",
       " 0,\n",
       " 0,\n",
       " 0,\n",
       " 0,\n",
       " 0,\n",
       " 0,\n",
       " 0,\n",
       " 0,\n",
       " 0,\n",
       " 0,\n",
       " 0,\n",
       " 0,\n",
       " 0,\n",
       " 0,\n",
       " 0,\n",
       " 0,\n",
       " 0,\n",
       " 0,\n",
       " 0,\n",
       " 0,\n",
       " 0,\n",
       " 0,\n",
       " 0,\n",
       " 0,\n",
       " 0,\n",
       " 0,\n",
       " 0,\n",
       " 0,\n",
       " 0,\n",
       " 0,\n",
       " 0,\n",
       " 0,\n",
       " 0,\n",
       " 0,\n",
       " 0,\n",
       " 0,\n",
       " 0,\n",
       " 0,\n",
       " 0,\n",
       " 0,\n",
       " 0,\n",
       " 0,\n",
       " 0,\n",
       " 0,\n",
       " 0,\n",
       " 0,\n",
       " 0,\n",
       " 0,\n",
       " 0,\n",
       " 0,\n",
       " 0,\n",
       " 0,\n",
       " 0,\n",
       " 0,\n",
       " 0,\n",
       " 0,\n",
       " 0,\n",
       " 0,\n",
       " 0,\n",
       " 0,\n",
       " 0,\n",
       " 0,\n",
       " 0,\n",
       " 0,\n",
       " 0,\n",
       " 0,\n",
       " 0,\n",
       " 0,\n",
       " 0,\n",
       " 0,\n",
       " 0,\n",
       " 0,\n",
       " 0,\n",
       " 0,\n",
       " 0,\n",
       " 0,\n",
       " 0,\n",
       " 0,\n",
       " 0,\n",
       " 0,\n",
       " 0,\n",
       " 0,\n",
       " 0,\n",
       " 0,\n",
       " 0,\n",
       " 0,\n",
       " 0,\n",
       " 0,\n",
       " 0,\n",
       " 0,\n",
       " 0,\n",
       " 0,\n",
       " 0,\n",
       " 0,\n",
       " 0,\n",
       " 0,\n",
       " 0,\n",
       " 0,\n",
       " 0,\n",
       " 0,\n",
       " 0,\n",
       " 0,\n",
       " 0,\n",
       " 0,\n",
       " 0,\n",
       " 0,\n",
       " 0,\n",
       " 0,\n",
       " 0,\n",
       " 0,\n",
       " 0,\n",
       " 0,\n",
       " 0,\n",
       " 0,\n",
       " 0,\n",
       " 0,\n",
       " 0,\n",
       " 0,\n",
       " 0,\n",
       " 0,\n",
       " 0,\n",
       " 0,\n",
       " 0,\n",
       " 0,\n",
       " 0,\n",
       " 0,\n",
       " 0,\n",
       " 0,\n",
       " 0,\n",
       " 0,\n",
       " 0,\n",
       " 0,\n",
       " 0,\n",
       " 0,\n",
       " 0,\n",
       " 0,\n",
       " 0,\n",
       " 0,\n",
       " 0,\n",
       " 0,\n",
       " 0,\n",
       " 0,\n",
       " 0,\n",
       " 0,\n",
       " 0,\n",
       " 0,\n",
       " 0,\n",
       " 0,\n",
       " 0,\n",
       " 0,\n",
       " 0,\n",
       " 0,\n",
       " 0,\n",
       " 0,\n",
       " 0,\n",
       " 0,\n",
       " 0,\n",
       " 0,\n",
       " 0,\n",
       " 0,\n",
       " 0,\n",
       " 0,\n",
       " 0,\n",
       " 0,\n",
       " 0,\n",
       " 0,\n",
       " 0,\n",
       " 0,\n",
       " 0,\n",
       " 0,\n",
       " 0,\n",
       " 0,\n",
       " 0,\n",
       " 0,\n",
       " 0,\n",
       " 0,\n",
       " 0,\n",
       " 0,\n",
       " 0,\n",
       " 0,\n",
       " 0,\n",
       " 0,\n",
       " 0,\n",
       " 0,\n",
       " 0,\n",
       " 0,\n",
       " 0,\n",
       " 0,\n",
       " 0,\n",
       " 0,\n",
       " 0,\n",
       " 0,\n",
       " 0,\n",
       " 0,\n",
       " 0,\n",
       " 0,\n",
       " 0,\n",
       " 0,\n",
       " 0,\n",
       " 0,\n",
       " 0,\n",
       " 0,\n",
       " 0,\n",
       " 0,\n",
       " 0,\n",
       " 0,\n",
       " 0,\n",
       " 0,\n",
       " 0,\n",
       " 0,\n",
       " 0,\n",
       " 0,\n",
       " 0,\n",
       " 0,\n",
       " 0,\n",
       " 0,\n",
       " 0,\n",
       " 0,\n",
       " 0,\n",
       " 0,\n",
       " 0,\n",
       " 0,\n",
       " 0,\n",
       " 0,\n",
       " 0,\n",
       " 0,\n",
       " 0,\n",
       " 0,\n",
       " 0,\n",
       " 0,\n",
       " 0,\n",
       " 0,\n",
       " 0,\n",
       " 0,\n",
       " 0,\n",
       " 0,\n",
       " 0,\n",
       " 0,\n",
       " 0,\n",
       " 0,\n",
       " 0,\n",
       " 0,\n",
       " 0,\n",
       " 0,\n",
       " 0,\n",
       " 0,\n",
       " 0,\n",
       " 0,\n",
       " 0,\n",
       " 0,\n",
       " 0,\n",
       " 0,\n",
       " 0,\n",
       " 0,\n",
       " 0,\n",
       " 0,\n",
       " 0,\n",
       " 0,\n",
       " 0,\n",
       " 0,\n",
       " 0,\n",
       " 0,\n",
       " 0,\n",
       " 0,\n",
       " 0,\n",
       " 0,\n",
       " 0,\n",
       " 0,\n",
       " 0,\n",
       " 0,\n",
       " 0,\n",
       " 0,\n",
       " 0,\n",
       " 0,\n",
       " 0,\n",
       " 0,\n",
       " 0,\n",
       " 0,\n",
       " 0,\n",
       " 0,\n",
       " 0,\n",
       " 0,\n",
       " 0,\n",
       " 0,\n",
       " 0,\n",
       " 0,\n",
       " 0,\n",
       " 0,\n",
       " 0,\n",
       " 0,\n",
       " 0,\n",
       " 0,\n",
       " 0,\n",
       " 0,\n",
       " 0,\n",
       " 0,\n",
       " 0,\n",
       " 0,\n",
       " 0,\n",
       " 0,\n",
       " 0,\n",
       " 0,\n",
       " 0,\n",
       " 0,\n",
       " 0,\n",
       " 0,\n",
       " 0,\n",
       " 0,\n",
       " 0,\n",
       " 0,\n",
       " 0,\n",
       " 0,\n",
       " 0,\n",
       " 0,\n",
       " 0,\n",
       " 0,\n",
       " 0,\n",
       " 0,\n",
       " 0,\n",
       " 0,\n",
       " 0,\n",
       " 0,\n",
       " 0,\n",
       " 0,\n",
       " 0,\n",
       " 0,\n",
       " 0,\n",
       " 0,\n",
       " 0,\n",
       " 0,\n",
       " 0,\n",
       " 0,\n",
       " 0,\n",
       " 0,\n",
       " 0,\n",
       " 0,\n",
       " 0,\n",
       " 0,\n",
       " 0,\n",
       " 0,\n",
       " 0,\n",
       " 0,\n",
       " 0,\n",
       " 0,\n",
       " 0,\n",
       " 0,\n",
       " 0,\n",
       " 0,\n",
       " 0,\n",
       " 0,\n",
       " 0,\n",
       " 0,\n",
       " 0,\n",
       " 0]"
      ]
     },
     "execution_count": 420,
     "metadata": {},
     "output_type": "execute_result"
    }
   ],
   "source": [
    "sorted(user_df.timespent.values, reverse=1)"
   ]
  },
  {
   "cell_type": "code",
   "execution_count": 377,
   "metadata": {},
   "outputs": [
    {
     "data": {
      "text/plain": [
       "2520703     8\n",
       "23454258    8\n",
       "83455852    7\n",
       "50500873    6\n",
       "93859465    6\n",
       "           ..\n",
       "38259170    0\n",
       "38259171    0\n",
       "38409317    0\n",
       "38409318    0\n",
       "1835874     0\n",
       "Name: timespent, Length: 592, dtype: int8"
      ]
     },
     "execution_count": 377,
     "metadata": {},
     "output_type": "execute_result"
    }
   ],
   "source": [
    "user_df.timespent.sort_values(ascending=False)"
   ]
  },
  {
   "cell_type": "code",
   "execution_count": 281,
   "metadata": {
    "collapsed": true
   },
   "outputs": [
    {
     "data": {
      "text/plain": [
       "array([[ 0.02768344, -0.02168952, -0.03133417, ..., -0.03015773,\n",
       "        -0.01166234, -0.01695309],\n",
       "       [ 0.00384737, -0.02367289, -0.09630792, ...,  0.05162415,\n",
       "         0.04562232, -0.04742779],\n",
       "       [ 0.0565061 ,  0.07324602, -0.01643917, ...,  0.03429513,\n",
       "         0.03288537, -0.06232993],\n",
       "       ...,\n",
       "       [ 0.00449147,  0.04834878, -0.03990331, ..., -0.00596084,\n",
       "        -0.04587894, -0.07931127],\n",
       "       [ 0.03671985, -0.02965335,  0.00051705, ..., -0.08089783,\n",
       "        -0.04609144, -0.03568521],\n",
       "       [ 0.10018815, -0.00553575, -0.01395857, ...,  0.03861998,\n",
       "         0.01662912, -0.07119339]], dtype=float32)"
      ]
     },
     "execution_count": 281,
     "metadata": {},
     "output_type": "execute_result"
    }
   ],
   "source": [
    "user_embeddings"
   ]
  },
  {
   "cell_type": "code",
   "execution_count": null,
   "metadata": {},
   "outputs": [],
   "source": []
  },
  {
   "cell_type": "code",
   "execution_count": null,
   "metadata": {},
   "outputs": [],
   "source": []
  },
  {
   "cell_type": "code",
   "execution_count": null,
   "metadata": {},
   "outputs": [],
   "source": []
  },
  {
   "cell_type": "code",
   "execution_count": 79,
   "metadata": {},
   "outputs": [
    {
     "data": {
      "text/html": [
       "<div>\n",
       "<style scoped>\n",
       "    .dataframe tbody tr th:only-of-type {\n",
       "        vertical-align: middle;\n",
       "    }\n",
       "\n",
       "    .dataframe tbody tr th {\n",
       "        vertical-align: top;\n",
       "    }\n",
       "\n",
       "    .dataframe thead th {\n",
       "        text-align: right;\n",
       "    }\n",
       "</style>\n",
       "<table border=\"1\" class=\"dataframe\">\n",
       "  <thead>\n",
       "    <tr style=\"text-align: right;\">\n",
       "      <th></th>\n",
       "      <th>user_id</th>\n",
       "    </tr>\n",
       "  </thead>\n",
       "  <tbody>\n",
       "    <tr>\n",
       "      <th>0</th>\n",
       "      <td>7</td>\n",
       "    </tr>\n",
       "    <tr>\n",
       "      <th>1</th>\n",
       "      <td>8</td>\n",
       "    </tr>\n",
       "    <tr>\n",
       "      <th>2</th>\n",
       "      <td>9</td>\n",
       "    </tr>\n",
       "  </tbody>\n",
       "</table>\n",
       "</div>"
      ],
      "text/plain": [
       "   user_id\n",
       "0        7\n",
       "1        8\n",
       "2        9"
      ]
     },
     "execution_count": 79,
     "metadata": {},
     "output_type": "execute_result"
    }
   ],
   "source": [
    "test = pd.read_parquet('test.parquet.gzip')\n",
    "test.head(3)"
   ]
  },
  {
   "cell_type": "code",
   "execution_count": 80,
   "metadata": {
    "collapsed": true
   },
   "outputs": [
    {
     "name": "stderr",
     "output_type": "stream",
     "text": [
      "  6%|▌         | 11447/200000 [00:08<02:25, 1291.57it/s]\n"
     ]
    },
    {
     "ename": "KeyboardInterrupt",
     "evalue": "",
     "output_type": "error",
     "traceback": [
      "\u001b[0;31m---------------------------------------------------------------------------\u001b[0m",
      "\u001b[0;31mKeyboardInterrupt\u001b[0m                         Traceback (most recent call last)",
      "\u001b[0;32m<ipython-input-80-0fea915c6757>\u001b[0m in \u001b[0;36m<module>\u001b[0;34m\u001b[0m\n\u001b[1;32m      1\u001b[0m \u001b[0;32mfor\u001b[0m \u001b[0muser_id\u001b[0m \u001b[0;32min\u001b[0m \u001b[0mtqdm\u001b[0m\u001b[0;34m(\u001b[0m\u001b[0mtest\u001b[0m\u001b[0;34m.\u001b[0m\u001b[0muser_id\u001b[0m\u001b[0;34m)\u001b[0m\u001b[0;34m:\u001b[0m\u001b[0;34m\u001b[0m\u001b[0;34m\u001b[0m\u001b[0m\n\u001b[0;32m----> 2\u001b[0;31m     \u001b[0mrecs\u001b[0m \u001b[0;34m=\u001b[0m \u001b[0mcandidates\u001b[0m\u001b[0;34m.\u001b[0m\u001b[0mloc\u001b[0m\u001b[0;34m[\u001b[0m\u001b[0mneighbors\u001b[0m\u001b[0;34m[\u001b[0m\u001b[0muser_df\u001b[0m\u001b[0;34m.\u001b[0m\u001b[0mitem_id\u001b[0m\u001b[0;34m.\u001b[0m\u001b[0mvalues\u001b[0m\u001b[0;34m]\u001b[0m\u001b[0;34m.\u001b[0m\u001b[0mflatten\u001b[0m\u001b[0;34m(\u001b[0m\u001b[0;34m)\u001b[0m\u001b[0;34m]\u001b[0m\u001b[0;34m.\u001b[0m\u001b[0mitem_id\u001b[0m\u001b[0;34m.\u001b[0m\u001b[0mvalues\u001b[0m\u001b[0;34m\u001b[0m\u001b[0;34m\u001b[0m\u001b[0m\n\u001b[0m",
      "\u001b[0;32m~/.pyenv/versions/3.7.10/lib/python3.7/site-packages/pandas/core/indexing.py\u001b[0m in \u001b[0;36m__getitem__\u001b[0;34m(self, key)\u001b[0m\n\u001b[1;32m    877\u001b[0m \u001b[0;34m\u001b[0m\u001b[0m\n\u001b[1;32m    878\u001b[0m             \u001b[0mmaybe_callable\u001b[0m \u001b[0;34m=\u001b[0m \u001b[0mcom\u001b[0m\u001b[0;34m.\u001b[0m\u001b[0mapply_if_callable\u001b[0m\u001b[0;34m(\u001b[0m\u001b[0mkey\u001b[0m\u001b[0;34m,\u001b[0m \u001b[0mself\u001b[0m\u001b[0;34m.\u001b[0m\u001b[0mobj\u001b[0m\u001b[0;34m)\u001b[0m\u001b[0;34m\u001b[0m\u001b[0;34m\u001b[0m\u001b[0m\n\u001b[0;32m--> 879\u001b[0;31m             \u001b[0;32mreturn\u001b[0m \u001b[0mself\u001b[0m\u001b[0;34m.\u001b[0m\u001b[0m_getitem_axis\u001b[0m\u001b[0;34m(\u001b[0m\u001b[0mmaybe_callable\u001b[0m\u001b[0;34m,\u001b[0m \u001b[0maxis\u001b[0m\u001b[0;34m=\u001b[0m\u001b[0maxis\u001b[0m\u001b[0;34m)\u001b[0m\u001b[0;34m\u001b[0m\u001b[0;34m\u001b[0m\u001b[0m\n\u001b[0m\u001b[1;32m    880\u001b[0m \u001b[0;34m\u001b[0m\u001b[0m\n\u001b[1;32m    881\u001b[0m     \u001b[0;32mdef\u001b[0m \u001b[0m_is_scalar_access\u001b[0m\u001b[0;34m(\u001b[0m\u001b[0mself\u001b[0m\u001b[0;34m,\u001b[0m \u001b[0mkey\u001b[0m\u001b[0;34m:\u001b[0m \u001b[0mTuple\u001b[0m\u001b[0;34m)\u001b[0m\u001b[0;34m:\u001b[0m\u001b[0;34m\u001b[0m\u001b[0;34m\u001b[0m\u001b[0m\n",
      "\u001b[0;32m~/.pyenv/versions/3.7.10/lib/python3.7/site-packages/pandas/core/indexing.py\u001b[0m in \u001b[0;36m_getitem_axis\u001b[0;34m(self, key, axis)\u001b[0m\n\u001b[1;32m   1097\u001b[0m                     \u001b[0;32mraise\u001b[0m \u001b[0mValueError\u001b[0m\u001b[0;34m(\u001b[0m\u001b[0;34m\"Cannot index with multidimensional key\"\u001b[0m\u001b[0;34m)\u001b[0m\u001b[0;34m\u001b[0m\u001b[0;34m\u001b[0m\u001b[0m\n\u001b[1;32m   1098\u001b[0m \u001b[0;34m\u001b[0m\u001b[0m\n\u001b[0;32m-> 1099\u001b[0;31m                 \u001b[0;32mreturn\u001b[0m \u001b[0mself\u001b[0m\u001b[0;34m.\u001b[0m\u001b[0m_getitem_iterable\u001b[0m\u001b[0;34m(\u001b[0m\u001b[0mkey\u001b[0m\u001b[0;34m,\u001b[0m \u001b[0maxis\u001b[0m\u001b[0;34m=\u001b[0m\u001b[0maxis\u001b[0m\u001b[0;34m)\u001b[0m\u001b[0;34m\u001b[0m\u001b[0;34m\u001b[0m\u001b[0m\n\u001b[0m\u001b[1;32m   1100\u001b[0m \u001b[0;34m\u001b[0m\u001b[0m\n\u001b[1;32m   1101\u001b[0m             \u001b[0;31m# nested tuple slicing\u001b[0m\u001b[0;34m\u001b[0m\u001b[0;34m\u001b[0m\u001b[0;34m\u001b[0m\u001b[0m\n",
      "\u001b[0;32m~/.pyenv/versions/3.7.10/lib/python3.7/site-packages/pandas/core/indexing.py\u001b[0m in \u001b[0;36m_getitem_iterable\u001b[0;34m(self, key, axis)\u001b[0m\n\u001b[1;32m   1035\u001b[0m \u001b[0;34m\u001b[0m\u001b[0m\n\u001b[1;32m   1036\u001b[0m         \u001b[0;31m# A collection of keys\u001b[0m\u001b[0;34m\u001b[0m\u001b[0;34m\u001b[0m\u001b[0;34m\u001b[0m\u001b[0m\n\u001b[0;32m-> 1037\u001b[0;31m         \u001b[0mkeyarr\u001b[0m\u001b[0;34m,\u001b[0m \u001b[0mindexer\u001b[0m \u001b[0;34m=\u001b[0m \u001b[0mself\u001b[0m\u001b[0;34m.\u001b[0m\u001b[0m_get_listlike_indexer\u001b[0m\u001b[0;34m(\u001b[0m\u001b[0mkey\u001b[0m\u001b[0;34m,\u001b[0m \u001b[0maxis\u001b[0m\u001b[0;34m,\u001b[0m \u001b[0mraise_missing\u001b[0m\u001b[0;34m=\u001b[0m\u001b[0;32mFalse\u001b[0m\u001b[0;34m)\u001b[0m\u001b[0;34m\u001b[0m\u001b[0;34m\u001b[0m\u001b[0m\n\u001b[0m\u001b[1;32m   1038\u001b[0m         return self.obj._reindex_with_indexers(\n\u001b[1;32m   1039\u001b[0m             \u001b[0;34m{\u001b[0m\u001b[0maxis\u001b[0m\u001b[0;34m:\u001b[0m \u001b[0;34m[\u001b[0m\u001b[0mkeyarr\u001b[0m\u001b[0;34m,\u001b[0m \u001b[0mindexer\u001b[0m\u001b[0;34m]\u001b[0m\u001b[0;34m}\u001b[0m\u001b[0;34m,\u001b[0m \u001b[0mcopy\u001b[0m\u001b[0;34m=\u001b[0m\u001b[0;32mTrue\u001b[0m\u001b[0;34m,\u001b[0m \u001b[0mallow_dups\u001b[0m\u001b[0;34m=\u001b[0m\u001b[0;32mTrue\u001b[0m\u001b[0;34m\u001b[0m\u001b[0;34m\u001b[0m\u001b[0m\n",
      "\u001b[0;32m~/.pyenv/versions/3.7.10/lib/python3.7/site-packages/pandas/core/indexing.py\u001b[0m in \u001b[0;36m_get_listlike_indexer\u001b[0;34m(self, key, axis, raise_missing)\u001b[0m\n\u001b[1;32m   1252\u001b[0m             \u001b[0mkeyarr\u001b[0m\u001b[0;34m,\u001b[0m \u001b[0mindexer\u001b[0m\u001b[0;34m,\u001b[0m \u001b[0mnew_indexer\u001b[0m \u001b[0;34m=\u001b[0m \u001b[0max\u001b[0m\u001b[0;34m.\u001b[0m\u001b[0m_reindex_non_unique\u001b[0m\u001b[0;34m(\u001b[0m\u001b[0mkeyarr\u001b[0m\u001b[0;34m)\u001b[0m\u001b[0;34m\u001b[0m\u001b[0;34m\u001b[0m\u001b[0m\n\u001b[1;32m   1253\u001b[0m \u001b[0;34m\u001b[0m\u001b[0m\n\u001b[0;32m-> 1254\u001b[0;31m         \u001b[0mself\u001b[0m\u001b[0;34m.\u001b[0m\u001b[0m_validate_read_indexer\u001b[0m\u001b[0;34m(\u001b[0m\u001b[0mkeyarr\u001b[0m\u001b[0;34m,\u001b[0m \u001b[0mindexer\u001b[0m\u001b[0;34m,\u001b[0m \u001b[0maxis\u001b[0m\u001b[0;34m,\u001b[0m \u001b[0mraise_missing\u001b[0m\u001b[0;34m=\u001b[0m\u001b[0mraise_missing\u001b[0m\u001b[0;34m)\u001b[0m\u001b[0;34m\u001b[0m\u001b[0;34m\u001b[0m\u001b[0m\n\u001b[0m\u001b[1;32m   1255\u001b[0m         \u001b[0;32mreturn\u001b[0m \u001b[0mkeyarr\u001b[0m\u001b[0;34m,\u001b[0m \u001b[0mindexer\u001b[0m\u001b[0;34m\u001b[0m\u001b[0;34m\u001b[0m\u001b[0m\n\u001b[1;32m   1256\u001b[0m \u001b[0;34m\u001b[0m\u001b[0m\n",
      "\u001b[0;32m~/.pyenv/versions/3.7.10/lib/python3.7/site-packages/pandas/core/indexing.py\u001b[0m in \u001b[0;36m_validate_read_indexer\u001b[0;34m(self, key, indexer, axis, raise_missing)\u001b[0m\n\u001b[1;32m   1291\u001b[0m         \u001b[0;31m# Count missing values:\u001b[0m\u001b[0;34m\u001b[0m\u001b[0;34m\u001b[0m\u001b[0;34m\u001b[0m\u001b[0m\n\u001b[1;32m   1292\u001b[0m         \u001b[0mmissing_mask\u001b[0m \u001b[0;34m=\u001b[0m \u001b[0mindexer\u001b[0m \u001b[0;34m<\u001b[0m \u001b[0;36m0\u001b[0m\u001b[0;34m\u001b[0m\u001b[0;34m\u001b[0m\u001b[0m\n\u001b[0;32m-> 1293\u001b[0;31m         \u001b[0mmissing\u001b[0m \u001b[0;34m=\u001b[0m \u001b[0;34m(\u001b[0m\u001b[0mmissing_mask\u001b[0m\u001b[0;34m)\u001b[0m\u001b[0;34m.\u001b[0m\u001b[0msum\u001b[0m\u001b[0;34m(\u001b[0m\u001b[0;34m)\u001b[0m\u001b[0;34m\u001b[0m\u001b[0;34m\u001b[0m\u001b[0m\n\u001b[0m\u001b[1;32m   1294\u001b[0m \u001b[0;34m\u001b[0m\u001b[0m\n\u001b[1;32m   1295\u001b[0m         \u001b[0;32mif\u001b[0m \u001b[0mmissing\u001b[0m\u001b[0;34m:\u001b[0m\u001b[0;34m\u001b[0m\u001b[0;34m\u001b[0m\u001b[0m\n",
      "\u001b[0;32m~/.pyenv/versions/3.7.10/lib/python3.7/site-packages/numpy/core/_methods.py\u001b[0m in \u001b[0;36m_sum\u001b[0;34m(a, axis, dtype, out, keepdims, initial, where)\u001b[0m\n\u001b[1;32m     46\u001b[0m def _sum(a, axis=None, dtype=None, out=None, keepdims=False,\n\u001b[1;32m     47\u001b[0m          initial=_NoValue, where=True):\n\u001b[0;32m---> 48\u001b[0;31m     \u001b[0;32mreturn\u001b[0m \u001b[0mumr_sum\u001b[0m\u001b[0;34m(\u001b[0m\u001b[0ma\u001b[0m\u001b[0;34m,\u001b[0m \u001b[0maxis\u001b[0m\u001b[0;34m,\u001b[0m \u001b[0mdtype\u001b[0m\u001b[0;34m,\u001b[0m \u001b[0mout\u001b[0m\u001b[0;34m,\u001b[0m \u001b[0mkeepdims\u001b[0m\u001b[0;34m,\u001b[0m \u001b[0minitial\u001b[0m\u001b[0;34m,\u001b[0m \u001b[0mwhere\u001b[0m\u001b[0;34m)\u001b[0m\u001b[0;34m\u001b[0m\u001b[0;34m\u001b[0m\u001b[0m\n\u001b[0m\u001b[1;32m     49\u001b[0m \u001b[0;34m\u001b[0m\u001b[0m\n\u001b[1;32m     50\u001b[0m def _prod(a, axis=None, dtype=None, out=None, keepdims=False,\n",
      "\u001b[0;31mKeyboardInterrupt\u001b[0m: "
     ]
    }
   ],
   "source": [
    "for user_id in tqdm(test.user_id):\n",
    "    recs = candidates.loc[neighbors[user_df.item_id.values].flatten()].item_id.values"
   ]
  },
  {
   "cell_type": "code",
   "execution_count": null,
   "metadata": {},
   "outputs": [],
   "source": []
  },
  {
   "cell_type": "code",
   "execution_count": null,
   "metadata": {},
   "outputs": [],
   "source": []
  },
  {
   "cell_type": "code",
   "execution_count": null,
   "metadata": {},
   "outputs": [],
   "source": []
  },
  {
   "cell_type": "code",
   "execution_count": 26,
   "metadata": {},
   "outputs": [],
   "source": [
    "user_id = np.random.choice(df.user_id.values)"
   ]
  },
  {
   "cell_type": "code",
   "execution_count": 27,
   "metadata": {},
   "outputs": [],
   "source": [
    "user_vecs = get_embeddings(df[df.user_id == user_id].item_id.values)"
   ]
  },
  {
   "cell_type": "code",
   "execution_count": 28,
   "metadata": {},
   "outputs": [],
   "source": [
    "target_items = df[df.user_id == user_id].item_id.values"
   ]
  },
  {
   "cell_type": "code",
   "execution_count": 30,
   "metadata": {
    "scrolled": true
   },
   "outputs": [
    {
     "data": {
      "text/plain": [
       "412"
      ]
     },
     "execution_count": 30,
     "metadata": {},
     "output_type": "execute_result"
    }
   ],
   "source": [
    "len(target_items)"
   ]
  },
  {
   "cell_type": "code",
   "execution_count": 31,
   "metadata": {},
   "outputs": [],
   "source": [
    "# vec = X[0]"
   ]
  },
  {
   "cell_type": "code",
   "execution_count": 32,
   "metadata": {},
   "outputs": [],
   "source": [
    "dist, neighbors = knn.kneighbors(user_vecs)"
   ]
  },
  {
   "cell_type": "code",
   "execution_count": 33,
   "metadata": {},
   "outputs": [
    {
     "data": {
      "text/plain": [
       "(412, 3)"
      ]
     },
     "execution_count": 33,
     "metadata": {},
     "output_type": "execute_result"
    }
   ],
   "source": [
    "neighbors.shape"
   ]
  },
  {
   "cell_type": "code",
   "execution_count": 34,
   "metadata": {},
   "outputs": [
    {
     "data": {
      "text/plain": [
       "0.8932038834951457"
      ]
     },
     "execution_count": 34,
     "metadata": {},
     "output_type": "execute_result"
    }
   ],
   "source": [
    "len(set(neighbors.flatten())) / len(list(neighbors.flatten()))"
   ]
  },
  {
   "cell_type": "code",
   "execution_count": 35,
   "metadata": {},
   "outputs": [
    {
     "data": {
      "text/plain": [
       "1.0"
      ]
     },
     "execution_count": 35,
     "metadata": {},
     "output_type": "execute_result"
    }
   ],
   "source": [
    "len(set(neighbors.flatten()) & set(target_items)) / len(target_items)"
   ]
  },
  {
   "cell_type": "code",
   "execution_count": 38,
   "metadata": {},
   "outputs": [
    {
     "data": {
      "text/plain": [
       "0.0018101456024885109"
      ]
     },
     "execution_count": 38,
     "metadata": {},
     "output_type": "execute_result"
    }
   ],
   "source": [
    "len(set(neighbors.flatten()) & set(target_items)) / len(items)"
   ]
  },
  {
   "cell_type": "code",
   "execution_count": 672,
   "metadata": {
    "pycharm": {
     "name": "#%%\n"
    }
   },
   "outputs": [],
   "source": [
    "class KNNRecommender:\n",
    "    def __init__(self, top_n=20, n_neighbors=100, last_n=300, metric='cosine', n_jobs=-1):\n",
    "        self.top_n = top_n\n",
    "        self.last_n = last_n\n",
    "        self.knn = NearestNeighbors(n_neighbors=n_neighbors, metric=metric, n_jobs=n_jobs)\n",
    "        \n",
    "    def fit(self, candidates):\n",
    "        self.embeddings = get_embeddings(candidates.item_id)\n",
    "        self.knn.fit(self.embeddings)\n",
    "        self.candidates = candidates\n",
    "        self.cand_idx_to_item = dict(zip(candidates.index.values, candidates.item_id.values))\n",
    "        self.cand_item_to_idx = dict(zip(candidates.item_id.values, candidates.index.values))\n",
    "    \n",
    "    def predict(self, user_id, user_df):\n",
    "        # get user history account last_n\n",
    "        user_embeddings = get_embeddings(user_df.item_id.values[:self.last_n])\n",
    "        \n",
    "        # get neighbors from fresh for user history\n",
    "        dist, neighbors = self.knn.kneighbors(user_embeddings)\n",
    "        \n",
    "        return dist, neighbors\n",
    "#         # naive recs extraction, item based filtering\n",
    "#         recs = set([self.cand_idx_to_item[i] for i in neighbors.flatten()])\n",
    "        \n",
    "#         seen_item_ids = set(user_df.item_id.values)\n",
    "        \n",
    "#         # remove from recs seen topics\n",
    "#         recs -= seen_item_ids\n",
    "                \n",
    "#         candidates = items['mean_timespent'].loc[recs]\n",
    "\n",
    "#         # naive rerank\n",
    "#         return candidates.sort_values().index.values[-self.top_n:]"
   ]
  },
  {
   "cell_type": "code",
   "execution_count": null,
   "metadata": {},
   "outputs": [],
   "source": []
  },
  {
   "cell_type": "code",
   "execution_count": null,
   "metadata": {},
   "outputs": [],
   "source": []
  },
  {
   "cell_type": "code",
   "execution_count": null,
   "metadata": {},
   "outputs": [],
   "source": []
  },
  {
   "cell_type": "code",
   "execution_count": null,
   "metadata": {},
   "outputs": [],
   "source": []
  },
  {
   "cell_type": "code",
   "execution_count": null,
   "metadata": {},
   "outputs": [],
   "source": []
  },
  {
   "cell_type": "code",
   "execution_count": null,
   "metadata": {},
   "outputs": [],
   "source": []
  },
  {
   "cell_type": "code",
   "execution_count": null,
   "metadata": {},
   "outputs": [],
   "source": []
  },
  {
   "cell_type": "code",
   "execution_count": null,
   "metadata": {},
   "outputs": [],
   "source": []
  },
  {
   "cell_type": "code",
   "execution_count": null,
   "metadata": {},
   "outputs": [],
   "source": []
  },
  {
   "cell_type": "code",
   "execution_count": null,
   "metadata": {},
   "outputs": [],
   "source": []
  },
  {
   "cell_type": "code",
   "execution_count": null,
   "metadata": {},
   "outputs": [],
   "source": []
  },
  {
   "cell_type": "code",
   "execution_count": null,
   "metadata": {},
   "outputs": [],
   "source": []
  },
  {
   "cell_type": "code",
   "execution_count": null,
   "metadata": {},
   "outputs": [],
   "source": []
  },
  {
   "cell_type": "code",
   "execution_count": null,
   "metadata": {},
   "outputs": [],
   "source": []
  },
  {
   "cell_type": "code",
   "execution_count": null,
   "metadata": {},
   "outputs": [],
   "source": []
  },
  {
   "cell_type": "code",
   "execution_count": null,
   "metadata": {},
   "outputs": [],
   "source": []
  },
  {
   "cell_type": "code",
   "execution_count": null,
   "metadata": {},
   "outputs": [],
   "source": []
  },
  {
   "cell_type": "code",
   "execution_count": null,
   "metadata": {},
   "outputs": [],
   "source": []
  },
  {
   "cell_type": "code",
   "execution_count": null,
   "metadata": {},
   "outputs": [],
   "source": []
  },
  {
   "cell_type": "code",
   "execution_count": null,
   "metadata": {},
   "outputs": [],
   "source": []
  },
  {
   "cell_type": "code",
   "execution_count": null,
   "metadata": {},
   "outputs": [],
   "source": []
  },
  {
   "cell_type": "code",
   "execution_count": null,
   "metadata": {},
   "outputs": [],
   "source": []
  },
  {
   "cell_type": "code",
   "execution_count": null,
   "metadata": {},
   "outputs": [],
   "source": []
  },
  {
   "cell_type": "code",
   "execution_count": null,
   "metadata": {},
   "outputs": [],
   "source": []
  },
  {
   "cell_type": "code",
   "execution_count": null,
   "metadata": {},
   "outputs": [],
   "source": []
  },
  {
   "cell_type": "code",
   "execution_count": null,
   "metadata": {},
   "outputs": [],
   "source": []
  },
  {
   "cell_type": "code",
   "execution_count": null,
   "metadata": {},
   "outputs": [],
   "source": []
  },
  {
   "cell_type": "code",
   "execution_count": null,
   "metadata": {},
   "outputs": [],
   "source": []
  },
  {
   "cell_type": "code",
   "execution_count": null,
   "metadata": {},
   "outputs": [],
   "source": []
  },
  {
   "cell_type": "code",
   "execution_count": 673,
   "metadata": {},
   "outputs": [
    {
     "data": {
      "text/html": [
       "<div>\n",
       "<style scoped>\n",
       "    .dataframe tbody tr th:only-of-type {\n",
       "        vertical-align: middle;\n",
       "    }\n",
       "\n",
       "    .dataframe tbody tr th {\n",
       "        vertical-align: top;\n",
       "    }\n",
       "\n",
       "    .dataframe thead th {\n",
       "        text-align: right;\n",
       "    }\n",
       "</style>\n",
       "<table border=\"1\" class=\"dataframe\">\n",
       "  <thead>\n",
       "    <tr style=\"text-align: right;\">\n",
       "      <th></th>\n",
       "      <th>user_id</th>\n",
       "    </tr>\n",
       "  </thead>\n",
       "  <tbody>\n",
       "    <tr>\n",
       "      <th>0</th>\n",
       "      <td>7</td>\n",
       "    </tr>\n",
       "    <tr>\n",
       "      <th>1</th>\n",
       "      <td>8</td>\n",
       "    </tr>\n",
       "    <tr>\n",
       "      <th>2</th>\n",
       "      <td>9</td>\n",
       "    </tr>\n",
       "  </tbody>\n",
       "</table>\n",
       "</div>"
      ],
      "text/plain": [
       "   user_id\n",
       "0        7\n",
       "1        8\n",
       "2        9"
      ]
     },
     "execution_count": 673,
     "metadata": {},
     "output_type": "execute_result"
    }
   ],
   "source": [
    "test = pd.read_parquet('test.parquet.gzip')\n",
    "test.head(3)"
   ]
  },
  {
   "cell_type": "code",
   "execution_count": 675,
   "metadata": {},
   "outputs": [],
   "source": [
    "model = KNNRecommender(top_n=20, n_neighbors=100, last_n=50)\n",
    "model.fit(candidates)"
   ]
  },
  {
   "cell_type": "code",
   "execution_count": 676,
   "metadata": {},
   "outputs": [],
   "source": [
    "dist, neighbors = model.predict(user_id, user_df)"
   ]
  },
  {
   "cell_type": "code",
   "execution_count": null,
   "metadata": {},
   "outputs": [],
   "source": []
  },
  {
   "cell_type": "code",
   "execution_count": 678,
   "metadata": {},
   "outputs": [
    {
     "data": {
      "text/plain": [
       "(50, 100)"
      ]
     },
     "execution_count": 678,
     "metadata": {},
     "output_type": "execute_result"
    }
   ],
   "source": [
    "dist.shape"
   ]
  },
  {
   "cell_type": "code",
   "execution_count": null,
   "metadata": {},
   "outputs": [],
   "source": [
    "# last 50 embds calc 1.30 min"
   ]
  },
  {
   "cell_type": "code",
   "execution_count": 644,
   "metadata": {},
   "outputs": [],
   "source": [
    "self = KNNRecommender(top_n=20, n_neighbors=100, last_n=50, n_jobs=1)\n",
    "self.fit(candidates)"
   ]
  },
  {
   "cell_type": "code",
   "execution_count": 652,
   "metadata": {},
   "outputs": [],
   "source": [
    "df2 = df.copy()"
   ]
  },
  {
   "cell_type": "code",
   "execution_count": 653,
   "metadata": {},
   "outputs": [],
   "source": [
    "df2 = df2.set_index('user_id')"
   ]
  },
  {
   "cell_type": "code",
   "execution_count": 654,
   "metadata": {},
   "outputs": [
    {
     "data": {
      "text/html": [
       "<div>\n",
       "<style scoped>\n",
       "    .dataframe tbody tr th:only-of-type {\n",
       "        vertical-align: middle;\n",
       "    }\n",
       "\n",
       "    .dataframe tbody tr th {\n",
       "        vertical-align: top;\n",
       "    }\n",
       "\n",
       "    .dataframe thead th {\n",
       "        text-align: right;\n",
       "    }\n",
       "</style>\n",
       "<table border=\"1\" class=\"dataframe\">\n",
       "  <thead>\n",
       "    <tr style=\"text-align: right;\">\n",
       "      <th></th>\n",
       "      <th>item_id</th>\n",
       "      <th>timespent</th>\n",
       "      <th>reaction</th>\n",
       "    </tr>\n",
       "    <tr>\n",
       "      <th>user_id</th>\n",
       "      <th></th>\n",
       "      <th></th>\n",
       "      <th></th>\n",
       "    </tr>\n",
       "  </thead>\n",
       "  <tbody>\n",
       "    <tr>\n",
       "      <th>707536</th>\n",
       "      <td>67950</td>\n",
       "      <td>0</td>\n",
       "      <td>0</td>\n",
       "    </tr>\n",
       "    <tr>\n",
       "      <th>707536</th>\n",
       "      <td>151002</td>\n",
       "      <td>0</td>\n",
       "      <td>0</td>\n",
       "    </tr>\n",
       "    <tr>\n",
       "      <th>707536</th>\n",
       "      <td>134736</td>\n",
       "      <td>0</td>\n",
       "      <td>0</td>\n",
       "    </tr>\n",
       "    <tr>\n",
       "      <th>707536</th>\n",
       "      <td>196151</td>\n",
       "      <td>0</td>\n",
       "      <td>0</td>\n",
       "    </tr>\n",
       "    <tr>\n",
       "      <th>707536</th>\n",
       "      <td>94182</td>\n",
       "      <td>0</td>\n",
       "      <td>0</td>\n",
       "    </tr>\n",
       "    <tr>\n",
       "      <th>...</th>\n",
       "      <td>...</td>\n",
       "      <td>...</td>\n",
       "      <td>...</td>\n",
       "    </tr>\n",
       "    <tr>\n",
       "      <th>849764</th>\n",
       "      <td>80910</td>\n",
       "      <td>0</td>\n",
       "      <td>0</td>\n",
       "    </tr>\n",
       "    <tr>\n",
       "      <th>993316</th>\n",
       "      <td>132328</td>\n",
       "      <td>0</td>\n",
       "      <td>0</td>\n",
       "    </tr>\n",
       "    <tr>\n",
       "      <th>993316</th>\n",
       "      <td>186701</td>\n",
       "      <td>0</td>\n",
       "      <td>0</td>\n",
       "    </tr>\n",
       "    <tr>\n",
       "      <th>666981</th>\n",
       "      <td>81857</td>\n",
       "      <td>0</td>\n",
       "      <td>0</td>\n",
       "    </tr>\n",
       "    <tr>\n",
       "      <th>666981</th>\n",
       "      <td>133987</td>\n",
       "      <td>0</td>\n",
       "      <td>0</td>\n",
       "    </tr>\n",
       "  </tbody>\n",
       "</table>\n",
       "<p>144440015 rows × 3 columns</p>\n",
       "</div>"
      ],
      "text/plain": [
       "         item_id  timespent  reaction\n",
       "user_id                              \n",
       "707536     67950          0         0\n",
       "707536    151002          0         0\n",
       "707536    134736          0         0\n",
       "707536    196151          0         0\n",
       "707536     94182          0         0\n",
       "...          ...        ...       ...\n",
       "849764     80910          0         0\n",
       "993316    132328          0         0\n",
       "993316    186701          0         0\n",
       "666981     81857          0         0\n",
       "666981    133987          0         0\n",
       "\n",
       "[144440015 rows x 3 columns]"
      ]
     },
     "execution_count": 654,
     "metadata": {},
     "output_type": "execute_result"
    }
   ],
   "source": [
    "df2"
   ]
  },
  {
   "cell_type": "code",
   "execution_count": 663,
   "metadata": {},
   "outputs": [
    {
     "data": {
      "text/plain": [
       "<pandas.core.groupby.generic.DataFrameGroupBy object at 0x201ee4510>"
      ]
     },
     "execution_count": 663,
     "metadata": {},
     "output_type": "execute_result"
    }
   ],
   "source": [
    "df.groupby(level=0)"
   ]
  },
  {
   "cell_type": "code",
   "execution_count": 667,
   "metadata": {
    "collapsed": true
   },
   "outputs": [
    {
     "name": "stderr",
     "output_type": "stream",
     "text": [
      "  3%|▎         | 25384/1000183 [14:03<8:59:58, 30.09it/s] \n"
     ]
    },
    {
     "ename": "KeyboardInterrupt",
     "evalue": "",
     "output_type": "error",
     "traceback": [
      "\u001b[0;31m---------------------------------------------------------------------------\u001b[0m",
      "\u001b[0;31mKeyboardInterrupt\u001b[0m                         Traceback (most recent call last)",
      "\u001b[0;32m<ipython-input-667-68ccf238c230>\u001b[0m in \u001b[0;36m<module>\u001b[0;34m\u001b[0m\n\u001b[1;32m      2\u001b[0m \u001b[0;32mfor\u001b[0m \u001b[0muser_id\u001b[0m\u001b[0;34m,\u001b[0m \u001b[0msubdf\u001b[0m \u001b[0;32min\u001b[0m \u001b[0mtqdm\u001b[0m\u001b[0;34m(\u001b[0m\u001b[0mdf\u001b[0m\u001b[0;34m[\u001b[0m\u001b[0;34m[\u001b[0m\u001b[0;34m'user_id'\u001b[0m\u001b[0;34m,\u001b[0m \u001b[0;34m'item_id'\u001b[0m\u001b[0;34m]\u001b[0m\u001b[0;34m]\u001b[0m\u001b[0;34m.\u001b[0m\u001b[0mgroupby\u001b[0m\u001b[0;34m(\u001b[0m\u001b[0;34m'user_id'\u001b[0m\u001b[0;34m)\u001b[0m\u001b[0;34m,\u001b[0m \u001b[0mtotal\u001b[0m\u001b[0;34m=\u001b[0m\u001b[0mlen\u001b[0m\u001b[0;34m(\u001b[0m\u001b[0mdf\u001b[0m\u001b[0;34m.\u001b[0m\u001b[0muser_id\u001b[0m\u001b[0;34m.\u001b[0m\u001b[0munique\u001b[0m\u001b[0;34m(\u001b[0m\u001b[0;34m)\u001b[0m\u001b[0;34m)\u001b[0m\u001b[0;34m)\u001b[0m\u001b[0;34m:\u001b[0m\u001b[0;34m\u001b[0m\u001b[0;34m\u001b[0m\u001b[0m\n\u001b[1;32m      3\u001b[0m     \u001b[0;32mif\u001b[0m \u001b[0muser_id\u001b[0m \u001b[0;32min\u001b[0m \u001b[0mtestset\u001b[0m\u001b[0;34m:\u001b[0m\u001b[0;34m\u001b[0m\u001b[0;34m\u001b[0m\u001b[0m\n\u001b[0;32m----> 4\u001b[0;31m         \u001b[0mpred\u001b[0m \u001b[0;34m=\u001b[0m \u001b[0mmodel\u001b[0m\u001b[0;34m.\u001b[0m\u001b[0mpredict\u001b[0m\u001b[0;34m(\u001b[0m\u001b[0muser_id\u001b[0m\u001b[0;34m,\u001b[0m \u001b[0msubdf\u001b[0m\u001b[0;34m)\u001b[0m\u001b[0;34m\u001b[0m\u001b[0;34m\u001b[0m\u001b[0m\n\u001b[0m\u001b[1;32m      5\u001b[0m         \u001b[0mpredictions\u001b[0m\u001b[0;34m.\u001b[0m\u001b[0mappend\u001b[0m\u001b[0;34m(\u001b[0m\u001b[0;34m(\u001b[0m\u001b[0muser_id\u001b[0m\u001b[0;34m,\u001b[0m \u001b[0mpred\u001b[0m\u001b[0;34m)\u001b[0m\u001b[0;34m)\u001b[0m\u001b[0;34m\u001b[0m\u001b[0;34m\u001b[0m\u001b[0m\n\u001b[1;32m      6\u001b[0m \u001b[0;34m\u001b[0m\u001b[0m\n",
      "\u001b[0;32m<ipython-input-640-0748bfe885e8>\u001b[0m in \u001b[0;36mpredict\u001b[0;34m(self, user_id, user_df)\u001b[0m\n\u001b[1;32m     17\u001b[0m \u001b[0;34m\u001b[0m\u001b[0m\n\u001b[1;32m     18\u001b[0m         \u001b[0;31m# get neighbors from fresh for user history\u001b[0m\u001b[0;34m\u001b[0m\u001b[0;34m\u001b[0m\u001b[0;34m\u001b[0m\u001b[0m\n\u001b[0;32m---> 19\u001b[0;31m         \u001b[0mdist\u001b[0m\u001b[0;34m,\u001b[0m \u001b[0mneighbors\u001b[0m \u001b[0;34m=\u001b[0m \u001b[0mself\u001b[0m\u001b[0;34m.\u001b[0m\u001b[0mknn\u001b[0m\u001b[0;34m.\u001b[0m\u001b[0mkneighbors\u001b[0m\u001b[0;34m(\u001b[0m\u001b[0muser_embeddings\u001b[0m\u001b[0;34m)\u001b[0m\u001b[0;34m\u001b[0m\u001b[0;34m\u001b[0m\u001b[0m\n\u001b[0m\u001b[1;32m     20\u001b[0m \u001b[0;34m\u001b[0m\u001b[0m\n\u001b[1;32m     21\u001b[0m         \u001b[0;31m# naive recs extraction, item based filtering\u001b[0m\u001b[0;34m\u001b[0m\u001b[0;34m\u001b[0m\u001b[0;34m\u001b[0m\u001b[0m\n",
      "\u001b[0;32m~/.pyenv/versions/3.7.10/lib/python3.7/site-packages/sklearn/neighbors/_base.py\u001b[0m in \u001b[0;36mkneighbors\u001b[0;34m(self, X, n_neighbors, return_distance)\u001b[0m\n\u001b[1;32m    757\u001b[0m                     \u001b[0mmetric\u001b[0m\u001b[0;34m=\u001b[0m\u001b[0mself\u001b[0m\u001b[0;34m.\u001b[0m\u001b[0meffective_metric_\u001b[0m\u001b[0;34m,\u001b[0m\u001b[0;34m\u001b[0m\u001b[0;34m\u001b[0m\u001b[0m\n\u001b[1;32m    758\u001b[0m                     \u001b[0mn_jobs\u001b[0m\u001b[0;34m=\u001b[0m\u001b[0mn_jobs\u001b[0m\u001b[0;34m,\u001b[0m\u001b[0;34m\u001b[0m\u001b[0;34m\u001b[0m\u001b[0m\n\u001b[0;32m--> 759\u001b[0;31m                     \u001b[0;34m**\u001b[0m\u001b[0mkwds\u001b[0m\u001b[0;34m,\u001b[0m\u001b[0;34m\u001b[0m\u001b[0;34m\u001b[0m\u001b[0m\n\u001b[0m\u001b[1;32m    760\u001b[0m                 )\n\u001b[1;32m    761\u001b[0m             )\n",
      "\u001b[0;32m~/.pyenv/versions/3.7.10/lib/python3.7/site-packages/sklearn/metrics/pairwise.py\u001b[0m in \u001b[0;36mpairwise_distances_chunked\u001b[0;34m(X, Y, reduce_func, metric, n_jobs, working_memory, **kwds)\u001b[0m\n\u001b[1;32m   1715\u001b[0m         \u001b[0;32melse\u001b[0m\u001b[0;34m:\u001b[0m\u001b[0;34m\u001b[0m\u001b[0;34m\u001b[0m\u001b[0m\n\u001b[1;32m   1716\u001b[0m             \u001b[0mX_chunk\u001b[0m \u001b[0;34m=\u001b[0m \u001b[0mX\u001b[0m\u001b[0;34m[\u001b[0m\u001b[0msl\u001b[0m\u001b[0;34m]\u001b[0m\u001b[0;34m\u001b[0m\u001b[0;34m\u001b[0m\u001b[0m\n\u001b[0;32m-> 1717\u001b[0;31m         \u001b[0mD_chunk\u001b[0m \u001b[0;34m=\u001b[0m \u001b[0mpairwise_distances\u001b[0m\u001b[0;34m(\u001b[0m\u001b[0mX_chunk\u001b[0m\u001b[0;34m,\u001b[0m \u001b[0mY\u001b[0m\u001b[0;34m,\u001b[0m \u001b[0mmetric\u001b[0m\u001b[0;34m=\u001b[0m\u001b[0mmetric\u001b[0m\u001b[0;34m,\u001b[0m \u001b[0mn_jobs\u001b[0m\u001b[0;34m=\u001b[0m\u001b[0mn_jobs\u001b[0m\u001b[0;34m,\u001b[0m \u001b[0;34m**\u001b[0m\u001b[0mkwds\u001b[0m\u001b[0;34m)\u001b[0m\u001b[0;34m\u001b[0m\u001b[0;34m\u001b[0m\u001b[0m\n\u001b[0m\u001b[1;32m   1718\u001b[0m         if (X is Y or Y is None) and PAIRWISE_DISTANCE_FUNCTIONS.get(\n\u001b[1;32m   1719\u001b[0m             \u001b[0mmetric\u001b[0m\u001b[0;34m,\u001b[0m \u001b[0;32mNone\u001b[0m\u001b[0;34m\u001b[0m\u001b[0;34m\u001b[0m\u001b[0m\n",
      "\u001b[0;32m~/.pyenv/versions/3.7.10/lib/python3.7/site-packages/sklearn/metrics/pairwise.py\u001b[0m in \u001b[0;36mpairwise_distances\u001b[0;34m(X, Y, metric, n_jobs, force_all_finite, **kwds)\u001b[0m\n\u001b[1;32m   1887\u001b[0m         \u001b[0mfunc\u001b[0m \u001b[0;34m=\u001b[0m \u001b[0mpartial\u001b[0m\u001b[0;34m(\u001b[0m\u001b[0mdistance\u001b[0m\u001b[0;34m.\u001b[0m\u001b[0mcdist\u001b[0m\u001b[0;34m,\u001b[0m \u001b[0mmetric\u001b[0m\u001b[0;34m=\u001b[0m\u001b[0mmetric\u001b[0m\u001b[0;34m,\u001b[0m \u001b[0;34m**\u001b[0m\u001b[0mkwds\u001b[0m\u001b[0;34m)\u001b[0m\u001b[0;34m\u001b[0m\u001b[0;34m\u001b[0m\u001b[0m\n\u001b[1;32m   1888\u001b[0m \u001b[0;34m\u001b[0m\u001b[0m\n\u001b[0;32m-> 1889\u001b[0;31m     \u001b[0;32mreturn\u001b[0m \u001b[0m_parallel_pairwise\u001b[0m\u001b[0;34m(\u001b[0m\u001b[0mX\u001b[0m\u001b[0;34m,\u001b[0m \u001b[0mY\u001b[0m\u001b[0;34m,\u001b[0m \u001b[0mfunc\u001b[0m\u001b[0;34m,\u001b[0m \u001b[0mn_jobs\u001b[0m\u001b[0;34m,\u001b[0m \u001b[0;34m**\u001b[0m\u001b[0mkwds\u001b[0m\u001b[0;34m)\u001b[0m\u001b[0;34m\u001b[0m\u001b[0;34m\u001b[0m\u001b[0m\n\u001b[0m\u001b[1;32m   1890\u001b[0m \u001b[0;34m\u001b[0m\u001b[0m\n\u001b[1;32m   1891\u001b[0m \u001b[0;34m\u001b[0m\u001b[0m\n",
      "\u001b[0;32m~/.pyenv/versions/3.7.10/lib/python3.7/site-packages/sklearn/metrics/pairwise.py\u001b[0m in \u001b[0;36m_parallel_pairwise\u001b[0;34m(X, Y, func, n_jobs, **kwds)\u001b[0m\n\u001b[1;32m   1435\u001b[0m     Parallel(backend=\"threading\", n_jobs=n_jobs)(\n\u001b[1;32m   1436\u001b[0m         \u001b[0mfd\u001b[0m\u001b[0;34m(\u001b[0m\u001b[0mfunc\u001b[0m\u001b[0;34m,\u001b[0m \u001b[0mret\u001b[0m\u001b[0;34m,\u001b[0m \u001b[0ms\u001b[0m\u001b[0;34m,\u001b[0m \u001b[0mX\u001b[0m\u001b[0;34m,\u001b[0m \u001b[0mY\u001b[0m\u001b[0;34m[\u001b[0m\u001b[0ms\u001b[0m\u001b[0;34m]\u001b[0m\u001b[0;34m,\u001b[0m \u001b[0;34m**\u001b[0m\u001b[0mkwds\u001b[0m\u001b[0;34m)\u001b[0m\u001b[0;34m\u001b[0m\u001b[0;34m\u001b[0m\u001b[0m\n\u001b[0;32m-> 1437\u001b[0;31m         \u001b[0;32mfor\u001b[0m \u001b[0ms\u001b[0m \u001b[0;32min\u001b[0m \u001b[0mgen_even_slices\u001b[0m\u001b[0;34m(\u001b[0m\u001b[0m_num_samples\u001b[0m\u001b[0;34m(\u001b[0m\u001b[0mY\u001b[0m\u001b[0;34m)\u001b[0m\u001b[0;34m,\u001b[0m \u001b[0meffective_n_jobs\u001b[0m\u001b[0;34m(\u001b[0m\u001b[0mn_jobs\u001b[0m\u001b[0;34m)\u001b[0m\u001b[0;34m)\u001b[0m\u001b[0;34m\u001b[0m\u001b[0;34m\u001b[0m\u001b[0m\n\u001b[0m\u001b[1;32m   1438\u001b[0m     )\n\u001b[1;32m   1439\u001b[0m \u001b[0;34m\u001b[0m\u001b[0m\n",
      "\u001b[0;32m~/.pyenv/versions/3.7.10/lib/python3.7/site-packages/joblib/parallel.py\u001b[0m in \u001b[0;36m__call__\u001b[0;34m(self, iterable)\u001b[0m\n\u001b[1;32m   1052\u001b[0m \u001b[0;34m\u001b[0m\u001b[0m\n\u001b[1;32m   1053\u001b[0m             \u001b[0;32mwith\u001b[0m \u001b[0mself\u001b[0m\u001b[0;34m.\u001b[0m\u001b[0m_backend\u001b[0m\u001b[0;34m.\u001b[0m\u001b[0mretrieval_context\u001b[0m\u001b[0;34m(\u001b[0m\u001b[0;34m)\u001b[0m\u001b[0;34m:\u001b[0m\u001b[0;34m\u001b[0m\u001b[0;34m\u001b[0m\u001b[0m\n\u001b[0;32m-> 1054\u001b[0;31m                 \u001b[0mself\u001b[0m\u001b[0;34m.\u001b[0m\u001b[0mretrieve\u001b[0m\u001b[0;34m(\u001b[0m\u001b[0;34m)\u001b[0m\u001b[0;34m\u001b[0m\u001b[0;34m\u001b[0m\u001b[0m\n\u001b[0m\u001b[1;32m   1055\u001b[0m             \u001b[0;31m# Make sure that we get a last message telling us we are done\u001b[0m\u001b[0;34m\u001b[0m\u001b[0;34m\u001b[0m\u001b[0;34m\u001b[0m\u001b[0m\n\u001b[1;32m   1056\u001b[0m             \u001b[0melapsed_time\u001b[0m \u001b[0;34m=\u001b[0m \u001b[0mtime\u001b[0m\u001b[0;34m.\u001b[0m\u001b[0mtime\u001b[0m\u001b[0;34m(\u001b[0m\u001b[0;34m)\u001b[0m \u001b[0;34m-\u001b[0m \u001b[0mself\u001b[0m\u001b[0;34m.\u001b[0m\u001b[0m_start_time\u001b[0m\u001b[0;34m\u001b[0m\u001b[0;34m\u001b[0m\u001b[0m\n",
      "\u001b[0;32m~/.pyenv/versions/3.7.10/lib/python3.7/site-packages/joblib/parallel.py\u001b[0m in \u001b[0;36mretrieve\u001b[0;34m(self)\u001b[0m\n\u001b[1;32m    931\u001b[0m             \u001b[0;32mtry\u001b[0m\u001b[0;34m:\u001b[0m\u001b[0;34m\u001b[0m\u001b[0;34m\u001b[0m\u001b[0m\n\u001b[1;32m    932\u001b[0m                 \u001b[0;32mif\u001b[0m \u001b[0mgetattr\u001b[0m\u001b[0;34m(\u001b[0m\u001b[0mself\u001b[0m\u001b[0;34m.\u001b[0m\u001b[0m_backend\u001b[0m\u001b[0;34m,\u001b[0m \u001b[0;34m'supports_timeout'\u001b[0m\u001b[0;34m,\u001b[0m \u001b[0;32mFalse\u001b[0m\u001b[0;34m)\u001b[0m\u001b[0;34m:\u001b[0m\u001b[0;34m\u001b[0m\u001b[0;34m\u001b[0m\u001b[0m\n\u001b[0;32m--> 933\u001b[0;31m                     \u001b[0mself\u001b[0m\u001b[0;34m.\u001b[0m\u001b[0m_output\u001b[0m\u001b[0;34m.\u001b[0m\u001b[0mextend\u001b[0m\u001b[0;34m(\u001b[0m\u001b[0mjob\u001b[0m\u001b[0;34m.\u001b[0m\u001b[0mget\u001b[0m\u001b[0;34m(\u001b[0m\u001b[0mtimeout\u001b[0m\u001b[0;34m=\u001b[0m\u001b[0mself\u001b[0m\u001b[0;34m.\u001b[0m\u001b[0mtimeout\u001b[0m\u001b[0;34m)\u001b[0m\u001b[0;34m)\u001b[0m\u001b[0;34m\u001b[0m\u001b[0;34m\u001b[0m\u001b[0m\n\u001b[0m\u001b[1;32m    934\u001b[0m                 \u001b[0;32melse\u001b[0m\u001b[0;34m:\u001b[0m\u001b[0;34m\u001b[0m\u001b[0;34m\u001b[0m\u001b[0m\n\u001b[1;32m    935\u001b[0m                     \u001b[0mself\u001b[0m\u001b[0;34m.\u001b[0m\u001b[0m_output\u001b[0m\u001b[0;34m.\u001b[0m\u001b[0mextend\u001b[0m\u001b[0;34m(\u001b[0m\u001b[0mjob\u001b[0m\u001b[0;34m.\u001b[0m\u001b[0mget\u001b[0m\u001b[0;34m(\u001b[0m\u001b[0;34m)\u001b[0m\u001b[0;34m)\u001b[0m\u001b[0;34m\u001b[0m\u001b[0;34m\u001b[0m\u001b[0m\n",
      "\u001b[0;32m~/.pyenv/versions/3.7.10/lib/python3.7/multiprocessing/pool.py\u001b[0m in \u001b[0;36mget\u001b[0;34m(self, timeout)\u001b[0m\n\u001b[1;32m    649\u001b[0m \u001b[0;34m\u001b[0m\u001b[0m\n\u001b[1;32m    650\u001b[0m     \u001b[0;32mdef\u001b[0m \u001b[0mget\u001b[0m\u001b[0;34m(\u001b[0m\u001b[0mself\u001b[0m\u001b[0;34m,\u001b[0m \u001b[0mtimeout\u001b[0m\u001b[0;34m=\u001b[0m\u001b[0;32mNone\u001b[0m\u001b[0;34m)\u001b[0m\u001b[0;34m:\u001b[0m\u001b[0;34m\u001b[0m\u001b[0;34m\u001b[0m\u001b[0m\n\u001b[0;32m--> 651\u001b[0;31m         \u001b[0mself\u001b[0m\u001b[0;34m.\u001b[0m\u001b[0mwait\u001b[0m\u001b[0;34m(\u001b[0m\u001b[0mtimeout\u001b[0m\u001b[0;34m)\u001b[0m\u001b[0;34m\u001b[0m\u001b[0;34m\u001b[0m\u001b[0m\n\u001b[0m\u001b[1;32m    652\u001b[0m         \u001b[0;32mif\u001b[0m \u001b[0;32mnot\u001b[0m \u001b[0mself\u001b[0m\u001b[0;34m.\u001b[0m\u001b[0mready\u001b[0m\u001b[0;34m(\u001b[0m\u001b[0;34m)\u001b[0m\u001b[0;34m:\u001b[0m\u001b[0;34m\u001b[0m\u001b[0;34m\u001b[0m\u001b[0m\n\u001b[1;32m    653\u001b[0m             \u001b[0;32mraise\u001b[0m \u001b[0mTimeoutError\u001b[0m\u001b[0;34m\u001b[0m\u001b[0;34m\u001b[0m\u001b[0m\n",
      "\u001b[0;32m~/.pyenv/versions/3.7.10/lib/python3.7/multiprocessing/pool.py\u001b[0m in \u001b[0;36mwait\u001b[0;34m(self, timeout)\u001b[0m\n\u001b[1;32m    646\u001b[0m \u001b[0;34m\u001b[0m\u001b[0m\n\u001b[1;32m    647\u001b[0m     \u001b[0;32mdef\u001b[0m \u001b[0mwait\u001b[0m\u001b[0;34m(\u001b[0m\u001b[0mself\u001b[0m\u001b[0;34m,\u001b[0m \u001b[0mtimeout\u001b[0m\u001b[0;34m=\u001b[0m\u001b[0;32mNone\u001b[0m\u001b[0;34m)\u001b[0m\u001b[0;34m:\u001b[0m\u001b[0;34m\u001b[0m\u001b[0;34m\u001b[0m\u001b[0m\n\u001b[0;32m--> 648\u001b[0;31m         \u001b[0mself\u001b[0m\u001b[0;34m.\u001b[0m\u001b[0m_event\u001b[0m\u001b[0;34m.\u001b[0m\u001b[0mwait\u001b[0m\u001b[0;34m(\u001b[0m\u001b[0mtimeout\u001b[0m\u001b[0;34m)\u001b[0m\u001b[0;34m\u001b[0m\u001b[0;34m\u001b[0m\u001b[0m\n\u001b[0m\u001b[1;32m    649\u001b[0m \u001b[0;34m\u001b[0m\u001b[0m\n\u001b[1;32m    650\u001b[0m     \u001b[0;32mdef\u001b[0m \u001b[0mget\u001b[0m\u001b[0;34m(\u001b[0m\u001b[0mself\u001b[0m\u001b[0;34m,\u001b[0m \u001b[0mtimeout\u001b[0m\u001b[0;34m=\u001b[0m\u001b[0;32mNone\u001b[0m\u001b[0;34m)\u001b[0m\u001b[0;34m:\u001b[0m\u001b[0;34m\u001b[0m\u001b[0;34m\u001b[0m\u001b[0m\n",
      "\u001b[0;32m~/.pyenv/versions/3.7.10/lib/python3.7/threading.py\u001b[0m in \u001b[0;36mwait\u001b[0;34m(self, timeout)\u001b[0m\n\u001b[1;32m    550\u001b[0m             \u001b[0msignaled\u001b[0m \u001b[0;34m=\u001b[0m \u001b[0mself\u001b[0m\u001b[0;34m.\u001b[0m\u001b[0m_flag\u001b[0m\u001b[0;34m\u001b[0m\u001b[0;34m\u001b[0m\u001b[0m\n\u001b[1;32m    551\u001b[0m             \u001b[0;32mif\u001b[0m \u001b[0;32mnot\u001b[0m \u001b[0msignaled\u001b[0m\u001b[0;34m:\u001b[0m\u001b[0;34m\u001b[0m\u001b[0;34m\u001b[0m\u001b[0m\n\u001b[0;32m--> 552\u001b[0;31m                 \u001b[0msignaled\u001b[0m \u001b[0;34m=\u001b[0m \u001b[0mself\u001b[0m\u001b[0;34m.\u001b[0m\u001b[0m_cond\u001b[0m\u001b[0;34m.\u001b[0m\u001b[0mwait\u001b[0m\u001b[0;34m(\u001b[0m\u001b[0mtimeout\u001b[0m\u001b[0;34m)\u001b[0m\u001b[0;34m\u001b[0m\u001b[0;34m\u001b[0m\u001b[0m\n\u001b[0m\u001b[1;32m    553\u001b[0m             \u001b[0;32mreturn\u001b[0m \u001b[0msignaled\u001b[0m\u001b[0;34m\u001b[0m\u001b[0;34m\u001b[0m\u001b[0m\n\u001b[1;32m    554\u001b[0m \u001b[0;34m\u001b[0m\u001b[0m\n",
      "\u001b[0;32m~/.pyenv/versions/3.7.10/lib/python3.7/threading.py\u001b[0m in \u001b[0;36mwait\u001b[0;34m(self, timeout)\u001b[0m\n\u001b[1;32m    294\u001b[0m         \u001b[0;32mtry\u001b[0m\u001b[0;34m:\u001b[0m    \u001b[0;31m# restore state no matter what (e.g., KeyboardInterrupt)\u001b[0m\u001b[0;34m\u001b[0m\u001b[0;34m\u001b[0m\u001b[0m\n\u001b[1;32m    295\u001b[0m             \u001b[0;32mif\u001b[0m \u001b[0mtimeout\u001b[0m \u001b[0;32mis\u001b[0m \u001b[0;32mNone\u001b[0m\u001b[0;34m:\u001b[0m\u001b[0;34m\u001b[0m\u001b[0;34m\u001b[0m\u001b[0m\n\u001b[0;32m--> 296\u001b[0;31m                 \u001b[0mwaiter\u001b[0m\u001b[0;34m.\u001b[0m\u001b[0macquire\u001b[0m\u001b[0;34m(\u001b[0m\u001b[0;34m)\u001b[0m\u001b[0;34m\u001b[0m\u001b[0;34m\u001b[0m\u001b[0m\n\u001b[0m\u001b[1;32m    297\u001b[0m                 \u001b[0mgotit\u001b[0m \u001b[0;34m=\u001b[0m \u001b[0;32mTrue\u001b[0m\u001b[0;34m\u001b[0m\u001b[0;34m\u001b[0m\u001b[0m\n\u001b[1;32m    298\u001b[0m             \u001b[0;32melse\u001b[0m\u001b[0;34m:\u001b[0m\u001b[0;34m\u001b[0m\u001b[0;34m\u001b[0m\u001b[0m\n",
      "\u001b[0;31mKeyboardInterrupt\u001b[0m: "
     ]
    }
   ],
   "source": [
    "predictions = []\n",
    "for user_id, subdf in tqdm(df[['user_id', 'item_id']].groupby('user_id'), total=len(df.user_id.unique())):\n",
    "    if user_id in testset:\n",
    "        pred = model.predict(user_id, subdf)\n",
    "        predictions.append((user_id, pred))"
   ]
  },
  {
   "cell_type": "code",
   "execution_count": null,
   "metadata": {},
   "outputs": [],
   "source": [
    "map_test = dict(predictions)\n",
    "\n",
    "test_predictions = []\n",
    "for user_id in test.user_id:\n",
    "    test_predictions.append(map_test[user_id].values)\n",
    "test['predictions'] = test_predictions\n",
    "\n",
    "test.head(3)"
   ]
  },
  {
   "cell_type": "code",
   "execution_count": null,
   "metadata": {},
   "outputs": [],
   "source": [
    "test.to_parquet('sample_submission_knn.parquet.gzip', compression='gzip', engine='pyarrow')"
   ]
  },
  {
   "cell_type": "code",
   "execution_count": null,
   "metadata": {},
   "outputs": [],
   "source": []
  },
  {
   "cell_type": "code",
   "execution_count": null,
   "metadata": {},
   "outputs": [],
   "source": []
  },
  {
   "cell_type": "code",
   "execution_count": null,
   "metadata": {},
   "outputs": [],
   "source": []
  },
  {
   "cell_type": "code",
   "execution_count": null,
   "metadata": {},
   "outputs": [],
   "source": []
  },
  {
   "cell_type": "code",
   "execution_count": null,
   "metadata": {},
   "outputs": [],
   "source": []
  },
  {
   "cell_type": "code",
   "execution_count": 618,
   "metadata": {},
   "outputs": [],
   "source": [
    "user_df = df[df.user_id == user_id]"
   ]
  },
  {
   "cell_type": "code",
   "execution_count": 619,
   "metadata": {},
   "outputs": [],
   "source": [
    "pred = model.predict(user_id, user_df)"
   ]
  },
  {
   "cell_type": "code",
   "execution_count": 447,
   "metadata": {},
   "outputs": [],
   "source": [
    "cand_idx_to_item = dict(zip(candidates.index.values, candidates.item_id.values))"
   ]
  },
  {
   "cell_type": "code",
   "execution_count": 450,
   "metadata": {},
   "outputs": [],
   "source": [
    "cand_item_to_idx = dict(zip(candidates.item_id.values, candidates.index.values))"
   ]
  },
  {
   "cell_type": "code",
   "execution_count": 409,
   "metadata": {},
   "outputs": [],
   "source": [
    "candidates['item_idx'] = candidates['item_id']"
   ]
  },
  {
   "cell_type": "code",
   "execution_count": 410,
   "metadata": {},
   "outputs": [],
   "source": [
    "candidates = candidates.set_index('item_idx')"
   ]
  },
  {
   "cell_type": "code",
   "execution_count": 257,
   "metadata": {},
   "outputs": [],
   "source": [
    "model = KNNRecommender(top_n=20, n_items_count=300)\n",
    "model.fit(candidates)"
   ]
  },
  {
   "cell_type": "code",
   "execution_count": 279,
   "metadata": {},
   "outputs": [],
   "source": [
    "self = KNNRecommender(top_n=20, n_items_count=300)\n",
    "self.fit(candidates)"
   ]
  },
  {
   "cell_type": "code",
   "execution_count": 522,
   "metadata": {},
   "outputs": [],
   "source": [
    "knn = NearestNeighbors(metric='cosine')"
   ]
  },
  {
   "cell_type": "code",
   "execution_count": 523,
   "metadata": {},
   "outputs": [],
   "source": [
    "X = get_embeddings(candidates.index)"
   ]
  },
  {
   "cell_type": "code",
   "execution_count": 524,
   "metadata": {},
   "outputs": [],
   "source": [
    "all_embeddings = get_embeddings(items.index)"
   ]
  },
  {
   "cell_type": "code",
   "execution_count": 525,
   "metadata": {},
   "outputs": [],
   "source": [
    "fresh_embeddings = get_embeddings(candidates.index)"
   ]
  },
  {
   "cell_type": "code",
   "execution_count": 528,
   "metadata": {},
   "outputs": [
    {
     "data": {
      "text/plain": [
       "NearestNeighbors(metric='cosine')"
      ]
     },
     "execution_count": 528,
     "metadata": {},
     "output_type": "execute_result"
    }
   ],
   "source": [
    "knn.fit(fresh_embeddings)"
   ]
  },
  {
   "cell_type": "code",
   "execution_count": 474,
   "metadata": {},
   "outputs": [],
   "source": [
    "# iloc -> numeric\n",
    "# loc -> item_id"
   ]
  },
  {
   "cell_type": "code",
   "execution_count": 530,
   "metadata": {},
   "outputs": [],
   "source": [
    "user_df = df[df.user_id == user_id]"
   ]
  },
  {
   "cell_type": "code",
   "execution_count": 531,
   "metadata": {},
   "outputs": [],
   "source": [
    "user_df = user_df.set_index('item_id')"
   ]
  },
  {
   "cell_type": "code",
   "execution_count": 532,
   "metadata": {},
   "outputs": [],
   "source": [
    "user_embeddings = get_embeddings(user_df.index)"
   ]
  },
  {
   "cell_type": "code",
   "execution_count": 544,
   "metadata": {},
   "outputs": [],
   "source": [
    "neig_dist, neig_ind = knn.kneighbors(user_embeddings, n_neighbors=10)"
   ]
  },
  {
   "cell_type": "code",
   "execution_count": 545,
   "metadata": {},
   "outputs": [
    {
     "data": {
      "text/plain": [
       "(151, 10)"
      ]
     },
     "execution_count": 545,
     "metadata": {},
     "output_type": "execute_result"
    }
   ],
   "source": [
    "neig_ind.shape"
   ]
  },
  {
   "cell_type": "code",
   "execution_count": 546,
   "metadata": {},
   "outputs": [],
   "source": [
    "recs = []\n",
    "for i in neig_ind.flatten():\n",
    "    recs.append(cand_idx_to_item[i])"
   ]
  },
  {
   "cell_type": "code",
   "execution_count": 547,
   "metadata": {},
   "outputs": [
    {
     "data": {
      "text/plain": [
       "1510"
      ]
     },
     "execution_count": 547,
     "metadata": {},
     "output_type": "execute_result"
    }
   ],
   "source": [
    "len(recs)"
   ]
  },
  {
   "cell_type": "code",
   "execution_count": 548,
   "metadata": {},
   "outputs": [
    {
     "data": {
      "text/plain": [
       "1157"
      ]
     },
     "execution_count": 548,
     "metadata": {},
     "output_type": "execute_result"
    }
   ],
   "source": [
    "len(set(recs))"
   ]
  },
  {
   "cell_type": "code",
   "execution_count": 549,
   "metadata": {},
   "outputs": [],
   "source": [
    "history = user_df.index.values"
   ]
  },
  {
   "cell_type": "code",
   "execution_count": 550,
   "metadata": {},
   "outputs": [
    {
     "data": {
      "text/plain": [
       "151"
      ]
     },
     "execution_count": 550,
     "metadata": {},
     "output_type": "execute_result"
    }
   ],
   "source": [
    "len(history)"
   ]
  },
  {
   "cell_type": "code",
   "execution_count": 551,
   "metadata": {},
   "outputs": [],
   "source": [
    "match = set(history) & set(recs)"
   ]
  },
  {
   "cell_type": "code",
   "execution_count": 552,
   "metadata": {},
   "outputs": [],
   "source": [
    "possible_match = set(history) & set(candidates.item_id.values)"
   ]
  },
  {
   "cell_type": "code",
   "execution_count": 553,
   "metadata": {},
   "outputs": [
    {
     "data": {
      "text/plain": [
       "86"
      ]
     },
     "execution_count": 553,
     "metadata": {},
     "output_type": "execute_result"
    }
   ],
   "source": [
    "len(possible_match)"
   ]
  },
  {
   "cell_type": "code",
   "execution_count": 580,
   "metadata": {},
   "outputs": [],
   "source": [
    "last_n = 2"
   ]
  },
  {
   "cell_type": "code",
   "execution_count": 581,
   "metadata": {
    "collapsed": true
   },
   "outputs": [
    {
     "name": "stdout",
     "output_type": "stream",
     "text": [
      "n: 25\n",
      "unique/all: 1.0\n",
      "match: 0\n",
      "possible match: 1\n",
      "----------\n",
      "n: 30\n",
      "unique/all: 1.0\n",
      "match: 0\n",
      "possible match: 1\n",
      "----------\n",
      "n: 50\n",
      "unique/all: 1.0\n",
      "match: 0\n",
      "possible match: 1\n",
      "----------\n",
      "n: 70\n",
      "unique/all: 0.9857142857142858\n",
      "match: 0\n",
      "possible match: 1\n",
      "----------\n",
      "n: 100\n",
      "unique/all: 0.99\n",
      "match: 0\n",
      "possible match: 1\n",
      "----------\n",
      "n: 200\n",
      "unique/all: 0.985\n",
      "match: 0\n",
      "possible match: 1\n",
      "----------\n",
      "n: 300\n",
      "unique/all: 0.9866666666666667\n",
      "match: 0\n",
      "possible match: 1\n",
      "----------\n",
      "n: 500\n",
      "unique/all: 0.979\n",
      "match: 0\n",
      "possible match: 1\n",
      "----------\n",
      "n: 1000\n",
      "unique/all: 0.9635\n",
      "match: 0\n",
      "possible match: 1\n",
      "----------\n",
      "n: 2000\n",
      "unique/all: 0.93925\n",
      "match: 0\n",
      "possible match: 1\n",
      "----------\n",
      "n: 3000\n",
      "unique/all: 0.9165\n",
      "match: 0\n",
      "possible match: 1\n",
      "----------\n"
     ]
    }
   ],
   "source": [
    "for n in [25, 30, 50, 70, 100, 200, 300, 500, 1000, 2000, 3000]:\n",
    "    print(f'n: {n}')\n",
    "    \n",
    "    neig_dist, neig_ind = knn.kneighbors(user_embeddings[-last_n:], n_neighbors=n)\n",
    "    recs = []\n",
    "    for i in neig_ind.flatten():\n",
    "        recs.append(cand_idx_to_item[i])\n",
    "    \n",
    "    match = set(history[-last_n:]) & set(recs)\n",
    "    possible_match = set(history[-last_n:]) & set(candidates.item_id.values)\n",
    "    \n",
    "    print(f'unique/all: {len(set(recs)) / len(recs)}')\n",
    "    print(f'match: {len(match)}')\n",
    "    print(f'possible match: {len(possible_match)}')\n",
    "    print(f'-'*10)"
   ]
  },
  {
   "cell_type": "code",
   "execution_count": 554,
   "metadata": {},
   "outputs": [
    {
     "data": {
      "text/plain": [
       "2"
      ]
     },
     "execution_count": 554,
     "metadata": {},
     "output_type": "execute_result"
    }
   ],
   "source": [
    "len(match)"
   ]
  },
  {
   "cell_type": "code",
   "execution_count": 482,
   "metadata": {},
   "outputs": [],
   "source": [
    "history = user_df.index.values"
   ]
  },
  {
   "cell_type": "code",
   "execution_count": null,
   "metadata": {},
   "outputs": [],
   "source": [
    "set()"
   ]
  },
  {
   "cell_type": "code",
   "execution_count": 443,
   "metadata": {},
   "outputs": [
    {
     "data": {
      "text/plain": [
       "87508"
      ]
     },
     "execution_count": 443,
     "metadata": {},
     "output_type": "execute_result"
    }
   ],
   "source": [
    "candidates[candidates.item_id == c].index.values[0]"
   ]
  },
  {
   "cell_type": "code",
   "execution_count": 444,
   "metadata": {},
   "outputs": [
    {
     "data": {
      "text/plain": [
       "199259"
      ]
     },
     "execution_count": 444,
     "metadata": {},
     "output_type": "execute_result"
    }
   ],
   "source": [
    "candidates_idx_to_item[87508]"
   ]
  },
  {
   "cell_type": "code",
   "execution_count": 445,
   "metadata": {},
   "outputs": [
    {
     "data": {
      "text/plain": [
       "87508"
      ]
     },
     "execution_count": 445,
     "metadata": {},
     "output_type": "execute_result"
    }
   ],
   "source": [
    "candidates_item_to_idx[199259]"
   ]
  },
  {
   "cell_type": "code",
   "execution_count": 470,
   "metadata": {},
   "outputs": [],
   "source": [
    "fresh_item_id = candidates.item_id.sample(1).values[0]"
   ]
  },
  {
   "cell_type": "code",
   "execution_count": 459,
   "metadata": {},
   "outputs": [],
   "source": [
    "fresh_idx = []\n",
    "for c in history:\n",
    "    i = cand_item_to_idx.get(i, None)\n",
    "    fresh_idx.append(i)"
   ]
  },
  {
   "cell_type": "code",
   "execution_count": 463,
   "metadata": {},
   "outputs": [
    {
     "data": {
      "text/html": [
       "<div>\n",
       "<style scoped>\n",
       "    .dataframe tbody tr th:only-of-type {\n",
       "        vertical-align: middle;\n",
       "    }\n",
       "\n",
       "    .dataframe tbody tr th {\n",
       "        vertical-align: top;\n",
       "    }\n",
       "\n",
       "    .dataframe thead th {\n",
       "        text-align: right;\n",
       "    }\n",
       "</style>\n",
       "<table border=\"1\" class=\"dataframe\">\n",
       "  <thead>\n",
       "    <tr style=\"text-align: right;\">\n",
       "      <th></th>\n",
       "      <th>item_id</th>\n",
       "    </tr>\n",
       "  </thead>\n",
       "  <tbody>\n",
       "  </tbody>\n",
       "</table>\n",
       "</div>"
      ],
      "text/plain": [
       "Empty DataFrame\n",
       "Columns: [item_id]\n",
       "Index: []"
      ]
     },
     "execution_count": 463,
     "metadata": {},
     "output_type": "execute_result"
    }
   ],
   "source": [
    "candidates[candidates.item_id == 139320]"
   ]
  },
  {
   "cell_type": "code",
   "execution_count": null,
   "metadata": {},
   "outputs": [],
   "source": []
  },
  {
   "cell_type": "code",
   "execution_count": 461,
   "metadata": {},
   "outputs": [
    {
     "name": "stdout",
     "output_type": "stream",
     "text": [
      "139320\n",
      "16254\n",
      "78910\n",
      "166978\n",
      "38305\n",
      "2827\n",
      "138487\n",
      "14773\n",
      "183432\n",
      "128613\n",
      "137317\n",
      "47983\n",
      "220340\n",
      "20023\n",
      "67863\n",
      "151453\n",
      "79828\n",
      "17345\n",
      "1968\n",
      "117212\n",
      "3122\n",
      "119238\n",
      "73431\n",
      "39165\n",
      "152525\n",
      "208491\n",
      "30818\n",
      "27048\n",
      "7184\n",
      "185678\n",
      "1305\n",
      "142546\n",
      "88917\n",
      "221061\n",
      "60658\n",
      "169280\n",
      "11481\n",
      "47845\n",
      "97271\n",
      "130339\n",
      "117035\n",
      "158392\n",
      "163059\n",
      "101415\n",
      "109309\n",
      "41463\n",
      "119358\n",
      "58983\n",
      "195965\n",
      "185001\n",
      "40266\n",
      "165419\n",
      "83778\n",
      "106246\n",
      "171991\n",
      "132488\n",
      "221725\n",
      "116135\n",
      "120006\n",
      "88265\n",
      "66485\n",
      "102124\n",
      "80075\n",
      "168373\n",
      "209243\n",
      "194017\n",
      "216530\n",
      "136359\n",
      "212851\n",
      "216251\n",
      "211188\n",
      "535\n",
      "19180\n",
      "216503\n",
      "70705\n",
      "216113\n",
      "192419\n",
      "206949\n",
      "177655\n",
      "185224\n",
      "45810\n",
      "172328\n",
      "55004\n",
      "149949\n",
      "3417\n",
      "169615\n",
      "141152\n",
      "106711\n",
      "218816\n",
      "50266\n",
      "123372\n",
      "42481\n",
      "187535\n",
      "111648\n",
      "40918\n",
      "110907\n",
      "203359\n",
      "63\n",
      "176931\n",
      "199978\n",
      "133269\n",
      "193264\n",
      "25701\n",
      "99637\n",
      "126051\n",
      "182179\n",
      "122434\n",
      "179325\n",
      "151999\n",
      "49107\n",
      "174934\n",
      "213798\n",
      "151406\n",
      "138925\n",
      "62075\n",
      "112623\n",
      "201758\n",
      "96645\n",
      "210224\n",
      "133599\n",
      "108672\n",
      "216071\n",
      "176644\n",
      "71004\n",
      "195403\n",
      "118423\n",
      "226389\n",
      "51819\n",
      "79790\n",
      "325\n",
      "5932\n",
      "44036\n",
      "102257\n",
      "184910\n",
      "67151\n",
      "171360\n",
      "157933\n",
      "124418\n",
      "41143\n",
      "20380\n",
      "71450\n",
      "51007\n",
      "8488\n",
      "46049\n",
      "49279\n",
      "68117\n",
      "145833\n",
      "66080\n",
      "74176\n",
      "153192\n",
      "199259\n"
     ]
    }
   ],
   "source": [
    "for c in history:\n",
    "    print(c)"
   ]
  },
  {
   "cell_type": "code",
   "execution_count": null,
   "metadata": {},
   "outputs": [],
   "source": [
    "neig_ind[user_df]"
   ]
  },
  {
   "cell_type": "code",
   "execution_count": null,
   "metadata": {},
   "outputs": [],
   "source": []
  },
  {
   "cell_type": "code",
   "execution_count": null,
   "metadata": {},
   "outputs": [],
   "source": []
  },
  {
   "cell_type": "code",
   "execution_count": null,
   "metadata": {},
   "outputs": [],
   "source": []
  },
  {
   "cell_type": "code",
   "execution_count": null,
   "metadata": {},
   "outputs": [],
   "source": []
  },
  {
   "cell_type": "code",
   "execution_count": null,
   "metadata": {},
   "outputs": [],
   "source": []
  },
  {
   "cell_type": "code",
   "execution_count": 363,
   "metadata": {},
   "outputs": [],
   "source": [
    "item_id = candidates.loc[i].values[0]"
   ]
  },
  {
   "cell_type": "code",
   "execution_count": 364,
   "metadata": {},
   "outputs": [
    {
     "data": {
      "text/plain": [
       "51"
      ]
     },
     "execution_count": 364,
     "metadata": {},
     "output_type": "execute_result"
    }
   ],
   "source": [
    "item_id"
   ]
  },
  {
   "cell_type": "code",
   "execution_count": 365,
   "metadata": {},
   "outputs": [
    {
     "data": {
      "text/plain": [
       "source_id                                                     11485\n",
       "embeddings        [0.12811263, 0.036777616, 0.022303063, 0.00316...\n",
       "mean_timespent                                             0.111732\n",
       "mean_reaction                                             0.0111732\n",
       "amount                                                          179\n",
       "Name: 51, dtype: object"
      ]
     },
     "execution_count": 365,
     "metadata": {},
     "output_type": "execute_result"
    }
   ],
   "source": [
    "items.loc[item_id]"
   ]
  },
  {
   "cell_type": "code",
   "execution_count": 366,
   "metadata": {},
   "outputs": [
    {
     "data": {
      "text/html": [
       "<div>\n",
       "<style scoped>\n",
       "    .dataframe tbody tr th:only-of-type {\n",
       "        vertical-align: middle;\n",
       "    }\n",
       "\n",
       "    .dataframe tbody tr th {\n",
       "        vertical-align: top;\n",
       "    }\n",
       "\n",
       "    .dataframe thead th {\n",
       "        text-align: right;\n",
       "    }\n",
       "</style>\n",
       "<table border=\"1\" class=\"dataframe\">\n",
       "  <thead>\n",
       "    <tr style=\"text-align: right;\">\n",
       "      <th></th>\n",
       "      <th>source_id</th>\n",
       "      <th>embeddings</th>\n",
       "      <th>mean_timespent</th>\n",
       "      <th>mean_reaction</th>\n",
       "      <th>amount</th>\n",
       "    </tr>\n",
       "    <tr>\n",
       "      <th>item_id</th>\n",
       "      <th></th>\n",
       "      <th></th>\n",
       "      <th></th>\n",
       "      <th></th>\n",
       "      <th></th>\n",
       "    </tr>\n",
       "  </thead>\n",
       "  <tbody>\n",
       "    <tr>\n",
       "      <th>20</th>\n",
       "      <td>12210</td>\n",
       "      <td>[0.03040367, 0.025111973, -0.069858946, -0.009...</td>\n",
       "      <td>0.148936</td>\n",
       "      <td>0.010638</td>\n",
       "      <td>94</td>\n",
       "    </tr>\n",
       "    <tr>\n",
       "      <th>50121</th>\n",
       "      <td>12659</td>\n",
       "      <td>[0.037069675, -0.041974667, -0.04673124, 0.002...</td>\n",
       "      <td>0.492958</td>\n",
       "      <td>0.014085</td>\n",
       "      <td>71</td>\n",
       "    </tr>\n",
       "    <tr>\n",
       "      <th>212126</th>\n",
       "      <td>20996</td>\n",
       "      <td>[0.044716157, -0.0057055512, -0.008015964, -0....</td>\n",
       "      <td>0.611111</td>\n",
       "      <td>0.055556</td>\n",
       "      <td>18</td>\n",
       "    </tr>\n",
       "    <tr>\n",
       "      <th>14197</th>\n",
       "      <td>18471</td>\n",
       "      <td>[0.05832005, 0.0027167068, -0.025937278, 0.008...</td>\n",
       "      <td>0.170213</td>\n",
       "      <td>0.021277</td>\n",
       "      <td>94</td>\n",
       "    </tr>\n",
       "    <tr>\n",
       "      <th>140111</th>\n",
       "      <td>9540</td>\n",
       "      <td>[0.0700784, -0.018452901, -0.04222671, 0.00734...</td>\n",
       "      <td>1.109244</td>\n",
       "      <td>0.030812</td>\n",
       "      <td>357</td>\n",
       "    </tr>\n",
       "  </tbody>\n",
       "</table>\n",
       "</div>"
      ],
      "text/plain": [
       "         source_id                                         embeddings  \\\n",
       "item_id                                                                 \n",
       "20           12210  [0.03040367, 0.025111973, -0.069858946, -0.009...   \n",
       "50121        12659  [0.037069675, -0.041974667, -0.04673124, 0.002...   \n",
       "212126       20996  [0.044716157, -0.0057055512, -0.008015964, -0....   \n",
       "14197        18471  [0.05832005, 0.0027167068, -0.025937278, 0.008...   \n",
       "140111        9540  [0.0700784, -0.018452901, -0.04222671, 0.00734...   \n",
       "\n",
       "         mean_timespent  mean_reaction  amount  \n",
       "item_id                                         \n",
       "20             0.148936       0.010638      94  \n",
       "50121          0.492958       0.014085      71  \n",
       "212126         0.611111       0.055556      18  \n",
       "14197          0.170213       0.021277      94  \n",
       "140111         1.109244       0.030812     357  "
      ]
     },
     "execution_count": 366,
     "metadata": {},
     "output_type": "execute_result"
    }
   ],
   "source": [
    "items.loc[neig_ind[i]]"
   ]
  },
  {
   "cell_type": "code",
   "execution_count": 329,
   "metadata": {},
   "outputs": [
    {
     "data": {
      "text/html": [
       "<div>\n",
       "<style scoped>\n",
       "    .dataframe tbody tr th:only-of-type {\n",
       "        vertical-align: middle;\n",
       "    }\n",
       "\n",
       "    .dataframe tbody tr th {\n",
       "        vertical-align: top;\n",
       "    }\n",
       "\n",
       "    .dataframe thead th {\n",
       "        text-align: right;\n",
       "    }\n",
       "</style>\n",
       "<table border=\"1\" class=\"dataframe\">\n",
       "  <thead>\n",
       "    <tr style=\"text-align: right;\">\n",
       "      <th></th>\n",
       "      <th>item_id</th>\n",
       "    </tr>\n",
       "  </thead>\n",
       "  <tbody>\n",
       "    <tr>\n",
       "      <th>1</th>\n",
       "      <td>2</td>\n",
       "    </tr>\n",
       "  </tbody>\n",
       "</table>\n",
       "</div>"
      ],
      "text/plain": [
       "   item_id\n",
       "1        2"
      ]
     },
     "execution_count": 329,
     "metadata": {},
     "output_type": "execute_result"
    }
   ],
   "source": [
    "candidates[candidates.item_id == i]"
   ]
  },
  {
   "cell_type": "markdown",
   "metadata": {},
   "source": [
    "# check carefully what a fuck is going on with labels"
   ]
  },
  {
   "cell_type": "code",
   "execution_count": 280,
   "metadata": {},
   "outputs": [],
   "source": [
    "user_df = df[df.user_id == user_id]"
   ]
  },
  {
   "cell_type": "code",
   "execution_count": 281,
   "metadata": {},
   "outputs": [],
   "source": [
    "user_embeddings = get_embeddings(user_df.item_id.values[:self.n_items_count])"
   ]
  },
  {
   "cell_type": "code",
   "execution_count": 282,
   "metadata": {},
   "outputs": [
    {
     "data": {
      "text/plain": [
       "(151, 312)"
      ]
     },
     "execution_count": 282,
     "metadata": {},
     "output_type": "execute_result"
    }
   ],
   "source": [
    "user_embeddings.shape"
   ]
  },
  {
   "cell_type": "code",
   "execution_count": 292,
   "metadata": {},
   "outputs": [
    {
     "data": {
      "text/plain": [
       "(array([[6.8249696e-01, 7.3914295e-01, 7.4066943e-01, 7.5404269e-01,\n",
       "         7.6515061e-01],\n",
       "        [5.2277470e-01, 5.7075566e-01, 5.7368457e-01, 5.7821119e-01,\n",
       "         5.8842313e-01],\n",
       "        [5.7249063e-01, 5.7613218e-01, 5.8045805e-01, 5.8817160e-01,\n",
       "         5.8943647e-01],\n",
       "        [6.2465531e-01, 6.5118319e-01, 6.6899240e-01, 6.7962229e-01,\n",
       "         6.9155681e-01],\n",
       "        [5.1917541e-01, 5.2394187e-01, 5.6831175e-01, 5.7497370e-01,\n",
       "         5.8280152e-01],\n",
       "        [5.3060043e-01, 5.5699486e-01, 5.8415443e-01, 6.1538774e-01,\n",
       "         6.2320060e-01],\n",
       "        [5.8200574e-01, 5.8470976e-01, 5.8758330e-01, 5.8915806e-01,\n",
       "         6.0476720e-01],\n",
       "        [5.4224759e-01, 5.6902158e-01, 5.7022178e-01, 5.9481055e-01,\n",
       "         5.9512228e-01],\n",
       "        [4.7959250e-01, 5.4697788e-01, 5.4958856e-01, 5.5396068e-01,\n",
       "         5.6169659e-01],\n",
       "        [5.4307508e-01, 5.5502892e-01, 5.6615019e-01, 5.7259989e-01,\n",
       "         5.7333714e-01],\n",
       "        [4.7004932e-01, 5.1780087e-01, 5.2244169e-01, 5.3665310e-01,\n",
       "         5.4083025e-01],\n",
       "        [6.3839179e-01, 6.4335096e-01, 6.5743178e-01, 6.7152971e-01,\n",
       "         6.8323666e-01],\n",
       "        [4.6907961e-01, 5.2126718e-01, 5.4205787e-01, 5.4698205e-01,\n",
       "         5.5596143e-01],\n",
       "        [5.3116906e-01, 5.8371383e-01, 5.8566141e-01, 5.9277779e-01,\n",
       "         6.0400259e-01],\n",
       "        [5.5720717e-01, 6.3535434e-01, 6.5969247e-01, 6.6775542e-01,\n",
       "         6.7058128e-01],\n",
       "        [5.3440154e-01, 6.1452740e-01, 6.1678547e-01, 6.2200493e-01,\n",
       "         6.2261868e-01],\n",
       "        [6.5493929e-01, 6.6831374e-01, 6.7047966e-01, 6.7150801e-01,\n",
       "         6.8694121e-01],\n",
       "        [5.7136220e-01, 5.8582950e-01, 5.8840746e-01, 5.9426326e-01,\n",
       "         5.9454614e-01],\n",
       "        [5.5471289e-01, 5.5863136e-01, 5.6258523e-01, 5.6861085e-01,\n",
       "         5.8805120e-01],\n",
       "        [5.7379997e-01, 6.4100194e-01, 6.4858109e-01, 6.6658640e-01,\n",
       "         6.8011773e-01],\n",
       "        [4.6979612e-01, 4.9851796e-01, 5.0282031e-01, 5.4596502e-01,\n",
       "         5.4697919e-01],\n",
       "        [4.0476114e-01, 5.3347850e-01, 5.5259693e-01, 5.5820811e-01,\n",
       "         5.5833167e-01],\n",
       "        [4.6704236e-01, 5.0309998e-01, 5.3434706e-01, 5.5658835e-01,\n",
       "         5.6269050e-01],\n",
       "        [5.2854329e-01, 5.5685860e-01, 5.8616394e-01, 6.0088784e-01,\n",
       "         6.0604221e-01],\n",
       "        [6.3506931e-01, 6.6350752e-01, 6.6395396e-01, 6.7163223e-01,\n",
       "         6.7316294e-01],\n",
       "        [5.0708616e-01, 5.2109718e-01, 5.3161675e-01, 5.5965376e-01,\n",
       "         5.6752521e-01],\n",
       "        [5.1025194e-01, 5.4732102e-01, 5.5203933e-01, 5.5980080e-01,\n",
       "         5.7461154e-01],\n",
       "        [5.0569761e-01, 5.1913208e-01, 5.2964222e-01, 5.4150480e-01,\n",
       "         5.4807550e-01],\n",
       "        [5.9126997e-01, 5.9623319e-01, 5.9692770e-01, 5.9803581e-01,\n",
       "         6.0009706e-01],\n",
       "        [6.2300825e-01, 6.8204361e-01, 6.8906325e-01, 7.1778607e-01,\n",
       "         7.3495859e-01],\n",
       "        [5.6732363e-01, 5.9582818e-01, 5.9977889e-01, 6.2043607e-01,\n",
       "         6.2178367e-01],\n",
       "        [6.2918121e-01, 6.7573053e-01, 6.8223298e-01, 6.8277264e-01,\n",
       "         6.8984276e-01],\n",
       "        [6.0162705e-01, 6.1479646e-01, 6.1946106e-01, 6.3622016e-01,\n",
       "         6.7539126e-01],\n",
       "        [4.4769573e-01, 5.0126100e-01, 5.3996783e-01, 5.9519500e-01,\n",
       "         6.0182214e-01],\n",
       "        [4.9279326e-01, 6.0233617e-01, 6.1930686e-01, 6.2020659e-01,\n",
       "         6.4752907e-01],\n",
       "        [5.1853085e-01, 5.2817070e-01, 5.6100816e-01, 5.7776254e-01,\n",
       "         5.8659762e-01],\n",
       "        [5.3523439e-01, 5.3738016e-01, 5.8392966e-01, 5.8412468e-01,\n",
       "         5.9963375e-01],\n",
       "        [5.6540442e-01, 5.7813233e-01, 5.8274800e-01, 6.0212147e-01,\n",
       "         6.0337269e-01],\n",
       "        [4.6435300e-01, 5.7663304e-01, 5.9628582e-01, 5.9881592e-01,\n",
       "         6.1578661e-01],\n",
       "        [5.0451487e-01, 5.3262699e-01, 5.4630083e-01, 5.6317717e-01,\n",
       "         5.6421316e-01],\n",
       "        [4.6512964e-01, 4.9591511e-01, 5.1456505e-01, 5.1792234e-01,\n",
       "         5.2786124e-01],\n",
       "        [5.4975736e-01, 5.7847458e-01, 5.7945806e-01, 5.9397793e-01,\n",
       "         6.0709709e-01],\n",
       "        [5.0542974e-01, 5.7143593e-01, 5.7283312e-01, 5.8151335e-01,\n",
       "         5.8378619e-01],\n",
       "        [6.6937220e-01, 6.9933945e-01, 7.0234412e-01, 7.0361674e-01,\n",
       "         7.1205801e-01],\n",
       "        [4.9953669e-01, 5.5598545e-01, 5.5748940e-01, 5.7395893e-01,\n",
       "         5.7489049e-01],\n",
       "        [5.3655767e-01, 5.5713707e-01, 5.9163529e-01, 5.9964663e-01,\n",
       "         6.0051018e-01],\n",
       "        [4.8563045e-01, 4.9965116e-01, 5.4659718e-01, 5.6001288e-01,\n",
       "         5.6531936e-01],\n",
       "        [4.5490867e-01, 5.2971017e-01, 5.5057198e-01, 5.6423062e-01,\n",
       "         5.7706910e-01],\n",
       "        [5.4630542e-01, 5.6415641e-01, 6.0460871e-01, 6.2634480e-01,\n",
       "         6.3045830e-01],\n",
       "        [5.4015774e-01, 5.8243275e-01, 6.0121691e-01, 6.1938930e-01,\n",
       "         6.2811571e-01],\n",
       "        [6.3858962e-01, 6.3872552e-01, 6.4755106e-01, 6.5538204e-01,\n",
       "         6.9084132e-01],\n",
       "        [4.9070796e-01, 5.3196228e-01, 5.3909498e-01, 5.5675620e-01,\n",
       "         5.8649373e-01],\n",
       "        [4.6399331e-01, 5.3328443e-01, 5.3907865e-01, 5.4134744e-01,\n",
       "         5.5684161e-01],\n",
       "        [4.9951440e-01, 5.3381759e-01, 5.4710734e-01, 5.5396450e-01,\n",
       "         5.5621123e-01],\n",
       "        [5.2902502e-01, 5.4499322e-01, 5.5250442e-01, 5.6757295e-01,\n",
       "         5.7370549e-01],\n",
       "        [5.1209891e-01, 5.2664208e-01, 5.6970960e-01, 6.0648155e-01,\n",
       "         6.1044526e-01],\n",
       "        [5.3179187e-01, 5.3920019e-01, 5.5269194e-01, 5.6483895e-01,\n",
       "         5.6625849e-01],\n",
       "        [4.9978799e-01, 5.2746850e-01, 5.3871918e-01, 5.4078203e-01,\n",
       "         5.4803801e-01],\n",
       "        [4.7556373e-01, 4.9431071e-01, 5.2661711e-01, 5.3286004e-01,\n",
       "         5.4915458e-01],\n",
       "        [5.3696662e-01, 5.3778660e-01, 5.4865903e-01, 6.0667253e-01,\n",
       "         6.2011141e-01],\n",
       "        [5.5673891e-01, 6.1485445e-01, 6.6312486e-01, 6.6920364e-01,\n",
       "         6.7406267e-01],\n",
       "        [5.8304578e-01, 5.8657712e-01, 6.1085141e-01, 6.3017875e-01,\n",
       "         6.3122481e-01],\n",
       "        [5.0592154e-01, 5.4779667e-01, 5.5055976e-01, 5.5697811e-01,\n",
       "         5.6316370e-01],\n",
       "        [5.7564229e-01, 6.1899596e-01, 6.4276952e-01, 6.5123397e-01,\n",
       "         6.5382314e-01],\n",
       "        [5.5209720e-01, 5.8463323e-01, 6.0587686e-01, 6.1493021e-01,\n",
       "         6.2477475e-01],\n",
       "        [5.4417878e-01, 5.5767989e-01, 5.6443053e-01, 5.6766683e-01,\n",
       "         5.7997590e-01],\n",
       "        [4.5203885e-01, 4.9988234e-01, 5.0329036e-01, 5.4403579e-01,\n",
       "         5.5933172e-01],\n",
       "        [5.5534601e-01, 5.5681509e-01, 5.8141762e-01, 5.8488351e-01,\n",
       "         6.0482734e-01],\n",
       "        [5.7539046e-01, 5.7684803e-01, 5.8581531e-01, 5.9072328e-01,\n",
       "         5.9520555e-01],\n",
       "        [5.5609995e-01, 6.1363053e-01, 6.3253736e-01, 6.5733498e-01,\n",
       "         6.7306936e-01],\n",
       "        [6.6390365e-01, 6.7165333e-01, 7.1023226e-01, 7.2512960e-01,\n",
       "         7.3272413e-01],\n",
       "        [2.1073424e-08, 5.5978209e-01, 5.9679139e-01, 5.9987921e-01,\n",
       "         6.0877740e-01],\n",
       "        [5.5552983e-01, 5.8962494e-01, 5.8979380e-01, 5.9887141e-01,\n",
       "         6.0492861e-01],\n",
       "        [4.9832109e-01, 6.3877368e-01, 6.4795107e-01, 6.8230349e-01,\n",
       "         6.8402272e-01],\n",
       "        [5.5212456e-01, 5.5354029e-01, 5.5724442e-01, 5.7426047e-01,\n",
       "         5.8340627e-01],\n",
       "        [5.6410152e-01, 5.6426752e-01, 5.7628614e-01, 5.7954377e-01,\n",
       "         6.4388764e-01],\n",
       "        [5.6548476e-01, 5.9763074e-01, 5.9819221e-01, 6.1373580e-01,\n",
       "         6.2333941e-01],\n",
       "        [5.4960746e-01, 5.9380603e-01, 6.0570931e-01, 6.1083794e-01,\n",
       "         6.2851429e-01],\n",
       "        [5.6144530e-01, 6.0115761e-01, 6.4274192e-01, 6.7578763e-01,\n",
       "         6.7890757e-01],\n",
       "        [5.7940960e-01, 6.1287040e-01, 6.1736351e-01, 6.4013547e-01,\n",
       "         6.4152724e-01],\n",
       "        [6.1999166e-01, 6.6378164e-01, 6.8685418e-01, 6.9261974e-01,\n",
       "         6.9692481e-01],\n",
       "        [5.3310573e-01, 6.3108170e-01, 6.3276672e-01, 6.3794851e-01,\n",
       "         6.4402848e-01],\n",
       "        [6.0348099e-01, 6.2093329e-01, 6.2305558e-01, 6.2637126e-01,\n",
       "         6.3104767e-01],\n",
       "        [7.1393174e-01, 7.2481745e-01, 7.4012214e-01, 7.4514455e-01,\n",
       "         7.6180989e-01],\n",
       "        [6.0254675e-01, 6.1178333e-01, 6.1844307e-01, 6.1871737e-01,\n",
       "         6.3775706e-01],\n",
       "        [4.9537542e-01, 5.7021666e-01, 5.7750589e-01, 5.8555806e-01,\n",
       "         6.0070169e-01],\n",
       "        [4.8918033e-01, 4.9265128e-01, 5.0168276e-01, 5.0735587e-01,\n",
       "         5.1148403e-01],\n",
       "        [4.8209399e-01, 5.2661437e-01, 5.6824446e-01, 5.7217997e-01,\n",
       "         5.7505083e-01],\n",
       "        [5.7034940e-01, 5.9669083e-01, 6.1454594e-01, 6.2227780e-01,\n",
       "         6.2889642e-01],\n",
       "        [5.2857840e-01, 5.7116860e-01, 5.7162303e-01, 5.8176935e-01,\n",
       "         5.9439856e-01],\n",
       "        [5.2356869e-01, 5.2737343e-01, 5.3205377e-01, 5.4310727e-01,\n",
       "         5.4439241e-01],\n",
       "        [6.2049401e-01, 6.2501395e-01, 6.3407254e-01, 6.3453025e-01,\n",
       "         6.4097488e-01],\n",
       "        [6.3569731e-01, 6.5002918e-01, 6.5019447e-01, 6.5613878e-01,\n",
       "         6.7043453e-01],\n",
       "        [5.7557935e-01, 5.9116298e-01, 5.9744525e-01, 6.0117960e-01,\n",
       "         6.0313189e-01],\n",
       "        [5.2454090e-01, 5.5745345e-01, 5.7255155e-01, 5.8046091e-01,\n",
       "         5.8689296e-01],\n",
       "        [5.5843371e-01, 5.6613576e-01, 5.9471291e-01, 6.0289717e-01,\n",
       "         6.0322350e-01],\n",
       "        [5.1023704e-01, 6.1083162e-01, 6.2013876e-01, 6.2295371e-01,\n",
       "         6.6200900e-01],\n",
       "        [2.9802322e-08, 5.6795120e-01, 5.7905865e-01, 5.9187585e-01,\n",
       "         5.9296334e-01],\n",
       "        [4.5058987e-01, 5.1235837e-01, 5.1847607e-01, 5.2291560e-01,\n",
       "         5.2747267e-01],\n",
       "        [4.7218448e-01, 4.8491150e-01, 5.2833498e-01, 5.5907196e-01,\n",
       "         5.6727618e-01],\n",
       "        [5.3737307e-01, 5.7027918e-01, 5.7594210e-01, 5.9676635e-01,\n",
       "         5.9749258e-01],\n",
       "        [5.7305151e-01, 6.0585910e-01, 6.1949795e-01, 6.2725323e-01,\n",
       "         6.5208882e-01],\n",
       "        [5.7077414e-01, 6.1463886e-01, 6.2503517e-01, 6.3865423e-01,\n",
       "         6.4523387e-01],\n",
       "        [5.4198718e-01, 5.6894106e-01, 5.7218421e-01, 6.1372578e-01,\n",
       "         6.2212867e-01],\n",
       "        [5.5892038e-01, 5.7247597e-01, 6.2847298e-01, 6.3132268e-01,\n",
       "         6.5284920e-01],\n",
       "        [6.6615337e-01, 6.7003143e-01, 6.8887424e-01, 7.0405930e-01,\n",
       "         7.0612758e-01],\n",
       "        [5.2581352e-01, 5.3261513e-01, 5.3374320e-01, 5.3386885e-01,\n",
       "         5.5088788e-01],\n",
       "        [5.9991819e-01, 6.3163036e-01, 6.7906451e-01, 7.0280451e-01,\n",
       "         7.2203010e-01],\n",
       "        [6.0417324e-01, 6.4671367e-01, 6.4777637e-01, 6.4967823e-01,\n",
       "         6.6331452e-01],\n",
       "        [5.2745318e-01, 5.3733212e-01, 5.3912497e-01, 5.4425865e-01,\n",
       "         5.5197746e-01],\n",
       "        [6.1231476e-01, 6.4789230e-01, 6.7339939e-01, 7.0436472e-01,\n",
       "         7.0644969e-01],\n",
       "        [6.1439347e-01, 6.1910462e-01, 6.2746620e-01, 6.6757369e-01,\n",
       "         6.7324311e-01],\n",
       "        [6.0317087e-01, 6.2599725e-01, 6.3122624e-01, 6.4201957e-01,\n",
       "         6.5309066e-01],\n",
       "        [6.2256432e-01, 6.5271413e-01, 6.7913026e-01, 6.8702930e-01,\n",
       "         7.0576257e-01],\n",
       "        [5.1065558e-01, 6.0186005e-01, 6.0620338e-01, 6.0708612e-01,\n",
       "         6.1889267e-01],\n",
       "        [6.1427999e-01, 6.3638240e-01, 6.4130586e-01, 6.4364636e-01,\n",
       "         6.4485627e-01],\n",
       "        [5.7565176e-01, 5.9541768e-01, 6.3817787e-01, 6.6660094e-01,\n",
       "         6.7031991e-01],\n",
       "        [5.1810414e-01, 5.3070700e-01, 5.3881842e-01, 5.3937745e-01,\n",
       "         5.6479806e-01],\n",
       "        [5.7321173e-01, 5.7594848e-01, 5.7745987e-01, 5.7780439e-01,\n",
       "         5.7853961e-01],\n",
       "        [4.9439567e-01, 5.4556012e-01, 5.4742926e-01, 5.6046748e-01,\n",
       "         5.6917930e-01],\n",
       "        [6.1922979e-01, 6.6081464e-01, 6.6801471e-01, 6.9016171e-01,\n",
       "         7.0525646e-01],\n",
       "        [6.3581854e-01, 6.3943052e-01, 6.5854549e-01, 6.9288832e-01,\n",
       "         6.9436133e-01],\n",
       "        [6.4583993e-01, 6.5201551e-01, 6.8511230e-01, 6.8830311e-01,\n",
       "         6.8995690e-01],\n",
       "        [5.3374904e-01, 5.5348516e-01, 5.7724786e-01, 5.8396053e-01,\n",
       "         5.8748329e-01],\n",
       "        [5.7631767e-01, 6.2056923e-01, 6.4714849e-01, 6.5887874e-01,\n",
       "         6.6877949e-01],\n",
       "        [5.8661264e-01, 6.0773796e-01, 6.1414564e-01, 6.1435121e-01,\n",
       "         6.3141322e-01],\n",
       "        [5.8664298e-01, 6.0118091e-01, 6.0750175e-01, 6.2447721e-01,\n",
       "         6.2559599e-01],\n",
       "        [5.2724850e-01, 5.3432161e-01, 5.4586679e-01, 5.4790193e-01,\n",
       "         5.5404240e-01],\n",
       "        [5.4010683e-01, 5.4326379e-01, 5.8076060e-01, 5.9552187e-01,\n",
       "         6.0130465e-01],\n",
       "        [2.9802322e-08, 5.9798443e-01, 6.1312318e-01, 6.2107211e-01,\n",
       "         6.3267905e-01],\n",
       "        [5.9884101e-01, 6.0836953e-01, 6.1110526e-01, 6.1117625e-01,\n",
       "         6.1357999e-01],\n",
       "        [5.2704865e-01, 5.5354971e-01, 5.6722915e-01, 5.7662171e-01,\n",
       "         5.8054268e-01],\n",
       "        [6.5643972e-01, 6.7527801e-01, 6.8648475e-01, 7.1126890e-01,\n",
       "         7.1224338e-01],\n",
       "        [5.2479023e-01, 5.3609461e-01, 5.4810375e-01, 5.6754452e-01,\n",
       "         5.8078104e-01],\n",
       "        [5.6885833e-01, 5.7598484e-01, 5.7778883e-01, 5.8231413e-01,\n",
       "         5.9651464e-01],\n",
       "        [6.3091630e-01, 6.3220513e-01, 6.3315201e-01, 6.4573973e-01,\n",
       "         6.4729679e-01],\n",
       "        [5.9216344e-01, 6.2073356e-01, 6.2953138e-01, 6.7602211e-01,\n",
       "         6.7687798e-01],\n",
       "        [5.2010190e-01, 5.3180915e-01, 5.5911678e-01, 5.6405473e-01,\n",
       "         5.7331979e-01],\n",
       "        [5.0708753e-01, 5.6811160e-01, 5.9871101e-01, 6.0071152e-01,\n",
       "         6.0198098e-01],\n",
       "        [6.3489687e-01, 6.5304339e-01, 6.5510702e-01, 6.5584981e-01,\n",
       "         6.5989846e-01],\n",
       "        [5.1156020e-01, 5.4550654e-01, 5.6662446e-01, 5.8839947e-01,\n",
       "         6.0397696e-01],\n",
       "        [5.9731728e-01, 5.9975171e-01, 6.2349188e-01, 6.3678944e-01,\n",
       "         6.4155513e-01],\n",
       "        [5.7473153e-01, 6.2112892e-01, 6.3148671e-01, 6.5009636e-01,\n",
       "         6.5090162e-01],\n",
       "        [6.7198414e-01, 6.7306000e-01, 6.7519915e-01, 6.7536187e-01,\n",
       "         6.9155651e-01],\n",
       "        [5.6464463e-01, 5.9246349e-01, 6.6233742e-01, 6.6246903e-01,\n",
       "         6.6297799e-01],\n",
       "        [5.9002393e-01, 6.3554096e-01, 6.3596165e-01, 6.7362458e-01,\n",
       "         6.7744780e-01],\n",
       "        [4.9512690e-01, 5.0597757e-01, 5.1211512e-01, 5.3322023e-01,\n",
       "         5.3723764e-01],\n",
       "        [5.7221252e-01, 5.9888774e-01, 6.2723541e-01, 6.3124293e-01,\n",
       "         6.4778727e-01],\n",
       "        [5.9199059e-01, 6.7112237e-01, 6.7832649e-01, 6.8858618e-01,\n",
       "         6.8948424e-01],\n",
       "        [5.5257720e-01, 5.5467117e-01, 5.8560443e-01, 5.8859980e-01,\n",
       "         5.9030050e-01],\n",
       "        [5.7384640e-01, 5.7987088e-01, 5.8304316e-01, 5.8529282e-01,\n",
       "         5.8596683e-01]], dtype=float32),\n",
       " array([[132,  14,  52, 148,  37],\n",
       "        [ 32, 240, 135, 111, 156],\n",
       "        [134, 198, 201, 112,  74],\n",
       "        [207,  57, 275, 277,  54],\n",
       "        [ 28, 111, 135, 139,  45],\n",
       "        [ 45, 260, 296, 239, 134],\n",
       "        [260, 166, 232,  45, 148],\n",
       "        [ 28, 139, 111,  96, 195],\n",
       "        [ 28,  65,  18, 139, 111],\n",
       "        [111, 139,  28, 195,  96],\n",
       "        [111,  96, 135,  18, 171],\n",
       "        [ 56,  80, 110, 178, 134],\n",
       "        [ 96, 135,  45, 265, 171],\n",
       "        [ 89, 135,  96, 239, 111],\n",
       "        [111,  43, 171, 239, 208],\n",
       "        [239,  28, 135,  45,  89],\n",
       "        [265,  79, 101, 146, 152],\n",
       "        [112, 250, 283, 227, 113],\n",
       "        [135, 134, 139,  32,  28],\n",
       "        [235, 279, 190, 164, 134],\n",
       "        [158,  74, 134, 148, 229],\n",
       "        [ 28,  89,  96, 156, 260],\n",
       "        [ 89, 262, 135, 139, 156],\n",
       "        [248, 247, 252, 117, 246],\n",
       "        [113, 156,  40,  70, 261],\n",
       "        [135, 265,  96,  89, 111],\n",
       "        [ 45,  28, 260, 134, 139],\n",
       "        [134, 208,  65, 110, 201],\n",
       "        [156,  89,  96,  32,  45],\n",
       "        [ 33, 223, 104,  85, 124],\n",
       "        [137,  94,  38, 187, 147],\n",
       "        [ 96, 111, 139, 265, 171],\n",
       "        [ 96, 146, 171,  18, 101],\n",
       "        [ 89, 262, 135, 250, 260],\n",
       "        [ 33, 104, 124, 223,  85],\n",
       "        [ 45,  28,  89, 260, 265],\n",
       "        [260,  28,  89,  45, 139],\n",
       "        [195,  75, 139, 156,  45],\n",
       "        [ 28, 156,  96, 239, 139],\n",
       "        [134, 132, 157, 250, 266],\n",
       "        [201, 132, 178, 134, 130],\n",
       "        [111,  18,  28,  65, 240],\n",
       "        [ 28,  96,  45, 135, 146],\n",
       "        [ 28, 112, 239, 124, 135],\n",
       "        [ 96,  28, 234, 111, 156],\n",
       "        [285, 145, 148,  74, 198],\n",
       "        [ 89, 135, 260, 261,  61],\n",
       "        [ 28, 156, 139,  96,  89],\n",
       "        [ 48, 112,  18,  19, 111],\n",
       "        [113, 279, 237,  18, 166],\n",
       "        [156,  28,  75, 124, 213],\n",
       "        [ 89, 262,  55, 214,  29],\n",
       "        [164, 165, 197,  73, 254],\n",
       "        [111, 240, 139, 135, 171],\n",
       "        [139,  32, 111,  28,  96],\n",
       "        [ 19, 227, 113, 199,  15],\n",
       "        [134, 250, 237, 290, 135],\n",
       "        [148, 116, 263, 134, 132],\n",
       "        [165,  41,  81, 134, 164],\n",
       "        [112, 199, 133, 299,  18],\n",
       "        [124,  28, 141, 213, 104],\n",
       "        [261, 240,  96,  65, 135],\n",
       "        [111, 139,  45,  32, 135],\n",
       "        [ 28, 124,  45,  77, 239],\n",
       "        [265, 111, 135, 171,  32],\n",
       "        [139, 156, 195,  28,  45],\n",
       "        [240, 146,  32,  18, 111],\n",
       "        [164, 232, 197,  81, 182],\n",
       "        [240, 146, 135,  32, 111],\n",
       "        [ 28, 124, 239,  45, 260],\n",
       "        [135,  33, 262,  79, 261],\n",
       "        [240,  32, 139,  96, 111],\n",
       "        [239,  22, 207,  89, 135],\n",
       "        [240, 146,  32,  19, 111],\n",
       "        [ 18, 111,  96, 261, 135],\n",
       "        [ 28, 124, 156, 260, 135],\n",
       "        [ 96, 111,  28, 171, 260],\n",
       "        [ 28, 124,  45, 260, 296],\n",
       "        [124,  28, 213, 258, 239],\n",
       "        [146, 111,  96, 139,  32],\n",
       "        [ 79, 156, 265, 139, 101],\n",
       "        [ 65, 111, 146,  18,  96],\n",
       "        [135, 262, 178, 134, 260],\n",
       "        [132, 148, 134,  14, 129],\n",
       "        [296,  45,  81,  96,  28],\n",
       "        [ 28,  45,  65, 260, 237],\n",
       "        [158, 148, 134, 145, 285],\n",
       "        [ 45, 260,  28, 134, 178],\n",
       "        [156, 139, 137, 262, 214],\n",
       "        [262,  32,  61, 111, 157],\n",
       "        [ 32, 156, 111,  28,  96],\n",
       "        [134,  28,  45, 201, 195],\n",
       "        [121, 208, 174,  28, 170],\n",
       "        [ 28,  89,  45,  65,  96],\n",
       "        [148, 129,  56, 134, 190],\n",
       "        [ 28,  96, 240, 135, 237],\n",
       "        [ 28,  45, 237, 260, 139],\n",
       "        [ 28, 124,  45, 260, 237],\n",
       "        [148, 145,  98, 229, 134],\n",
       "        [240,  32, 111, 146,  96],\n",
       "        [135,  89,  96,  28, 265],\n",
       "        [ 28,  45, 239, 260,  96],\n",
       "        [135,  96, 171, 237, 260],\n",
       "        [ 72,  45, 217, 120,  41],\n",
       "        [240,  96, 261, 171,  65],\n",
       "        [132, 148, 134, 130,  14],\n",
       "        [ 61, 266, 135, 261, 262],\n",
       "        [ 28, 124, 213, 156, 121],\n",
       "        [270,  40, 128, 191, 150],\n",
       "        [ 18, 240, 134,  89, 241],\n",
       "        [ 28, 213, 124, 174, 239],\n",
       "        [171,  96, 111, 156, 265],\n",
       "        [ 77, 258, 171, 260, 265],\n",
       "        [219,  58, 292, 278, 212],\n",
       "        [113, 227, 241,  18,  45],\n",
       "        [284,  75,  29,  28, 156],\n",
       "        [119, 239, 207, 146, 140],\n",
       "        [ 96, 139,  28, 111,  32],\n",
       "        [135,  28,  89,  96, 260],\n",
       "        [111,  32,  96, 240, 139],\n",
       "        [239, 207, 171,  96, 242],\n",
       "        [197,   4,  99, 123, 156],\n",
       "        [207, 239,   4,   7, 140],\n",
       "        [ 96,  45,  61, 135, 261],\n",
       "        [ 48, 111, 171,  19, 112],\n",
       "        [139,  18,  32, 135,  28],\n",
       "        [121, 239, 234, 180,  28],\n",
       "        [ 28,  96,  89, 240, 139],\n",
       "        [ 48, 112, 283, 289, 222],\n",
       "        [146,  96,  32, 240, 111],\n",
       "        [112, 166, 134, 241, 285],\n",
       "        [139, 262,  45,  96, 135],\n",
       "        [132, 148, 134, 261,  61],\n",
       "        [ 45, 113, 266, 232,  74],\n",
       "        [266, 113, 134, 227, 262],\n",
       "        [ 45, 139, 195, 156,  28],\n",
       "        [171, 111, 146,  32,  96],\n",
       "        [ 45,  28, 260, 111,  96],\n",
       "        [ 28,  96, 139, 111, 260],\n",
       "        [111, 260,  45, 239, 156],\n",
       "        [ 96, 261, 135, 171, 111],\n",
       "        [ 45,  61, 165,  96, 205],\n",
       "        [110, 260, 239,  45, 296],\n",
       "        [102, 156, 195,  63,  31],\n",
       "        [ 96, 171, 139, 111, 240],\n",
       "        [131,  63, 113, 250, 167],\n",
       "        [ 96,  32, 139, 156, 111],\n",
       "        [111, 146,  32, 261, 135],\n",
       "        [240, 146, 293, 241,  19],\n",
       "        [273, 137,  89, 227, 259],\n",
       "        [285, 134, 157, 148, 113]]))"
      ]
     },
     "execution_count": 292,
     "metadata": {},
     "output_type": "execute_result"
    }
   ],
   "source": [
    "self.knn.kneighbors(user_embeddings)"
   ]
  },
  {
   "cell_type": "code",
   "execution_count": null,
   "metadata": {},
   "outputs": [],
   "source": []
  },
  {
   "cell_type": "code",
   "execution_count": 283,
   "metadata": {},
   "outputs": [],
   "source": [
    "dist, neighbors = self.knn.kneighbors(user_embeddings)"
   ]
  },
  {
   "cell_type": "code",
   "execution_count": 289,
   "metadata": {},
   "outputs": [
    {
     "data": {
      "text/plain": [
       "array([[132,  14,  52, 148,  37],\n",
       "       [ 32, 240, 135, 111, 156],\n",
       "       [134, 198, 201, 112,  74],\n",
       "       [207,  57, 275, 277,  54],\n",
       "       [ 28, 111, 135, 139,  45],\n",
       "       [ 45, 260, 296, 239, 134],\n",
       "       [260, 166, 232,  45, 148],\n",
       "       [ 28, 139, 111,  96, 195],\n",
       "       [ 28,  65,  18, 139, 111],\n",
       "       [111, 139,  28, 195,  96],\n",
       "       [111,  96, 135,  18, 171],\n",
       "       [ 56,  80, 110, 178, 134],\n",
       "       [ 96, 135,  45, 265, 171],\n",
       "       [ 89, 135,  96, 239, 111],\n",
       "       [111,  43, 171, 239, 208],\n",
       "       [239,  28, 135,  45,  89],\n",
       "       [265,  79, 101, 146, 152],\n",
       "       [112, 250, 283, 227, 113],\n",
       "       [135, 134, 139,  32,  28],\n",
       "       [235, 279, 190, 164, 134],\n",
       "       [158,  74, 134, 148, 229],\n",
       "       [ 28,  89,  96, 156, 260],\n",
       "       [ 89, 262, 135, 139, 156],\n",
       "       [248, 247, 252, 117, 246],\n",
       "       [113, 156,  40,  70, 261],\n",
       "       [135, 265,  96,  89, 111],\n",
       "       [ 45,  28, 260, 134, 139],\n",
       "       [134, 208,  65, 110, 201],\n",
       "       [156,  89,  96,  32,  45],\n",
       "       [ 33, 223, 104,  85, 124],\n",
       "       [137,  94,  38, 187, 147],\n",
       "       [ 96, 111, 139, 265, 171],\n",
       "       [ 96, 146, 171,  18, 101],\n",
       "       [ 89, 262, 135, 250, 260],\n",
       "       [ 33, 104, 124, 223,  85],\n",
       "       [ 45,  28,  89, 260, 265],\n",
       "       [260,  28,  89,  45, 139],\n",
       "       [195,  75, 139, 156,  45],\n",
       "       [ 28, 156,  96, 239, 139],\n",
       "       [134, 132, 157, 250, 266],\n",
       "       [201, 132, 178, 134, 130],\n",
       "       [111,  18,  28,  65, 240],\n",
       "       [ 28,  96,  45, 135, 146],\n",
       "       [ 28, 112, 239, 124, 135],\n",
       "       [ 96,  28, 234, 111, 156],\n",
       "       [285, 145, 148,  74, 198],\n",
       "       [ 89, 135, 260, 261,  61],\n",
       "       [ 28, 156, 139,  96,  89],\n",
       "       [ 48, 112,  18,  19, 111],\n",
       "       [113, 279, 237,  18, 166],\n",
       "       [156,  28,  75, 124, 213],\n",
       "       [ 89, 262,  55, 214,  29],\n",
       "       [164, 165, 197,  73, 254],\n",
       "       [111, 240, 139, 135, 171],\n",
       "       [139,  32, 111,  28,  96],\n",
       "       [ 19, 227, 113, 199,  15],\n",
       "       [134, 250, 237, 290, 135],\n",
       "       [148, 116, 263, 134, 132],\n",
       "       [165,  41,  81, 134, 164],\n",
       "       [112, 199, 133, 299,  18],\n",
       "       [124,  28, 141, 213, 104],\n",
       "       [261, 240,  96,  65, 135],\n",
       "       [111, 139,  45,  32, 135],\n",
       "       [ 28, 124,  45,  77, 239],\n",
       "       [265, 111, 135, 171,  32],\n",
       "       [139, 156, 195,  28,  45],\n",
       "       [240, 146,  32,  18, 111],\n",
       "       [164, 232, 197,  81, 182],\n",
       "       [240, 146, 135,  32, 111],\n",
       "       [ 28, 124, 239,  45, 260],\n",
       "       [135,  33, 262,  79, 261],\n",
       "       [240,  32, 139,  96, 111],\n",
       "       [239,  22, 207,  89, 135],\n",
       "       [240, 146,  32,  19, 111],\n",
       "       [ 18, 111,  96, 261, 135],\n",
       "       [ 28, 124, 156, 260, 135],\n",
       "       [ 96, 111,  28, 171, 260],\n",
       "       [ 28, 124,  45, 260, 296],\n",
       "       [124,  28, 213, 258, 239],\n",
       "       [146, 111,  96, 139,  32],\n",
       "       [ 79, 156, 265, 139, 101],\n",
       "       [ 65, 111, 146,  18,  96],\n",
       "       [135, 262, 178, 134, 260],\n",
       "       [132, 148, 134,  14, 129],\n",
       "       [296,  45,  81,  96,  28],\n",
       "       [ 28,  45,  65, 260, 237],\n",
       "       [158, 148, 134, 145, 285],\n",
       "       [ 45, 260,  28, 134, 178],\n",
       "       [156, 139, 137, 262, 214],\n",
       "       [262,  32,  61, 111, 157],\n",
       "       [ 32, 156, 111,  28,  96],\n",
       "       [134,  28,  45, 201, 195],\n",
       "       [121, 208, 174,  28, 170],\n",
       "       [ 28,  89,  45,  65,  96],\n",
       "       [148, 129,  56, 134, 190],\n",
       "       [ 28,  96, 240, 135, 237],\n",
       "       [ 28,  45, 237, 260, 139],\n",
       "       [ 28, 124,  45, 260, 237],\n",
       "       [148, 145,  98, 229, 134],\n",
       "       [240,  32, 111, 146,  96],\n",
       "       [135,  89,  96,  28, 265],\n",
       "       [ 28,  45, 239, 260,  96],\n",
       "       [135,  96, 171, 237, 260],\n",
       "       [ 72,  45, 217, 120,  41],\n",
       "       [240,  96, 261, 171,  65],\n",
       "       [132, 148, 134, 130,  14],\n",
       "       [ 61, 266, 135, 261, 262],\n",
       "       [ 28, 124, 213, 156, 121],\n",
       "       [270,  40, 128, 191, 150],\n",
       "       [ 18, 240, 134,  89, 241],\n",
       "       [ 28, 213, 124, 174, 239],\n",
       "       [171,  96, 111, 156, 265],\n",
       "       [ 77, 258, 171, 260, 265],\n",
       "       [219,  58, 292, 278, 212],\n",
       "       [113, 227, 241,  18,  45],\n",
       "       [284,  75,  29,  28, 156],\n",
       "       [119, 239, 207, 146, 140],\n",
       "       [ 96, 139,  28, 111,  32],\n",
       "       [135,  28,  89,  96, 260],\n",
       "       [111,  32,  96, 240, 139],\n",
       "       [239, 207, 171,  96, 242],\n",
       "       [197,   4,  99, 123, 156],\n",
       "       [207, 239,   4,   7, 140],\n",
       "       [ 96,  45,  61, 135, 261],\n",
       "       [ 48, 111, 171,  19, 112],\n",
       "       [139,  18,  32, 135,  28],\n",
       "       [121, 239, 234, 180,  28],\n",
       "       [ 28,  96,  89, 240, 139],\n",
       "       [ 48, 112, 283, 289, 222],\n",
       "       [146,  96,  32, 240, 111],\n",
       "       [112, 166, 134, 241, 285],\n",
       "       [139, 262,  45,  96, 135],\n",
       "       [132, 148, 134, 261,  61],\n",
       "       [ 45, 113, 266, 232,  74],\n",
       "       [266, 113, 134, 227, 262],\n",
       "       [ 45, 139, 195, 156,  28],\n",
       "       [171, 111, 146,  32,  96],\n",
       "       [ 45,  28, 260, 111,  96],\n",
       "       [ 28,  96, 139, 111, 260],\n",
       "       [111, 260,  45, 239, 156],\n",
       "       [ 96, 261, 135, 171, 111],\n",
       "       [ 45,  61, 165,  96, 205],\n",
       "       [110, 260, 239,  45, 296],\n",
       "       [102, 156, 195,  63,  31],\n",
       "       [ 96, 171, 139, 111, 240],\n",
       "       [131,  63, 113, 250, 167],\n",
       "       [ 96,  32, 139, 156, 111],\n",
       "       [111, 146,  32, 261, 135],\n",
       "       [240, 146, 293, 241,  19],\n",
       "       [273, 137,  89, 227, 259],\n",
       "       [285, 134, 157, 148, 113]])"
      ]
     },
     "execution_count": 289,
     "metadata": {},
     "output_type": "execute_result"
    }
   ],
   "source": [
    "neighbors"
   ]
  },
  {
   "cell_type": "code",
   "execution_count": 288,
   "metadata": {},
   "outputs": [
    {
     "data": {
      "text/plain": [
       "(151, 5)"
      ]
     },
     "execution_count": 288,
     "metadata": {},
     "output_type": "execute_result"
    }
   ],
   "source": [
    "dist.shape"
   ]
  },
  {
   "cell_type": "code",
   "execution_count": 285,
   "metadata": {},
   "outputs": [
    {
     "data": {
      "text/plain": [
       "(151, 5)"
      ]
     },
     "execution_count": 285,
     "metadata": {},
     "output_type": "execute_result"
    }
   ],
   "source": [
    "neighbors.shape"
   ]
  },
  {
   "cell_type": "code",
   "execution_count": null,
   "metadata": {},
   "outputs": [],
   "source": [
    "user_embeddings = get_embeddings(user_df.item_id.values[:self.n_items_count])\n",
    "dist, neighbors = self.knn.kneighbors(user_embeddings)\n",
    "\n",
    "candidate_item_ids = self.candidates.loc[neighbors.flatten()].item_id.values\n",
    "candidates = items.loc[candidate_item_ids]\n",
    "candidates['dist'] = dist.flatten()\n",
    "\n",
    "seen_item_ids = list(set(user_df.item_id.values) & set(candidate_item_ids))\n",
    "\n",
    "candidates = candidates.drop(seen_item_ids)\n",
    "candidates = candidates[~candidates.index.duplicated(keep='first')]\n",
    "\n",
    "candidates = candidates.sort_values(by='mean_timespent')"
   ]
  },
  {
   "cell_type": "code",
   "execution_count": null,
   "metadata": {},
   "outputs": [],
   "source": []
  },
  {
   "cell_type": "code",
   "execution_count": 254,
   "metadata": {},
   "outputs": [],
   "source": [
    "pred = model.predict(user_id, user_df)"
   ]
  },
  {
   "cell_type": "code",
   "execution_count": 255,
   "metadata": {},
   "outputs": [
    {
     "data": {
      "text/plain": [
       "array([4105,  197, 9021, 1863, 2111, 7032, 1531, 4579, 3827, 7176, 2216,\n",
       "       3842,  298,  348, 8565,  579, 8360, 3470, 7442, 4748])"
      ]
     },
     "execution_count": 255,
     "metadata": {},
     "output_type": "execute_result"
    }
   ],
   "source": [
    "pred"
   ]
  },
  {
   "cell_type": "code",
   "execution_count": 222,
   "metadata": {
    "scrolled": true
   },
   "outputs": [
    {
     "name": "stderr",
     "output_type": "stream",
     "text": [
      "100%|██████████| 1000183/1000183 [08:21<00:00, 1992.79it/s]\n"
     ]
    }
   ],
   "source": [
    "predictions = []\n",
    "for user_id, subdf in tqdm(df.groupby('user_id'), total=len(df.user_id.unique())):\n",
    "    if user_id in testset:\n",
    "        pred = model.predict(user_id, subdf)\n",
    "        predictions.append((user_id, pred))"
   ]
  },
  {
   "cell_type": "code",
   "execution_count": null,
   "metadata": {},
   "outputs": [],
   "source": []
  }
 ],
 "metadata": {
  "kernelspec": {
   "display_name": "Python 3",
   "language": "python",
   "name": "python3"
  },
  "language_info": {
   "codemirror_mode": {
    "name": "ipython",
    "version": 3
   },
   "file_extension": ".py",
   "mimetype": "text/x-python",
   "name": "python",
   "nbconvert_exporter": "python",
   "pygments_lexer": "ipython3",
   "version": "3.7.10"
  }
 },
 "nbformat": 4,
 "nbformat_minor": 4
}
