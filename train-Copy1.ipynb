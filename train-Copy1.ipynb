{
 "cells": [
  {
   "cell_type": "code",
   "execution_count": 1,
   "metadata": {
    "pycharm": {
     "name": "#%%\n"
    }
   },
   "outputs": [],
   "source": [
    "from tqdm import tqdm\n",
    "from copy import deepcopy\n",
    "import numpy as np\n",
    "import os\n",
    "import pandas as pd\n",
    "import matplotlib.pyplot as plt\n",
    "\n",
    "import implicit as imp\n",
    "\n",
    "from scipy import sparse"
   ]
  },
  {
   "cell_type": "code",
   "execution_count": 2,
   "metadata": {},
   "outputs": [],
   "source": [
    "# !pip install fastparquet\n",
    "# !pip install pyarrow"
   ]
  },
  {
   "cell_type": "code",
   "execution_count": 3,
   "metadata": {},
   "outputs": [],
   "source": [
    "TIMESPENT_COEF = 1\n",
    "REACTION_COEF = 10"
   ]
  },
  {
   "cell_type": "code",
   "execution_count": 4,
   "metadata": {
    "pycharm": {
     "name": "#%%\n"
    },
    "scrolled": false
   },
   "outputs": [
    {
     "data": {
      "text/plain": [
       "user_id      int32\n",
       "item_id      int32\n",
       "timespent     int8\n",
       "reaction      int8\n",
       "dtype: object"
      ]
     },
     "execution_count": 4,
     "metadata": {},
     "output_type": "execute_result"
    }
   ],
   "source": [
    "# train упорядочен хронологически\n",
    "df = pd.read_parquet('train.parquet.gzip')\n",
    "df.dtypes"
   ]
  },
  {
   "cell_type": "code",
   "execution_count": 5,
   "metadata": {},
   "outputs": [
    {
     "data": {
      "text/html": [
       "<div>\n",
       "<style scoped>\n",
       "    .dataframe tbody tr th:only-of-type {\n",
       "        vertical-align: middle;\n",
       "    }\n",
       "\n",
       "    .dataframe tbody tr th {\n",
       "        vertical-align: top;\n",
       "    }\n",
       "\n",
       "    .dataframe thead th {\n",
       "        text-align: right;\n",
       "    }\n",
       "</style>\n",
       "<table border=\"1\" class=\"dataframe\">\n",
       "  <thead>\n",
       "    <tr style=\"text-align: right;\">\n",
       "      <th></th>\n",
       "      <th>item_id</th>\n",
       "      <th>source_id</th>\n",
       "      <th>embeddings</th>\n",
       "    </tr>\n",
       "  </thead>\n",
       "  <tbody>\n",
       "    <tr>\n",
       "      <th>0</th>\n",
       "      <td>0</td>\n",
       "      <td>7340</td>\n",
       "      <td>[0.10458118, 0.047880154, 0.030944156, -0.0351...</td>\n",
       "    </tr>\n",
       "    <tr>\n",
       "      <th>1</th>\n",
       "      <td>1</td>\n",
       "      <td>6284</td>\n",
       "      <td>[0.035625108, -0.039264094, -0.03310334, -0.04...</td>\n",
       "    </tr>\n",
       "    <tr>\n",
       "      <th>2</th>\n",
       "      <td>2</td>\n",
       "      <td>12766</td>\n",
       "      <td>[0.08418761, 0.006732465, -0.0037112322, -0.02...</td>\n",
       "    </tr>\n",
       "  </tbody>\n",
       "</table>\n",
       "</div>"
      ],
      "text/plain": [
       "   item_id  source_id                                         embeddings\n",
       "0        0       7340  [0.10458118, 0.047880154, 0.030944156, -0.0351...\n",
       "1        1       6284  [0.035625108, -0.039264094, -0.03310334, -0.04...\n",
       "2        2      12766  [0.08418761, 0.006732465, -0.0037112322, -0.02..."
      ]
     },
     "execution_count": 5,
     "metadata": {},
     "output_type": "execute_result"
    }
   ],
   "source": [
    "# в items_meta для каждого item_id его автор и эмбеддинг содержания\n",
    "items = pd.read_parquet(f'items_meta.parquet.gzip')\n",
    "items.head(3)"
   ]
  },
  {
   "cell_type": "code",
   "execution_count": 6,
   "metadata": {},
   "outputs": [],
   "source": [
    "items = items.set_index('item_id')"
   ]
  },
  {
   "cell_type": "code",
   "execution_count": 7,
   "metadata": {},
   "outputs": [],
   "source": [
    "items['mean_timespent'] = df.groupby('item_id')['timespent'].mean().values"
   ]
  },
  {
   "cell_type": "code",
   "execution_count": 8,
   "metadata": {},
   "outputs": [],
   "source": [
    "items['mean_reaction'] = df.groupby('item_id')['reaction'].mean().values"
   ]
  },
  {
   "cell_type": "code",
   "execution_count": 9,
   "metadata": {},
   "outputs": [],
   "source": [
    "items['amount'] = df.groupby('item_id').size()"
   ]
  },
  {
   "cell_type": "code",
   "execution_count": 10,
   "metadata": {},
   "outputs": [
    {
     "data": {
      "text/plain": [
       "count    227606\n",
       "mean        634\n",
       "std        1959\n",
       "min           3\n",
       "25%          68\n",
       "50%         172\n",
       "75%         490\n",
       "max      122986\n",
       "Name: amount, dtype: int64"
      ]
     },
     "execution_count": 10,
     "metadata": {},
     "output_type": "execute_result"
    }
   ],
   "source": [
    "items['amount'].describe().astype(int)"
   ]
  },
  {
   "cell_type": "code",
   "execution_count": 11,
   "metadata": {},
   "outputs": [
    {
     "data": {
      "text/plain": [
       "array([[1.       , 0.0991944],\n",
       "       [0.0991944, 1.       ]])"
      ]
     },
     "execution_count": 11,
     "metadata": {},
     "output_type": "execute_result"
    }
   ],
   "source": [
    "np.corrcoef(items['amount'], items['mean_timespent'])"
   ]
  },
  {
   "cell_type": "code",
   "execution_count": 12,
   "metadata": {},
   "outputs": [
    {
     "data": {
      "text/plain": [
       "array([[ 1.        , -0.06108216],\n",
       "       [-0.06108216,  1.        ]])"
      ]
     },
     "execution_count": 12,
     "metadata": {},
     "output_type": "execute_result"
    }
   ],
   "source": [
    "np.corrcoef(items['amount'], items['mean_reaction'])"
   ]
  },
  {
   "cell_type": "code",
   "execution_count": 13,
   "metadata": {},
   "outputs": [
    {
     "data": {
      "text/plain": [
       "array([[1.        , 0.28293847],\n",
       "       [0.28293847, 1.        ]])"
      ]
     },
     "execution_count": 13,
     "metadata": {},
     "output_type": "execute_result"
    }
   ],
   "source": [
    "np.corrcoef(items['mean_timespent'], items['mean_reaction'])"
   ]
  },
  {
   "cell_type": "markdown",
   "metadata": {},
   "source": [
    "# Pipeline"
   ]
  },
  {
   "cell_type": "code",
   "execution_count": 14,
   "metadata": {},
   "outputs": [],
   "source": [
    "VAL_SIZE = 0.2"
   ]
  },
  {
   "cell_type": "code",
   "execution_count": 15,
   "metadata": {},
   "outputs": [],
   "source": [
    "VAL_N = int(len(df) * VAL_SIZE)"
   ]
  },
  {
   "cell_type": "code",
   "execution_count": 16,
   "metadata": {},
   "outputs": [],
   "source": [
    "val = df[-VAL_N:].copy()"
   ]
  },
  {
   "cell_type": "code",
   "execution_count": 17,
   "metadata": {},
   "outputs": [],
   "source": [
    "train = df[:-VAL_N]"
   ]
  },
  {
   "cell_type": "code",
   "execution_count": 18,
   "metadata": {},
   "outputs": [],
   "source": [
    "user_id = 707536"
   ]
  },
  {
   "cell_type": "code",
   "execution_count": 19,
   "metadata": {},
   "outputs": [],
   "source": [
    "def get_embeddings(items_id):\n",
    "    X = []\n",
    "    for emb in items.loc[items_id].embeddings:\n",
    "        v = np.array(emb)\n",
    "        X.append(v)\n",
    "    X = np.array(X)\n",
    "    return X"
   ]
  },
  {
   "cell_type": "code",
   "execution_count": 20,
   "metadata": {},
   "outputs": [],
   "source": [
    "from sklearn.cluster import DBSCAN\n",
    "from sklearn.neighbors import NearestNeighbors"
   ]
  },
  {
   "cell_type": "code",
   "execution_count": 21,
   "metadata": {},
   "outputs": [],
   "source": [
    "knn = NearestNeighbors(metric='cosine', n_neighbors=3)"
   ]
  },
  {
   "cell_type": "code",
   "execution_count": 24,
   "metadata": {},
   "outputs": [],
   "source": [
    "X = get_embeddings(items.index)"
   ]
  },
  {
   "cell_type": "code",
   "execution_count": 25,
   "metadata": {},
   "outputs": [
    {
     "data": {
      "text/plain": [
       "NearestNeighbors(metric='cosine', n_neighbors=3)"
      ]
     },
     "execution_count": 25,
     "metadata": {},
     "output_type": "execute_result"
    }
   ],
   "source": [
    "knn.fit(X)"
   ]
  },
  {
   "cell_type": "code",
   "execution_count": 26,
   "metadata": {},
   "outputs": [],
   "source": [
    "user_id = np.random.choice(df.user_id.values)"
   ]
  },
  {
   "cell_type": "code",
   "execution_count": 27,
   "metadata": {},
   "outputs": [],
   "source": [
    "user_vecs = get_embeddings(df[df.user_id == user_id].item_id.values)"
   ]
  },
  {
   "cell_type": "code",
   "execution_count": 28,
   "metadata": {},
   "outputs": [],
   "source": [
    "target_items = df[df.user_id == user_id].item_id.values"
   ]
  },
  {
   "cell_type": "code",
   "execution_count": 30,
   "metadata": {
    "scrolled": true
   },
   "outputs": [
    {
     "data": {
      "text/plain": [
       "412"
      ]
     },
     "execution_count": 30,
     "metadata": {},
     "output_type": "execute_result"
    }
   ],
   "source": [
    "len(target_items)"
   ]
  },
  {
   "cell_type": "code",
   "execution_count": 31,
   "metadata": {},
   "outputs": [],
   "source": [
    "# vec = X[0]"
   ]
  },
  {
   "cell_type": "code",
   "execution_count": 32,
   "metadata": {},
   "outputs": [],
   "source": [
    "dist, neighbors = knn.kneighbors(user_vecs)"
   ]
  },
  {
   "cell_type": "code",
   "execution_count": 33,
   "metadata": {},
   "outputs": [
    {
     "data": {
      "text/plain": [
       "(412, 3)"
      ]
     },
     "execution_count": 33,
     "metadata": {},
     "output_type": "execute_result"
    }
   ],
   "source": [
    "neighbors.shape"
   ]
  },
  {
   "cell_type": "code",
   "execution_count": 34,
   "metadata": {},
   "outputs": [
    {
     "data": {
      "text/plain": [
       "0.8932038834951457"
      ]
     },
     "execution_count": 34,
     "metadata": {},
     "output_type": "execute_result"
    }
   ],
   "source": [
    "len(set(neighbors.flatten())) / len(list(neighbors.flatten()))"
   ]
  },
  {
   "cell_type": "code",
   "execution_count": 35,
   "metadata": {},
   "outputs": [
    {
     "data": {
      "text/plain": [
       "1.0"
      ]
     },
     "execution_count": 35,
     "metadata": {},
     "output_type": "execute_result"
    }
   ],
   "source": [
    "len(set(neighbors.flatten()) & set(target_items)) / len(target_items)"
   ]
  },
  {
   "cell_type": "code",
   "execution_count": 38,
   "metadata": {},
   "outputs": [
    {
     "data": {
      "text/plain": [
       "0.0018101456024885109"
      ]
     },
     "execution_count": 38,
     "metadata": {},
     "output_type": "execute_result"
    }
   ],
   "source": [
    "len(set(neighbors.flatten()) & set(target_items)) / len(items)"
   ]
  },
  {
   "cell_type": "code",
   "execution_count": 582,
   "metadata": {
    "pycharm": {
     "name": "#%%\n"
    }
   },
   "outputs": [],
   "source": [
    "class KNNRecommender:\n",
    "    def __init__(self, top_n=20, n_neighbors=100, n_items_count=300):\n",
    "        self.top_n = top_n\n",
    "        self.n_items_count = n_items_count\n",
    "        self.knn = NearestNeighbors(n_neighbors=n_neighbors)\n",
    "        \n",
    "    def fit(self, candidates):\n",
    "        self.embeddings = get_embeddings(candidates.item_id.values)\n",
    "        self.knn.fit(self.embeddings)\n",
    "        self.candidates = candidates\n",
    "    \n",
    "    def predict(self, user_id, user_df):\n",
    "        # get user history\n",
    "        user_embeddings = get_embeddings(user_df.item_id.values[:self.n_items_count])\n",
    "        dist, neighbors = self.knn.kneighbors(user_embeddings)\n",
    "\n",
    "        candidate_item_ids = self.candidates.loc[neighbors.flatten()].item_id.values\n",
    "        candidates = items.loc[candidate_item_ids]\n",
    "        candidates['dist'] = dist.flatten()\n",
    "        \n",
    "        seen_item_ids = list(set(user_df.item_id.values) & set(candidate_item_ids))\n",
    "        \n",
    "        candidates = candidates.drop(seen_item_ids)\n",
    "        candidates = candidates[~candidates.index.duplicated(keep='first')]\n",
    "        \n",
    "        candidates = candidates.sort_values(by='mean_timespent')\n",
    "        \n",
    "        return candidates.index.values[-self.top_n:]"
   ]
  },
  {
   "cell_type": "code",
   "execution_count": 583,
   "metadata": {},
   "outputs": [
    {
     "data": {
      "text/html": [
       "<div>\n",
       "<style scoped>\n",
       "    .dataframe tbody tr th:only-of-type {\n",
       "        vertical-align: middle;\n",
       "    }\n",
       "\n",
       "    .dataframe tbody tr th {\n",
       "        vertical-align: top;\n",
       "    }\n",
       "\n",
       "    .dataframe thead th {\n",
       "        text-align: right;\n",
       "    }\n",
       "</style>\n",
       "<table border=\"1\" class=\"dataframe\">\n",
       "  <thead>\n",
       "    <tr style=\"text-align: right;\">\n",
       "      <th></th>\n",
       "      <th>user_id</th>\n",
       "    </tr>\n",
       "  </thead>\n",
       "  <tbody>\n",
       "    <tr>\n",
       "      <th>0</th>\n",
       "      <td>7</td>\n",
       "    </tr>\n",
       "    <tr>\n",
       "      <th>1</th>\n",
       "      <td>8</td>\n",
       "    </tr>\n",
       "    <tr>\n",
       "      <th>2</th>\n",
       "      <td>9</td>\n",
       "    </tr>\n",
       "  </tbody>\n",
       "</table>\n",
       "</div>"
      ],
      "text/plain": [
       "   user_id\n",
       "0        7\n",
       "1        8\n",
       "2        9"
      ]
     },
     "execution_count": 583,
     "metadata": {},
     "output_type": "execute_result"
    }
   ],
   "source": [
    "test = pd.read_parquet('test.parquet.gzip')\n",
    "# test = test.set_index('user_id')\n",
    "test.head(3)"
   ]
  },
  {
   "cell_type": "code",
   "execution_count": 584,
   "metadata": {},
   "outputs": [
    {
     "data": {
      "text/html": [
       "<div>\n",
       "<style scoped>\n",
       "    .dataframe tbody tr th:only-of-type {\n",
       "        vertical-align: middle;\n",
       "    }\n",
       "\n",
       "    .dataframe tbody tr th {\n",
       "        vertical-align: top;\n",
       "    }\n",
       "\n",
       "    .dataframe thead th {\n",
       "        text-align: right;\n",
       "    }\n",
       "</style>\n",
       "<table border=\"1\" class=\"dataframe\">\n",
       "  <thead>\n",
       "    <tr style=\"text-align: right;\">\n",
       "      <th></th>\n",
       "      <th>item_id</th>\n",
       "    </tr>\n",
       "  </thead>\n",
       "  <tbody>\n",
       "    <tr>\n",
       "      <th>0</th>\n",
       "      <td>0</td>\n",
       "    </tr>\n",
       "    <tr>\n",
       "      <th>1</th>\n",
       "      <td>2</td>\n",
       "    </tr>\n",
       "    <tr>\n",
       "      <th>2</th>\n",
       "      <td>5</td>\n",
       "    </tr>\n",
       "  </tbody>\n",
       "</table>\n",
       "</div>"
      ],
      "text/plain": [
       "   item_id\n",
       "0        0\n",
       "1        2\n",
       "2        5"
      ]
     },
     "execution_count": 584,
     "metadata": {},
     "output_type": "execute_result"
    }
   ],
   "source": [
    "candidates = pd.read_parquet(f'fresh_candidates.parquet.gzip')\n",
    "candidates.head(3)"
   ]
  },
  {
   "cell_type": "code",
   "execution_count": 447,
   "metadata": {},
   "outputs": [],
   "source": [
    "cand_idx_to_item = dict(zip(candidates.index.values, candidates.item_id.values))"
   ]
  },
  {
   "cell_type": "code",
   "execution_count": 450,
   "metadata": {},
   "outputs": [],
   "source": [
    "cand_item_to_idx = dict(zip(candidates.item_id.values, candidates.index.values))"
   ]
  },
  {
   "cell_type": "code",
   "execution_count": 257,
   "metadata": {},
   "outputs": [],
   "source": [
    "model = KNNRecommender(top_n=20, n_items_count=300)\n",
    "model.fit(candidates)"
   ]
  },
  {
   "cell_type": "code",
   "execution_count": 279,
   "metadata": {},
   "outputs": [],
   "source": [
    "self = KNNRecommender(top_n=20, n_items_count=300)\n",
    "self.fit(candidates)"
   ]
  },
  {
   "cell_type": "code",
   "execution_count": 522,
   "metadata": {},
   "outputs": [],
   "source": [
    "knn = NearestNeighbors(metric='cosine')"
   ]
  },
  {
   "cell_type": "code",
   "execution_count": 523,
   "metadata": {},
   "outputs": [],
   "source": [
    "X = get_embeddings(candidates.index)"
   ]
  },
  {
   "cell_type": "code",
   "execution_count": 524,
   "metadata": {},
   "outputs": [],
   "source": [
    "all_embeddings = get_embeddings(items.index)"
   ]
  },
  {
   "cell_type": "code",
   "execution_count": 525,
   "metadata": {},
   "outputs": [],
   "source": [
    "fresh_embeddings = get_embeddings(candidates.index)"
   ]
  },
  {
   "cell_type": "code",
   "execution_count": 528,
   "metadata": {},
   "outputs": [
    {
     "data": {
      "text/plain": [
       "NearestNeighbors(metric='cosine')"
      ]
     },
     "execution_count": 528,
     "metadata": {},
     "output_type": "execute_result"
    }
   ],
   "source": [
    "knn.fit(fresh_embeddings)"
   ]
  },
  {
   "cell_type": "code",
   "execution_count": 474,
   "metadata": {},
   "outputs": [],
   "source": [
    "# iloc -> numeric\n",
    "# loc -> item_id"
   ]
  },
  {
   "cell_type": "code",
   "execution_count": 530,
   "metadata": {},
   "outputs": [],
   "source": [
    "user_df = df[df.user_id == user_id]"
   ]
  },
  {
   "cell_type": "code",
   "execution_count": 531,
   "metadata": {},
   "outputs": [],
   "source": [
    "user_df = user_df.set_index('item_id')"
   ]
  },
  {
   "cell_type": "code",
   "execution_count": 532,
   "metadata": {},
   "outputs": [],
   "source": [
    "user_embeddings = get_embeddings(user_df.index)"
   ]
  },
  {
   "cell_type": "code",
   "execution_count": 544,
   "metadata": {},
   "outputs": [],
   "source": [
    "neig_dist, neig_ind = knn.kneighbors(user_embeddings, n_neighbors=10)"
   ]
  },
  {
   "cell_type": "code",
   "execution_count": 545,
   "metadata": {},
   "outputs": [
    {
     "data": {
      "text/plain": [
       "(151, 10)"
      ]
     },
     "execution_count": 545,
     "metadata": {},
     "output_type": "execute_result"
    }
   ],
   "source": [
    "neig_ind.shape"
   ]
  },
  {
   "cell_type": "code",
   "execution_count": 546,
   "metadata": {},
   "outputs": [],
   "source": [
    "recs = []\n",
    "for i in neig_ind.flatten():\n",
    "    recs.append(cand_idx_to_item[i])"
   ]
  },
  {
   "cell_type": "code",
   "execution_count": 547,
   "metadata": {},
   "outputs": [
    {
     "data": {
      "text/plain": [
       "1510"
      ]
     },
     "execution_count": 547,
     "metadata": {},
     "output_type": "execute_result"
    }
   ],
   "source": [
    "len(recs)"
   ]
  },
  {
   "cell_type": "code",
   "execution_count": 548,
   "metadata": {},
   "outputs": [
    {
     "data": {
      "text/plain": [
       "1157"
      ]
     },
     "execution_count": 548,
     "metadata": {},
     "output_type": "execute_result"
    }
   ],
   "source": [
    "len(set(recs))"
   ]
  },
  {
   "cell_type": "code",
   "execution_count": 549,
   "metadata": {},
   "outputs": [],
   "source": [
    "history = user_df.index.values"
   ]
  },
  {
   "cell_type": "code",
   "execution_count": 550,
   "metadata": {},
   "outputs": [
    {
     "data": {
      "text/plain": [
       "151"
      ]
     },
     "execution_count": 550,
     "metadata": {},
     "output_type": "execute_result"
    }
   ],
   "source": [
    "len(history)"
   ]
  },
  {
   "cell_type": "code",
   "execution_count": 1,
   "metadata": {},
   "outputs": [],
   "source": [
    "a = set([1, 2, 3])\n",
    "b = set([2, 3, 4])"
   ]
  },
  {
   "cell_type": "code",
   "execution_count": 3,
   "metadata": {},
   "outputs": [],
   "source": [
    "a -= b"
   ]
  },
  {
   "cell_type": "code",
   "execution_count": 4,
   "metadata": {},
   "outputs": [
    {
     "data": {
      "text/plain": [
       "{1}"
      ]
     },
     "execution_count": 4,
     "metadata": {},
     "output_type": "execute_result"
    }
   ],
   "source": [
    "a"
   ]
  },
  {
   "cell_type": "code",
   "execution_count": 551,
   "metadata": {},
   "outputs": [],
   "source": [
    "match = set(history) & set(recs)"
   ]
  },
  {
   "cell_type": "code",
   "execution_count": null,
   "metadata": {},
   "outputs": [],
   "source": []
  },
  {
   "cell_type": "code",
   "execution_count": 552,
   "metadata": {},
   "outputs": [],
   "source": [
    "possible_match = set(history) & set(candidates.item_id.values)"
   ]
  },
  {
   "cell_type": "code",
   "execution_count": 553,
   "metadata": {},
   "outputs": [
    {
     "data": {
      "text/plain": [
       "86"
      ]
     },
     "execution_count": 553,
     "metadata": {},
     "output_type": "execute_result"
    }
   ],
   "source": [
    "len(possible_match)"
   ]
  },
  {
   "cell_type": "code",
   "execution_count": 580,
   "metadata": {},
   "outputs": [],
   "source": [
    "last_n = 2"
   ]
  },
  {
   "cell_type": "code",
   "execution_count": 581,
   "metadata": {
    "collapsed": true
   },
   "outputs": [
    {
     "name": "stdout",
     "output_type": "stream",
     "text": [
      "n: 25\n",
      "unique/all: 1.0\n",
      "match: 0\n",
      "possible match: 1\n",
      "----------\n",
      "n: 30\n",
      "unique/all: 1.0\n",
      "match: 0\n",
      "possible match: 1\n",
      "----------\n",
      "n: 50\n",
      "unique/all: 1.0\n",
      "match: 0\n",
      "possible match: 1\n",
      "----------\n",
      "n: 70\n",
      "unique/all: 0.9857142857142858\n",
      "match: 0\n",
      "possible match: 1\n",
      "----------\n",
      "n: 100\n",
      "unique/all: 0.99\n",
      "match: 0\n",
      "possible match: 1\n",
      "----------\n",
      "n: 200\n",
      "unique/all: 0.985\n",
      "match: 0\n",
      "possible match: 1\n",
      "----------\n",
      "n: 300\n",
      "unique/all: 0.9866666666666667\n",
      "match: 0\n",
      "possible match: 1\n",
      "----------\n",
      "n: 500\n",
      "unique/all: 0.979\n",
      "match: 0\n",
      "possible match: 1\n",
      "----------\n",
      "n: 1000\n",
      "unique/all: 0.9635\n",
      "match: 0\n",
      "possible match: 1\n",
      "----------\n",
      "n: 2000\n",
      "unique/all: 0.93925\n",
      "match: 0\n",
      "possible match: 1\n",
      "----------\n",
      "n: 3000\n",
      "unique/all: 0.9165\n",
      "match: 0\n",
      "possible match: 1\n",
      "----------\n"
     ]
    }
   ],
   "source": [
    "for n in [25, 30, 50, 70, 100, 200, 300, 500, 1000, 2000, 3000]:\n",
    "    print(f'n: {n}')\n",
    "    \n",
    "    neig_dist, neig_ind = knn.kneighbors(user_embeddings[-last_n:], n_neighbors=n)\n",
    "    recs = []\n",
    "    for i in neig_ind.flatten():\n",
    "        recs.append(cand_idx_to_item[i])\n",
    "    \n",
    "    match = set(history[-last_n:]) & set(recs)\n",
    "    possible_match = set(history[-last_n:]) & set(candidates.item_id.values)\n",
    "    \n",
    "    print(f'unique/all: {len(set(recs)) / len(recs)}')\n",
    "    print(f'match: {len(match)}')\n",
    "    print(f'possible match: {len(possible_match)}')\n",
    "    print(f'-'*10)"
   ]
  },
  {
   "cell_type": "code",
   "execution_count": 554,
   "metadata": {},
   "outputs": [
    {
     "data": {
      "text/plain": [
       "2"
      ]
     },
     "execution_count": 554,
     "metadata": {},
     "output_type": "execute_result"
    }
   ],
   "source": [
    "len(match)"
   ]
  },
  {
   "cell_type": "code",
   "execution_count": 482,
   "metadata": {},
   "outputs": [],
   "source": [
    "history = user_df.index.values"
   ]
  },
  {
   "cell_type": "code",
   "execution_count": null,
   "metadata": {},
   "outputs": [],
   "source": [
    "set()"
   ]
  },
  {
   "cell_type": "code",
   "execution_count": 443,
   "metadata": {},
   "outputs": [
    {
     "data": {
      "text/plain": [
       "87508"
      ]
     },
     "execution_count": 443,
     "metadata": {},
     "output_type": "execute_result"
    }
   ],
   "source": [
    "candidates[candidates.item_id == c].index.values[0]"
   ]
  },
  {
   "cell_type": "code",
   "execution_count": 444,
   "metadata": {},
   "outputs": [
    {
     "data": {
      "text/plain": [
       "199259"
      ]
     },
     "execution_count": 444,
     "metadata": {},
     "output_type": "execute_result"
    }
   ],
   "source": [
    "candidates_idx_to_item[87508]"
   ]
  },
  {
   "cell_type": "code",
   "execution_count": 445,
   "metadata": {},
   "outputs": [
    {
     "data": {
      "text/plain": [
       "87508"
      ]
     },
     "execution_count": 445,
     "metadata": {},
     "output_type": "execute_result"
    }
   ],
   "source": [
    "candidates_item_to_idx[199259]"
   ]
  },
  {
   "cell_type": "code",
   "execution_count": 470,
   "metadata": {},
   "outputs": [],
   "source": [
    "fresh_item_id = candidates.item_id.sample(1).values[0]"
   ]
  },
  {
   "cell_type": "code",
   "execution_count": 459,
   "metadata": {},
   "outputs": [],
   "source": [
    "fresh_idx = []\n",
    "for c in history:\n",
    "    i = cand_item_to_idx.get(i, None)\n",
    "    fresh_idx.append(i)"
   ]
  },
  {
   "cell_type": "code",
   "execution_count": 463,
   "metadata": {},
   "outputs": [
    {
     "data": {
      "text/html": [
       "<div>\n",
       "<style scoped>\n",
       "    .dataframe tbody tr th:only-of-type {\n",
       "        vertical-align: middle;\n",
       "    }\n",
       "\n",
       "    .dataframe tbody tr th {\n",
       "        vertical-align: top;\n",
       "    }\n",
       "\n",
       "    .dataframe thead th {\n",
       "        text-align: right;\n",
       "    }\n",
       "</style>\n",
       "<table border=\"1\" class=\"dataframe\">\n",
       "  <thead>\n",
       "    <tr style=\"text-align: right;\">\n",
       "      <th></th>\n",
       "      <th>item_id</th>\n",
       "    </tr>\n",
       "  </thead>\n",
       "  <tbody>\n",
       "  </tbody>\n",
       "</table>\n",
       "</div>"
      ],
      "text/plain": [
       "Empty DataFrame\n",
       "Columns: [item_id]\n",
       "Index: []"
      ]
     },
     "execution_count": 463,
     "metadata": {},
     "output_type": "execute_result"
    }
   ],
   "source": [
    "candidates[candidates.item_id == 139320]"
   ]
  },
  {
   "cell_type": "code",
   "execution_count": null,
   "metadata": {},
   "outputs": [],
   "source": []
  },
  {
   "cell_type": "code",
   "execution_count": 461,
   "metadata": {},
   "outputs": [
    {
     "name": "stdout",
     "output_type": "stream",
     "text": [
      "139320\n",
      "16254\n",
      "78910\n",
      "166978\n",
      "38305\n",
      "2827\n",
      "138487\n",
      "14773\n",
      "183432\n",
      "128613\n",
      "137317\n",
      "47983\n",
      "220340\n",
      "20023\n",
      "67863\n",
      "151453\n",
      "79828\n",
      "17345\n",
      "1968\n",
      "117212\n",
      "3122\n",
      "119238\n",
      "73431\n",
      "39165\n",
      "152525\n",
      "208491\n",
      "30818\n",
      "27048\n",
      "7184\n",
      "185678\n",
      "1305\n",
      "142546\n",
      "88917\n",
      "221061\n",
      "60658\n",
      "169280\n",
      "11481\n",
      "47845\n",
      "97271\n",
      "130339\n",
      "117035\n",
      "158392\n",
      "163059\n",
      "101415\n",
      "109309\n",
      "41463\n",
      "119358\n",
      "58983\n",
      "195965\n",
      "185001\n",
      "40266\n",
      "165419\n",
      "83778\n",
      "106246\n",
      "171991\n",
      "132488\n",
      "221725\n",
      "116135\n",
      "120006\n",
      "88265\n",
      "66485\n",
      "102124\n",
      "80075\n",
      "168373\n",
      "209243\n",
      "194017\n",
      "216530\n",
      "136359\n",
      "212851\n",
      "216251\n",
      "211188\n",
      "535\n",
      "19180\n",
      "216503\n",
      "70705\n",
      "216113\n",
      "192419\n",
      "206949\n",
      "177655\n",
      "185224\n",
      "45810\n",
      "172328\n",
      "55004\n",
      "149949\n",
      "3417\n",
      "169615\n",
      "141152\n",
      "106711\n",
      "218816\n",
      "50266\n",
      "123372\n",
      "42481\n",
      "187535\n",
      "111648\n",
      "40918\n",
      "110907\n",
      "203359\n",
      "63\n",
      "176931\n",
      "199978\n",
      "133269\n",
      "193264\n",
      "25701\n",
      "99637\n",
      "126051\n",
      "182179\n",
      "122434\n",
      "179325\n",
      "151999\n",
      "49107\n",
      "174934\n",
      "213798\n",
      "151406\n",
      "138925\n",
      "62075\n",
      "112623\n",
      "201758\n",
      "96645\n",
      "210224\n",
      "133599\n",
      "108672\n",
      "216071\n",
      "176644\n",
      "71004\n",
      "195403\n",
      "118423\n",
      "226389\n",
      "51819\n",
      "79790\n",
      "325\n",
      "5932\n",
      "44036\n",
      "102257\n",
      "184910\n",
      "67151\n",
      "171360\n",
      "157933\n",
      "124418\n",
      "41143\n",
      "20380\n",
      "71450\n",
      "51007\n",
      "8488\n",
      "46049\n",
      "49279\n",
      "68117\n",
      "145833\n",
      "66080\n",
      "74176\n",
      "153192\n",
      "199259\n"
     ]
    }
   ],
   "source": [
    "for c in history:\n",
    "    print(c)"
   ]
  },
  {
   "cell_type": "code",
   "execution_count": 460,
   "metadata": {},
   "outputs": [
    {
     "data": {
      "text/plain": [
       "[None,\n",
       " None,\n",
       " None,\n",
       " None,\n",
       " None,\n",
       " None,\n",
       " None,\n",
       " None,\n",
       " None,\n",
       " None,\n",
       " None,\n",
       " None,\n",
       " None,\n",
       " None,\n",
       " None,\n",
       " None,\n",
       " None,\n",
       " None,\n",
       " None,\n",
       " None,\n",
       " None,\n",
       " None,\n",
       " None,\n",
       " None,\n",
       " None,\n",
       " None,\n",
       " None,\n",
       " None,\n",
       " None,\n",
       " None,\n",
       " None,\n",
       " None,\n",
       " None,\n",
       " None,\n",
       " None,\n",
       " None,\n",
       " None,\n",
       " None,\n",
       " None,\n",
       " None,\n",
       " None,\n",
       " None,\n",
       " None,\n",
       " None,\n",
       " None,\n",
       " None,\n",
       " None,\n",
       " None,\n",
       " None,\n",
       " None,\n",
       " None,\n",
       " None,\n",
       " None,\n",
       " None,\n",
       " None,\n",
       " None,\n",
       " None,\n",
       " None,\n",
       " None,\n",
       " None,\n",
       " None,\n",
       " None,\n",
       " None,\n",
       " None,\n",
       " None,\n",
       " None,\n",
       " None,\n",
       " None,\n",
       " None,\n",
       " None,\n",
       " None,\n",
       " None,\n",
       " None,\n",
       " None,\n",
       " None,\n",
       " None,\n",
       " None,\n",
       " None,\n",
       " None,\n",
       " None,\n",
       " None,\n",
       " None,\n",
       " None,\n",
       " None,\n",
       " None,\n",
       " None,\n",
       " None,\n",
       " None,\n",
       " None,\n",
       " None,\n",
       " None,\n",
       " None,\n",
       " None,\n",
       " None,\n",
       " None,\n",
       " None,\n",
       " None,\n",
       " None,\n",
       " None,\n",
       " None,\n",
       " None,\n",
       " None,\n",
       " None,\n",
       " None,\n",
       " None,\n",
       " None,\n",
       " None,\n",
       " None,\n",
       " None,\n",
       " None,\n",
       " None,\n",
       " None,\n",
       " None,\n",
       " None,\n",
       " None,\n",
       " None,\n",
       " None,\n",
       " None,\n",
       " None,\n",
       " None,\n",
       " None,\n",
       " None,\n",
       " None,\n",
       " None,\n",
       " None,\n",
       " None,\n",
       " None,\n",
       " None,\n",
       " None,\n",
       " None,\n",
       " None,\n",
       " None,\n",
       " None,\n",
       " None,\n",
       " None,\n",
       " None,\n",
       " None,\n",
       " None,\n",
       " None,\n",
       " None,\n",
       " None,\n",
       " None,\n",
       " None,\n",
       " None,\n",
       " None,\n",
       " None,\n",
       " None,\n",
       " None,\n",
       " None,\n",
       " None,\n",
       " None]"
      ]
     },
     "execution_count": 460,
     "metadata": {},
     "output_type": "execute_result"
    }
   ],
   "source": [
    "fresh_idx"
   ]
  },
  {
   "cell_type": "code",
   "execution_count": null,
   "metadata": {},
   "outputs": [],
   "source": [
    "neig_ind[user_df]"
   ]
  },
  {
   "cell_type": "code",
   "execution_count": null,
   "metadata": {},
   "outputs": [],
   "source": []
  },
  {
   "cell_type": "code",
   "execution_count": null,
   "metadata": {},
   "outputs": [],
   "source": []
  },
  {
   "cell_type": "code",
   "execution_count": null,
   "metadata": {},
   "outputs": [],
   "source": []
  },
  {
   "cell_type": "code",
   "execution_count": null,
   "metadata": {},
   "outputs": [],
   "source": []
  },
  {
   "cell_type": "code",
   "execution_count": null,
   "metadata": {},
   "outputs": [],
   "source": []
  },
  {
   "cell_type": "code",
   "execution_count": 363,
   "metadata": {},
   "outputs": [],
   "source": [
    "item_id = candidates.loc[i].values[0]"
   ]
  },
  {
   "cell_type": "code",
   "execution_count": 364,
   "metadata": {},
   "outputs": [
    {
     "data": {
      "text/plain": [
       "51"
      ]
     },
     "execution_count": 364,
     "metadata": {},
     "output_type": "execute_result"
    }
   ],
   "source": [
    "item_id"
   ]
  },
  {
   "cell_type": "code",
   "execution_count": 365,
   "metadata": {},
   "outputs": [
    {
     "data": {
      "text/plain": [
       "source_id                                                     11485\n",
       "embeddings        [0.12811263, 0.036777616, 0.022303063, 0.00316...\n",
       "mean_timespent                                             0.111732\n",
       "mean_reaction                                             0.0111732\n",
       "amount                                                          179\n",
       "Name: 51, dtype: object"
      ]
     },
     "execution_count": 365,
     "metadata": {},
     "output_type": "execute_result"
    }
   ],
   "source": [
    "items.loc[item_id]"
   ]
  },
  {
   "cell_type": "code",
   "execution_count": 366,
   "metadata": {},
   "outputs": [
    {
     "data": {
      "text/html": [
       "<div>\n",
       "<style scoped>\n",
       "    .dataframe tbody tr th:only-of-type {\n",
       "        vertical-align: middle;\n",
       "    }\n",
       "\n",
       "    .dataframe tbody tr th {\n",
       "        vertical-align: top;\n",
       "    }\n",
       "\n",
       "    .dataframe thead th {\n",
       "        text-align: right;\n",
       "    }\n",
       "</style>\n",
       "<table border=\"1\" class=\"dataframe\">\n",
       "  <thead>\n",
       "    <tr style=\"text-align: right;\">\n",
       "      <th></th>\n",
       "      <th>source_id</th>\n",
       "      <th>embeddings</th>\n",
       "      <th>mean_timespent</th>\n",
       "      <th>mean_reaction</th>\n",
       "      <th>amount</th>\n",
       "    </tr>\n",
       "    <tr>\n",
       "      <th>item_id</th>\n",
       "      <th></th>\n",
       "      <th></th>\n",
       "      <th></th>\n",
       "      <th></th>\n",
       "      <th></th>\n",
       "    </tr>\n",
       "  </thead>\n",
       "  <tbody>\n",
       "    <tr>\n",
       "      <th>20</th>\n",
       "      <td>12210</td>\n",
       "      <td>[0.03040367, 0.025111973, -0.069858946, -0.009...</td>\n",
       "      <td>0.148936</td>\n",
       "      <td>0.010638</td>\n",
       "      <td>94</td>\n",
       "    </tr>\n",
       "    <tr>\n",
       "      <th>50121</th>\n",
       "      <td>12659</td>\n",
       "      <td>[0.037069675, -0.041974667, -0.04673124, 0.002...</td>\n",
       "      <td>0.492958</td>\n",
       "      <td>0.014085</td>\n",
       "      <td>71</td>\n",
       "    </tr>\n",
       "    <tr>\n",
       "      <th>212126</th>\n",
       "      <td>20996</td>\n",
       "      <td>[0.044716157, -0.0057055512, -0.008015964, -0....</td>\n",
       "      <td>0.611111</td>\n",
       "      <td>0.055556</td>\n",
       "      <td>18</td>\n",
       "    </tr>\n",
       "    <tr>\n",
       "      <th>14197</th>\n",
       "      <td>18471</td>\n",
       "      <td>[0.05832005, 0.0027167068, -0.025937278, 0.008...</td>\n",
       "      <td>0.170213</td>\n",
       "      <td>0.021277</td>\n",
       "      <td>94</td>\n",
       "    </tr>\n",
       "    <tr>\n",
       "      <th>140111</th>\n",
       "      <td>9540</td>\n",
       "      <td>[0.0700784, -0.018452901, -0.04222671, 0.00734...</td>\n",
       "      <td>1.109244</td>\n",
       "      <td>0.030812</td>\n",
       "      <td>357</td>\n",
       "    </tr>\n",
       "  </tbody>\n",
       "</table>\n",
       "</div>"
      ],
      "text/plain": [
       "         source_id                                         embeddings  \\\n",
       "item_id                                                                 \n",
       "20           12210  [0.03040367, 0.025111973, -0.069858946, -0.009...   \n",
       "50121        12659  [0.037069675, -0.041974667, -0.04673124, 0.002...   \n",
       "212126       20996  [0.044716157, -0.0057055512, -0.008015964, -0....   \n",
       "14197        18471  [0.05832005, 0.0027167068, -0.025937278, 0.008...   \n",
       "140111        9540  [0.0700784, -0.018452901, -0.04222671, 0.00734...   \n",
       "\n",
       "         mean_timespent  mean_reaction  amount  \n",
       "item_id                                         \n",
       "20             0.148936       0.010638      94  \n",
       "50121          0.492958       0.014085      71  \n",
       "212126         0.611111       0.055556      18  \n",
       "14197          0.170213       0.021277      94  \n",
       "140111         1.109244       0.030812     357  "
      ]
     },
     "execution_count": 366,
     "metadata": {},
     "output_type": "execute_result"
    }
   ],
   "source": [
    "items.loc[neig_ind[i]]"
   ]
  },
  {
   "cell_type": "code",
   "execution_count": 329,
   "metadata": {},
   "outputs": [
    {
     "data": {
      "text/html": [
       "<div>\n",
       "<style scoped>\n",
       "    .dataframe tbody tr th:only-of-type {\n",
       "        vertical-align: middle;\n",
       "    }\n",
       "\n",
       "    .dataframe tbody tr th {\n",
       "        vertical-align: top;\n",
       "    }\n",
       "\n",
       "    .dataframe thead th {\n",
       "        text-align: right;\n",
       "    }\n",
       "</style>\n",
       "<table border=\"1\" class=\"dataframe\">\n",
       "  <thead>\n",
       "    <tr style=\"text-align: right;\">\n",
       "      <th></th>\n",
       "      <th>item_id</th>\n",
       "    </tr>\n",
       "  </thead>\n",
       "  <tbody>\n",
       "    <tr>\n",
       "      <th>1</th>\n",
       "      <td>2</td>\n",
       "    </tr>\n",
       "  </tbody>\n",
       "</table>\n",
       "</div>"
      ],
      "text/plain": [
       "   item_id\n",
       "1        2"
      ]
     },
     "execution_count": 329,
     "metadata": {},
     "output_type": "execute_result"
    }
   ],
   "source": [
    "candidates[candidates.item_id == i]"
   ]
  },
  {
   "cell_type": "markdown",
   "metadata": {},
   "source": [
    "# check carefully what a fuck is going on with labels"
   ]
  },
  {
   "cell_type": "code",
   "execution_count": 280,
   "metadata": {},
   "outputs": [],
   "source": [
    "user_df = df[df.user_id == user_id]"
   ]
  },
  {
   "cell_type": "code",
   "execution_count": 281,
   "metadata": {},
   "outputs": [],
   "source": [
    "user_embeddings = get_embeddings(user_df.item_id.values[:self.n_items_count])"
   ]
  },
  {
   "cell_type": "code",
   "execution_count": 282,
   "metadata": {},
   "outputs": [
    {
     "data": {
      "text/plain": [
       "(151, 312)"
      ]
     },
     "execution_count": 282,
     "metadata": {},
     "output_type": "execute_result"
    }
   ],
   "source": [
    "user_embeddings.shape"
   ]
  },
  {
   "cell_type": "code",
   "execution_count": 292,
   "metadata": {},
   "outputs": [
    {
     "data": {
      "text/plain": [
       "(array([[6.8249696e-01, 7.3914295e-01, 7.4066943e-01, 7.5404269e-01,\n",
       "         7.6515061e-01],\n",
       "        [5.2277470e-01, 5.7075566e-01, 5.7368457e-01, 5.7821119e-01,\n",
       "         5.8842313e-01],\n",
       "        [5.7249063e-01, 5.7613218e-01, 5.8045805e-01, 5.8817160e-01,\n",
       "         5.8943647e-01],\n",
       "        [6.2465531e-01, 6.5118319e-01, 6.6899240e-01, 6.7962229e-01,\n",
       "         6.9155681e-01],\n",
       "        [5.1917541e-01, 5.2394187e-01, 5.6831175e-01, 5.7497370e-01,\n",
       "         5.8280152e-01],\n",
       "        [5.3060043e-01, 5.5699486e-01, 5.8415443e-01, 6.1538774e-01,\n",
       "         6.2320060e-01],\n",
       "        [5.8200574e-01, 5.8470976e-01, 5.8758330e-01, 5.8915806e-01,\n",
       "         6.0476720e-01],\n",
       "        [5.4224759e-01, 5.6902158e-01, 5.7022178e-01, 5.9481055e-01,\n",
       "         5.9512228e-01],\n",
       "        [4.7959250e-01, 5.4697788e-01, 5.4958856e-01, 5.5396068e-01,\n",
       "         5.6169659e-01],\n",
       "        [5.4307508e-01, 5.5502892e-01, 5.6615019e-01, 5.7259989e-01,\n",
       "         5.7333714e-01],\n",
       "        [4.7004932e-01, 5.1780087e-01, 5.2244169e-01, 5.3665310e-01,\n",
       "         5.4083025e-01],\n",
       "        [6.3839179e-01, 6.4335096e-01, 6.5743178e-01, 6.7152971e-01,\n",
       "         6.8323666e-01],\n",
       "        [4.6907961e-01, 5.2126718e-01, 5.4205787e-01, 5.4698205e-01,\n",
       "         5.5596143e-01],\n",
       "        [5.3116906e-01, 5.8371383e-01, 5.8566141e-01, 5.9277779e-01,\n",
       "         6.0400259e-01],\n",
       "        [5.5720717e-01, 6.3535434e-01, 6.5969247e-01, 6.6775542e-01,\n",
       "         6.7058128e-01],\n",
       "        [5.3440154e-01, 6.1452740e-01, 6.1678547e-01, 6.2200493e-01,\n",
       "         6.2261868e-01],\n",
       "        [6.5493929e-01, 6.6831374e-01, 6.7047966e-01, 6.7150801e-01,\n",
       "         6.8694121e-01],\n",
       "        [5.7136220e-01, 5.8582950e-01, 5.8840746e-01, 5.9426326e-01,\n",
       "         5.9454614e-01],\n",
       "        [5.5471289e-01, 5.5863136e-01, 5.6258523e-01, 5.6861085e-01,\n",
       "         5.8805120e-01],\n",
       "        [5.7379997e-01, 6.4100194e-01, 6.4858109e-01, 6.6658640e-01,\n",
       "         6.8011773e-01],\n",
       "        [4.6979612e-01, 4.9851796e-01, 5.0282031e-01, 5.4596502e-01,\n",
       "         5.4697919e-01],\n",
       "        [4.0476114e-01, 5.3347850e-01, 5.5259693e-01, 5.5820811e-01,\n",
       "         5.5833167e-01],\n",
       "        [4.6704236e-01, 5.0309998e-01, 5.3434706e-01, 5.5658835e-01,\n",
       "         5.6269050e-01],\n",
       "        [5.2854329e-01, 5.5685860e-01, 5.8616394e-01, 6.0088784e-01,\n",
       "         6.0604221e-01],\n",
       "        [6.3506931e-01, 6.6350752e-01, 6.6395396e-01, 6.7163223e-01,\n",
       "         6.7316294e-01],\n",
       "        [5.0708616e-01, 5.2109718e-01, 5.3161675e-01, 5.5965376e-01,\n",
       "         5.6752521e-01],\n",
       "        [5.1025194e-01, 5.4732102e-01, 5.5203933e-01, 5.5980080e-01,\n",
       "         5.7461154e-01],\n",
       "        [5.0569761e-01, 5.1913208e-01, 5.2964222e-01, 5.4150480e-01,\n",
       "         5.4807550e-01],\n",
       "        [5.9126997e-01, 5.9623319e-01, 5.9692770e-01, 5.9803581e-01,\n",
       "         6.0009706e-01],\n",
       "        [6.2300825e-01, 6.8204361e-01, 6.8906325e-01, 7.1778607e-01,\n",
       "         7.3495859e-01],\n",
       "        [5.6732363e-01, 5.9582818e-01, 5.9977889e-01, 6.2043607e-01,\n",
       "         6.2178367e-01],\n",
       "        [6.2918121e-01, 6.7573053e-01, 6.8223298e-01, 6.8277264e-01,\n",
       "         6.8984276e-01],\n",
       "        [6.0162705e-01, 6.1479646e-01, 6.1946106e-01, 6.3622016e-01,\n",
       "         6.7539126e-01],\n",
       "        [4.4769573e-01, 5.0126100e-01, 5.3996783e-01, 5.9519500e-01,\n",
       "         6.0182214e-01],\n",
       "        [4.9279326e-01, 6.0233617e-01, 6.1930686e-01, 6.2020659e-01,\n",
       "         6.4752907e-01],\n",
       "        [5.1853085e-01, 5.2817070e-01, 5.6100816e-01, 5.7776254e-01,\n",
       "         5.8659762e-01],\n",
       "        [5.3523439e-01, 5.3738016e-01, 5.8392966e-01, 5.8412468e-01,\n",
       "         5.9963375e-01],\n",
       "        [5.6540442e-01, 5.7813233e-01, 5.8274800e-01, 6.0212147e-01,\n",
       "         6.0337269e-01],\n",
       "        [4.6435300e-01, 5.7663304e-01, 5.9628582e-01, 5.9881592e-01,\n",
       "         6.1578661e-01],\n",
       "        [5.0451487e-01, 5.3262699e-01, 5.4630083e-01, 5.6317717e-01,\n",
       "         5.6421316e-01],\n",
       "        [4.6512964e-01, 4.9591511e-01, 5.1456505e-01, 5.1792234e-01,\n",
       "         5.2786124e-01],\n",
       "        [5.4975736e-01, 5.7847458e-01, 5.7945806e-01, 5.9397793e-01,\n",
       "         6.0709709e-01],\n",
       "        [5.0542974e-01, 5.7143593e-01, 5.7283312e-01, 5.8151335e-01,\n",
       "         5.8378619e-01],\n",
       "        [6.6937220e-01, 6.9933945e-01, 7.0234412e-01, 7.0361674e-01,\n",
       "         7.1205801e-01],\n",
       "        [4.9953669e-01, 5.5598545e-01, 5.5748940e-01, 5.7395893e-01,\n",
       "         5.7489049e-01],\n",
       "        [5.3655767e-01, 5.5713707e-01, 5.9163529e-01, 5.9964663e-01,\n",
       "         6.0051018e-01],\n",
       "        [4.8563045e-01, 4.9965116e-01, 5.4659718e-01, 5.6001288e-01,\n",
       "         5.6531936e-01],\n",
       "        [4.5490867e-01, 5.2971017e-01, 5.5057198e-01, 5.6423062e-01,\n",
       "         5.7706910e-01],\n",
       "        [5.4630542e-01, 5.6415641e-01, 6.0460871e-01, 6.2634480e-01,\n",
       "         6.3045830e-01],\n",
       "        [5.4015774e-01, 5.8243275e-01, 6.0121691e-01, 6.1938930e-01,\n",
       "         6.2811571e-01],\n",
       "        [6.3858962e-01, 6.3872552e-01, 6.4755106e-01, 6.5538204e-01,\n",
       "         6.9084132e-01],\n",
       "        [4.9070796e-01, 5.3196228e-01, 5.3909498e-01, 5.5675620e-01,\n",
       "         5.8649373e-01],\n",
       "        [4.6399331e-01, 5.3328443e-01, 5.3907865e-01, 5.4134744e-01,\n",
       "         5.5684161e-01],\n",
       "        [4.9951440e-01, 5.3381759e-01, 5.4710734e-01, 5.5396450e-01,\n",
       "         5.5621123e-01],\n",
       "        [5.2902502e-01, 5.4499322e-01, 5.5250442e-01, 5.6757295e-01,\n",
       "         5.7370549e-01],\n",
       "        [5.1209891e-01, 5.2664208e-01, 5.6970960e-01, 6.0648155e-01,\n",
       "         6.1044526e-01],\n",
       "        [5.3179187e-01, 5.3920019e-01, 5.5269194e-01, 5.6483895e-01,\n",
       "         5.6625849e-01],\n",
       "        [4.9978799e-01, 5.2746850e-01, 5.3871918e-01, 5.4078203e-01,\n",
       "         5.4803801e-01],\n",
       "        [4.7556373e-01, 4.9431071e-01, 5.2661711e-01, 5.3286004e-01,\n",
       "         5.4915458e-01],\n",
       "        [5.3696662e-01, 5.3778660e-01, 5.4865903e-01, 6.0667253e-01,\n",
       "         6.2011141e-01],\n",
       "        [5.5673891e-01, 6.1485445e-01, 6.6312486e-01, 6.6920364e-01,\n",
       "         6.7406267e-01],\n",
       "        [5.8304578e-01, 5.8657712e-01, 6.1085141e-01, 6.3017875e-01,\n",
       "         6.3122481e-01],\n",
       "        [5.0592154e-01, 5.4779667e-01, 5.5055976e-01, 5.5697811e-01,\n",
       "         5.6316370e-01],\n",
       "        [5.7564229e-01, 6.1899596e-01, 6.4276952e-01, 6.5123397e-01,\n",
       "         6.5382314e-01],\n",
       "        [5.5209720e-01, 5.8463323e-01, 6.0587686e-01, 6.1493021e-01,\n",
       "         6.2477475e-01],\n",
       "        [5.4417878e-01, 5.5767989e-01, 5.6443053e-01, 5.6766683e-01,\n",
       "         5.7997590e-01],\n",
       "        [4.5203885e-01, 4.9988234e-01, 5.0329036e-01, 5.4403579e-01,\n",
       "         5.5933172e-01],\n",
       "        [5.5534601e-01, 5.5681509e-01, 5.8141762e-01, 5.8488351e-01,\n",
       "         6.0482734e-01],\n",
       "        [5.7539046e-01, 5.7684803e-01, 5.8581531e-01, 5.9072328e-01,\n",
       "         5.9520555e-01],\n",
       "        [5.5609995e-01, 6.1363053e-01, 6.3253736e-01, 6.5733498e-01,\n",
       "         6.7306936e-01],\n",
       "        [6.6390365e-01, 6.7165333e-01, 7.1023226e-01, 7.2512960e-01,\n",
       "         7.3272413e-01],\n",
       "        [2.1073424e-08, 5.5978209e-01, 5.9679139e-01, 5.9987921e-01,\n",
       "         6.0877740e-01],\n",
       "        [5.5552983e-01, 5.8962494e-01, 5.8979380e-01, 5.9887141e-01,\n",
       "         6.0492861e-01],\n",
       "        [4.9832109e-01, 6.3877368e-01, 6.4795107e-01, 6.8230349e-01,\n",
       "         6.8402272e-01],\n",
       "        [5.5212456e-01, 5.5354029e-01, 5.5724442e-01, 5.7426047e-01,\n",
       "         5.8340627e-01],\n",
       "        [5.6410152e-01, 5.6426752e-01, 5.7628614e-01, 5.7954377e-01,\n",
       "         6.4388764e-01],\n",
       "        [5.6548476e-01, 5.9763074e-01, 5.9819221e-01, 6.1373580e-01,\n",
       "         6.2333941e-01],\n",
       "        [5.4960746e-01, 5.9380603e-01, 6.0570931e-01, 6.1083794e-01,\n",
       "         6.2851429e-01],\n",
       "        [5.6144530e-01, 6.0115761e-01, 6.4274192e-01, 6.7578763e-01,\n",
       "         6.7890757e-01],\n",
       "        [5.7940960e-01, 6.1287040e-01, 6.1736351e-01, 6.4013547e-01,\n",
       "         6.4152724e-01],\n",
       "        [6.1999166e-01, 6.6378164e-01, 6.8685418e-01, 6.9261974e-01,\n",
       "         6.9692481e-01],\n",
       "        [5.3310573e-01, 6.3108170e-01, 6.3276672e-01, 6.3794851e-01,\n",
       "         6.4402848e-01],\n",
       "        [6.0348099e-01, 6.2093329e-01, 6.2305558e-01, 6.2637126e-01,\n",
       "         6.3104767e-01],\n",
       "        [7.1393174e-01, 7.2481745e-01, 7.4012214e-01, 7.4514455e-01,\n",
       "         7.6180989e-01],\n",
       "        [6.0254675e-01, 6.1178333e-01, 6.1844307e-01, 6.1871737e-01,\n",
       "         6.3775706e-01],\n",
       "        [4.9537542e-01, 5.7021666e-01, 5.7750589e-01, 5.8555806e-01,\n",
       "         6.0070169e-01],\n",
       "        [4.8918033e-01, 4.9265128e-01, 5.0168276e-01, 5.0735587e-01,\n",
       "         5.1148403e-01],\n",
       "        [4.8209399e-01, 5.2661437e-01, 5.6824446e-01, 5.7217997e-01,\n",
       "         5.7505083e-01],\n",
       "        [5.7034940e-01, 5.9669083e-01, 6.1454594e-01, 6.2227780e-01,\n",
       "         6.2889642e-01],\n",
       "        [5.2857840e-01, 5.7116860e-01, 5.7162303e-01, 5.8176935e-01,\n",
       "         5.9439856e-01],\n",
       "        [5.2356869e-01, 5.2737343e-01, 5.3205377e-01, 5.4310727e-01,\n",
       "         5.4439241e-01],\n",
       "        [6.2049401e-01, 6.2501395e-01, 6.3407254e-01, 6.3453025e-01,\n",
       "         6.4097488e-01],\n",
       "        [6.3569731e-01, 6.5002918e-01, 6.5019447e-01, 6.5613878e-01,\n",
       "         6.7043453e-01],\n",
       "        [5.7557935e-01, 5.9116298e-01, 5.9744525e-01, 6.0117960e-01,\n",
       "         6.0313189e-01],\n",
       "        [5.2454090e-01, 5.5745345e-01, 5.7255155e-01, 5.8046091e-01,\n",
       "         5.8689296e-01],\n",
       "        [5.5843371e-01, 5.6613576e-01, 5.9471291e-01, 6.0289717e-01,\n",
       "         6.0322350e-01],\n",
       "        [5.1023704e-01, 6.1083162e-01, 6.2013876e-01, 6.2295371e-01,\n",
       "         6.6200900e-01],\n",
       "        [2.9802322e-08, 5.6795120e-01, 5.7905865e-01, 5.9187585e-01,\n",
       "         5.9296334e-01],\n",
       "        [4.5058987e-01, 5.1235837e-01, 5.1847607e-01, 5.2291560e-01,\n",
       "         5.2747267e-01],\n",
       "        [4.7218448e-01, 4.8491150e-01, 5.2833498e-01, 5.5907196e-01,\n",
       "         5.6727618e-01],\n",
       "        [5.3737307e-01, 5.7027918e-01, 5.7594210e-01, 5.9676635e-01,\n",
       "         5.9749258e-01],\n",
       "        [5.7305151e-01, 6.0585910e-01, 6.1949795e-01, 6.2725323e-01,\n",
       "         6.5208882e-01],\n",
       "        [5.7077414e-01, 6.1463886e-01, 6.2503517e-01, 6.3865423e-01,\n",
       "         6.4523387e-01],\n",
       "        [5.4198718e-01, 5.6894106e-01, 5.7218421e-01, 6.1372578e-01,\n",
       "         6.2212867e-01],\n",
       "        [5.5892038e-01, 5.7247597e-01, 6.2847298e-01, 6.3132268e-01,\n",
       "         6.5284920e-01],\n",
       "        [6.6615337e-01, 6.7003143e-01, 6.8887424e-01, 7.0405930e-01,\n",
       "         7.0612758e-01],\n",
       "        [5.2581352e-01, 5.3261513e-01, 5.3374320e-01, 5.3386885e-01,\n",
       "         5.5088788e-01],\n",
       "        [5.9991819e-01, 6.3163036e-01, 6.7906451e-01, 7.0280451e-01,\n",
       "         7.2203010e-01],\n",
       "        [6.0417324e-01, 6.4671367e-01, 6.4777637e-01, 6.4967823e-01,\n",
       "         6.6331452e-01],\n",
       "        [5.2745318e-01, 5.3733212e-01, 5.3912497e-01, 5.4425865e-01,\n",
       "         5.5197746e-01],\n",
       "        [6.1231476e-01, 6.4789230e-01, 6.7339939e-01, 7.0436472e-01,\n",
       "         7.0644969e-01],\n",
       "        [6.1439347e-01, 6.1910462e-01, 6.2746620e-01, 6.6757369e-01,\n",
       "         6.7324311e-01],\n",
       "        [6.0317087e-01, 6.2599725e-01, 6.3122624e-01, 6.4201957e-01,\n",
       "         6.5309066e-01],\n",
       "        [6.2256432e-01, 6.5271413e-01, 6.7913026e-01, 6.8702930e-01,\n",
       "         7.0576257e-01],\n",
       "        [5.1065558e-01, 6.0186005e-01, 6.0620338e-01, 6.0708612e-01,\n",
       "         6.1889267e-01],\n",
       "        [6.1427999e-01, 6.3638240e-01, 6.4130586e-01, 6.4364636e-01,\n",
       "         6.4485627e-01],\n",
       "        [5.7565176e-01, 5.9541768e-01, 6.3817787e-01, 6.6660094e-01,\n",
       "         6.7031991e-01],\n",
       "        [5.1810414e-01, 5.3070700e-01, 5.3881842e-01, 5.3937745e-01,\n",
       "         5.6479806e-01],\n",
       "        [5.7321173e-01, 5.7594848e-01, 5.7745987e-01, 5.7780439e-01,\n",
       "         5.7853961e-01],\n",
       "        [4.9439567e-01, 5.4556012e-01, 5.4742926e-01, 5.6046748e-01,\n",
       "         5.6917930e-01],\n",
       "        [6.1922979e-01, 6.6081464e-01, 6.6801471e-01, 6.9016171e-01,\n",
       "         7.0525646e-01],\n",
       "        [6.3581854e-01, 6.3943052e-01, 6.5854549e-01, 6.9288832e-01,\n",
       "         6.9436133e-01],\n",
       "        [6.4583993e-01, 6.5201551e-01, 6.8511230e-01, 6.8830311e-01,\n",
       "         6.8995690e-01],\n",
       "        [5.3374904e-01, 5.5348516e-01, 5.7724786e-01, 5.8396053e-01,\n",
       "         5.8748329e-01],\n",
       "        [5.7631767e-01, 6.2056923e-01, 6.4714849e-01, 6.5887874e-01,\n",
       "         6.6877949e-01],\n",
       "        [5.8661264e-01, 6.0773796e-01, 6.1414564e-01, 6.1435121e-01,\n",
       "         6.3141322e-01],\n",
       "        [5.8664298e-01, 6.0118091e-01, 6.0750175e-01, 6.2447721e-01,\n",
       "         6.2559599e-01],\n",
       "        [5.2724850e-01, 5.3432161e-01, 5.4586679e-01, 5.4790193e-01,\n",
       "         5.5404240e-01],\n",
       "        [5.4010683e-01, 5.4326379e-01, 5.8076060e-01, 5.9552187e-01,\n",
       "         6.0130465e-01],\n",
       "        [2.9802322e-08, 5.9798443e-01, 6.1312318e-01, 6.2107211e-01,\n",
       "         6.3267905e-01],\n",
       "        [5.9884101e-01, 6.0836953e-01, 6.1110526e-01, 6.1117625e-01,\n",
       "         6.1357999e-01],\n",
       "        [5.2704865e-01, 5.5354971e-01, 5.6722915e-01, 5.7662171e-01,\n",
       "         5.8054268e-01],\n",
       "        [6.5643972e-01, 6.7527801e-01, 6.8648475e-01, 7.1126890e-01,\n",
       "         7.1224338e-01],\n",
       "        [5.2479023e-01, 5.3609461e-01, 5.4810375e-01, 5.6754452e-01,\n",
       "         5.8078104e-01],\n",
       "        [5.6885833e-01, 5.7598484e-01, 5.7778883e-01, 5.8231413e-01,\n",
       "         5.9651464e-01],\n",
       "        [6.3091630e-01, 6.3220513e-01, 6.3315201e-01, 6.4573973e-01,\n",
       "         6.4729679e-01],\n",
       "        [5.9216344e-01, 6.2073356e-01, 6.2953138e-01, 6.7602211e-01,\n",
       "         6.7687798e-01],\n",
       "        [5.2010190e-01, 5.3180915e-01, 5.5911678e-01, 5.6405473e-01,\n",
       "         5.7331979e-01],\n",
       "        [5.0708753e-01, 5.6811160e-01, 5.9871101e-01, 6.0071152e-01,\n",
       "         6.0198098e-01],\n",
       "        [6.3489687e-01, 6.5304339e-01, 6.5510702e-01, 6.5584981e-01,\n",
       "         6.5989846e-01],\n",
       "        [5.1156020e-01, 5.4550654e-01, 5.6662446e-01, 5.8839947e-01,\n",
       "         6.0397696e-01],\n",
       "        [5.9731728e-01, 5.9975171e-01, 6.2349188e-01, 6.3678944e-01,\n",
       "         6.4155513e-01],\n",
       "        [5.7473153e-01, 6.2112892e-01, 6.3148671e-01, 6.5009636e-01,\n",
       "         6.5090162e-01],\n",
       "        [6.7198414e-01, 6.7306000e-01, 6.7519915e-01, 6.7536187e-01,\n",
       "         6.9155651e-01],\n",
       "        [5.6464463e-01, 5.9246349e-01, 6.6233742e-01, 6.6246903e-01,\n",
       "         6.6297799e-01],\n",
       "        [5.9002393e-01, 6.3554096e-01, 6.3596165e-01, 6.7362458e-01,\n",
       "         6.7744780e-01],\n",
       "        [4.9512690e-01, 5.0597757e-01, 5.1211512e-01, 5.3322023e-01,\n",
       "         5.3723764e-01],\n",
       "        [5.7221252e-01, 5.9888774e-01, 6.2723541e-01, 6.3124293e-01,\n",
       "         6.4778727e-01],\n",
       "        [5.9199059e-01, 6.7112237e-01, 6.7832649e-01, 6.8858618e-01,\n",
       "         6.8948424e-01],\n",
       "        [5.5257720e-01, 5.5467117e-01, 5.8560443e-01, 5.8859980e-01,\n",
       "         5.9030050e-01],\n",
       "        [5.7384640e-01, 5.7987088e-01, 5.8304316e-01, 5.8529282e-01,\n",
       "         5.8596683e-01]], dtype=float32),\n",
       " array([[132,  14,  52, 148,  37],\n",
       "        [ 32, 240, 135, 111, 156],\n",
       "        [134, 198, 201, 112,  74],\n",
       "        [207,  57, 275, 277,  54],\n",
       "        [ 28, 111, 135, 139,  45],\n",
       "        [ 45, 260, 296, 239, 134],\n",
       "        [260, 166, 232,  45, 148],\n",
       "        [ 28, 139, 111,  96, 195],\n",
       "        [ 28,  65,  18, 139, 111],\n",
       "        [111, 139,  28, 195,  96],\n",
       "        [111,  96, 135,  18, 171],\n",
       "        [ 56,  80, 110, 178, 134],\n",
       "        [ 96, 135,  45, 265, 171],\n",
       "        [ 89, 135,  96, 239, 111],\n",
       "        [111,  43, 171, 239, 208],\n",
       "        [239,  28, 135,  45,  89],\n",
       "        [265,  79, 101, 146, 152],\n",
       "        [112, 250, 283, 227, 113],\n",
       "        [135, 134, 139,  32,  28],\n",
       "        [235, 279, 190, 164, 134],\n",
       "        [158,  74, 134, 148, 229],\n",
       "        [ 28,  89,  96, 156, 260],\n",
       "        [ 89, 262, 135, 139, 156],\n",
       "        [248, 247, 252, 117, 246],\n",
       "        [113, 156,  40,  70, 261],\n",
       "        [135, 265,  96,  89, 111],\n",
       "        [ 45,  28, 260, 134, 139],\n",
       "        [134, 208,  65, 110, 201],\n",
       "        [156,  89,  96,  32,  45],\n",
       "        [ 33, 223, 104,  85, 124],\n",
       "        [137,  94,  38, 187, 147],\n",
       "        [ 96, 111, 139, 265, 171],\n",
       "        [ 96, 146, 171,  18, 101],\n",
       "        [ 89, 262, 135, 250, 260],\n",
       "        [ 33, 104, 124, 223,  85],\n",
       "        [ 45,  28,  89, 260, 265],\n",
       "        [260,  28,  89,  45, 139],\n",
       "        [195,  75, 139, 156,  45],\n",
       "        [ 28, 156,  96, 239, 139],\n",
       "        [134, 132, 157, 250, 266],\n",
       "        [201, 132, 178, 134, 130],\n",
       "        [111,  18,  28,  65, 240],\n",
       "        [ 28,  96,  45, 135, 146],\n",
       "        [ 28, 112, 239, 124, 135],\n",
       "        [ 96,  28, 234, 111, 156],\n",
       "        [285, 145, 148,  74, 198],\n",
       "        [ 89, 135, 260, 261,  61],\n",
       "        [ 28, 156, 139,  96,  89],\n",
       "        [ 48, 112,  18,  19, 111],\n",
       "        [113, 279, 237,  18, 166],\n",
       "        [156,  28,  75, 124, 213],\n",
       "        [ 89, 262,  55, 214,  29],\n",
       "        [164, 165, 197,  73, 254],\n",
       "        [111, 240, 139, 135, 171],\n",
       "        [139,  32, 111,  28,  96],\n",
       "        [ 19, 227, 113, 199,  15],\n",
       "        [134, 250, 237, 290, 135],\n",
       "        [148, 116, 263, 134, 132],\n",
       "        [165,  41,  81, 134, 164],\n",
       "        [112, 199, 133, 299,  18],\n",
       "        [124,  28, 141, 213, 104],\n",
       "        [261, 240,  96,  65, 135],\n",
       "        [111, 139,  45,  32, 135],\n",
       "        [ 28, 124,  45,  77, 239],\n",
       "        [265, 111, 135, 171,  32],\n",
       "        [139, 156, 195,  28,  45],\n",
       "        [240, 146,  32,  18, 111],\n",
       "        [164, 232, 197,  81, 182],\n",
       "        [240, 146, 135,  32, 111],\n",
       "        [ 28, 124, 239,  45, 260],\n",
       "        [135,  33, 262,  79, 261],\n",
       "        [240,  32, 139,  96, 111],\n",
       "        [239,  22, 207,  89, 135],\n",
       "        [240, 146,  32,  19, 111],\n",
       "        [ 18, 111,  96, 261, 135],\n",
       "        [ 28, 124, 156, 260, 135],\n",
       "        [ 96, 111,  28, 171, 260],\n",
       "        [ 28, 124,  45, 260, 296],\n",
       "        [124,  28, 213, 258, 239],\n",
       "        [146, 111,  96, 139,  32],\n",
       "        [ 79, 156, 265, 139, 101],\n",
       "        [ 65, 111, 146,  18,  96],\n",
       "        [135, 262, 178, 134, 260],\n",
       "        [132, 148, 134,  14, 129],\n",
       "        [296,  45,  81,  96,  28],\n",
       "        [ 28,  45,  65, 260, 237],\n",
       "        [158, 148, 134, 145, 285],\n",
       "        [ 45, 260,  28, 134, 178],\n",
       "        [156, 139, 137, 262, 214],\n",
       "        [262,  32,  61, 111, 157],\n",
       "        [ 32, 156, 111,  28,  96],\n",
       "        [134,  28,  45, 201, 195],\n",
       "        [121, 208, 174,  28, 170],\n",
       "        [ 28,  89,  45,  65,  96],\n",
       "        [148, 129,  56, 134, 190],\n",
       "        [ 28,  96, 240, 135, 237],\n",
       "        [ 28,  45, 237, 260, 139],\n",
       "        [ 28, 124,  45, 260, 237],\n",
       "        [148, 145,  98, 229, 134],\n",
       "        [240,  32, 111, 146,  96],\n",
       "        [135,  89,  96,  28, 265],\n",
       "        [ 28,  45, 239, 260,  96],\n",
       "        [135,  96, 171, 237, 260],\n",
       "        [ 72,  45, 217, 120,  41],\n",
       "        [240,  96, 261, 171,  65],\n",
       "        [132, 148, 134, 130,  14],\n",
       "        [ 61, 266, 135, 261, 262],\n",
       "        [ 28, 124, 213, 156, 121],\n",
       "        [270,  40, 128, 191, 150],\n",
       "        [ 18, 240, 134,  89, 241],\n",
       "        [ 28, 213, 124, 174, 239],\n",
       "        [171,  96, 111, 156, 265],\n",
       "        [ 77, 258, 171, 260, 265],\n",
       "        [219,  58, 292, 278, 212],\n",
       "        [113, 227, 241,  18,  45],\n",
       "        [284,  75,  29,  28, 156],\n",
       "        [119, 239, 207, 146, 140],\n",
       "        [ 96, 139,  28, 111,  32],\n",
       "        [135,  28,  89,  96, 260],\n",
       "        [111,  32,  96, 240, 139],\n",
       "        [239, 207, 171,  96, 242],\n",
       "        [197,   4,  99, 123, 156],\n",
       "        [207, 239,   4,   7, 140],\n",
       "        [ 96,  45,  61, 135, 261],\n",
       "        [ 48, 111, 171,  19, 112],\n",
       "        [139,  18,  32, 135,  28],\n",
       "        [121, 239, 234, 180,  28],\n",
       "        [ 28,  96,  89, 240, 139],\n",
       "        [ 48, 112, 283, 289, 222],\n",
       "        [146,  96,  32, 240, 111],\n",
       "        [112, 166, 134, 241, 285],\n",
       "        [139, 262,  45,  96, 135],\n",
       "        [132, 148, 134, 261,  61],\n",
       "        [ 45, 113, 266, 232,  74],\n",
       "        [266, 113, 134, 227, 262],\n",
       "        [ 45, 139, 195, 156,  28],\n",
       "        [171, 111, 146,  32,  96],\n",
       "        [ 45,  28, 260, 111,  96],\n",
       "        [ 28,  96, 139, 111, 260],\n",
       "        [111, 260,  45, 239, 156],\n",
       "        [ 96, 261, 135, 171, 111],\n",
       "        [ 45,  61, 165,  96, 205],\n",
       "        [110, 260, 239,  45, 296],\n",
       "        [102, 156, 195,  63,  31],\n",
       "        [ 96, 171, 139, 111, 240],\n",
       "        [131,  63, 113, 250, 167],\n",
       "        [ 96,  32, 139, 156, 111],\n",
       "        [111, 146,  32, 261, 135],\n",
       "        [240, 146, 293, 241,  19],\n",
       "        [273, 137,  89, 227, 259],\n",
       "        [285, 134, 157, 148, 113]]))"
      ]
     },
     "execution_count": 292,
     "metadata": {},
     "output_type": "execute_result"
    }
   ],
   "source": [
    "self.knn.kneighbors(user_embeddings)"
   ]
  },
  {
   "cell_type": "code",
   "execution_count": null,
   "metadata": {},
   "outputs": [],
   "source": []
  },
  {
   "cell_type": "code",
   "execution_count": 283,
   "metadata": {},
   "outputs": [],
   "source": [
    "dist, neighbors = self.knn.kneighbors(user_embeddings)"
   ]
  },
  {
   "cell_type": "code",
   "execution_count": 289,
   "metadata": {},
   "outputs": [
    {
     "data": {
      "text/plain": [
       "array([[132,  14,  52, 148,  37],\n",
       "       [ 32, 240, 135, 111, 156],\n",
       "       [134, 198, 201, 112,  74],\n",
       "       [207,  57, 275, 277,  54],\n",
       "       [ 28, 111, 135, 139,  45],\n",
       "       [ 45, 260, 296, 239, 134],\n",
       "       [260, 166, 232,  45, 148],\n",
       "       [ 28, 139, 111,  96, 195],\n",
       "       [ 28,  65,  18, 139, 111],\n",
       "       [111, 139,  28, 195,  96],\n",
       "       [111,  96, 135,  18, 171],\n",
       "       [ 56,  80, 110, 178, 134],\n",
       "       [ 96, 135,  45, 265, 171],\n",
       "       [ 89, 135,  96, 239, 111],\n",
       "       [111,  43, 171, 239, 208],\n",
       "       [239,  28, 135,  45,  89],\n",
       "       [265,  79, 101, 146, 152],\n",
       "       [112, 250, 283, 227, 113],\n",
       "       [135, 134, 139,  32,  28],\n",
       "       [235, 279, 190, 164, 134],\n",
       "       [158,  74, 134, 148, 229],\n",
       "       [ 28,  89,  96, 156, 260],\n",
       "       [ 89, 262, 135, 139, 156],\n",
       "       [248, 247, 252, 117, 246],\n",
       "       [113, 156,  40,  70, 261],\n",
       "       [135, 265,  96,  89, 111],\n",
       "       [ 45,  28, 260, 134, 139],\n",
       "       [134, 208,  65, 110, 201],\n",
       "       [156,  89,  96,  32,  45],\n",
       "       [ 33, 223, 104,  85, 124],\n",
       "       [137,  94,  38, 187, 147],\n",
       "       [ 96, 111, 139, 265, 171],\n",
       "       [ 96, 146, 171,  18, 101],\n",
       "       [ 89, 262, 135, 250, 260],\n",
       "       [ 33, 104, 124, 223,  85],\n",
       "       [ 45,  28,  89, 260, 265],\n",
       "       [260,  28,  89,  45, 139],\n",
       "       [195,  75, 139, 156,  45],\n",
       "       [ 28, 156,  96, 239, 139],\n",
       "       [134, 132, 157, 250, 266],\n",
       "       [201, 132, 178, 134, 130],\n",
       "       [111,  18,  28,  65, 240],\n",
       "       [ 28,  96,  45, 135, 146],\n",
       "       [ 28, 112, 239, 124, 135],\n",
       "       [ 96,  28, 234, 111, 156],\n",
       "       [285, 145, 148,  74, 198],\n",
       "       [ 89, 135, 260, 261,  61],\n",
       "       [ 28, 156, 139,  96,  89],\n",
       "       [ 48, 112,  18,  19, 111],\n",
       "       [113, 279, 237,  18, 166],\n",
       "       [156,  28,  75, 124, 213],\n",
       "       [ 89, 262,  55, 214,  29],\n",
       "       [164, 165, 197,  73, 254],\n",
       "       [111, 240, 139, 135, 171],\n",
       "       [139,  32, 111,  28,  96],\n",
       "       [ 19, 227, 113, 199,  15],\n",
       "       [134, 250, 237, 290, 135],\n",
       "       [148, 116, 263, 134, 132],\n",
       "       [165,  41,  81, 134, 164],\n",
       "       [112, 199, 133, 299,  18],\n",
       "       [124,  28, 141, 213, 104],\n",
       "       [261, 240,  96,  65, 135],\n",
       "       [111, 139,  45,  32, 135],\n",
       "       [ 28, 124,  45,  77, 239],\n",
       "       [265, 111, 135, 171,  32],\n",
       "       [139, 156, 195,  28,  45],\n",
       "       [240, 146,  32,  18, 111],\n",
       "       [164, 232, 197,  81, 182],\n",
       "       [240, 146, 135,  32, 111],\n",
       "       [ 28, 124, 239,  45, 260],\n",
       "       [135,  33, 262,  79, 261],\n",
       "       [240,  32, 139,  96, 111],\n",
       "       [239,  22, 207,  89, 135],\n",
       "       [240, 146,  32,  19, 111],\n",
       "       [ 18, 111,  96, 261, 135],\n",
       "       [ 28, 124, 156, 260, 135],\n",
       "       [ 96, 111,  28, 171, 260],\n",
       "       [ 28, 124,  45, 260, 296],\n",
       "       [124,  28, 213, 258, 239],\n",
       "       [146, 111,  96, 139,  32],\n",
       "       [ 79, 156, 265, 139, 101],\n",
       "       [ 65, 111, 146,  18,  96],\n",
       "       [135, 262, 178, 134, 260],\n",
       "       [132, 148, 134,  14, 129],\n",
       "       [296,  45,  81,  96,  28],\n",
       "       [ 28,  45,  65, 260, 237],\n",
       "       [158, 148, 134, 145, 285],\n",
       "       [ 45, 260,  28, 134, 178],\n",
       "       [156, 139, 137, 262, 214],\n",
       "       [262,  32,  61, 111, 157],\n",
       "       [ 32, 156, 111,  28,  96],\n",
       "       [134,  28,  45, 201, 195],\n",
       "       [121, 208, 174,  28, 170],\n",
       "       [ 28,  89,  45,  65,  96],\n",
       "       [148, 129,  56, 134, 190],\n",
       "       [ 28,  96, 240, 135, 237],\n",
       "       [ 28,  45, 237, 260, 139],\n",
       "       [ 28, 124,  45, 260, 237],\n",
       "       [148, 145,  98, 229, 134],\n",
       "       [240,  32, 111, 146,  96],\n",
       "       [135,  89,  96,  28, 265],\n",
       "       [ 28,  45, 239, 260,  96],\n",
       "       [135,  96, 171, 237, 260],\n",
       "       [ 72,  45, 217, 120,  41],\n",
       "       [240,  96, 261, 171,  65],\n",
       "       [132, 148, 134, 130,  14],\n",
       "       [ 61, 266, 135, 261, 262],\n",
       "       [ 28, 124, 213, 156, 121],\n",
       "       [270,  40, 128, 191, 150],\n",
       "       [ 18, 240, 134,  89, 241],\n",
       "       [ 28, 213, 124, 174, 239],\n",
       "       [171,  96, 111, 156, 265],\n",
       "       [ 77, 258, 171, 260, 265],\n",
       "       [219,  58, 292, 278, 212],\n",
       "       [113, 227, 241,  18,  45],\n",
       "       [284,  75,  29,  28, 156],\n",
       "       [119, 239, 207, 146, 140],\n",
       "       [ 96, 139,  28, 111,  32],\n",
       "       [135,  28,  89,  96, 260],\n",
       "       [111,  32,  96, 240, 139],\n",
       "       [239, 207, 171,  96, 242],\n",
       "       [197,   4,  99, 123, 156],\n",
       "       [207, 239,   4,   7, 140],\n",
       "       [ 96,  45,  61, 135, 261],\n",
       "       [ 48, 111, 171,  19, 112],\n",
       "       [139,  18,  32, 135,  28],\n",
       "       [121, 239, 234, 180,  28],\n",
       "       [ 28,  96,  89, 240, 139],\n",
       "       [ 48, 112, 283, 289, 222],\n",
       "       [146,  96,  32, 240, 111],\n",
       "       [112, 166, 134, 241, 285],\n",
       "       [139, 262,  45,  96, 135],\n",
       "       [132, 148, 134, 261,  61],\n",
       "       [ 45, 113, 266, 232,  74],\n",
       "       [266, 113, 134, 227, 262],\n",
       "       [ 45, 139, 195, 156,  28],\n",
       "       [171, 111, 146,  32,  96],\n",
       "       [ 45,  28, 260, 111,  96],\n",
       "       [ 28,  96, 139, 111, 260],\n",
       "       [111, 260,  45, 239, 156],\n",
       "       [ 96, 261, 135, 171, 111],\n",
       "       [ 45,  61, 165,  96, 205],\n",
       "       [110, 260, 239,  45, 296],\n",
       "       [102, 156, 195,  63,  31],\n",
       "       [ 96, 171, 139, 111, 240],\n",
       "       [131,  63, 113, 250, 167],\n",
       "       [ 96,  32, 139, 156, 111],\n",
       "       [111, 146,  32, 261, 135],\n",
       "       [240, 146, 293, 241,  19],\n",
       "       [273, 137,  89, 227, 259],\n",
       "       [285, 134, 157, 148, 113]])"
      ]
     },
     "execution_count": 289,
     "metadata": {},
     "output_type": "execute_result"
    }
   ],
   "source": [
    "neighbors"
   ]
  },
  {
   "cell_type": "code",
   "execution_count": 288,
   "metadata": {},
   "outputs": [
    {
     "data": {
      "text/plain": [
       "(151, 5)"
      ]
     },
     "execution_count": 288,
     "metadata": {},
     "output_type": "execute_result"
    }
   ],
   "source": [
    "dist.shape"
   ]
  },
  {
   "cell_type": "code",
   "execution_count": 285,
   "metadata": {},
   "outputs": [
    {
     "data": {
      "text/plain": [
       "(151, 5)"
      ]
     },
     "execution_count": 285,
     "metadata": {},
     "output_type": "execute_result"
    }
   ],
   "source": [
    "neighbors.shape"
   ]
  },
  {
   "cell_type": "code",
   "execution_count": null,
   "metadata": {},
   "outputs": [],
   "source": [
    "user_embeddings = get_embeddings(user_df.item_id.values[:self.n_items_count])\n",
    "dist, neighbors = self.knn.kneighbors(user_embeddings)\n",
    "\n",
    "candidate_item_ids = self.candidates.loc[neighbors.flatten()].item_id.values\n",
    "candidates = items.loc[candidate_item_ids]\n",
    "candidates['dist'] = dist.flatten()\n",
    "\n",
    "seen_item_ids = list(set(user_df.item_id.values) & set(candidate_item_ids))\n",
    "\n",
    "candidates = candidates.drop(seen_item_ids)\n",
    "candidates = candidates[~candidates.index.duplicated(keep='first')]\n",
    "\n",
    "candidates = candidates.sort_values(by='mean_timespent')"
   ]
  },
  {
   "cell_type": "code",
   "execution_count": null,
   "metadata": {},
   "outputs": [],
   "source": []
  },
  {
   "cell_type": "code",
   "execution_count": 254,
   "metadata": {},
   "outputs": [],
   "source": [
    "pred = model.predict(user_id, user_df)"
   ]
  },
  {
   "cell_type": "code",
   "execution_count": 255,
   "metadata": {},
   "outputs": [
    {
     "data": {
      "text/plain": [
       "array([4105,  197, 9021, 1863, 2111, 7032, 1531, 4579, 3827, 7176, 2216,\n",
       "       3842,  298,  348, 8565,  579, 8360, 3470, 7442, 4748])"
      ]
     },
     "execution_count": 255,
     "metadata": {},
     "output_type": "execute_result"
    }
   ],
   "source": [
    "pred"
   ]
  },
  {
   "cell_type": "code",
   "execution_count": 222,
   "metadata": {
    "scrolled": true
   },
   "outputs": [
    {
     "name": "stderr",
     "output_type": "stream",
     "text": [
      "100%|██████████| 1000183/1000183 [08:21<00:00, 1992.79it/s]\n"
     ]
    }
   ],
   "source": [
    "predictions = []\n",
    "for user_id, subdf in tqdm(df.groupby('user_id'), total=len(df.user_id.unique())):\n",
    "    if user_id in testset:\n",
    "        pred = model.predict(user_id, subdf)\n",
    "        predictions.append((user_id, pred))"
   ]
  },
  {
   "cell_type": "code",
   "execution_count": 223,
   "metadata": {},
   "outputs": [],
   "source": [
    "map_test = dict(predictions)"
   ]
  },
  {
   "cell_type": "code",
   "execution_count": 227,
   "metadata": {},
   "outputs": [
    {
     "data": {
      "text/plain": [
       "array([46, 15, 22,  7, 59, 27, 47, 65, 42, 31, 17,  5,  6,  0, 37, 29, 35,\n",
       "       52, 53,  2])"
      ]
     },
     "execution_count": 227,
     "metadata": {},
     "output_type": "execute_result"
    }
   ],
   "source": [
    "map_test[user_id].values"
   ]
  },
  {
   "cell_type": "code",
   "execution_count": 228,
   "metadata": {},
   "outputs": [],
   "source": [
    "test_predictions = []\n",
    "for user_id in test.user_id:\n",
    "    test_predictions.append(map_test[user_id].values)\n",
    "test['predictions'] = test_predictions"
   ]
  },
  {
   "cell_type": "code",
   "execution_count": 229,
   "metadata": {
    "pycharm": {
     "name": "#%%\n"
    },
    "scrolled": true
   },
   "outputs": [
    {
     "data": {
      "text/html": [
       "<div>\n",
       "<style scoped>\n",
       "    .dataframe tbody tr th:only-of-type {\n",
       "        vertical-align: middle;\n",
       "    }\n",
       "\n",
       "    .dataframe tbody tr th {\n",
       "        vertical-align: top;\n",
       "    }\n",
       "\n",
       "    .dataframe thead th {\n",
       "        text-align: right;\n",
       "    }\n",
       "</style>\n",
       "<table border=\"1\" class=\"dataframe\">\n",
       "  <thead>\n",
       "    <tr style=\"text-align: right;\">\n",
       "      <th></th>\n",
       "      <th>user_id</th>\n",
       "      <th>predictions</th>\n",
       "    </tr>\n",
       "  </thead>\n",
       "  <tbody>\n",
       "    <tr>\n",
       "      <th>0</th>\n",
       "      <td>7</td>\n",
       "      <td>[36, 46, 22, 7, 59, 27, 47, 65, 31, 63, 5, 6, ...</td>\n",
       "    </tr>\n",
       "    <tr>\n",
       "      <th>1</th>\n",
       "      <td>8</td>\n",
       "      <td>[60, 51, 11, 46, 15, 22, 7, 47, 65, 42, 17, 63...</td>\n",
       "    </tr>\n",
       "    <tr>\n",
       "      <th>2</th>\n",
       "      <td>9</td>\n",
       "      <td>[51, 11, 62, 46, 22, 7, 59, 27, 47, 65, 31, 17...</td>\n",
       "    </tr>\n",
       "  </tbody>\n",
       "</table>\n",
       "</div>"
      ],
      "text/plain": [
       "   user_id                                        predictions\n",
       "0        7  [36, 46, 22, 7, 59, 27, 47, 65, 31, 63, 5, 6, ...\n",
       "1        8  [60, 51, 11, 46, 15, 22, 7, 47, 65, 42, 17, 63...\n",
       "2        9  [51, 11, 62, 46, 22, 7, 59, 27, 47, 65, 31, 17..."
      ]
     },
     "execution_count": 229,
     "metadata": {},
     "output_type": "execute_result"
    }
   ],
   "source": [
    "test.head(3)"
   ]
  },
  {
   "cell_type": "code",
   "execution_count": 231,
   "metadata": {},
   "outputs": [
    {
     "data": {
      "text/html": [
       "<div>\n",
       "<style scoped>\n",
       "    .dataframe tbody tr th:only-of-type {\n",
       "        vertical-align: middle;\n",
       "    }\n",
       "\n",
       "    .dataframe tbody tr th {\n",
       "        vertical-align: top;\n",
       "    }\n",
       "\n",
       "    .dataframe thead th {\n",
       "        text-align: right;\n",
       "    }\n",
       "</style>\n",
       "<table border=\"1\" class=\"dataframe\">\n",
       "  <thead>\n",
       "    <tr style=\"text-align: right;\">\n",
       "      <th></th>\n",
       "      <th>user_id</th>\n",
       "      <th>predictions</th>\n",
       "    </tr>\n",
       "  </thead>\n",
       "  <tbody>\n",
       "    <tr>\n",
       "      <th>199997</th>\n",
       "      <td>1000166</td>\n",
       "      <td>[54, 36, 11, 46, 15, 22, 7, 47, 65, 42, 32, 31...</td>\n",
       "    </tr>\n",
       "    <tr>\n",
       "      <th>199998</th>\n",
       "      <td>1000168</td>\n",
       "      <td>[46, 22, 7, 59, 47, 65, 42, 31, 17, 63, 5, 6, ...</td>\n",
       "    </tr>\n",
       "    <tr>\n",
       "      <th>199999</th>\n",
       "      <td>1000172</td>\n",
       "      <td>[46, 15, 22, 7, 59, 27, 47, 65, 42, 31, 17, 5,...</td>\n",
       "    </tr>\n",
       "  </tbody>\n",
       "</table>\n",
       "</div>"
      ],
      "text/plain": [
       "        user_id                                        predictions\n",
       "199997  1000166  [54, 36, 11, 46, 15, 22, 7, 47, 65, 42, 32, 31...\n",
       "199998  1000168  [46, 22, 7, 59, 47, 65, 42, 31, 17, 63, 5, 6, ...\n",
       "199999  1000172  [46, 15, 22, 7, 59, 27, 47, 65, 42, 31, 17, 5,..."
      ]
     },
     "execution_count": 231,
     "metadata": {},
     "output_type": "execute_result"
    }
   ],
   "source": [
    "test.tail(3)"
   ]
  },
  {
   "cell_type": "code",
   "execution_count": 230,
   "metadata": {
    "pycharm": {
     "name": "#%%\n"
    }
   },
   "outputs": [],
   "source": [
    "test.to_parquet('sample_submission_knn.parquet.gzip', compression='gzip', engine='pyarrow')"
   ]
  },
  {
   "cell_type": "code",
   "execution_count": null,
   "metadata": {},
   "outputs": [],
   "source": []
  }
 ],
 "metadata": {
  "kernelspec": {
   "display_name": "Python 3",
   "language": "python",
   "name": "python3"
  },
  "language_info": {
   "codemirror_mode": {
    "name": "ipython",
    "version": 3
   },
   "file_extension": ".py",
   "mimetype": "text/x-python",
   "name": "python",
   "nbconvert_exporter": "python",
   "pygments_lexer": "ipython3",
   "version": "3.7.10"
  }
 },
 "nbformat": 4,
 "nbformat_minor": 4
}
