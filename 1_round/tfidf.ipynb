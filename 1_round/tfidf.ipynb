{
 "cells": [
  {
   "cell_type": "code",
   "execution_count": 1,
   "id": "cd92f1f2",
   "metadata": {},
   "outputs": [],
   "source": [
    "import numpy as np\n",
    "np.random.seed(42)"
   ]
  },
  {
   "cell_type": "code",
   "execution_count": 2,
   "id": "449f746c",
   "metadata": {},
   "outputs": [],
   "source": [
    "import pandas as pd\n",
    "pd.options.mode.chained_assignment = None\n",
    "import matplotlib.pyplot as plt\n",
    "from sklearn.model_selection import train_test_split, RandomizedSearchCV, GridSearchCV\n",
    "from sklearn.metrics import recall_score, roc_auc_score, precision_score, matthews_corrcoef, classification_report, roc_curve\n",
    "%matplotlib inline"
   ]
  },
  {
   "cell_type": "code",
   "execution_count": 3,
   "id": "665f3653",
   "metadata": {},
   "outputs": [],
   "source": [
    "from catboost import CatBoostClassifier\n",
    "from lightgbm import LGBMClassifier"
   ]
  },
  {
   "cell_type": "code",
   "execution_count": 4,
   "id": "22cd5dda",
   "metadata": {},
   "outputs": [],
   "source": [
    "df = pd.read_csv('train.csv')"
   ]
  },
  {
   "cell_type": "code",
   "execution_count": 5,
   "id": "52af789f",
   "metadata": {},
   "outputs": [
    {
     "data": {
      "text/html": [
       "<div>\n",
       "<style scoped>\n",
       "    .dataframe tbody tr th:only-of-type {\n",
       "        vertical-align: middle;\n",
       "    }\n",
       "\n",
       "    .dataframe tbody tr th {\n",
       "        vertical-align: top;\n",
       "    }\n",
       "\n",
       "    .dataframe thead th {\n",
       "        text-align: right;\n",
       "    }\n",
       "</style>\n",
       "<table border=\"1\" class=\"dataframe\">\n",
       "  <thead>\n",
       "    <tr style=\"text-align: right;\">\n",
       "      <th></th>\n",
       "      <th>oid</th>\n",
       "      <th>category</th>\n",
       "      <th>text</th>\n",
       "    </tr>\n",
       "  </thead>\n",
       "  <tbody>\n",
       "    <tr>\n",
       "      <th>0</th>\n",
       "      <td>365271984</td>\n",
       "      <td>winter_sport</td>\n",
       "      <td>Волшебные фото Виктория Поплавская ЕвгенияМедв...</td>\n",
       "    </tr>\n",
       "    <tr>\n",
       "      <th>1</th>\n",
       "      <td>503385563</td>\n",
       "      <td>extreme</td>\n",
       "      <td>Возвращение в подземелье Треша 33 Эйфория тупо...</td>\n",
       "    </tr>\n",
       "    <tr>\n",
       "      <th>2</th>\n",
       "      <td>146016084</td>\n",
       "      <td>football</td>\n",
       "      <td>Лучшие чешские вратари – Доминик Доминатор Гаш...</td>\n",
       "    </tr>\n",
       "  </tbody>\n",
       "</table>\n",
       "</div>"
      ],
      "text/plain": [
       "         oid      category                                               text\n",
       "0  365271984  winter_sport  Волшебные фото Виктория Поплавская ЕвгенияМедв...\n",
       "1  503385563       extreme  Возвращение в подземелье Треша 33 Эйфория тупо...\n",
       "2  146016084      football  Лучшие чешские вратари – Доминик Доминатор Гаш..."
      ]
     },
     "execution_count": 5,
     "metadata": {},
     "output_type": "execute_result"
    }
   ],
   "source": [
    "df.head(3)"
   ]
  },
  {
   "cell_type": "code",
   "execution_count": 6,
   "id": "824214bd",
   "metadata": {},
   "outputs": [
    {
     "data": {
      "text/plain": [
       "38740"
      ]
     },
     "execution_count": 6,
     "metadata": {},
     "output_type": "execute_result"
    }
   ],
   "source": [
    "len(df)"
   ]
  },
  {
   "cell_type": "code",
   "execution_count": 7,
   "id": "83fc0207",
   "metadata": {},
   "outputs": [],
   "source": [
    "df['text'] = df.groupby(['oid'])['text'].transform(lambda x: ' '.join(x))"
   ]
  },
  {
   "cell_type": "code",
   "execution_count": 8,
   "id": "399ebe33",
   "metadata": {},
   "outputs": [],
   "source": [
    "df = df.drop_duplicates()"
   ]
  },
  {
   "cell_type": "code",
   "execution_count": 9,
   "id": "96767d21",
   "metadata": {},
   "outputs": [
    {
     "data": {
      "text/plain": [
       "autosport       316\n",
       "extreme         311\n",
       "martial_arts    305\n",
       "motosport       303\n",
       "boardgames      302\n",
       "tennis          300\n",
       "esport          299\n",
       "athletics       297\n",
       "volleyball      295\n",
       "hockey          295\n",
       "football        286\n",
       "basketball      285\n",
       "winter_sport    280\n",
       "Name: category, dtype: int64"
      ]
     },
     "execution_count": 9,
     "metadata": {},
     "output_type": "execute_result"
    }
   ],
   "source": [
    "df['category'].value_counts()"
   ]
  },
  {
   "cell_type": "code",
   "execution_count": 10,
   "id": "097e76a3",
   "metadata": {},
   "outputs": [],
   "source": [
    "categories = [\n",
    "    'athletics',\n",
    "    'autosport',\n",
    "    'basketball',\n",
    "    'boardgames',\n",
    "    'esport',\n",
    "    'extreme',\n",
    "    'football',\n",
    "    'hockey',\n",
    "    'martial_arts',\n",
    "    'motosport',\n",
    "    'tennis',\n",
    "    'volleyball',\n",
    "    'winter_sport',\n",
    "]"
   ]
  },
  {
   "cell_type": "code",
   "execution_count": 11,
   "id": "646b2998",
   "metadata": {},
   "outputs": [],
   "source": [
    "cat_map = dict({\n",
    "    (c, i) for i, c in enumerate(categories)\n",
    "})"
   ]
  },
  {
   "cell_type": "code",
   "execution_count": 12,
   "id": "bb284233",
   "metadata": {},
   "outputs": [],
   "source": [
    "cat_map_inv = {v: k for k, v in cat_map.items()}"
   ]
  },
  {
   "cell_type": "code",
   "execution_count": 13,
   "id": "98343be0",
   "metadata": {},
   "outputs": [],
   "source": [
    "df['label'] = df['category'].apply(lambda x: cat_map[x])"
   ]
  },
  {
   "cell_type": "code",
   "execution_count": 14,
   "id": "5d95dac0",
   "metadata": {},
   "outputs": [],
   "source": [
    "df = df[['text', 'label']]"
   ]
  },
  {
   "cell_type": "code",
   "execution_count": 15,
   "id": "3248d29a",
   "metadata": {},
   "outputs": [],
   "source": [
    "val_size = 0.3"
   ]
  },
  {
   "cell_type": "code",
   "execution_count": 16,
   "id": "7ab14c2c",
   "metadata": {},
   "outputs": [],
   "source": [
    "X_text = df['text']\n",
    "y = df['label']"
   ]
  },
  {
   "cell_type": "code",
   "execution_count": 17,
   "id": "8f3ccb52",
   "metadata": {},
   "outputs": [
    {
     "name": "stderr",
     "output_type": "stream",
     "text": [
      "[nltk_data] Downloading package punkt to /Users/timur/nltk_data...\n",
      "[nltk_data]   Package punkt is already up-to-date!\n",
      "[nltk_data] Downloading package stopwords to /Users/timur/nltk_data...\n",
      "[nltk_data]   Package stopwords is already up-to-date!\n"
     ]
    }
   ],
   "source": [
    "import nltk\n",
    "nltk.download('punkt')\n",
    "from nltk.tokenize import word_tokenize, sent_tokenize\n",
    "nltk.download('stopwords')\n",
    "from nltk.corpus import stopwords"
   ]
  },
  {
   "cell_type": "code",
   "execution_count": 18,
   "id": "071e039f",
   "metadata": {},
   "outputs": [],
   "source": [
    "stopWords = set(stopwords.words('russian'))"
   ]
  },
  {
   "cell_type": "code",
   "execution_count": 19,
   "id": "6c25856f",
   "metadata": {},
   "outputs": [
    {
     "name": "stdout",
     "output_type": "stream",
     "text": [
      "!\"#$%&'()*+,-./:;<=>?@[\\]^_`{|}~\n"
     ]
    }
   ],
   "source": [
    "import string\n",
    "print(string.punctuation)"
   ]
  },
  {
   "cell_type": "code",
   "execution_count": 20,
   "id": "84a8d1c9",
   "metadata": {},
   "outputs": [],
   "source": [
    "text_sample = X_text.values[0]"
   ]
  },
  {
   "cell_type": "code",
   "execution_count": 21,
   "id": "c1e5dccb",
   "metadata": {},
   "outputs": [
    {
     "data": {
      "text/plain": [
       "'Волшебные фото Виктория Поплавская ЕвгенияМедведева Evgentokenoid Саша Трусова о Жене Моховая 9 ЕвгенияМедведева Evgentokenoid 24 апреля 18 55 Первый канал ️ ЕвгенияМедведева Evgentokenoid По заявкам публики Евгения Медведева и Торнике Квитатиани 33 33 33 Шоу Вызов на ТНТ 33 33 Реальный Губер ЕвгенияМедведева Evgentokenoid Кружочки с шоу Влюбленные в фигурное катание из телеграма Жени ЕвгенияМедведева Evgentokenoid Женя на хоккее ЕвгенияМедведева Evgentokenoid Betokenoid Сегодня Женя комментировала короткую программу мужчин ️ Денис Гладков ЕвгенияМедведева Evgentokenoid Последний совместный номер Жени Медведевой и Дани Милохина ftokenoid ЕвгенияМедведева Evgentokenoid Женя рассказывает о первом дне в Карелии ️ YAPPY ЕвгенияМедведева Evgentokenoid Еще немного видео с ребятами А теперь внимание 33 ЕвгенияМедведева Evgentokenoid ЛедниковыйПериод'"
      ]
     },
     "execution_count": 21,
     "metadata": {},
     "output_type": "execute_result"
    }
   ],
   "source": [
    "text_sample"
   ]
  },
  {
   "cell_type": "code",
   "execution_count": 22,
   "id": "d66279b6",
   "metadata": {},
   "outputs": [
    {
     "name": "stdout",
     "output_type": "stream",
     "text": [
      "волшебный фото виктория поплавский евгениямедведев evgentokenoid саша трусов о жена моховой 9 евгениямедведев evgentokenoid 24 апрель 18 55 первый канал ️ евгениямедведев evgentokenoid по заявка публика евгений медведев и торник квитатиани 33 33 33 шоу вызов на тнт 33 33 реальный губер евгениямедведев evgentokenoid кружочек с шоу влюбить в фигурный катание из телеграм женить евгениямедведев evgentokenoid женя на хоккей евгениямедведев evgentokenoid betokenoid сегодня женя комментировать короткий программа мужчина ️ денис гладков евгениямедведев evgentokenoid последний совместный номер женить медведев и дань милохина ftokenoid евгениямедведев evgentokenoid женя рассказывать о первый день в карелия ️ yappy евгениямедведев evgentokenoid ещё немного видео с ребята а теперь внимание 33 евгениямедведев evgentokenoid ледниковыйпериод\n"
     ]
    }
   ],
   "source": [
    "import pymorphy2\n",
    "morph = pymorphy2.MorphAnalyzer()\n",
    "pymorphy_results = list(map(lambda x: morph.parse(x), text_sample.split(' ')))\n",
    "print(' '.join([res[0].normal_form for res in pymorphy_results]))"
   ]
  },
  {
   "cell_type": "code",
   "execution_count": 23,
   "id": "dc4cef1d",
   "metadata": {},
   "outputs": [],
   "source": [
    "from sklearn.feature_extraction.text import TfidfVectorizer"
   ]
  },
  {
   "cell_type": "code",
   "execution_count": 24,
   "id": "d5790422",
   "metadata": {},
   "outputs": [],
   "source": [
    "# # lowercase\n",
    "# vectorizer = TfidfVectorizer(ngram_range=(1, 3), min_df=0.03, max_df=0.9)\n",
    "# vectors = vectorizer.fit_transform(X)\n",
    "# vectors.shape"
   ]
  },
  {
   "cell_type": "code",
   "execution_count": 25,
   "id": "a38f1881",
   "metadata": {},
   "outputs": [
    {
     "data": {
      "text/plain": [
       "'волшебный фото виктория поплавский евгениямедведев evgentokenoid саша трусов о жена моховой 9 евгениямедведев evgentokenoid 24 апрель 18 55 первый канал ️ евгениямедведев evgentokenoid по заявка публика евгений медведев и торник квитатиани 33 33 33 шоу вызов на тнт 33 33 реальный губер евгениямедведев evgentokenoid кружочек с шоу влюбить в фигурный катание из телеграм женить евгениямедведев evgentokenoid женя на хоккей евгениямедведев evgentokenoid betokenoid сегодня женя комментировать короткий программа мужчина ️ денис гладков евгениямедведев evgentokenoid последний совместный номер женить медведев и дань милохина ftokenoid евгениямедведев evgentokenoid женя рассказывать о первый день в карелия ️ yappy евгениямедведев evgentokenoid ещё немного видео с ребята а теперь внимание 33 евгениямедведев evgentokenoid ледниковыйпериод'"
      ]
     },
     "execution_count": 25,
     "metadata": {},
     "output_type": "execute_result"
    }
   ],
   "source": [
    "import pymorphy2\n",
    "morph = pymorphy2.MorphAnalyzer()\n",
    "pymorphy_results = list(map(lambda x: morph.parse(x), text_sample.split(' ')))\n",
    "' '.join([res[0].normal_form for res in pymorphy_results])"
   ]
  },
  {
   "cell_type": "code",
   "execution_count": 26,
   "id": "b17146c0",
   "metadata": {},
   "outputs": [],
   "source": [
    "# # стоп-слова, preproc\n",
    "# from nltk.corpus import stopwords\n",
    "# stopWords = set(stopwords.words('russian'))\n",
    "\n",
    "# def preproc_text(text):\n",
    "#     pymorphy_results = list(map(lambda x: morph.parse(x), text_sample.split(' ')))\n",
    "#     return ' '.join([res[0].normal_form for res in pymorphy_results])"
   ]
  },
  {
   "cell_type": "code",
   "execution_count": 92,
   "id": "33dd24ce",
   "metadata": {},
   "outputs": [
    {
     "data": {
      "text/plain": [
       "'прод'"
      ]
     },
     "execution_count": 92,
     "metadata": {},
     "output_type": "execute_result"
    }
   ],
   "source": [
    "wnl.stem('продам')"
   ]
  },
  {
   "cell_type": "code",
   "execution_count": 93,
   "id": "10eec3d2",
   "metadata": {},
   "outputs": [
    {
     "name": "stderr",
     "output_type": "stream",
     "text": [
      "[nltk_data] Downloading package wordnet to /Users/timur/nltk_data...\n",
      "[nltk_data]   Package wordnet is already up-to-date!\n"
     ]
    }
   ],
   "source": [
    "from nltk.corpus import stopwords\n",
    "stopWords = set(stopwords.words('russian'))\n",
    "nltk.download('wordnet')\n",
    "wnl = nltk.SnowballStemmer('russian')"
   ]
  },
  {
   "cell_type": "code",
   "execution_count": 94,
   "id": "934f9983",
   "metadata": {},
   "outputs": [
    {
     "data": {
      "text/plain": [
       "'Волшебные фото Виктория Поплавская ЕвгенияМедведева Evgentokenoid Саша Трусова о Жене Моховая 9 ЕвгенияМедведева Evgentokenoid 24 апреля 18 55 Первый канал ️ ЕвгенияМедведева Evgentokenoid По заявкам публики Евгения Медведева и Торнике Квитатиани 33 33 33 Шоу Вызов на ТНТ 33 33 Реальный Губер ЕвгенияМедведева Evgentokenoid Кружочки с шоу Влюбленные в фигурное катание из телеграма Жени ЕвгенияМедведева Evgentokenoid Женя на хоккее ЕвгенияМедведева Evgentokenoid Betokenoid Сегодня Женя комментировала короткую программу мужчин ️ Денис Гладков ЕвгенияМедведева Evgentokenoid Последний совместный номер Жени Медведевой и Дани Милохина ftokenoid ЕвгенияМедведева Evgentokenoid Женя рассказывает о первом дне в Карелии ️ YAPPY ЕвгенияМедведева Evgentokenoid Еще немного видео с ребятами А теперь внимание 33 ЕвгенияМедведева Evgentokenoid ЛедниковыйПериод'"
      ]
     },
     "execution_count": 94,
     "metadata": {},
     "output_type": "execute_result"
    }
   ],
   "source": [
    "text_sample"
   ]
  },
  {
   "cell_type": "code",
   "execution_count": 97,
   "id": "18a9c4c0",
   "metadata": {},
   "outputs": [],
   "source": [
    "stopWords = stopWords | {'продать', 'реклама', 'подробней', 'ссылке'}"
   ]
  },
  {
   "cell_type": "code",
   "execution_count": 98,
   "id": "65748686",
   "metadata": {},
   "outputs": [],
   "source": [
    "def preproc_nltk(text):\n",
    "    #text = re.sub(f'[{string.punctuation}]', ' ', text)\n",
    "#     return ' '.join([wnl.lemmatize(word) for word in word_tokenize(text.lower()) if word not in stopWords])\n",
    "    return ' '.join([wnl.stem(word) for word in word_tokenize(text.lower()) if word not in stopWords])"
   ]
  },
  {
   "cell_type": "code",
   "execution_count": 105,
   "id": "a6732de7",
   "metadata": {},
   "outputs": [],
   "source": [
    "vectorizer = TfidfVectorizer(preprocessor=preproc_nltk)"
   ]
  },
  {
   "cell_type": "code",
   "execution_count": 106,
   "id": "62ea6800",
   "metadata": {},
   "outputs": [],
   "source": [
    "vectors = vectorizer.fit_transform(X_text)"
   ]
  },
  {
   "cell_type": "code",
   "execution_count": 107,
   "id": "a40807fe",
   "metadata": {},
   "outputs": [],
   "source": [
    "from sklearn.model_selection import train_test_split\n",
    "from sklearn.metrics import accuracy_score\n",
    "from sklearn import svm\n",
    "from sklearn.linear_model import SGDClassifier "
   ]
  },
  {
   "cell_type": "code",
   "execution_count": 108,
   "id": "6fbcb81c",
   "metadata": {},
   "outputs": [],
   "source": [
    "X = np.asarray(vectors.todense())"
   ]
  },
  {
   "cell_type": "code",
   "execution_count": 109,
   "id": "3e32bb96",
   "metadata": {},
   "outputs": [],
   "source": [
    "val_size = 0.3\n",
    "X_train, X_val, y_train, y_val= train_test_split(X, y, stratify=y, test_size=val_size, random_state=42)\n",
    "# X_train, X_val, y_train, y_val = np.asarray(X_train), np.asarray(X_val), np.asarray(y_train), np.asarray(y_val)"
   ]
  },
  {
   "cell_type": "code",
   "execution_count": 110,
   "id": "86f4c111",
   "metadata": {},
   "outputs": [
    {
     "data": {
      "text/plain": [
       "(2711, 70018)"
      ]
     },
     "execution_count": 110,
     "metadata": {},
     "output_type": "execute_result"
    }
   ],
   "source": [
    "X_train.shape"
   ]
  },
  {
   "cell_type": "code",
   "execution_count": 111,
   "id": "aa14ce98",
   "metadata": {},
   "outputs": [],
   "source": [
    "from sklearn.ensemble import RandomForestClassifier\n",
    "from sklearn.neural_network import MLPClassifier\n",
    "from sklearn.svm import SVC"
   ]
  },
  {
   "cell_type": "code",
   "execution_count": 112,
   "id": "1cd169c3",
   "metadata": {},
   "outputs": [],
   "source": [
    "clf = SGDClassifier(max_iter=1000, warm_start=True, tol=1e-8)"
   ]
  },
  {
   "cell_type": "code",
   "execution_count": 113,
   "id": "faa9fde9",
   "metadata": {},
   "outputs": [],
   "source": [
    "# clf = SVC(verbose=2)"
   ]
  },
  {
   "cell_type": "code",
   "execution_count": 114,
   "id": "761159d6",
   "metadata": {
    "scrolled": true
   },
   "outputs": [
    {
     "data": {
      "text/plain": [
       "SGDClassifier(tol=1e-08, warm_start=True)"
      ]
     },
     "execution_count": 114,
     "metadata": {},
     "output_type": "execute_result"
    }
   ],
   "source": [
    "clf.fit(X_train, y_train)"
   ]
  },
  {
   "cell_type": "code",
   "execution_count": 115,
   "id": "98c253aa",
   "metadata": {},
   "outputs": [],
   "source": [
    "val_pred = clf.predict(X_val)"
   ]
  },
  {
   "cell_type": "code",
   "execution_count": 116,
   "id": "10a2f39f",
   "metadata": {},
   "outputs": [
    {
     "data": {
      "text/plain": [
       "0.9819432502149613"
      ]
     },
     "execution_count": 116,
     "metadata": {},
     "output_type": "execute_result"
    }
   ],
   "source": [
    "accuracy_score(y_val, val_pred)"
   ]
  },
  {
   "cell_type": "code",
   "execution_count": 117,
   "id": "c22e719d",
   "metadata": {},
   "outputs": [],
   "source": [
    "# accuracy_score(y_val, val_pred)\n",
    "# 0.9836629406706793"
   ]
  },
  {
   "cell_type": "code",
   "execution_count": 118,
   "id": "2936fe19",
   "metadata": {},
   "outputs": [
    {
     "data": {
      "text/plain": [
       "SGDClassifier(tol=1e-08, warm_start=True)"
      ]
     },
     "execution_count": 118,
     "metadata": {},
     "output_type": "execute_result"
    }
   ],
   "source": [
    "clf.fit(X, y)"
   ]
  },
  {
   "cell_type": "code",
   "execution_count": 119,
   "id": "df1a9d35",
   "metadata": {},
   "outputs": [],
   "source": [
    "test = pd.read_csv('test.csv')"
   ]
  },
  {
   "cell_type": "code",
   "execution_count": 120,
   "id": "cb106e75",
   "metadata": {},
   "outputs": [
    {
     "data": {
      "text/html": [
       "<div>\n",
       "<style scoped>\n",
       "    .dataframe tbody tr th:only-of-type {\n",
       "        vertical-align: middle;\n",
       "    }\n",
       "\n",
       "    .dataframe tbody tr th {\n",
       "        vertical-align: top;\n",
       "    }\n",
       "\n",
       "    .dataframe thead th {\n",
       "        text-align: right;\n",
       "    }\n",
       "</style>\n",
       "<table border=\"1\" class=\"dataframe\">\n",
       "  <thead>\n",
       "    <tr style=\"text-align: right;\">\n",
       "      <th></th>\n",
       "      <th>oid</th>\n",
       "      <th>text</th>\n",
       "    </tr>\n",
       "  </thead>\n",
       "  <tbody>\n",
       "    <tr>\n",
       "      <th>0</th>\n",
       "      <td>749208109</td>\n",
       "      <td>СПОЧНО СООБЩЕСТВО ПРОДАЕТСЯ ЗА 1300Р ЗА ПОКУПК...</td>\n",
       "    </tr>\n",
       "    <tr>\n",
       "      <th>1</th>\n",
       "      <td>452466036</td>\n",
       "      <td>Естественное восстановление после тяжелой трен...</td>\n",
       "    </tr>\n",
       "    <tr>\n",
       "      <th>2</th>\n",
       "      <td>161038103</td>\n",
       "      <td>Тема нарядов продолжается Одна из британских ж...</td>\n",
       "    </tr>\n",
       "  </tbody>\n",
       "</table>\n",
       "</div>"
      ],
      "text/plain": [
       "         oid                                               text\n",
       "0  749208109  СПОЧНО СООБЩЕСТВО ПРОДАЕТСЯ ЗА 1300Р ЗА ПОКУПК...\n",
       "1  452466036  Естественное восстановление после тяжелой трен...\n",
       "2  161038103  Тема нарядов продолжается Одна из британских ж..."
      ]
     },
     "execution_count": 120,
     "metadata": {},
     "output_type": "execute_result"
    }
   ],
   "source": [
    "test.head(3)"
   ]
  },
  {
   "cell_type": "code",
   "execution_count": 133,
   "id": "c8d9d262",
   "metadata": {},
   "outputs": [],
   "source": [
    "# prev = pd.read_csv('solution.csv')"
   ]
  },
  {
   "cell_type": "code",
   "execution_count": 139,
   "id": "9a573dfe",
   "metadata": {},
   "outputs": [],
   "source": [
    "# prev.loc[0]['category'] = 'tennis'/"
   ]
  },
  {
   "cell_type": "code",
   "execution_count": 141,
   "id": "661badda",
   "metadata": {},
   "outputs": [],
   "source": [
    "# prev.to_csv('solution_zh.csv', index=False)"
   ]
  },
  {
   "cell_type": "code",
   "execution_count": 121,
   "id": "4cffc54f",
   "metadata": {},
   "outputs": [],
   "source": [
    "test['text'] = test.groupby(['oid'])['text'].transform(lambda x: ' '.join(x))"
   ]
  },
  {
   "cell_type": "code",
   "execution_count": 122,
   "id": "c24e0992",
   "metadata": {},
   "outputs": [],
   "source": [
    "test = test.drop_duplicates()"
   ]
  },
  {
   "cell_type": "code",
   "execution_count": 123,
   "id": "b85e6546",
   "metadata": {},
   "outputs": [],
   "source": [
    "test_vectors = vectorizer.transform(test['text'])"
   ]
  },
  {
   "cell_type": "code",
   "execution_count": 124,
   "id": "b400482a",
   "metadata": {},
   "outputs": [],
   "source": [
    "test_pred = clf.predict(test_vectors)"
   ]
  },
  {
   "cell_type": "code",
   "execution_count": 125,
   "id": "5b01c7c2",
   "metadata": {},
   "outputs": [],
   "source": [
    "# test_pred_proba = np.max(clf.predict_proba(test_vectors), 1)"
   ]
  },
  {
   "cell_type": "code",
   "execution_count": 126,
   "id": "9ead62b2",
   "metadata": {},
   "outputs": [],
   "source": [
    "# test['proba'] = test_pred_proba"
   ]
  },
  {
   "cell_type": "code",
   "execution_count": 127,
   "id": "6361abf4",
   "metadata": {},
   "outputs": [],
   "source": [
    "test['label'] = test_pred"
   ]
  },
  {
   "cell_type": "code",
   "execution_count": 128,
   "id": "7c937a08",
   "metadata": {},
   "outputs": [],
   "source": [
    "solution = pd.read_csv('sample_submission.csv')"
   ]
  },
  {
   "cell_type": "code",
   "execution_count": 129,
   "id": "eccb3009",
   "metadata": {},
   "outputs": [],
   "source": [
    "test['category'] = test['label'].apply(lambda x: cat_map_inv[x])"
   ]
  },
  {
   "cell_type": "code",
   "execution_count": 130,
   "id": "2e27faa0",
   "metadata": {},
   "outputs": [],
   "source": [
    "# solution = test[['oid', 'category', 'proba']]"
   ]
  },
  {
   "cell_type": "code",
   "execution_count": 131,
   "id": "4ea86e4c",
   "metadata": {},
   "outputs": [],
   "source": [
    "solution = test[['oid', 'category']]"
   ]
  },
  {
   "cell_type": "code",
   "execution_count": 132,
   "id": "fc6bc4bc",
   "metadata": {},
   "outputs": [],
   "source": [
    "solution.to_csv('solution2.csv', index=False)"
   ]
  },
  {
   "cell_type": "code",
   "execution_count": 62,
   "id": "9b3f80d4",
   "metadata": {
    "scrolled": true
   },
   "outputs": [
    {
     "name": "stdout",
     "output_type": "stream",
     "text": [
      "Марчеллис сеть семейных ресторанов итальянской кухни в Санкт Петербурге и Москве. Подробней по ссылке Кисляк Вы хотите сказать что мы не старались? Макеев Нет не хочу но ваши старания были похожи на басню Крылова Лебедь рак и щука. Егор извини за каламбур. Романтичная и нежная Анна Уколова на съемках нового сезона сериала Ивановы Ивановы. Андрей Привет девчонки 33 Миша Здорова Кислый 33 Жданов Я не понял ты где здесь девчонок то увидел? Может я девчонка? Или Бушманов? Или допустим Юдин тоже девчонка? Андрей Да нет это я так. Жданов Че так? Со зрением проблемы? Андрей Нет. Просто по привычке. Жданов Привычки надо менять не в молодежке уже. Надо думать с кем и как разговариваешь понял? Как менялась Мария Пирогова на протяжении 5 сезонов сериала Молодежка. По премьеры нового сезона Дылды осталось 7 дней. Будите смотреть? Для чего нужен студенческий? Показать на входе в университет доказать бабушке что ты реально поступил а самое главное – оформить Плюс Мульти бесплатно до конца года 33 Как это сделать? Рассказываем Это – обложки классных альбомов а это – промокод на 60 дней Плюса Мульти MYMUSIC22. Если у вас когда то была подписка Плюс для вас он тоже сработает 33 Активируйте до 30 ноября здесь Плюсы быть молодым Отдыхать после пар под любимые треки Заказать пиццу за баллы Плюса Сдать экзамен послушав подкаст И все это бесплатно до конца года если тебе от 16 до 22 лет или ты студент – Один хороший человек к сожалению его уже нет в живых. . . сказал Нет неразрешимых проблем есть неприятное решение. . . Макеев Сергей Петрович\n",
      "---------\n",
      "Для чего нужен студенческий? Показать на входе в университет доказать бабушке что ты реально поступил а самое главное – оформить Плюс бесплатно на 30 дней. А потом платить на 50 меньше. Заходи скорее Гости из прошлого Новый сезон 21 ноября в 19 00 на СТС 33 Для чего нужен студенческий? Показать на входе в университет доказать бабушке что ты реально поступил а самое главное – оформить Плюс бесплатно на 30 дней. А потом платить на 50 меньше. Заходи скорее Установка заборов и ворот под ключ производство штакетника профнастила в Санкт Петербурге компания ЗаборКомплект. Подробней по ссылке ЗАЛЕТАЙТЕ НА ВЕЧЕРНИЙ СТРИМ 33 PS ЭТО ПЕРВЫЙ СТРИМ АДМИНА ПОДДЕРЖИТЕ ПОЖАЛУЙСТА 33 Популярный интернет магазин Текстиль Хаус в котором мы сможете себе приобрести элитный текстиль для вашего дома. Подробней по ссылке Мама 4 х детей Екатерина Климова сразила наповал своей великолепной фигурой Ольга Лерман сыгравшую роль Светы Сурковой в сериале Родком. Дылды 3 сезон 1 2 серия приятного просмотра 33 Делитесь с друзьями с долгожданной премьерой 33 Андрей Гайдулян снимается в новом сезоне сериала СашаТаня.\n",
      "---------\n",
      "Фото со съемок фильма Тор Любовь и гром. ThorLoveAntokenoid Кризис Марвел и как Sony получил Паучка и всех злодеев В 90 ых годах прошлого столетия издательство Марвел переживало не лучшие времена. Многие сотрудники уходили из студии а продажи комиксов становились все меньшими. Дошло до того что в 1996 году издательство стало банкротом. Ситуация была невероятно сложной так что для того чтобы Марвел и дальше продолжал оставаться на плаву пришлось продавать права на экранизацию своих персонажей. Началась настоящая распродажа. Киностудии даже не понимая того насколько им повезло покупали все что им предлагали. Таким образом студия 20th Centtokenoid Fox отхватили себе огромный кусок пирога включающий в себя Людей Икс Фантастическую Четверку и Сорвиголову. Призрачный Гонщик отошел студии Cotokenoid Ptokenoid. Ltokenoid подсуетились и купили себе Карателя. Untokenoid сыграли по крупному и взяли в свою семью Халка. New Ltokenoid Ctokenoid приобрели себе борца с вампирами Блэйда. Ну а Sony вытащили счастливую карту Человек Паук и все его злодеи. Конечно без спорных моментов не обошлось. Так например Алая Ведьма и Ртуть вроде как якшались с мутантами которыми и сами являлись. Но в то же время они были и в рядах Мстителей. Вот почему на данный момент Ртуть есть и в киновселенной Людей Икс и был в Мстителях 2. Вырученных денег хватило для того чтобы компания Марвел оставалась на плаву. И не только на плаву а ребята нашли средства для того чтобы снять свой собственный фильм. Когда выбирали персонажа о котором будет снят первый фильм они доверились всецело детям какая игрушка больше им нравился. Этой игрушкой стал Железный Человек о котором студия Марвел и сняла фильм на свой страх и риск. Ну а все что происходило дальше история свидетелями который мы с вами и стали студия Марвел создала настоящую киновселенную которая является самой прибыльной в мире. Ну а на данный момент в семью Марвел вернулись практически все проданные персонажи. Остался только Паучок вместе со своими врагами ведь Sony решили оставить себе этот лакомый кусочек. Marvel Dtokenoid spatokenoid tokenoid tokenoid tonystark Новинка Mиньoны 2 Гpювитация 2022 Жанр мультфильм Mиллион лeт миньoны искaли самогo великoгo и ужаснoгo пpeдводителя пока не встрeтили EГО. Знaкомьтeсь Гpю. Пуtokenoid он eще очeнь мoлод но у негo в плaнах пo настоящему гaдкиe дeлa котоpыe зatokenoid плaнету tokenoid. Взгляд в прошлое кубинская красотка Ана на фотосессии Mtokenoid Hoy Tри самыe шикаpныe нoвинки этoй нeдели Жанр комедия приключения боевик Toр 4 Любoвь и грoм 2022 Mир Юpскoго периoда Госпoдствo 2022 Дoктoр Cтрэндж B мyльтивсeленнoй бeзyмия 2022 Vartokenoid tokenoid что за второго Джокера Хоакин Феникс получит 20 миллионов долларов Joker2 Райан Гослинг и Эмили Блант сыграют главные роли киноадаптации классического телесериала Каскадеры от Дэвида Литча. Премьера состоится 1 марта 2024 года. Астон Вилла сменит логотип Клуб вынес 2 лого на голосование круглый и шестиугольный Сообщается что студия Marvel не собирается воскрешать Тони Старка который умер в фильме Мстители Финал. Вместо этого Кевин Файги и Ко ищут актера в возрасте от двадцати до тридцати лет на роль молодой версии Старка из другой вселенной. Джозеф Куинн наш кандидат 33 Marvel Dtokenoid Слитый тизер Оппенгеймера Кристофера Нолана. Oppenhetokenoid\n",
      "---------\n",
      "шмэл шмэл шмэл шмэл шмэл шмэл шмэл шмэл шмэл шмэл шмэл шмэл шмэл шмэл шмэл шмэл шмэл шмэл шмэл шмэл шмэл шмэл шмэл шмэл шмэл шмэл шмэл шмэл шмэл шмэл шмэл шмэл шмэл шмэл шмэл шмэл шмэл шмэл шмэл шмэл шмэл шмэл шмэл шмэл шмэл шмэл шмэл шмэл шмэл шмэл шмэл шмэл шмэл шмэл шмэл шмэл шмэл шмэл шмэл шмэл шмэл шмэл шмэл шмэл шмэл шмэл шмэл шмэл шмэл шмэл шмэл шмэл шмэл шмэл шмэл шмэл шмэл шмэл шмэл шмэл шмэл шмэл шмэл шмэл шмэл шмэл шмэл шмэл шмэл шмэл шмэл шмэл шмэл шмэл шмэл шмэл шмэл шмэл шмэл шмэл шмэл шмэл шмэл шмэл шмэл шмэл шмэл шмэл шмэл шмэл шмэл шмэл шмэл шмэл шмэл шмэл шмэл шмэл шмэл шмэл шмэл шмэл шмэл шмэл шмэл шмэл шмэл шмэл шмэл шмэл шмэл шмэл шмэл шмэл шмэл шмэл шмэл шмэл шмэл шмэл шмэл шмэл шмэл шмэл шмэл шмэл шмэл шмэл шмэл шмэл шмэл шмэл шмэл шмэл шмэл шмэл шмэл шмэл шмэл шмэл Напоминаем скоро один такой CREW SUIT попадет в руки случайному подписчику нашего Instagram Ссылка для участия в источнике. Уже скоро в нашем Instagram мы подведем итоги нашего конкурса победителю которого достанется наш CREW SUIT. Принять участие друзья постов нет по понятной причине. в ближайшее время будет небольшое но важное объявление. Вот сколько раз нужно ответить что мы не продаем и не покупаем рекламу Извините просто мы иногда забываем то у нас есть паблик в Vk Мы запустили магазин в Tetokenoid 33 В честь этого внутри магазина будут действовать приятные скидки Приятного пользования Все модели нашей одежды сейчас доступны чуть ли не по одному экземпляру на размер кроме черных WORLDWIDE их немного больше. Разобрали все звери Вот сколько раз нужно ответить что мы не продаем и не покупаем рекламу Все кроме футболок в наличии. Если у вас не было футболок в заказе то во второй половине завтрашнего дня уже получите свой трек номер.\n",
      "---------\n",
      "Премьера на KION оригинальный сериал Капкан на судью При невыясненных обстоятельствах прямо из дома во время семейного застолья пропадает дочь судьи. С этой минуты на самого судью в репутации и честности которого за всю карьеру никто не мог усомниться ложится ответственность за жизнь дочери. Чтобы ее спасти ему придется признаться в своей профессиональной ошибке. Так начинается новая детективная история KION Капкан на судью. Помимо лихо закрученного сюжета в сериале еще и звездный каст Домогаров Толстоганова Горбатов. Если вы тоже заинтригованы – бегите в онлайн кинотеатр там можно посмотреть сериал в подписке с пробным периодом 0₽ Дылды 3 сезон 1 2 серия приятного просмотра 33 Делитесь с друзьями с долгожданной премьерой 33 Фёдор Добронравов поделился совместной фотографией с сыновьями. До премьеры нового сезона Дылды осталось ждать 6 дней. В новом сезоне девушки отправили в Анапу играть в пляжный волейбол также есть фото главных героинь с Кипра. Уже совсем скоро узнаем где они буду играть. Актриса Анна Кошмал известная по роли Жени в комедийном сериале Сваты Нравится актриса? Актриса Анна Кошмал известная по роли Жени в комедийном сериале Сваты Нравится актриса? Смотрите телеканалы кино и сериалы 45 дней за 1 рубль 33 Ловите промокод VIASAT45 и смотрите телеканалы TV1000 Vtokenoid Htokenoid Vtokenoid Nattokenoid а также телеканалы Vtokenoid на новом стриминге vtokenoid. Также в подписке доступны тысячи фильмов и сериалов на любой вкус. Активируйте промокод по ссылке 18 Премьера нового сезона Реальные пацаны состоится 29 августа на ТНТ 33 60 дней Плюса Мульти в подарок по промокоду MYMUSIC 33 Если у вас когда то была подписка Плюс для вас он тоже сработает. Получите тысячи треков аудиокниги и топовые рекомендации которые подойдут именно вам 33 Мама 4 х детей Екатерина Климова сразила наповал своей великолепной фигурой\n",
      "---------\n",
      "Срочно 33 33 33 Есть подраtokenoid на дому онлайн. Не косметика 33 Желательно девушки от 23 лет оплата сразу на карту от 1000 ₽ в день. С телефона По поводу вакансии писать Ждем комментарии от ГТ. Можно так Сегодня Алмирал сыграл конкретнее Сочи. Олимпийские Игры – 2022 1 8 финала Дания – Латвия – 3 2 Нападающий Адмирала Рихардс Букартс сыграл в составе своей сборной. Несколько фото с матча Адмирал – Трактор Еще больше – в фотоальбоме Не заразились ли наши чехи? У сборной Чехии отлично начинается подготовка к Олимпиаде. 6 положительных тестов из 12 проверенных. Русские всех перехитрили сев на сбор раньше других. Команда Жамнова поедет здоровой в Пекин а конкуренты с серьезными потерями и без нормальной подготовки. Добрый день прошу помощи для ребенка очень нужна детская смесь и кефирчик до годика вдруг у вас есть не нужная нам бы очень пригодилась сейчас такое положение что нет возможности купить нам недельку как то протянуть надо вдруг кто то сможет нам помочь напишите пожалуйста Привет всем сегодня были в шоке всей семьей от специалиста в банке значит подошел ко мне и к маме предложил буклетик с бонусной программой от Stokenoid оказывается им 180 лет как они с нами и они устроили раздачу бонусов 3 т. Р зачисляются поактически сразу есть еще плюсы можно потратить в любом магазине. В общем вот tyt. решили у нас в группе написать может кому и пригодится Вик Вайлд привозит бронзу в копилку в параллельном гиганте. Я не знаю что еще можно сделать что бы попадать в ворота Друзья чтобы нытья вопросов Где трансляция где ссылку взять и так далее Вот просто забил расписание канала KHL PRIME время Владивостокское\n",
      "---------\n",
      "Я УПОРНО ТРЕНИРУЮСЬ ЧТОБЫ УЛУЧШИТЬ БРОСОК ЧЕЛИКС В КУРТКЕ В КОМАНДЕ СОПЕРНИКОВ НА СОРЕВАХ ЛЮТЫЕ БОБРЫ ПОЗДРАВЛЯЮТ ВСЕХ МАМ БАБУШЕК СЕСТЁР И ВСЕХ ЖЕНЩИН МИРА С ПРАЗДНИКОМ 8 МАРТА У кого нибудь имеется антистул? Поделитесь опытом правда ровно на нем сидит ребенок? Я КАК Я БУДУ ИГРАТЬ В БАСКЕТ У МЕНЯ РОСТ ВСЕГО ЛИШЬ 175 157 СМ НИГГАС Коби о хейтерах Ненавистники это хорошая проблема. Никто не хейтит хороших. Ненавидят великих. Кольцо стандарт Рост 188 Привет из Тюмени данкотподписчика Идет набор студентов в Университет Синергия 33 Один из ведущих ВУЗов 33 ⠀ Плати за обучение после окончания университета и трудоустройства Поступай Очное заочное и дистанционное обучение 33 Колледж бакалавриат магистратура Синергия это Государственная аккредитация Поступление круглый год Отсрочка от армии Прием после 9 и 11 классов Очно заочно дистанционно Колледж бакалавриат магистратура аспирантура Гранты на обучение Предоставляем общежитие Перевод из других вузов без потери курса Трудоустройство студентов и выпускников Прием иностранных граждан Совмещение работы и учебы Факультеты Медицины Информационных технологий Юридический Экономики Бизнеса Управления Психологии Интернет маркетинга Рекламы Дизайна Строительства Спортивного менеджмента Физической культуры Игровая индустрия и Киберспорт Электроэнергетики Банковского дела Лингвистики Театра кино и телевидения Торговое дело Теплоэнергетики Поступай ТОПОВЫЕ БАСКЕТБОЛЬНЫЕ ТОВАРЫ. . . 1 Супер расцветки баскетбольных кросс 2 Супер низкие цены 3 Супер качество 33 Парочка моментов заснятых со стрита на оценочку Джаст данк ит данкотподписчика В нашей пятерке каждый хотя бы минуту держал Алексея Шведа поделился эмоциями от матча форвард Норильского дивизиона Сергей Степанов. Дороже золота фильм про самый сложный сезон в истории ЦСКА 33 Сезон который начался против любительской команды в Норильске Горняки и металлурги против суперзвезд. А дальше? Травмы серии поражений круглый стол новая команда победы и первое серебро. Запасайтесь попкорном Norntokenoid ТворимИсториюПобед\n",
      "---------\n",
      "Срочно 33 Не хватает толковых ребят для заработка в сфере госзакупок. Опыт не нужен Обучение беру на себя 33 Условия 1. Все легально работаем по 44 фз. 2. Открывать ип брать кредиты не надо 33 3. Ты находишься под присмотром команды профессионалов. 4. Можно совмещать с твоей основной работой. 5. Удаленка. Кто я такой? Меня зовут Александр Перфильев и я работаю в сфере госзакупок уже 12 лет. За это время я выиграл более 250 тендеров. А еще успел открыть свою компанию которая реализует госзакупки на 100 миллионов каждый год. Зачем это мне? Сфера госзакупок развивается в геометрической прогрессии. Только за три квартала 2021 года объем госзакупок вырос до 5 5 трлн рублей а это на 1 трлн больше чем в аналогичном периоде прошлого года. Из за этого мы с командой уже чисто физически не успеваем обрабатывать все что выкладывается на сайте госзакупок. Поэтому сейчас мне срочно нужны помощники которых обучу лично я сам 33 Что требуется от тебя? Мне не важен твой опыт образование и возраст. Главное что нужно это желание зарабатывать больше чем ты привык. Ну и желание работать само собой. Это важно 33 Сразу скажу что это не очередная замануха для лентяев. Мы команда которая занимается госзакупками а не продажей воздуха как это сейчас модно и нам не нужны искатели легких денег 33 Ну что ты в деле? Тогда начнем с ознакомительного обучения 33 На днях я запускаю бесплатный 3 х дневный марафон чтобы ты смог понять что такое госзакупки и вообще разобраться подходит ли тебе заработок в этой сфере. Записаться можно тут А сейчас я отвечу на самый популярный вопрос всех новичков кто приходит ко мне на обучение 33 Сколько я могу зарабатывать? Да сколько захочешь. На марафоне я покажу тебе кучу кейсов когда простой парень или девушка из глубинки приходили ко мне на обучение и начинали зарабатывать от 100 до 500 тысяч рублей в месяц с нуля 33 Одновременно с этим у меня куча учеников которые пришли чтобы просто обеспечить себе дополнительный заработок в 40 60к в месяц. Поэтому госзакупки могут стать как дополнительным заработком так и твоей основной работой. Короче если ты хочешь познакомиться с госзакупками и выйти за рамки своей зп то записывайся на обучение Вратарь GOATS Эльдар Джарахов высказался о предстоящем дебюте в матче 6 го тура Медиалиги против 2Drots. Броуки будут подавать запрос на переигровку матча с Родиной Медиа из за судейских ошибок Вратарь Амкала Маслов Вот такие мы клоуны из медиафутбола смешим весь футбольный мир но при этом уже в 1 64 финала Кубка России Стартовые составы команд 2Drots и Наши Парни на первый матч МФЛ 2 Игрок FIGHT NIGHTS вайб МЕДИАЛИГИ МОБИЛИЗАЦИЯ в России скисший УТКИН Володю XXL арестовали за дебош в Салехарде. Володю пригласили на Ямал для творческой встречи с молодежью. Уже на следующий день утром из отеля его забрал наряд полиции за дебош пишут местные СМИ. На видео которое выложил к себе друг Володи видно как они в пьяном состоянии разбивают стул а затем выкидывают его из окна. 2Drots и Амкал сыграют в 1 4 финала Медиалиги Амкал накануне обыграл Рому 1 0 в матче 9 го тура и поднялся на промежуточное 3 е место. Тем не менее На Спорте в случае победы над Tamo Jtokenoid мог вернуться на 3 ю строчку а Амкал тогда опускался на 4 ю позицию. На Спорте разгромил бразильцев 3 0 и заняв итоговое 3 е место в регулярном чемпионате в четвертьфинале попал на Наших Парней которые финишировали вторыми в группе B. Амкал закончил регулярку на 4 м месте и таким образом вышел на победителя группы B – 2Drots. Матчи 1 4 финала Медиалиги пройдут 20 ноября в Одинцове. Команда Павлюченко и Алдонина Gootokenoid представила новую форму Потасовка между Томером Савойя и Текилой. Бразилец назвал лидера Родины Медиа предателем\n",
      "---------\n"
     ]
    }
   ],
   "source": [
    "for t in test[solution.proba < 0.2]['text'].values:\n",
    "    print(t)\n",
    "    print('---------')"
   ]
  },
  {
   "cell_type": "code",
   "execution_count": 110,
   "id": "24e631c4",
   "metadata": {},
   "outputs": [],
   "source": [
    "THRESH = 0.32"
   ]
  },
  {
   "cell_type": "code",
   "execution_count": 111,
   "id": "9341327a",
   "metadata": {},
   "outputs": [],
   "source": [
    "final_solution = solution[solution.proba > THRESH][['oid', 'category']]"
   ]
  },
  {
   "cell_type": "code",
   "execution_count": 112,
   "id": "ca21d4da",
   "metadata": {},
   "outputs": [
    {
     "data": {
      "text/plain": [
       "2552"
      ]
     },
     "execution_count": 112,
     "metadata": {},
     "output_type": "execute_result"
    }
   ],
   "source": [
    "len(final_solution)"
   ]
  }
 ],
 "metadata": {
  "kernelspec": {
   "display_name": "Python 3",
   "language": "python",
   "name": "python3"
  },
  "language_info": {
   "codemirror_mode": {
    "name": "ipython",
    "version": 3
   },
   "file_extension": ".py",
   "mimetype": "text/x-python",
   "name": "python",
   "nbconvert_exporter": "python",
   "pygments_lexer": "ipython3",
   "version": "3.7.10"
  }
 },
 "nbformat": 4,
 "nbformat_minor": 5
}
